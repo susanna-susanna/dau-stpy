{
  "nbformat": 4,
  "nbformat_minor": 0,
  "metadata": {
    "colab": {
      "provenance": [],
      "include_colab_link": true
    },
    "kernelspec": {
      "name": "python3",
      "display_name": "Python 3"
    },
    "language_info": {
      "name": "python"
    }
  },
  "cells": [
    {
      "cell_type": "markdown",
      "metadata": {
        "id": "view-in-github",
        "colab_type": "text"
      },
      "source": [
        "<a href=\"https://colab.research.google.com/github/susanna-susanna/dau-stpy/blob/main/stpy_1_%D0%91%D0%B0%D0%B7%D0%BE%D0%B2%D1%8B%D0%B5_%D0%BF%D0%BE%D0%BD%D1%8F%D1%82%D0%B8%D1%8F_%D1%81%D1%82%D0%B0%D1%82%D0%B8%D1%81%D1%82%D0%B8%D0%BA%D0%B8_%D0%B2%D1%8B%D0%B1%D1%80%D0%BE%D1%81%D1%8B%2C_%D0%BF%D1%83%D1%81%D1%82%D0%BE%D1%82%D1%8B%2C_IQR.ipynb\" target=\"_parent\"><img src=\"https://colab.research.google.com/assets/colab-badge.svg\" alt=\"Open In Colab\"/></a>"
      ]
    },
    {
      "cell_type": "markdown",
      "source": [
        "\n",
        "##Домашнее задание к лекции \"Базовые понятия статистики\"\n",
        "Будем осуществлять работу с непростым [набором данных](https://raw.githubusercontent.com/obulygin/pyda_homeworks/master/statistics_basics/horse_data.csv) о состоянии здоровья лошадей, испытывающих кишечные колики. Цель – максимально корректно заполнить пропуски.\n",
        "\n",
        "###Задание 1. Загрузка данных\n",
        "Изучить представленный набор данных на основе [описания его столбцов](https://raw.githubusercontent.com/obulygin/pyda_homeworks/master/statistics_basics/horse_data.names), загрузить его и оставить 8 столбцов для дальнейшего изучения: surgery?, Age, rectal temperature, pulse, respiratory rate, temperature of extremities, pain, outcome.\n",
        "\n",
        "###Задание 2. Первичное изучение данных\n",
        "Проанализировать значения по столбцам, рассчитать базовые статистики, найти выбросы.\n",
        "\n",
        "###Задание 3. Работа с пропусками\n",
        "Рассчитать количество пропусков для всех выбранных столбцов. Принять и обосновать решение о методе заполнения пропусков по каждому столбцу на основе рассчитанных статистик и возможной взаимосвязи значений в них. Сформировать датафрейм, в котором пропуски будут отсутствовать."
      ],
      "metadata": {
        "id": "ujQEKKO8kHgi"
      }
    },
    {
      "cell_type": "markdown",
      "source": [
        "Информация об атрибутах:\n",
        "\n",
        "  1: операция?\n",
        "\n",
        "         1. 1 = да, была операция\n",
        "         2. 2 = лечили без операции\n",
        "\n",
        "  2: Возраст\n",
        "\n",
        "          1. 1 = взрослая лошадь\n",
        "          2. 2 = Молодой (< 6 месяцев)\n",
        "\n",
        "  \n",
        "  4: ректальная температура\n",
        "\n",
        "          * линейный\n",
        "          * в градусах Цельсия.\n",
        "          * Повышенная температура может возникнуть из-за инфекции.\n",
        "          * температура может быть снижена, когда животное находится в позднем шоке\n",
        "          * нормальная температура 37,8\n",
        "          * этот параметр обычно меняется по мере развития проблемы,например, может начаться нормально, затем стать повышенным из-за поражения, проходя обратно через нормальный диапазон, как лошадь в шоке\n",
        "  \n",
        "  5: пульс\n",
        "\n",
        "          * линейный\n",
        "          * частота сердечных сокращений в ударах в минуту\n",
        "          * является отражением состояния сердца: 30-40 нормально для взрослых\n",
        "          * редко имеют более низкий показатель, чем обычно, хотя спортивные лошади может иметь скорость 20-25\n",
        "          * животные с болезненными поражениями или страдающие циркуляторным шоком может быть учащенное сердцебиение\n",
        "\n",
        "  6: частота дыхания\n",
        "\n",
        "          * линейный\n",
        "          * нормальная скорость от 8 до 10\n",
        "          * полезность сомнительна из-за больших колебаний\n",
        "\n",
        "  7: температура конечностей\n",
        "\n",
        "          * субъективное указание на периферическое кровообращение\n",
        "          * возможные значения:\n",
        "               1. = нормальный\n",
        "               2. = теплый\n",
        "               3. = круто\n",
        "               4. = холодный\n",
        "          * холодные или холодные конечности указывают на возможный шок\n",
        "          * горячие конечности должны коррелировать с повышенной ректальной температурой.\n",
        "\n",
        "  \n",
        " 11: боль - субъективная оценка уровня боли лошади.\n",
        "\n",
        "          * возможные значения:\n",
        "               1. = тревога, боли нет\n",
        "               2. = депрессия\n",
        "               3. = перемежающаяся легкая боль\n",
        "               4. = перемежающаяся сильная боль\n",
        "               5. = постоянная сильная боль\n",
        "          * НЕ следует рассматривать как упорядоченную или дискретную переменную!\n",
        "          * В общем, чем больнее, тем больше вероятность, что потребуется операция\n",
        "          * предшествующее лечение боли может в некоторой степени маскировать уровень боли\n",
        "\n",
        " 23: исход\n",
        " \n",
        "          * что в итоге случилось с лошадью?\n",
        "          * возможные значения:\n",
        "               1. = жил\n",
        "               2. = умер\n",
        "               3. = был усыплен\n"
      ],
      "metadata": {
        "id": "mKtR2al_-7H4"
      }
    },
    {
      "cell_type": "code",
      "execution_count": null,
      "metadata": {
        "id": "044wOt2jj-M3"
      },
      "outputs": [],
      "source": [
        "import pandas as pd\n",
        "import numpy as np"
      ]
    },
    {
      "cell_type": "code",
      "source": [
        "?pd.read_csv"
      ],
      "metadata": {
        "id": "RFl9pEvDdBRO"
      },
      "execution_count": null,
      "outputs": []
    },
    {
      "cell_type": "code",
      "source": [
        "\n",
        "cols = ['surgery?', 'Age', 'rectal temperature', 'pulse', 'respiratory rate', 'temperature of extremities', 'pain', 'outcome']\n",
        "datahorse = pd.read_csv('https://raw.githubusercontent.com/obulygin/pyda_homeworks/master/statistics_basics/horse_data.csv', usecols =[1-1, 2-1, 4-1, 5-1, 6-1, 7-1, 11-1, 23-1], names=cols, encoding='utf-8')\n",
        "datahorse.head()"
      ],
      "metadata": {
        "id": "1Vsy8_ivUUmy"
      },
      "execution_count": null,
      "outputs": []
    },
    {
      "cell_type": "code",
      "source": [
        "datahorse.info()"
      ],
      "metadata": {
        "colab": {
          "base_uri": "https://localhost:8080/"
        },
        "id": "mQNGi3H5Vd6M",
        "outputId": "66a82f61-19b8-4df2-9348-348ca80e62e0"
      },
      "execution_count": null,
      "outputs": [
        {
          "output_type": "stream",
          "name": "stdout",
          "text": [
            "<class 'pandas.core.frame.DataFrame'>\n",
            "RangeIndex: 300 entries, 0 to 299\n",
            "Data columns (total 8 columns):\n",
            " #   Column                      Non-Null Count  Dtype \n",
            "---  ------                      --------------  ----- \n",
            " 0   surgery?                    300 non-null    object\n",
            " 1   Age                         300 non-null    int64 \n",
            " 2   rectal temperature          300 non-null    object\n",
            " 3   pulse                       300 non-null    object\n",
            " 4   respiratory rate            300 non-null    object\n",
            " 5   temperature of extremities  300 non-null    object\n",
            " 6   pain                        300 non-null    object\n",
            " 7   outcome                     300 non-null    object\n",
            "dtypes: int64(1), object(7)\n",
            "memory usage: 18.9+ KB\n"
          ]
        }
      ]
    },
    {
      "cell_type": "code",
      "source": [
        "datahorse.describe()"
      ],
      "metadata": {
        "colab": {
          "base_uri": "https://localhost:8080/",
          "height": 300
        },
        "id": "tez0qArjVolS",
        "outputId": "8d75d2d3-dbad-4d30-a798-269e614e3ab0"
      },
      "execution_count": null,
      "outputs": [
        {
          "output_type": "execute_result",
          "data": {
            "text/plain": [
              "              Age\n",
              "count  300.000000\n",
              "mean     1.640000\n",
              "std      2.173972\n",
              "min      1.000000\n",
              "25%      1.000000\n",
              "50%      1.000000\n",
              "75%      1.000000\n",
              "max      9.000000"
            ],
            "text/html": [
              "\n",
              "  <div id=\"df-b0d93d84-8161-4c9a-b451-58d696a9974c\">\n",
              "    <div class=\"colab-df-container\">\n",
              "      <div>\n",
              "<style scoped>\n",
              "    .dataframe tbody tr th:only-of-type {\n",
              "        vertical-align: middle;\n",
              "    }\n",
              "\n",
              "    .dataframe tbody tr th {\n",
              "        vertical-align: top;\n",
              "    }\n",
              "\n",
              "    .dataframe thead th {\n",
              "        text-align: right;\n",
              "    }\n",
              "</style>\n",
              "<table border=\"1\" class=\"dataframe\">\n",
              "  <thead>\n",
              "    <tr style=\"text-align: right;\">\n",
              "      <th></th>\n",
              "      <th>Age</th>\n",
              "    </tr>\n",
              "  </thead>\n",
              "  <tbody>\n",
              "    <tr>\n",
              "      <th>count</th>\n",
              "      <td>300.000000</td>\n",
              "    </tr>\n",
              "    <tr>\n",
              "      <th>mean</th>\n",
              "      <td>1.640000</td>\n",
              "    </tr>\n",
              "    <tr>\n",
              "      <th>std</th>\n",
              "      <td>2.173972</td>\n",
              "    </tr>\n",
              "    <tr>\n",
              "      <th>min</th>\n",
              "      <td>1.000000</td>\n",
              "    </tr>\n",
              "    <tr>\n",
              "      <th>25%</th>\n",
              "      <td>1.000000</td>\n",
              "    </tr>\n",
              "    <tr>\n",
              "      <th>50%</th>\n",
              "      <td>1.000000</td>\n",
              "    </tr>\n",
              "    <tr>\n",
              "      <th>75%</th>\n",
              "      <td>1.000000</td>\n",
              "    </tr>\n",
              "    <tr>\n",
              "      <th>max</th>\n",
              "      <td>9.000000</td>\n",
              "    </tr>\n",
              "  </tbody>\n",
              "</table>\n",
              "</div>\n",
              "      <button class=\"colab-df-convert\" onclick=\"convertToInteractive('df-b0d93d84-8161-4c9a-b451-58d696a9974c')\"\n",
              "              title=\"Convert this dataframe to an interactive table.\"\n",
              "              style=\"display:none;\">\n",
              "        \n",
              "  <svg xmlns=\"http://www.w3.org/2000/svg\" height=\"24px\"viewBox=\"0 0 24 24\"\n",
              "       width=\"24px\">\n",
              "    <path d=\"M0 0h24v24H0V0z\" fill=\"none\"/>\n",
              "    <path d=\"M18.56 5.44l.94 2.06.94-2.06 2.06-.94-2.06-.94-.94-2.06-.94 2.06-2.06.94zm-11 1L8.5 8.5l.94-2.06 2.06-.94-2.06-.94L8.5 2.5l-.94 2.06-2.06.94zm10 10l.94 2.06.94-2.06 2.06-.94-2.06-.94-.94-2.06-.94 2.06-2.06.94z\"/><path d=\"M17.41 7.96l-1.37-1.37c-.4-.4-.92-.59-1.43-.59-.52 0-1.04.2-1.43.59L10.3 9.45l-7.72 7.72c-.78.78-.78 2.05 0 2.83L4 21.41c.39.39.9.59 1.41.59.51 0 1.02-.2 1.41-.59l7.78-7.78 2.81-2.81c.8-.78.8-2.07 0-2.86zM5.41 20L4 18.59l7.72-7.72 1.47 1.35L5.41 20z\"/>\n",
              "  </svg>\n",
              "      </button>\n",
              "      \n",
              "  <style>\n",
              "    .colab-df-container {\n",
              "      display:flex;\n",
              "      flex-wrap:wrap;\n",
              "      gap: 12px;\n",
              "    }\n",
              "\n",
              "    .colab-df-convert {\n",
              "      background-color: #E8F0FE;\n",
              "      border: none;\n",
              "      border-radius: 50%;\n",
              "      cursor: pointer;\n",
              "      display: none;\n",
              "      fill: #1967D2;\n",
              "      height: 32px;\n",
              "      padding: 0 0 0 0;\n",
              "      width: 32px;\n",
              "    }\n",
              "\n",
              "    .colab-df-convert:hover {\n",
              "      background-color: #E2EBFA;\n",
              "      box-shadow: 0px 1px 2px rgba(60, 64, 67, 0.3), 0px 1px 3px 1px rgba(60, 64, 67, 0.15);\n",
              "      fill: #174EA6;\n",
              "    }\n",
              "\n",
              "    [theme=dark] .colab-df-convert {\n",
              "      background-color: #3B4455;\n",
              "      fill: #D2E3FC;\n",
              "    }\n",
              "\n",
              "    [theme=dark] .colab-df-convert:hover {\n",
              "      background-color: #434B5C;\n",
              "      box-shadow: 0px 1px 3px 1px rgba(0, 0, 0, 0.15);\n",
              "      filter: drop-shadow(0px 1px 2px rgba(0, 0, 0, 0.3));\n",
              "      fill: #FFFFFF;\n",
              "    }\n",
              "  </style>\n",
              "\n",
              "      <script>\n",
              "        const buttonEl =\n",
              "          document.querySelector('#df-b0d93d84-8161-4c9a-b451-58d696a9974c button.colab-df-convert');\n",
              "        buttonEl.style.display =\n",
              "          google.colab.kernel.accessAllowed ? 'block' : 'none';\n",
              "\n",
              "        async function convertToInteractive(key) {\n",
              "          const element = document.querySelector('#df-b0d93d84-8161-4c9a-b451-58d696a9974c');\n",
              "          const dataTable =\n",
              "            await google.colab.kernel.invokeFunction('convertToInteractive',\n",
              "                                                     [key], {});\n",
              "          if (!dataTable) return;\n",
              "\n",
              "          const docLinkHtml = 'Like what you see? Visit the ' +\n",
              "            '<a target=\"_blank\" href=https://colab.research.google.com/notebooks/data_table.ipynb>data table notebook</a>'\n",
              "            + ' to learn more about interactive tables.';\n",
              "          element.innerHTML = '';\n",
              "          dataTable['output_type'] = 'display_data';\n",
              "          await google.colab.output.renderOutput(dataTable, element);\n",
              "          const docLink = document.createElement('div');\n",
              "          docLink.innerHTML = docLinkHtml;\n",
              "          element.appendChild(docLink);\n",
              "        }\n",
              "      </script>\n",
              "    </div>\n",
              "  </div>\n",
              "  "
            ]
          },
          "metadata": {},
          "execution_count": 23
        }
      ]
    },
    {
      "cell_type": "markdown",
      "source": [
        "### Сейчас важно правильно прочесть файл!\n",
        "Без `na_values = '?'` или `na_values = ['?']`\n",
        "прочитывается как папало и НЕ выдает нужную инфу по ДФ\n"
      ],
      "metadata": {
        "id": "OOsL4MI2VQeI"
      }
    },
    {
      "cell_type": "code",
      "source": [
        "# оставить 8 столбцов для дальнейшего изучения: surgery?, Age, rectal temperature, pulse, respiratory rate, temperature of extremities, pain, outcome\n",
        "# 1,2,4,5,6,7,11,23\n",
        "\n",
        "columns = ['surgery?', 'Age', 'rectal temperature', 'pulse', 'respiratory rate', 'temperature of extremities', 'pain', 'outcome']\n",
        "data_horse = pd.read_csv('https://raw.githubusercontent.com/obulygin/pyda_homeworks/master/statistics_basics/horse_data.csv', usecols =[1-1, 2-1, 4-1, 5-1, 6-1, 7-1, 11-1, 23-1], names=columns, encoding='utf-8', na_values = '?')\n",
        "data_horse.head()\n"
      ],
      "metadata": {
        "id": "Ol8hM08H5Iby"
      },
      "execution_count": null,
      "outputs": []
    },
    {
      "cell_type": "code",
      "source": [
        "data_horse.info()"
      ],
      "metadata": {
        "colab": {
          "base_uri": "https://localhost:8080/"
        },
        "id": "6dk_V5JDo_yz",
        "outputId": "ae396920-4c4b-43f7-803f-1509995cff2e"
      },
      "execution_count": null,
      "outputs": [
        {
          "output_type": "stream",
          "name": "stdout",
          "text": [
            "<class 'pandas.core.frame.DataFrame'>\n",
            "RangeIndex: 300 entries, 0 to 299\n",
            "Data columns (total 8 columns):\n",
            " #   Column                      Non-Null Count  Dtype  \n",
            "---  ------                      --------------  -----  \n",
            " 0   surgery?                    299 non-null    float64\n",
            " 1   Age                         300 non-null    int64  \n",
            " 2   rectal temperature          240 non-null    float64\n",
            " 3   pulse                       276 non-null    float64\n",
            " 4   respiratory rate            242 non-null    float64\n",
            " 5   temperature of extremities  244 non-null    float64\n",
            " 6   pain                        245 non-null    float64\n",
            " 7   outcome                     299 non-null    float64\n",
            "dtypes: float64(7), int64(1)\n",
            "memory usage: 18.9 KB\n"
          ]
        }
      ]
    },
    {
      "cell_type": "code",
      "source": [
        "data_horse.describe()"
      ],
      "metadata": {
        "colab": {
          "base_uri": "https://localhost:8080/",
          "height": 300
        },
        "id": "pv9wUa5EPiqg",
        "outputId": "7a7a3d3b-2ad5-493f-c3ed-4e6e7137de61"
      },
      "execution_count": null,
      "outputs": [
        {
          "output_type": "execute_result",
          "data": {
            "text/plain": [
              "         surgery?         Age  rectal temperature       pulse  \\\n",
              "count  299.000000  300.000000          240.000000  276.000000   \n",
              "mean     1.397993    1.640000           38.167917   71.913043   \n",
              "std      0.490305    2.173972            0.732289   28.630557   \n",
              "min      1.000000    1.000000           35.400000   30.000000   \n",
              "25%      1.000000    1.000000           37.800000   48.000000   \n",
              "50%      1.000000    1.000000           38.200000   64.000000   \n",
              "75%      2.000000    1.000000           38.500000   88.000000   \n",
              "max      2.000000    9.000000           40.800000  184.000000   \n",
              "\n",
              "       respiratory rate  temperature of extremities       pain     outcome  \n",
              "count        242.000000                  244.000000  245.00000  299.000000  \n",
              "mean          30.417355                    2.348361    2.95102    1.551839  \n",
              "std           17.642231                    1.045054    1.30794    0.737187  \n",
              "min            8.000000                    1.000000    1.00000    1.000000  \n",
              "25%           18.500000                    1.000000    2.00000    1.000000  \n",
              "50%           24.500000                    3.000000    3.00000    1.000000  \n",
              "75%           36.000000                    3.000000    4.00000    2.000000  \n",
              "max           96.000000                    4.000000    5.00000    3.000000  "
            ],
            "text/html": [
              "\n",
              "  <div id=\"df-0fdcb5bc-d091-481f-91ac-045f88f7930f\">\n",
              "    <div class=\"colab-df-container\">\n",
              "      <div>\n",
              "<style scoped>\n",
              "    .dataframe tbody tr th:only-of-type {\n",
              "        vertical-align: middle;\n",
              "    }\n",
              "\n",
              "    .dataframe tbody tr th {\n",
              "        vertical-align: top;\n",
              "    }\n",
              "\n",
              "    .dataframe thead th {\n",
              "        text-align: right;\n",
              "    }\n",
              "</style>\n",
              "<table border=\"1\" class=\"dataframe\">\n",
              "  <thead>\n",
              "    <tr style=\"text-align: right;\">\n",
              "      <th></th>\n",
              "      <th>surgery?</th>\n",
              "      <th>Age</th>\n",
              "      <th>rectal temperature</th>\n",
              "      <th>pulse</th>\n",
              "      <th>respiratory rate</th>\n",
              "      <th>temperature of extremities</th>\n",
              "      <th>pain</th>\n",
              "      <th>outcome</th>\n",
              "    </tr>\n",
              "  </thead>\n",
              "  <tbody>\n",
              "    <tr>\n",
              "      <th>count</th>\n",
              "      <td>299.000000</td>\n",
              "      <td>300.000000</td>\n",
              "      <td>240.000000</td>\n",
              "      <td>276.000000</td>\n",
              "      <td>242.000000</td>\n",
              "      <td>244.000000</td>\n",
              "      <td>245.00000</td>\n",
              "      <td>299.000000</td>\n",
              "    </tr>\n",
              "    <tr>\n",
              "      <th>mean</th>\n",
              "      <td>1.397993</td>\n",
              "      <td>1.640000</td>\n",
              "      <td>38.167917</td>\n",
              "      <td>71.913043</td>\n",
              "      <td>30.417355</td>\n",
              "      <td>2.348361</td>\n",
              "      <td>2.95102</td>\n",
              "      <td>1.551839</td>\n",
              "    </tr>\n",
              "    <tr>\n",
              "      <th>std</th>\n",
              "      <td>0.490305</td>\n",
              "      <td>2.173972</td>\n",
              "      <td>0.732289</td>\n",
              "      <td>28.630557</td>\n",
              "      <td>17.642231</td>\n",
              "      <td>1.045054</td>\n",
              "      <td>1.30794</td>\n",
              "      <td>0.737187</td>\n",
              "    </tr>\n",
              "    <tr>\n",
              "      <th>min</th>\n",
              "      <td>1.000000</td>\n",
              "      <td>1.000000</td>\n",
              "      <td>35.400000</td>\n",
              "      <td>30.000000</td>\n",
              "      <td>8.000000</td>\n",
              "      <td>1.000000</td>\n",
              "      <td>1.00000</td>\n",
              "      <td>1.000000</td>\n",
              "    </tr>\n",
              "    <tr>\n",
              "      <th>25%</th>\n",
              "      <td>1.000000</td>\n",
              "      <td>1.000000</td>\n",
              "      <td>37.800000</td>\n",
              "      <td>48.000000</td>\n",
              "      <td>18.500000</td>\n",
              "      <td>1.000000</td>\n",
              "      <td>2.00000</td>\n",
              "      <td>1.000000</td>\n",
              "    </tr>\n",
              "    <tr>\n",
              "      <th>50%</th>\n",
              "      <td>1.000000</td>\n",
              "      <td>1.000000</td>\n",
              "      <td>38.200000</td>\n",
              "      <td>64.000000</td>\n",
              "      <td>24.500000</td>\n",
              "      <td>3.000000</td>\n",
              "      <td>3.00000</td>\n",
              "      <td>1.000000</td>\n",
              "    </tr>\n",
              "    <tr>\n",
              "      <th>75%</th>\n",
              "      <td>2.000000</td>\n",
              "      <td>1.000000</td>\n",
              "      <td>38.500000</td>\n",
              "      <td>88.000000</td>\n",
              "      <td>36.000000</td>\n",
              "      <td>3.000000</td>\n",
              "      <td>4.00000</td>\n",
              "      <td>2.000000</td>\n",
              "    </tr>\n",
              "    <tr>\n",
              "      <th>max</th>\n",
              "      <td>2.000000</td>\n",
              "      <td>9.000000</td>\n",
              "      <td>40.800000</td>\n",
              "      <td>184.000000</td>\n",
              "      <td>96.000000</td>\n",
              "      <td>4.000000</td>\n",
              "      <td>5.00000</td>\n",
              "      <td>3.000000</td>\n",
              "    </tr>\n",
              "  </tbody>\n",
              "</table>\n",
              "</div>\n",
              "      <button class=\"colab-df-convert\" onclick=\"convertToInteractive('df-0fdcb5bc-d091-481f-91ac-045f88f7930f')\"\n",
              "              title=\"Convert this dataframe to an interactive table.\"\n",
              "              style=\"display:none;\">\n",
              "        \n",
              "  <svg xmlns=\"http://www.w3.org/2000/svg\" height=\"24px\"viewBox=\"0 0 24 24\"\n",
              "       width=\"24px\">\n",
              "    <path d=\"M0 0h24v24H0V0z\" fill=\"none\"/>\n",
              "    <path d=\"M18.56 5.44l.94 2.06.94-2.06 2.06-.94-2.06-.94-.94-2.06-.94 2.06-2.06.94zm-11 1L8.5 8.5l.94-2.06 2.06-.94-2.06-.94L8.5 2.5l-.94 2.06-2.06.94zm10 10l.94 2.06.94-2.06 2.06-.94-2.06-.94-.94-2.06-.94 2.06-2.06.94z\"/><path d=\"M17.41 7.96l-1.37-1.37c-.4-.4-.92-.59-1.43-.59-.52 0-1.04.2-1.43.59L10.3 9.45l-7.72 7.72c-.78.78-.78 2.05 0 2.83L4 21.41c.39.39.9.59 1.41.59.51 0 1.02-.2 1.41-.59l7.78-7.78 2.81-2.81c.8-.78.8-2.07 0-2.86zM5.41 20L4 18.59l7.72-7.72 1.47 1.35L5.41 20z\"/>\n",
              "  </svg>\n",
              "      </button>\n",
              "      \n",
              "  <style>\n",
              "    .colab-df-container {\n",
              "      display:flex;\n",
              "      flex-wrap:wrap;\n",
              "      gap: 12px;\n",
              "    }\n",
              "\n",
              "    .colab-df-convert {\n",
              "      background-color: #E8F0FE;\n",
              "      border: none;\n",
              "      border-radius: 50%;\n",
              "      cursor: pointer;\n",
              "      display: none;\n",
              "      fill: #1967D2;\n",
              "      height: 32px;\n",
              "      padding: 0 0 0 0;\n",
              "      width: 32px;\n",
              "    }\n",
              "\n",
              "    .colab-df-convert:hover {\n",
              "      background-color: #E2EBFA;\n",
              "      box-shadow: 0px 1px 2px rgba(60, 64, 67, 0.3), 0px 1px 3px 1px rgba(60, 64, 67, 0.15);\n",
              "      fill: #174EA6;\n",
              "    }\n",
              "\n",
              "    [theme=dark] .colab-df-convert {\n",
              "      background-color: #3B4455;\n",
              "      fill: #D2E3FC;\n",
              "    }\n",
              "\n",
              "    [theme=dark] .colab-df-convert:hover {\n",
              "      background-color: #434B5C;\n",
              "      box-shadow: 0px 1px 3px 1px rgba(0, 0, 0, 0.15);\n",
              "      filter: drop-shadow(0px 1px 2px rgba(0, 0, 0, 0.3));\n",
              "      fill: #FFFFFF;\n",
              "    }\n",
              "  </style>\n",
              "\n",
              "      <script>\n",
              "        const buttonEl =\n",
              "          document.querySelector('#df-0fdcb5bc-d091-481f-91ac-045f88f7930f button.colab-df-convert');\n",
              "        buttonEl.style.display =\n",
              "          google.colab.kernel.accessAllowed ? 'block' : 'none';\n",
              "\n",
              "        async function convertToInteractive(key) {\n",
              "          const element = document.querySelector('#df-0fdcb5bc-d091-481f-91ac-045f88f7930f');\n",
              "          const dataTable =\n",
              "            await google.colab.kernel.invokeFunction('convertToInteractive',\n",
              "                                                     [key], {});\n",
              "          if (!dataTable) return;\n",
              "\n",
              "          const docLinkHtml = 'Like what you see? Visit the ' +\n",
              "            '<a target=\"_blank\" href=https://colab.research.google.com/notebooks/data_table.ipynb>data table notebook</a>'\n",
              "            + ' to learn more about interactive tables.';\n",
              "          element.innerHTML = '';\n",
              "          dataTable['output_type'] = 'display_data';\n",
              "          await google.colab.output.renderOutput(dataTable, element);\n",
              "          const docLink = document.createElement('div');\n",
              "          docLink.innerHTML = docLinkHtml;\n",
              "          element.appendChild(docLink);\n",
              "        }\n",
              "      </script>\n",
              "    </div>\n",
              "  </div>\n",
              "  "
            ]
          },
          "metadata": {},
          "execution_count": 91
        }
      ]
    },
    {
      "cell_type": "code",
      "source": [
        "data_horse['Age'].unique()"
      ],
      "metadata": {
        "colab": {
          "base_uri": "https://localhost:8080/"
        },
        "id": "owetitua4Ypd",
        "outputId": "ebd0c63c-bb0c-4b6b-fcea-9cc66f726c8d"
      },
      "execution_count": null,
      "outputs": [
        {
          "output_type": "execute_result",
          "data": {
            "text/plain": [
              "array([1, 9])"
            ]
          },
          "metadata": {},
          "execution_count": 85
        }
      ]
    },
    {
      "cell_type": "markdown",
      "source": [
        "Странно.\n",
        "По описанию должны быть цифры 1 и 2 (взрослая и молодая соответственно)\n",
        "\n",
        "          1. 1 = взрослая лошадь\n",
        "          2. 2 = Молодой (< 6 месяцев)\n",
        "\n",
        "Почему мне показывает 1 и 9? \n",
        "\n",
        "Посмотрим, много ли таких 9?)"
      ],
      "metadata": {
        "id": "YqQxs-1EZosD"
      }
    },
    {
      "cell_type": "code",
      "source": [
        "# посчитаем, сколько раз встречается каждое из значений\n",
        "data_horse['Age'].value_counts() "
      ],
      "metadata": {
        "colab": {
          "base_uri": "https://localhost:8080/"
        },
        "id": "VANcnUAgXbO8",
        "outputId": "71e2f9a5-a56d-43f3-bcba-1889726bd510"
      },
      "execution_count": null,
      "outputs": [
        {
          "output_type": "execute_result",
          "data": {
            "text/plain": [
              "1    276\n",
              "9     24\n",
              "Name: Age, dtype: int64"
            ]
          },
          "metadata": {},
          "execution_count": 86
        }
      ]
    },
    {
      "cell_type": "markdown",
      "source": [
        "Вполне возможно, что это ошибка ввода данных. Возможно, человек опечатался. Нет опыта, не могу знать, возможно ли опечататься 24 раза?)) Сомнительно)). Но факт остается фактом, я здесь не вижу ни одной 2, зато вижу 24 раза 9\n",
        "\n",
        "Раз все остальные цифры == 1, то, скорее всего, в этой конюшне только взрослые лошади.\n",
        "\n",
        "Не знаю, великие ли это знания?)))\n",
        "Я не могу сказать по этой инфе, что на ферме(табуне) жеребцы и(или) мерины)) С другой стороны, если бы были и кобылы в табуне, то были бы и жеребята, т.е отметка == 2)\n",
        "Пока что -- полный мрак))"
      ],
      "metadata": {
        "id": "Li0NPvb85Ae_"
      }
    },
    {
      "cell_type": "code",
      "source": [
        "# поизучаем данные)\n",
        "type(data_horse['rectal temperature'])\n",
        "print(pd.to_numeric(data_horse['rectal temperature'], errors='coerce').max())\n",
        "print(pd.to_numeric(data_horse['rectal temperature'], errors='coerce').min())\n",
        "print(pd.to_numeric(data_horse['rectal temperature'], errors='coerce').median())\n",
        "# data_horse['surgery?'].astype(int)\n"
      ],
      "metadata": {
        "colab": {
          "base_uri": "https://localhost:8080/"
        },
        "id": "AxTBsWy5upqW",
        "outputId": "219cc541-ca3b-44b3-ae7d-4e3e92a14987"
      },
      "execution_count": null,
      "outputs": [
        {
          "output_type": "stream",
          "name": "stdout",
          "text": [
            "40.8\n",
            "35.4\n",
            "38.2\n"
          ]
        }
      ]
    },
    {
      "cell_type": "code",
      "source": [
        "# Смотрю данные по ректальной температуре.\n",
        "print(len(data_horse['rectal temperature'].unique()))\n",
        "print(data_horse['rectal temperature'].unique())\n",
        "print(data_horse['rectal temperature'].mode()[0])\n",
        "print(data_horse['rectal temperature'].median())\n",
        "data_horse['rectal temperature'].value_counts()"
      ],
      "metadata": {
        "id": "RcAiA6NbtxbM",
        "colab": {
          "base_uri": "https://localhost:8080/"
        },
        "outputId": "55fdd1ec-90cb-40ba-bcf6-885c8db7baf4"
      },
      "execution_count": null,
      "outputs": [
        {
          "output_type": "stream",
          "name": "stdout",
          "text": [
            "41\n",
            "[38.5 39.2 38.3 39.1 37.3  nan 37.9 38.1 37.2 38.  38.2 37.6 37.5 39.4\n",
            " 39.9 38.4 38.6 37.8 37.7 39.  35.4 38.9 37.4 40.3 37.  39.7 38.7 36.4\n",
            " 38.8 39.6 36.8 39.5 36.5 36.  37.1 39.3 36.1 36.6 40.8 36.9 40. ]\n",
            "38.0\n",
            "38.2\n"
          ]
        },
        {
          "output_type": "execute_result",
          "data": {
            "text/plain": [
              "38.0    26\n",
              "38.5    19\n",
              "38.3    18\n",
              "37.8    17\n",
              "38.2    16\n",
              "38.1    12\n",
              "37.5    12\n",
              "38.6    12\n",
              "38.4    11\n",
              "37.9     7\n",
              "37.2     7\n",
              "37.6     7\n",
              "37.7     7\n",
              "38.7     7\n",
              "37.3     6\n",
              "38.8     6\n",
              "39.2     5\n",
              "39.5     4\n",
              "39.3     4\n",
              "38.9     4\n",
              "39.0     4\n",
              "39.4     3\n",
              "37.1     3\n",
              "37.4     3\n",
              "40.3     2\n",
              "37.0     2\n",
              "39.1     2\n",
              "36.5     2\n",
              "36.9     1\n",
              "40.8     1\n",
              "36.6     1\n",
              "36.1     1\n",
              "35.4     1\n",
              "36.0     1\n",
              "36.8     1\n",
              "39.6     1\n",
              "39.9     1\n",
              "36.4     1\n",
              "39.7     1\n",
              "40.0     1\n",
              "Name: rectal temperature, dtype: int64"
            ]
          },
          "metadata": {},
          "execution_count": 92
        }
      ]
    },
    {
      "cell_type": "code",
      "source": [
        "# смотрим, много ли лошадей с повышенной температурой\n",
        "higt_temper = data_horse.loc[data_horse['rectal temperature'] > 38.7]"
      ],
      "metadata": {
        "id": "ujMvob-GeWa9"
      },
      "execution_count": null,
      "outputs": []
    },
    {
      "cell_type": "code",
      "source": [
        "print(higt_temper['rectal temperature'].count())\n",
        "higt_temper['rectal temperature'].value_counts()"
      ],
      "metadata": {
        "colab": {
          "base_uri": "https://localhost:8080/"
        },
        "id": "HgzCfW9EevQZ",
        "outputId": "ee957d6f-9e27-4cd0-d853-8a296c692ef0"
      },
      "execution_count": null,
      "outputs": [
        {
          "output_type": "stream",
          "name": "stdout",
          "text": [
            "39\n"
          ]
        },
        {
          "output_type": "execute_result",
          "data": {
            "text/plain": [
              "38.8    6\n",
              "39.2    5\n",
              "39.0    4\n",
              "38.9    4\n",
              "39.5    4\n",
              "39.3    4\n",
              "39.4    3\n",
              "39.1    2\n",
              "40.3    2\n",
              "39.9    1\n",
              "39.7    1\n",
              "39.6    1\n",
              "40.8    1\n",
              "40.0    1\n",
              "Name: rectal temperature, dtype: int64"
            ]
          },
          "metadata": {},
          "execution_count": 45
        }
      ]
    },
    {
      "cell_type": "markdown",
      "source": [
        "Ладно, накинем 1 градус сверх нормы -- будем считать, что температура поднимается после физических нагрузок.\n",
        " \n",
        "Но, у нас есть 39 лошадок, сверх 38.7 градусов. Полагаю, это ллоашадки болеют\n",
        "\n",
        "Никаких аномальных показателей я не вижу. \n",
        "\n",
        "НО так смотреть совсем не удобно. Раскидаю наших лошадок по категориям, согласно этого показателя. Так смогу быстрее оценить положение по нашей конюшне)"
      ],
      "metadata": {
        "id": "qpbaZqyFfoR5"
      }
    },
    {
      "cell_type": "code",
      "source": [
        "# data_horse['category of rectal temperature'] = np.where(data_horse['rectal temperature'] < 38.7)"
      ],
      "metadata": {
        "id": "quFM7H09r4-p"
      },
      "execution_count": null,
      "outputs": []
    },
    {
      "cell_type": "code",
      "source": [
        "def rectal_tem_filter(row):\n",
        "    \"\"\"\n",
        "    Фильтрует строки по праивлам:\n",
        "    если температуры до 38.7 -- в пределах нормы\n",
        "    38.7-39.7 -- больна\n",
        "    39.7 -- критическое состояние\n",
        "    \"\"\"\n",
        "    rect_category = row['rectal temperature']\n",
        "\n",
        "    if rect_category < 38.7:\n",
        "        return 'normal'\n",
        "    elif 38.7 <= rect_category < 39.7:\n",
        "        return 'sick'\n",
        "    elif rect_category >= 39.7:\n",
        "        return 'critical'\n",
        "\n",
        "    return rect_category"
      ],
      "metadata": {
        "id": "WQbZAi2ixqQz"
      },
      "execution_count": null,
      "outputs": []
    },
    {
      "cell_type": "code",
      "source": [
        "data_horse['category of rectal temperature'] = data_horse.apply(rectal_tem_filter, axis=1)\n",
        "data_horse"
      ],
      "metadata": {
        "colab": {
          "base_uri": "https://localhost:8080/",
          "height": 424
        },
        "id": "xPMAysKT0PGG",
        "outputId": "b2015b74-fe11-4525-be8e-ebfeefed6a76"
      },
      "execution_count": null,
      "outputs": [
        {
          "output_type": "execute_result",
          "data": {
            "text/plain": [
              "     surgery?  Age  rectal temperature  pulse  respiratory rate  \\\n",
              "0         2.0    1                38.5   66.0              28.0   \n",
              "1         1.0    1                39.2   88.0              20.0   \n",
              "2         2.0    1                38.3   40.0              24.0   \n",
              "3         1.0    9                39.1  164.0              84.0   \n",
              "4         2.0    1                37.3  104.0              35.0   \n",
              "..        ...  ...                 ...    ...               ...   \n",
              "295       1.0    1                 NaN  120.0              70.0   \n",
              "296       2.0    1                37.2   72.0              24.0   \n",
              "297       1.0    1                37.5   72.0              30.0   \n",
              "298       1.0    1                36.5  100.0              24.0   \n",
              "299       1.0    1                37.2   40.0              20.0   \n",
              "\n",
              "     temperature of extremities  pain  outcome category of rectal temperature  \n",
              "0                           3.0   5.0      2.0                         normal  \n",
              "1                           NaN   3.0      3.0                           sick  \n",
              "2                           1.0   3.0      1.0                         normal  \n",
              "3                           4.0   2.0      2.0                           sick  \n",
              "4                           NaN   NaN      2.0                         normal  \n",
              "..                          ...   ...      ...                            ...  \n",
              "295                         4.0   2.0      3.0                            NaN  \n",
              "296                         3.0   4.0      3.0                         normal  \n",
              "297                         4.0   4.0      2.0                         normal  \n",
              "298                         3.0   3.0      1.0                         normal  \n",
              "299                         NaN   NaN      3.0                         normal  \n",
              "\n",
              "[300 rows x 9 columns]"
            ],
            "text/html": [
              "\n",
              "  <div id=\"df-c8e777df-f1d4-4d93-bcd1-2be04f83c077\">\n",
              "    <div class=\"colab-df-container\">\n",
              "      <div>\n",
              "<style scoped>\n",
              "    .dataframe tbody tr th:only-of-type {\n",
              "        vertical-align: middle;\n",
              "    }\n",
              "\n",
              "    .dataframe tbody tr th {\n",
              "        vertical-align: top;\n",
              "    }\n",
              "\n",
              "    .dataframe thead th {\n",
              "        text-align: right;\n",
              "    }\n",
              "</style>\n",
              "<table border=\"1\" class=\"dataframe\">\n",
              "  <thead>\n",
              "    <tr style=\"text-align: right;\">\n",
              "      <th></th>\n",
              "      <th>surgery?</th>\n",
              "      <th>Age</th>\n",
              "      <th>rectal temperature</th>\n",
              "      <th>pulse</th>\n",
              "      <th>respiratory rate</th>\n",
              "      <th>temperature of extremities</th>\n",
              "      <th>pain</th>\n",
              "      <th>outcome</th>\n",
              "      <th>category of rectal temperature</th>\n",
              "    </tr>\n",
              "  </thead>\n",
              "  <tbody>\n",
              "    <tr>\n",
              "      <th>0</th>\n",
              "      <td>2.0</td>\n",
              "      <td>1</td>\n",
              "      <td>38.5</td>\n",
              "      <td>66.0</td>\n",
              "      <td>28.0</td>\n",
              "      <td>3.0</td>\n",
              "      <td>5.0</td>\n",
              "      <td>2.0</td>\n",
              "      <td>normal</td>\n",
              "    </tr>\n",
              "    <tr>\n",
              "      <th>1</th>\n",
              "      <td>1.0</td>\n",
              "      <td>1</td>\n",
              "      <td>39.2</td>\n",
              "      <td>88.0</td>\n",
              "      <td>20.0</td>\n",
              "      <td>NaN</td>\n",
              "      <td>3.0</td>\n",
              "      <td>3.0</td>\n",
              "      <td>sick</td>\n",
              "    </tr>\n",
              "    <tr>\n",
              "      <th>2</th>\n",
              "      <td>2.0</td>\n",
              "      <td>1</td>\n",
              "      <td>38.3</td>\n",
              "      <td>40.0</td>\n",
              "      <td>24.0</td>\n",
              "      <td>1.0</td>\n",
              "      <td>3.0</td>\n",
              "      <td>1.0</td>\n",
              "      <td>normal</td>\n",
              "    </tr>\n",
              "    <tr>\n",
              "      <th>3</th>\n",
              "      <td>1.0</td>\n",
              "      <td>9</td>\n",
              "      <td>39.1</td>\n",
              "      <td>164.0</td>\n",
              "      <td>84.0</td>\n",
              "      <td>4.0</td>\n",
              "      <td>2.0</td>\n",
              "      <td>2.0</td>\n",
              "      <td>sick</td>\n",
              "    </tr>\n",
              "    <tr>\n",
              "      <th>4</th>\n",
              "      <td>2.0</td>\n",
              "      <td>1</td>\n",
              "      <td>37.3</td>\n",
              "      <td>104.0</td>\n",
              "      <td>35.0</td>\n",
              "      <td>NaN</td>\n",
              "      <td>NaN</td>\n",
              "      <td>2.0</td>\n",
              "      <td>normal</td>\n",
              "    </tr>\n",
              "    <tr>\n",
              "      <th>...</th>\n",
              "      <td>...</td>\n",
              "      <td>...</td>\n",
              "      <td>...</td>\n",
              "      <td>...</td>\n",
              "      <td>...</td>\n",
              "      <td>...</td>\n",
              "      <td>...</td>\n",
              "      <td>...</td>\n",
              "      <td>...</td>\n",
              "    </tr>\n",
              "    <tr>\n",
              "      <th>295</th>\n",
              "      <td>1.0</td>\n",
              "      <td>1</td>\n",
              "      <td>NaN</td>\n",
              "      <td>120.0</td>\n",
              "      <td>70.0</td>\n",
              "      <td>4.0</td>\n",
              "      <td>2.0</td>\n",
              "      <td>3.0</td>\n",
              "      <td>NaN</td>\n",
              "    </tr>\n",
              "    <tr>\n",
              "      <th>296</th>\n",
              "      <td>2.0</td>\n",
              "      <td>1</td>\n",
              "      <td>37.2</td>\n",
              "      <td>72.0</td>\n",
              "      <td>24.0</td>\n",
              "      <td>3.0</td>\n",
              "      <td>4.0</td>\n",
              "      <td>3.0</td>\n",
              "      <td>normal</td>\n",
              "    </tr>\n",
              "    <tr>\n",
              "      <th>297</th>\n",
              "      <td>1.0</td>\n",
              "      <td>1</td>\n",
              "      <td>37.5</td>\n",
              "      <td>72.0</td>\n",
              "      <td>30.0</td>\n",
              "      <td>4.0</td>\n",
              "      <td>4.0</td>\n",
              "      <td>2.0</td>\n",
              "      <td>normal</td>\n",
              "    </tr>\n",
              "    <tr>\n",
              "      <th>298</th>\n",
              "      <td>1.0</td>\n",
              "      <td>1</td>\n",
              "      <td>36.5</td>\n",
              "      <td>100.0</td>\n",
              "      <td>24.0</td>\n",
              "      <td>3.0</td>\n",
              "      <td>3.0</td>\n",
              "      <td>1.0</td>\n",
              "      <td>normal</td>\n",
              "    </tr>\n",
              "    <tr>\n",
              "      <th>299</th>\n",
              "      <td>1.0</td>\n",
              "      <td>1</td>\n",
              "      <td>37.2</td>\n",
              "      <td>40.0</td>\n",
              "      <td>20.0</td>\n",
              "      <td>NaN</td>\n",
              "      <td>NaN</td>\n",
              "      <td>3.0</td>\n",
              "      <td>normal</td>\n",
              "    </tr>\n",
              "  </tbody>\n",
              "</table>\n",
              "<p>300 rows × 9 columns</p>\n",
              "</div>\n",
              "      <button class=\"colab-df-convert\" onclick=\"convertToInteractive('df-c8e777df-f1d4-4d93-bcd1-2be04f83c077')\"\n",
              "              title=\"Convert this dataframe to an interactive table.\"\n",
              "              style=\"display:none;\">\n",
              "        \n",
              "  <svg xmlns=\"http://www.w3.org/2000/svg\" height=\"24px\"viewBox=\"0 0 24 24\"\n",
              "       width=\"24px\">\n",
              "    <path d=\"M0 0h24v24H0V0z\" fill=\"none\"/>\n",
              "    <path d=\"M18.56 5.44l.94 2.06.94-2.06 2.06-.94-2.06-.94-.94-2.06-.94 2.06-2.06.94zm-11 1L8.5 8.5l.94-2.06 2.06-.94-2.06-.94L8.5 2.5l-.94 2.06-2.06.94zm10 10l.94 2.06.94-2.06 2.06-.94-2.06-.94-.94-2.06-.94 2.06-2.06.94z\"/><path d=\"M17.41 7.96l-1.37-1.37c-.4-.4-.92-.59-1.43-.59-.52 0-1.04.2-1.43.59L10.3 9.45l-7.72 7.72c-.78.78-.78 2.05 0 2.83L4 21.41c.39.39.9.59 1.41.59.51 0 1.02-.2 1.41-.59l7.78-7.78 2.81-2.81c.8-.78.8-2.07 0-2.86zM5.41 20L4 18.59l7.72-7.72 1.47 1.35L5.41 20z\"/>\n",
              "  </svg>\n",
              "      </button>\n",
              "      \n",
              "  <style>\n",
              "    .colab-df-container {\n",
              "      display:flex;\n",
              "      flex-wrap:wrap;\n",
              "      gap: 12px;\n",
              "    }\n",
              "\n",
              "    .colab-df-convert {\n",
              "      background-color: #E8F0FE;\n",
              "      border: none;\n",
              "      border-radius: 50%;\n",
              "      cursor: pointer;\n",
              "      display: none;\n",
              "      fill: #1967D2;\n",
              "      height: 32px;\n",
              "      padding: 0 0 0 0;\n",
              "      width: 32px;\n",
              "    }\n",
              "\n",
              "    .colab-df-convert:hover {\n",
              "      background-color: #E2EBFA;\n",
              "      box-shadow: 0px 1px 2px rgba(60, 64, 67, 0.3), 0px 1px 3px 1px rgba(60, 64, 67, 0.15);\n",
              "      fill: #174EA6;\n",
              "    }\n",
              "\n",
              "    [theme=dark] .colab-df-convert {\n",
              "      background-color: #3B4455;\n",
              "      fill: #D2E3FC;\n",
              "    }\n",
              "\n",
              "    [theme=dark] .colab-df-convert:hover {\n",
              "      background-color: #434B5C;\n",
              "      box-shadow: 0px 1px 3px 1px rgba(0, 0, 0, 0.15);\n",
              "      filter: drop-shadow(0px 1px 2px rgba(0, 0, 0, 0.3));\n",
              "      fill: #FFFFFF;\n",
              "    }\n",
              "  </style>\n",
              "\n",
              "      <script>\n",
              "        const buttonEl =\n",
              "          document.querySelector('#df-c8e777df-f1d4-4d93-bcd1-2be04f83c077 button.colab-df-convert');\n",
              "        buttonEl.style.display =\n",
              "          google.colab.kernel.accessAllowed ? 'block' : 'none';\n",
              "\n",
              "        async function convertToInteractive(key) {\n",
              "          const element = document.querySelector('#df-c8e777df-f1d4-4d93-bcd1-2be04f83c077');\n",
              "          const dataTable =\n",
              "            await google.colab.kernel.invokeFunction('convertToInteractive',\n",
              "                                                     [key], {});\n",
              "          if (!dataTable) return;\n",
              "\n",
              "          const docLinkHtml = 'Like what you see? Visit the ' +\n",
              "            '<a target=\"_blank\" href=https://colab.research.google.com/notebooks/data_table.ipynb>data table notebook</a>'\n",
              "            + ' to learn more about interactive tables.';\n",
              "          element.innerHTML = '';\n",
              "          dataTable['output_type'] = 'display_data';\n",
              "          await google.colab.output.renderOutput(dataTable, element);\n",
              "          const docLink = document.createElement('div');\n",
              "          docLink.innerHTML = docLinkHtml;\n",
              "          element.appendChild(docLink);\n",
              "        }\n",
              "      </script>\n",
              "    </div>\n",
              "  </div>\n",
              "  "
            ]
          },
          "metadata": {},
          "execution_count": 5
        }
      ]
    },
    {
      "cell_type": "code",
      "source": [
        "print(data_horse['category of rectal temperature'].count())\n",
        "data_horse['category of rectal temperature'].value_counts()"
      ],
      "metadata": {
        "colab": {
          "base_uri": "https://localhost:8080/"
        },
        "id": "sqThfU-d1Mcm",
        "outputId": "eade3293-02d7-40bf-beb2-08211788443c"
      },
      "execution_count": null,
      "outputs": [
        {
          "output_type": "stream",
          "name": "stdout",
          "text": [
            "240\n"
          ]
        },
        {
          "output_type": "execute_result",
          "data": {
            "text/plain": [
              "normal      194\n",
              "sick         40\n",
              "critical      6\n",
              "Name: category of rectal temperature, dtype: int64"
            ]
          },
          "metadata": {},
          "execution_count": 7
        }
      ]
    },
    {
      "cell_type": "code",
      "source": [
        "print(46/240)\n",
        "print(60/300)\n",
        "print(46/300)"
      ],
      "metadata": {
        "colab": {
          "base_uri": "https://localhost:8080/"
        },
        "id": "bgcFLG2j2zxE",
        "outputId": "fdf08364-5f7b-41e4-f981-f30ccdaa8cab"
      },
      "execution_count": null,
      "outputs": [
        {
          "output_type": "stream",
          "name": "stdout",
          "text": [
            "0.19166666666666668\n",
            "0.2\n",
            "0.15333333333333332\n"
          ]
        }
      ]
    },
    {
      "cell_type": "markdown",
      "source": [
        "У нас нет данных по 20% лашадок ( должно быть 300, а есть только по 240)\n",
        "Ладно, будем считать, что измеряли температуру только после физнагрузки, чтоб понять, насколько загнана лошадь, или при подозрении на болезнь.\n",
        "\n",
        "Из тех, кого измеряли почти 5-я часть больна и(или) в критическом состоянии\n",
        "\n",
        "Если принять, что 20 не попавших в отчет -- здоровы, то получаем из 300 лошадок 15.3% в плохом состоянии.\n",
        "\n",
        "\n",
        "ПОКА я ничего не могу сказать, посмотрим, что найдем ещё"
      ],
      "metadata": {
        "id": "-CE-i1Nz3IWc"
      }
    },
    {
      "cell_type": "code",
      "source": [
        "# 30-40 нормально для взрослых\n",
        "# * редко имеют более низкий показатель, чем обычно, хотя спортивные лошади может иметь скорость 20-25\n",
        "\n",
        "print(len(data_horse['pulse'].unique()))\n",
        "print(data_horse['pulse'].unique())\n",
        "print(data_horse['pulse'].mode()[0])\n",
        "print(data_horse['pulse'].median())\n",
        "print(data_horse['pulse'].min())\n",
        "print(data_horse['pulse'].max())"
      ],
      "metadata": {
        "colab": {
          "base_uri": "https://localhost:8080/"
        },
        "id": "hAcJ9BnSgvyA",
        "outputId": "50b5d3cf-fcab-4747-db06-43a1725fca6d"
      },
      "execution_count": null,
      "outputs": [
        {
          "output_type": "stream",
          "name": "stdout",
          "text": [
            "53\n",
            "[ 66.  88.  40. 164. 104.  nan  48.  60.  80.  90.  72.  42.  92.  76.\n",
            "  96. 128.  64. 110. 130. 108. 100. 112.  52. 146. 150. 120. 140.  84.\n",
            "  46. 114. 160.  54.  56.  38.  98.  50.  44.  70.  78.  49.  30. 136.\n",
            " 132.  65.  86. 129.  68.  36.  45. 124. 184.  75.  82.]\n",
            "48.0\n",
            "64.0\n",
            "30.0\n",
            "184.0\n"
          ]
        }
      ]
    },
    {
      "cell_type": "markdown",
      "source": [
        "Чаще всего встречаются лошади с пульсом 48. Половна из лошадок имеют пульс больше 64.\n",
        "Ладно, тут длина уникальных значений всего 53, я могу видеть и значения и 160+, и 180.\n",
        "\n",
        "Могут ли лошади в нормальном состоянии иметь пульс в 3-4 раза больше нормы? И насколько эти показатели показывают стабильность такого пульса и как продолжительно?\n",
        "\n",
        "Попробую и здесь разделить на категории на свой взгляд"
      ],
      "metadata": {
        "id": "tZqqASuC4qkv"
      }
    },
    {
      "cell_type": "code",
      "source": [
        "def pulse_filter(row):\n",
        "    \"\"\"\n",
        "    Фильтрует строки по правилам:\n",
        "    если pulse до 40*2 -- в пределах нормы\n",
        "    40*2-40*3 -- угроза\n",
        "    более 40*3-- критическое состояние\n",
        "    \"\"\"\n",
        "    pulse_category = row['pulse']\n",
        "\n",
        "    if pulse_category < 40*2:\n",
        "        return 'normal'\n",
        "    elif 40*2 <= pulse_category < 40*3:\n",
        "        return 'danger'\n",
        "    elif pulse_category >= 40*3:\n",
        "        return 'critical'\n",
        "\n",
        "    return pulse_category"
      ],
      "metadata": {
        "id": "B1VSXFjy4iOP"
      },
      "execution_count": null,
      "outputs": []
    },
    {
      "cell_type": "code",
      "source": [
        "data_horse['category of pulse'] = data_horse.apply(pulse_filter, axis=1)\n",
        "data_horse"
      ],
      "metadata": {
        "colab": {
          "base_uri": "https://localhost:8080/",
          "height": 468
        },
        "id": "CVtlxhPO65pI",
        "outputId": "e4defac0-9fab-4985-ee40-c17f17020dbb"
      },
      "execution_count": null,
      "outputs": [
        {
          "output_type": "execute_result",
          "data": {
            "text/plain": [
              "     surgery?  Age  rectal temperature  pulse  respiratory rate  \\\n",
              "0         2.0    1                38.5   66.0              28.0   \n",
              "1         1.0    1                39.2   88.0              20.0   \n",
              "2         2.0    1                38.3   40.0              24.0   \n",
              "3         1.0    9                39.1  164.0              84.0   \n",
              "4         2.0    1                37.3  104.0              35.0   \n",
              "..        ...  ...                 ...    ...               ...   \n",
              "295       1.0    1                 NaN  120.0              70.0   \n",
              "296       2.0    1                37.2   72.0              24.0   \n",
              "297       1.0    1                37.5   72.0              30.0   \n",
              "298       1.0    1                36.5  100.0              24.0   \n",
              "299       1.0    1                37.2   40.0              20.0   \n",
              "\n",
              "     temperature of extremities  pain  outcome category of rectal temperature  \\\n",
              "0                           3.0   5.0      2.0                         normal   \n",
              "1                           NaN   3.0      3.0                           sick   \n",
              "2                           1.0   3.0      1.0                         normal   \n",
              "3                           4.0   2.0      2.0                           sick   \n",
              "4                           NaN   NaN      2.0                         normal   \n",
              "..                          ...   ...      ...                            ...   \n",
              "295                         4.0   2.0      3.0                            NaN   \n",
              "296                         3.0   4.0      3.0                         normal   \n",
              "297                         4.0   4.0      2.0                         normal   \n",
              "298                         3.0   3.0      1.0                         normal   \n",
              "299                         NaN   NaN      3.0                         normal   \n",
              "\n",
              "    category of pulse  \n",
              "0              normal  \n",
              "1              danger  \n",
              "2              normal  \n",
              "3            critical  \n",
              "4              danger  \n",
              "..                ...  \n",
              "295          critical  \n",
              "296            normal  \n",
              "297            normal  \n",
              "298            danger  \n",
              "299            normal  \n",
              "\n",
              "[300 rows x 10 columns]"
            ],
            "text/html": [
              "\n",
              "  <div id=\"df-17e7d5e7-3363-425f-b340-dd24665bef3d\">\n",
              "    <div class=\"colab-df-container\">\n",
              "      <div>\n",
              "<style scoped>\n",
              "    .dataframe tbody tr th:only-of-type {\n",
              "        vertical-align: middle;\n",
              "    }\n",
              "\n",
              "    .dataframe tbody tr th {\n",
              "        vertical-align: top;\n",
              "    }\n",
              "\n",
              "    .dataframe thead th {\n",
              "        text-align: right;\n",
              "    }\n",
              "</style>\n",
              "<table border=\"1\" class=\"dataframe\">\n",
              "  <thead>\n",
              "    <tr style=\"text-align: right;\">\n",
              "      <th></th>\n",
              "      <th>surgery?</th>\n",
              "      <th>Age</th>\n",
              "      <th>rectal temperature</th>\n",
              "      <th>pulse</th>\n",
              "      <th>respiratory rate</th>\n",
              "      <th>temperature of extremities</th>\n",
              "      <th>pain</th>\n",
              "      <th>outcome</th>\n",
              "      <th>category of rectal temperature</th>\n",
              "      <th>category of pulse</th>\n",
              "    </tr>\n",
              "  </thead>\n",
              "  <tbody>\n",
              "    <tr>\n",
              "      <th>0</th>\n",
              "      <td>2.0</td>\n",
              "      <td>1</td>\n",
              "      <td>38.5</td>\n",
              "      <td>66.0</td>\n",
              "      <td>28.0</td>\n",
              "      <td>3.0</td>\n",
              "      <td>5.0</td>\n",
              "      <td>2.0</td>\n",
              "      <td>normal</td>\n",
              "      <td>normal</td>\n",
              "    </tr>\n",
              "    <tr>\n",
              "      <th>1</th>\n",
              "      <td>1.0</td>\n",
              "      <td>1</td>\n",
              "      <td>39.2</td>\n",
              "      <td>88.0</td>\n",
              "      <td>20.0</td>\n",
              "      <td>NaN</td>\n",
              "      <td>3.0</td>\n",
              "      <td>3.0</td>\n",
              "      <td>sick</td>\n",
              "      <td>danger</td>\n",
              "    </tr>\n",
              "    <tr>\n",
              "      <th>2</th>\n",
              "      <td>2.0</td>\n",
              "      <td>1</td>\n",
              "      <td>38.3</td>\n",
              "      <td>40.0</td>\n",
              "      <td>24.0</td>\n",
              "      <td>1.0</td>\n",
              "      <td>3.0</td>\n",
              "      <td>1.0</td>\n",
              "      <td>normal</td>\n",
              "      <td>normal</td>\n",
              "    </tr>\n",
              "    <tr>\n",
              "      <th>3</th>\n",
              "      <td>1.0</td>\n",
              "      <td>9</td>\n",
              "      <td>39.1</td>\n",
              "      <td>164.0</td>\n",
              "      <td>84.0</td>\n",
              "      <td>4.0</td>\n",
              "      <td>2.0</td>\n",
              "      <td>2.0</td>\n",
              "      <td>sick</td>\n",
              "      <td>critical</td>\n",
              "    </tr>\n",
              "    <tr>\n",
              "      <th>4</th>\n",
              "      <td>2.0</td>\n",
              "      <td>1</td>\n",
              "      <td>37.3</td>\n",
              "      <td>104.0</td>\n",
              "      <td>35.0</td>\n",
              "      <td>NaN</td>\n",
              "      <td>NaN</td>\n",
              "      <td>2.0</td>\n",
              "      <td>normal</td>\n",
              "      <td>danger</td>\n",
              "    </tr>\n",
              "    <tr>\n",
              "      <th>...</th>\n",
              "      <td>...</td>\n",
              "      <td>...</td>\n",
              "      <td>...</td>\n",
              "      <td>...</td>\n",
              "      <td>...</td>\n",
              "      <td>...</td>\n",
              "      <td>...</td>\n",
              "      <td>...</td>\n",
              "      <td>...</td>\n",
              "      <td>...</td>\n",
              "    </tr>\n",
              "    <tr>\n",
              "      <th>295</th>\n",
              "      <td>1.0</td>\n",
              "      <td>1</td>\n",
              "      <td>NaN</td>\n",
              "      <td>120.0</td>\n",
              "      <td>70.0</td>\n",
              "      <td>4.0</td>\n",
              "      <td>2.0</td>\n",
              "      <td>3.0</td>\n",
              "      <td>NaN</td>\n",
              "      <td>critical</td>\n",
              "    </tr>\n",
              "    <tr>\n",
              "      <th>296</th>\n",
              "      <td>2.0</td>\n",
              "      <td>1</td>\n",
              "      <td>37.2</td>\n",
              "      <td>72.0</td>\n",
              "      <td>24.0</td>\n",
              "      <td>3.0</td>\n",
              "      <td>4.0</td>\n",
              "      <td>3.0</td>\n",
              "      <td>normal</td>\n",
              "      <td>normal</td>\n",
              "    </tr>\n",
              "    <tr>\n",
              "      <th>297</th>\n",
              "      <td>1.0</td>\n",
              "      <td>1</td>\n",
              "      <td>37.5</td>\n",
              "      <td>72.0</td>\n",
              "      <td>30.0</td>\n",
              "      <td>4.0</td>\n",
              "      <td>4.0</td>\n",
              "      <td>2.0</td>\n",
              "      <td>normal</td>\n",
              "      <td>normal</td>\n",
              "    </tr>\n",
              "    <tr>\n",
              "      <th>298</th>\n",
              "      <td>1.0</td>\n",
              "      <td>1</td>\n",
              "      <td>36.5</td>\n",
              "      <td>100.0</td>\n",
              "      <td>24.0</td>\n",
              "      <td>3.0</td>\n",
              "      <td>3.0</td>\n",
              "      <td>1.0</td>\n",
              "      <td>normal</td>\n",
              "      <td>danger</td>\n",
              "    </tr>\n",
              "    <tr>\n",
              "      <th>299</th>\n",
              "      <td>1.0</td>\n",
              "      <td>1</td>\n",
              "      <td>37.2</td>\n",
              "      <td>40.0</td>\n",
              "      <td>20.0</td>\n",
              "      <td>NaN</td>\n",
              "      <td>NaN</td>\n",
              "      <td>3.0</td>\n",
              "      <td>normal</td>\n",
              "      <td>normal</td>\n",
              "    </tr>\n",
              "  </tbody>\n",
              "</table>\n",
              "<p>300 rows × 10 columns</p>\n",
              "</div>\n",
              "      <button class=\"colab-df-convert\" onclick=\"convertToInteractive('df-17e7d5e7-3363-425f-b340-dd24665bef3d')\"\n",
              "              title=\"Convert this dataframe to an interactive table.\"\n",
              "              style=\"display:none;\">\n",
              "        \n",
              "  <svg xmlns=\"http://www.w3.org/2000/svg\" height=\"24px\"viewBox=\"0 0 24 24\"\n",
              "       width=\"24px\">\n",
              "    <path d=\"M0 0h24v24H0V0z\" fill=\"none\"/>\n",
              "    <path d=\"M18.56 5.44l.94 2.06.94-2.06 2.06-.94-2.06-.94-.94-2.06-.94 2.06-2.06.94zm-11 1L8.5 8.5l.94-2.06 2.06-.94-2.06-.94L8.5 2.5l-.94 2.06-2.06.94zm10 10l.94 2.06.94-2.06 2.06-.94-2.06-.94-.94-2.06-.94 2.06-2.06.94z\"/><path d=\"M17.41 7.96l-1.37-1.37c-.4-.4-.92-.59-1.43-.59-.52 0-1.04.2-1.43.59L10.3 9.45l-7.72 7.72c-.78.78-.78 2.05 0 2.83L4 21.41c.39.39.9.59 1.41.59.51 0 1.02-.2 1.41-.59l7.78-7.78 2.81-2.81c.8-.78.8-2.07 0-2.86zM5.41 20L4 18.59l7.72-7.72 1.47 1.35L5.41 20z\"/>\n",
              "  </svg>\n",
              "      </button>\n",
              "      \n",
              "  <style>\n",
              "    .colab-df-container {\n",
              "      display:flex;\n",
              "      flex-wrap:wrap;\n",
              "      gap: 12px;\n",
              "    }\n",
              "\n",
              "    .colab-df-convert {\n",
              "      background-color: #E8F0FE;\n",
              "      border: none;\n",
              "      border-radius: 50%;\n",
              "      cursor: pointer;\n",
              "      display: none;\n",
              "      fill: #1967D2;\n",
              "      height: 32px;\n",
              "      padding: 0 0 0 0;\n",
              "      width: 32px;\n",
              "    }\n",
              "\n",
              "    .colab-df-convert:hover {\n",
              "      background-color: #E2EBFA;\n",
              "      box-shadow: 0px 1px 2px rgba(60, 64, 67, 0.3), 0px 1px 3px 1px rgba(60, 64, 67, 0.15);\n",
              "      fill: #174EA6;\n",
              "    }\n",
              "\n",
              "    [theme=dark] .colab-df-convert {\n",
              "      background-color: #3B4455;\n",
              "      fill: #D2E3FC;\n",
              "    }\n",
              "\n",
              "    [theme=dark] .colab-df-convert:hover {\n",
              "      background-color: #434B5C;\n",
              "      box-shadow: 0px 1px 3px 1px rgba(0, 0, 0, 0.15);\n",
              "      filter: drop-shadow(0px 1px 2px rgba(0, 0, 0, 0.3));\n",
              "      fill: #FFFFFF;\n",
              "    }\n",
              "  </style>\n",
              "\n",
              "      <script>\n",
              "        const buttonEl =\n",
              "          document.querySelector('#df-17e7d5e7-3363-425f-b340-dd24665bef3d button.colab-df-convert');\n",
              "        buttonEl.style.display =\n",
              "          google.colab.kernel.accessAllowed ? 'block' : 'none';\n",
              "\n",
              "        async function convertToInteractive(key) {\n",
              "          const element = document.querySelector('#df-17e7d5e7-3363-425f-b340-dd24665bef3d');\n",
              "          const dataTable =\n",
              "            await google.colab.kernel.invokeFunction('convertToInteractive',\n",
              "                                                     [key], {});\n",
              "          if (!dataTable) return;\n",
              "\n",
              "          const docLinkHtml = 'Like what you see? Visit the ' +\n",
              "            '<a target=\"_blank\" href=https://colab.research.google.com/notebooks/data_table.ipynb>data table notebook</a>'\n",
              "            + ' to learn more about interactive tables.';\n",
              "          element.innerHTML = '';\n",
              "          dataTable['output_type'] = 'display_data';\n",
              "          await google.colab.output.renderOutput(dataTable, element);\n",
              "          const docLink = document.createElement('div');\n",
              "          docLink.innerHTML = docLinkHtml;\n",
              "          element.appendChild(docLink);\n",
              "        }\n",
              "      </script>\n",
              "    </div>\n",
              "  </div>\n",
              "  "
            ]
          },
          "metadata": {},
          "execution_count": 7
        }
      ]
    },
    {
      "cell_type": "code",
      "source": [
        "print(data_horse['category of pulse'].count())\n",
        "data_horse['category of pulse'].value_counts()"
      ],
      "metadata": {
        "colab": {
          "base_uri": "https://localhost:8080/"
        },
        "id": "-YX761lk7HLK",
        "outputId": "bc3f6c30-2141-4cee-f694-34a89d99d8e3"
      },
      "execution_count": null,
      "outputs": [
        {
          "output_type": "stream",
          "name": "stdout",
          "text": [
            "276\n"
          ]
        },
        {
          "output_type": "execute_result",
          "data": {
            "text/plain": [
              "normal      177\n",
              "danger       73\n",
              "critical     26\n",
              "Name: category of pulse, dtype: int64"
            ]
          },
          "metadata": {},
          "execution_count": 98
        }
      ]
    },
    {
      "cell_type": "code",
      "source": [
        "# посмотрю, как много лошадок в плохом состоянии в общей массе\n",
        "print(26/276) \n",
        "print((73+26)/276)\n",
        "print(26/300)\n",
        "print((73+26)/300)\n",
        "\n",
        "print('------------------')\n",
        "# посмотрю, во сколько раз максимум больше моды и медианы\n",
        "print(data_horse['pulse'].max()/data_horse['pulse'].mode()[0])\n",
        "print(data_horse['pulse'].max()/data_horse['pulse'].median())"
      ],
      "metadata": {
        "colab": {
          "base_uri": "https://localhost:8080/"
        },
        "id": "ogGNwnWr7yI5",
        "outputId": "9a9d49c4-2892-4d38-bb3d-9cb57c96d86d"
      },
      "execution_count": null,
      "outputs": [
        {
          "output_type": "stream",
          "name": "stdout",
          "text": [
            "0.09420289855072464\n",
            "0.358695652173913\n",
            "0.08666666666666667\n",
            "0.33\n",
            "------------------\n",
            "3.8333333333333335\n",
            "2.875\n"
          ]
        }
      ]
    },
    {
      "cell_type": "markdown",
      "source": [
        "Опять-таки буду считать,что 24 лошадки не попали в общий список, потому что не вызывают никакого беспокойста, т.е абсолютно здоровы и счастливы.\n",
        "\n",
        "Но всё равно, цифры не совсем утешительны. Лошадей в критическом состоянии пульса почит 9% из всё массы -- 300 лошадей.\n",
        "А если в зону риска внести критических и опасная зона, то получим больше трети из всей массы лошадей -- 300.\n",
        "\n",
        "Если 9-30% лошадей больны, и больны например инфекционной болезнью, то ферма в большом риске получить тотальную эпидемию"
      ],
      "metadata": {
        "id": "UzmNlIc48yev"
      }
    },
    {
      "cell_type": "code",
      "source": [
        "# посмотрю, во сколько раз максимум больше моды и медианы\n",
        "print(data_horse['pulse'].max()/data_horse['pulse'].mode()[0])\n",
        "print(data_horse['pulse'].max()/data_horse['pulse'].median())"
      ],
      "metadata": {
        "colab": {
          "base_uri": "https://localhost:8080/"
        },
        "id": "7UJkHAsvaX9p",
        "outputId": "9a51cc7f-67bc-434d-862f-700c938081d7"
      },
      "execution_count": null,
      "outputs": [
        {
          "output_type": "stream",
          "name": "stdout",
          "text": [
            "3.8333333333333335\n",
            "2.875\n"
          ]
        }
      ]
    },
    {
      "cell_type": "code",
      "source": [
        "# СКО до заполнения пустот\n",
        "print(data_horse['rectal temperature'].std())\n",
        "print(np.std(data_horse['rectal temperature'], ddof=1))\n",
        "print('---------')\n",
        "print(data_horse['pulse'].std())\n",
        "print(np.std(data_horse['pulse'], ddof=1))"
      ],
      "metadata": {
        "colab": {
          "base_uri": "https://localhost:8080/"
        },
        "id": "F7nFIRL0shOy",
        "outputId": "73797575-2d16-413b-e131-3ee851fe0e95"
      },
      "execution_count": null,
      "outputs": [
        {
          "output_type": "stream",
          "name": "stdout",
          "text": [
            "0.7322886641121578\n",
            "0.7322886641121578\n",
            "---------\n",
            "28.630556660735003\n",
            "28.630556660735003\n"
          ]
        }
      ]
    },
    {
      "cell_type": "code",
      "source": [
        "# Дисперсия до заполнения пустот\n",
        "print(np.var(data_horse['rectal temperature'], ddof=1))\n",
        "print(data_horse['rectal temperature'].var())\n",
        "print('---------')\n",
        "print(np.var(data_horse['pulse'], ddof=1))\n",
        "print(data_horse['pulse'].var())"
      ],
      "metadata": {
        "colab": {
          "base_uri": "https://localhost:8080/"
        },
        "id": "U1I4i0zIs6tf",
        "outputId": "a3c92001-1d63-4c4d-9531-1daaf2fe0dfe"
      },
      "execution_count": null,
      "outputs": [
        {
          "output_type": "stream",
          "name": "stdout",
          "text": [
            "0.5362466875871686\n",
            "0.5362466875871686\n",
            "---------\n",
            "819.7087747035575\n",
            "819.7087747035575\n"
          ]
        }
      ]
    },
    {
      "cell_type": "code",
      "source": [
        "# Теперь уберем пустоты в нужных колонках\n",
        "# сначала уберем все пустоты из колонки 'rectal temperature'\n",
        "dh_rt_0 = data_horse[~data_horse['rectal temperature'].isnull()]\n",
        "# dh_rt_0.info()\n",
        "\n",
        "# Теперь уберем пустоты из колонки 'pulse'\n",
        "dh_rt_p_0 = dh_rt_0[~dh_rt_0['pulse'].isnull()]\n",
        "dh_rt_p_0.info()"
      ],
      "metadata": {
        "id": "3s6CjxTobrrI"
      },
      "execution_count": null,
      "outputs": []
    },
    {
      "cell_type": "code",
      "source": [
        "# СКО после удаления пустот\n",
        "print(dh_rt_p_0['rectal temperature'].std())\n",
        "print(np.std(dh_rt_p_0['rectal temperature'], ddof=1))\n",
        "print('--------------')\n",
        "print(dh_rt_p_0['pulse'].std())\n",
        "print(np.std(dh_rt_p_0['pulse'], ddof=1))\n"
      ],
      "metadata": {
        "colab": {
          "base_uri": "https://localhost:8080/"
        },
        "outputId": "a41668c2-61aa-4744-ad75-c35a3d12a834",
        "id": "yxDPq49kcmy1"
      },
      "execution_count": null,
      "outputs": [
        {
          "output_type": "stream",
          "name": "stdout",
          "text": [
            "0.7284645844147041\n",
            "0.7284645844147041\n",
            "--------------\n",
            "28.935036950086776\n",
            "28.935036950086776\n"
          ]
        }
      ]
    },
    {
      "cell_type": "markdown",
      "source": [
        "Да, изменилось после удаления пустот, но не критически"
      ],
      "metadata": {
        "id": "YNCqJhH3w0y9"
      }
    },
    {
      "cell_type": "code",
      "source": [
        "# Дисперсия после удаления пустот\n",
        "print(np.var(dh_rt_p_0['rectal temperature'], ddof=1))\n",
        "print(dh_rt_p_0['rectal temperature'].var())\n",
        "print('--------------')\n",
        "print(np.var(dh_rt_p_0['pulse'], ddof=1))\n",
        "print(dh_rt_p_0['pulse'].var())\n"
      ],
      "metadata": {
        "colab": {
          "base_uri": "https://localhost:8080/"
        },
        "id": "o14lCmi8YtdN",
        "outputId": "88d5699e-a404-4e6f-f448-bbc3816bcda2"
      },
      "execution_count": null,
      "outputs": [
        {
          "output_type": "stream",
          "name": "stdout",
          "text": [
            "0.5306606507464875\n",
            "0.5306606507464875\n",
            "--------------\n",
            "837.236363302887\n",
            "837.236363302887\n"
          ]
        }
      ]
    },
    {
      "cell_type": "markdown",
      "source": [
        "По пульсу дисперсия изменилась"
      ],
      "metadata": {
        "id": "EYCCcbhvxC9x"
      }
    },
    {
      "cell_type": "markdown",
      "source": [
        "Выбросы. \n",
        "По определению (если можно так сказать))), выбросы являются нетипичными, резко выделяющимися наблюдениями. \n",
        "\n",
        "Смотрю, в целом у лошадей пульс выше определённой доком нормы: 20-25 или 30-40. У большинства пульс в пределах допустимого.\n",
        "но есть почти 9% лошадей, у которых пульс в 3 раза больше нормы. Боюсь сильно ошибиться, но по моему мнению, это противеречит природе. \n",
        "\n",
        "Совсем нет опыта, но неужели выбросы могут составлять 9%? Не много ли это, учитывая, что цифры возводятся в квадрат, что может существенно исказить анализ?\n",
        "\n",
        "Попробую межквартильный размах посчитать и уже потом посмотреть как наши 9% выглядят на фоне IQR?)"
      ],
      "metadata": {
        "id": "vjAUOXt1mDjR"
      }
    },
    {
      "cell_type": "code",
      "source": [
        "# Ищем выбросы, исключив пустоты\n",
        "# IQR без пустот\n",
        "Q1_pls = dh_rt_p_0['pulse'].quantile(0.25)\n",
        "Q3_pls = dh_rt_p_0['pulse'].quantile(0.75)\n",
        "IQR_pls = Q3_pls - Q1_pls\n",
        "IQR_pls\n",
        "\n",
        "# Диапазон, куда выбросы НЕ входят\n",
        "lower_bound_pls = Q1_pls - (1.5 * IQR_pls) \n",
        "upper_bound_pls = Q3_pls + (1.5 * IQR_pls)\n",
        "\n",
        "# Есть ли эти самые выбросы?\n",
        "print(len(dh_rt_p_0[~dh_rt_p_0['pulse'].between(lower_bound_pls, upper_bound_pls, inclusive=True)]))"
      ],
      "metadata": {
        "colab": {
          "base_uri": "https://localhost:8080/"
        },
        "id": "MzulWBA2ewJR",
        "outputId": "40667829-9c26-40f8-dd25-74a842196382"
      },
      "execution_count": null,
      "outputs": [
        {
          "output_type": "stream",
          "name": "stdout",
          "text": [
            "5\n"
          ]
        },
        {
          "output_type": "stream",
          "name": "stderr",
          "text": [
            "<ipython-input-15-b1ccbf92bae2>:13: FutureWarning: Boolean inputs to the `inclusive` argument are deprecated infavour of `both` or `neither`.\n",
            "  print(len(dh_rt_p_0[~dh_rt_p_0['pulse'].between(lower_bound_pls, upper_bound_pls, inclusive=True)]))\n"
          ]
        }
      ]
    },
    {
      "cell_type": "code",
      "source": [
        "# Посмотрим, что это за выбросы?\n",
        "dh_rt_p_0[~dh_rt_p_0['pulse'].between(lower_bound_pls, upper_bound_pls, inclusive=True)]"
      ],
      "metadata": {
        "colab": {
          "base_uri": "https://localhost:8080/",
          "height": 287
        },
        "id": "KGl8ogxwewGu",
        "outputId": "543d3760-6da9-4bb0-ca54-704fb87caee7"
      },
      "execution_count": null,
      "outputs": [
        {
          "output_type": "stream",
          "name": "stderr",
          "text": [
            "<ipython-input-16-4c1e84346a03>:2: FutureWarning: Boolean inputs to the `inclusive` argument are deprecated infavour of `both` or `neither`.\n",
            "  dh_rt_p_0[~dh_rt_p_0['pulse'].between(lower_bound_pls, upper_bound_pls, inclusive=True)]\n"
          ]
        },
        {
          "output_type": "execute_result",
          "data": {
            "text/plain": [
              "     surgery?  Age  rectal temperature  pulse  respiratory rate  \\\n",
              "3         1.0    9                39.1  164.0              84.0   \n",
              "41        2.0    9                39.0  150.0              72.0   \n",
              "55        1.0    9                38.6  160.0              20.0   \n",
              "255       1.0    9                38.8  184.0              84.0   \n",
              "275       1.0    9                38.8  150.0              50.0   \n",
              "\n",
              "     temperature of extremities  pain  outcome category of rectal temperature  \\\n",
              "3                           4.0   2.0      2.0                           sick   \n",
              "41                          NaN   NaN      1.0                           sick   \n",
              "55                          3.0   3.0      2.0                         normal   \n",
              "255                         1.0   4.0      2.0                           sick   \n",
              "275                         1.0   5.0      2.0                           sick   \n",
              "\n",
              "    category of pulse  \n",
              "3            critical  \n",
              "41           critical  \n",
              "55           critical  \n",
              "255          critical  \n",
              "275          critical  "
            ],
            "text/html": [
              "\n",
              "  <div id=\"df-3ebabffe-cb2c-4f01-b44c-7803663ca80a\">\n",
              "    <div class=\"colab-df-container\">\n",
              "      <div>\n",
              "<style scoped>\n",
              "    .dataframe tbody tr th:only-of-type {\n",
              "        vertical-align: middle;\n",
              "    }\n",
              "\n",
              "    .dataframe tbody tr th {\n",
              "        vertical-align: top;\n",
              "    }\n",
              "\n",
              "    .dataframe thead th {\n",
              "        text-align: right;\n",
              "    }\n",
              "</style>\n",
              "<table border=\"1\" class=\"dataframe\">\n",
              "  <thead>\n",
              "    <tr style=\"text-align: right;\">\n",
              "      <th></th>\n",
              "      <th>surgery?</th>\n",
              "      <th>Age</th>\n",
              "      <th>rectal temperature</th>\n",
              "      <th>pulse</th>\n",
              "      <th>respiratory rate</th>\n",
              "      <th>temperature of extremities</th>\n",
              "      <th>pain</th>\n",
              "      <th>outcome</th>\n",
              "      <th>category of rectal temperature</th>\n",
              "      <th>category of pulse</th>\n",
              "    </tr>\n",
              "  </thead>\n",
              "  <tbody>\n",
              "    <tr>\n",
              "      <th>3</th>\n",
              "      <td>1.0</td>\n",
              "      <td>9</td>\n",
              "      <td>39.1</td>\n",
              "      <td>164.0</td>\n",
              "      <td>84.0</td>\n",
              "      <td>4.0</td>\n",
              "      <td>2.0</td>\n",
              "      <td>2.0</td>\n",
              "      <td>sick</td>\n",
              "      <td>critical</td>\n",
              "    </tr>\n",
              "    <tr>\n",
              "      <th>41</th>\n",
              "      <td>2.0</td>\n",
              "      <td>9</td>\n",
              "      <td>39.0</td>\n",
              "      <td>150.0</td>\n",
              "      <td>72.0</td>\n",
              "      <td>NaN</td>\n",
              "      <td>NaN</td>\n",
              "      <td>1.0</td>\n",
              "      <td>sick</td>\n",
              "      <td>critical</td>\n",
              "    </tr>\n",
              "    <tr>\n",
              "      <th>55</th>\n",
              "      <td>1.0</td>\n",
              "      <td>9</td>\n",
              "      <td>38.6</td>\n",
              "      <td>160.0</td>\n",
              "      <td>20.0</td>\n",
              "      <td>3.0</td>\n",
              "      <td>3.0</td>\n",
              "      <td>2.0</td>\n",
              "      <td>normal</td>\n",
              "      <td>critical</td>\n",
              "    </tr>\n",
              "    <tr>\n",
              "      <th>255</th>\n",
              "      <td>1.0</td>\n",
              "      <td>9</td>\n",
              "      <td>38.8</td>\n",
              "      <td>184.0</td>\n",
              "      <td>84.0</td>\n",
              "      <td>1.0</td>\n",
              "      <td>4.0</td>\n",
              "      <td>2.0</td>\n",
              "      <td>sick</td>\n",
              "      <td>critical</td>\n",
              "    </tr>\n",
              "    <tr>\n",
              "      <th>275</th>\n",
              "      <td>1.0</td>\n",
              "      <td>9</td>\n",
              "      <td>38.8</td>\n",
              "      <td>150.0</td>\n",
              "      <td>50.0</td>\n",
              "      <td>1.0</td>\n",
              "      <td>5.0</td>\n",
              "      <td>2.0</td>\n",
              "      <td>sick</td>\n",
              "      <td>critical</td>\n",
              "    </tr>\n",
              "  </tbody>\n",
              "</table>\n",
              "</div>\n",
              "      <button class=\"colab-df-convert\" onclick=\"convertToInteractive('df-3ebabffe-cb2c-4f01-b44c-7803663ca80a')\"\n",
              "              title=\"Convert this dataframe to an interactive table.\"\n",
              "              style=\"display:none;\">\n",
              "        \n",
              "  <svg xmlns=\"http://www.w3.org/2000/svg\" height=\"24px\"viewBox=\"0 0 24 24\"\n",
              "       width=\"24px\">\n",
              "    <path d=\"M0 0h24v24H0V0z\" fill=\"none\"/>\n",
              "    <path d=\"M18.56 5.44l.94 2.06.94-2.06 2.06-.94-2.06-.94-.94-2.06-.94 2.06-2.06.94zm-11 1L8.5 8.5l.94-2.06 2.06-.94-2.06-.94L8.5 2.5l-.94 2.06-2.06.94zm10 10l.94 2.06.94-2.06 2.06-.94-2.06-.94-.94-2.06-.94 2.06-2.06.94z\"/><path d=\"M17.41 7.96l-1.37-1.37c-.4-.4-.92-.59-1.43-.59-.52 0-1.04.2-1.43.59L10.3 9.45l-7.72 7.72c-.78.78-.78 2.05 0 2.83L4 21.41c.39.39.9.59 1.41.59.51 0 1.02-.2 1.41-.59l7.78-7.78 2.81-2.81c.8-.78.8-2.07 0-2.86zM5.41 20L4 18.59l7.72-7.72 1.47 1.35L5.41 20z\"/>\n",
              "  </svg>\n",
              "      </button>\n",
              "      \n",
              "  <style>\n",
              "    .colab-df-container {\n",
              "      display:flex;\n",
              "      flex-wrap:wrap;\n",
              "      gap: 12px;\n",
              "    }\n",
              "\n",
              "    .colab-df-convert {\n",
              "      background-color: #E8F0FE;\n",
              "      border: none;\n",
              "      border-radius: 50%;\n",
              "      cursor: pointer;\n",
              "      display: none;\n",
              "      fill: #1967D2;\n",
              "      height: 32px;\n",
              "      padding: 0 0 0 0;\n",
              "      width: 32px;\n",
              "    }\n",
              "\n",
              "    .colab-df-convert:hover {\n",
              "      background-color: #E2EBFA;\n",
              "      box-shadow: 0px 1px 2px rgba(60, 64, 67, 0.3), 0px 1px 3px 1px rgba(60, 64, 67, 0.15);\n",
              "      fill: #174EA6;\n",
              "    }\n",
              "\n",
              "    [theme=dark] .colab-df-convert {\n",
              "      background-color: #3B4455;\n",
              "      fill: #D2E3FC;\n",
              "    }\n",
              "\n",
              "    [theme=dark] .colab-df-convert:hover {\n",
              "      background-color: #434B5C;\n",
              "      box-shadow: 0px 1px 3px 1px rgba(0, 0, 0, 0.15);\n",
              "      filter: drop-shadow(0px 1px 2px rgba(0, 0, 0, 0.3));\n",
              "      fill: #FFFFFF;\n",
              "    }\n",
              "  </style>\n",
              "\n",
              "      <script>\n",
              "        const buttonEl =\n",
              "          document.querySelector('#df-3ebabffe-cb2c-4f01-b44c-7803663ca80a button.colab-df-convert');\n",
              "        buttonEl.style.display =\n",
              "          google.colab.kernel.accessAllowed ? 'block' : 'none';\n",
              "\n",
              "        async function convertToInteractive(key) {\n",
              "          const element = document.querySelector('#df-3ebabffe-cb2c-4f01-b44c-7803663ca80a');\n",
              "          const dataTable =\n",
              "            await google.colab.kernel.invokeFunction('convertToInteractive',\n",
              "                                                     [key], {});\n",
              "          if (!dataTable) return;\n",
              "\n",
              "          const docLinkHtml = 'Like what you see? Visit the ' +\n",
              "            '<a target=\"_blank\" href=https://colab.research.google.com/notebooks/data_table.ipynb>data table notebook</a>'\n",
              "            + ' to learn more about interactive tables.';\n",
              "          element.innerHTML = '';\n",
              "          dataTable['output_type'] = 'display_data';\n",
              "          await google.colab.output.renderOutput(dataTable, element);\n",
              "          const docLink = document.createElement('div');\n",
              "          docLink.innerHTML = docLinkHtml;\n",
              "          element.appendChild(docLink);\n",
              "        }\n",
              "      </script>\n",
              "    </div>\n",
              "  </div>\n",
              "  "
            ]
          },
          "metadata": {},
          "execution_count": 16
        }
      ]
    },
    {
      "cell_type": "markdown",
      "source": [
        "Оки, вижу, что попало то, что выше 40*3) Значит, я была близка в своих рассуждениях о возможности такого) Ура!))\n",
        "\n",
        "\n",
        "Теперь просто для сравнения посчитаю всё тоже самое, но с пропусками"
      ],
      "metadata": {
        "id": "9NRqJAcMf30m"
      }
    },
    {
      "cell_type": "code",
      "source": [
        "# IQR с пустотами\n",
        "Q1_pulse = data_horse['pulse'].quantile(0.25)\n",
        "Q3_pulse = data_horse['pulse'].quantile(0.75)\n",
        "IQR_pulse = Q3_pulse - Q1_pulse\n",
        "IQR_pulse"
      ],
      "metadata": {
        "colab": {
          "base_uri": "https://localhost:8080/"
        },
        "id": "c9WoR_9Trdln",
        "outputId": "54f51a48-7999-44bd-ef24-7c76fc84cfd3"
      },
      "execution_count": null,
      "outputs": [
        {
          "output_type": "execute_result",
          "data": {
            "text/plain": [
              "40.0"
            ]
          },
          "metadata": {},
          "execution_count": 17
        }
      ]
    },
    {
      "cell_type": "code",
      "source": [
        "# Диапазон, куда выбросы НЕ входят\n",
        "lower_bound_pulse = Q1_pulse - (1.5 * IQR_pulse) \n",
        "upper_bound_pulse = Q3_pulse + (1.5 * IQR_pulse)"
      ],
      "metadata": {
        "id": "St2336_YvO80"
      },
      "execution_count": null,
      "outputs": []
    },
    {
      "cell_type": "code",
      "source": [
        "# Есть ли эти самые выбросы?\n",
        "print(len(data_horse[~data_horse['pulse'].between(lower_bound_pulse, upper_bound_pulse, inclusive=True)]))"
      ],
      "metadata": {
        "id": "uS5Tbql4wz13"
      },
      "execution_count": null,
      "outputs": []
    },
    {
      "cell_type": "code",
      "source": [
        "# что это за выбросы?\n",
        "data_horse[~data_horse['pulse'].between(lower_bound_pulse, upper_bound_pulse, inclusive=True)]"
      ],
      "metadata": {
        "id": "hDiPoVnmwQ1b"
      },
      "execution_count": null,
      "outputs": []
    },
    {
      "cell_type": "markdown",
      "source": [
        "Оки, вижу, что попало то, что выше 40*3) Значит, я была близка в своих рассуждениях о возможности такого) Ура!))\n",
        "\n",
        "И вижу, что сюда прилетело всё с пропусками. Оки, посмотрим на это же после заполнения пропусков."
      ],
      "metadata": {
        "id": "jj8d2qTBxHX3"
      }
    },
    {
      "cell_type": "code",
      "source": [],
      "metadata": {
        "id": "PIK20UVcy5fs"
      },
      "execution_count": null,
      "outputs": []
    },
    {
      "cell_type": "markdown",
      "source": [
        "\n",
        "  6: частота дыхания\n",
        "\n",
        "          * линейный\n",
        "          * нормальная скорость от 8 до 10\n",
        "          * полезность сомнительна из-за больших колебаний\n",
        "\n",
        "Смотрим это тоже)"
      ],
      "metadata": {
        "id": "EXL27oV7y6Cu"
      }
    },
    {
      "cell_type": "code",
      "source": [
        "# Ищем выбросы, исключив пустоты\n",
        "# IQR без пустот\n",
        "Q1_rctl = dh_rt_p_0['rectal temperature'].quantile(0.25)\n",
        "Q3_rctl = dh_rt_p_0['rectal temperature'].quantile(0.75)\n",
        "IQR_rctl = Q3_rctl - Q1_rctl\n",
        "IQR_rctl\n",
        "\n",
        "# Диапазон, куда выбросы НЕ входят\n",
        "lower_bound_rctl = Q1_rctl - (1.5 * IQR_rctl) \n",
        "upper_bound_rctl = Q3_rctl + (1.5 * IQR_rctl)\n",
        "\n",
        "# Есть ли эти самые выбросы?\n",
        "print(len(dh_rt_p_0[~dh_rt_p_0['rectal temperature'].between(lower_bound_rctl, upper_bound_rctl, inclusive=True)]))"
      ],
      "metadata": {
        "colab": {
          "base_uri": "https://localhost:8080/"
        },
        "outputId": "f831d7e6-5ce6-46a9-a95a-f0600fbf42ac",
        "id": "6WLMoNmvy0fu"
      },
      "execution_count": null,
      "outputs": [
        {
          "output_type": "stream",
          "name": "stdout",
          "text": [
            "14\n"
          ]
        },
        {
          "output_type": "stream",
          "name": "stderr",
          "text": [
            "<ipython-input-20-1d00149ee44d>:13: FutureWarning: Boolean inputs to the `inclusive` argument are deprecated infavour of `both` or `neither`.\n",
            "  print(len(dh_rt_p_0[~dh_rt_p_0['rectal temperature'].between(lower_bound_rctl, upper_bound_rctl, inclusive=True)]))\n"
          ]
        }
      ]
    },
    {
      "cell_type": "code",
      "source": [
        "# Посмотрим, что это за выбросы?\n",
        "dh_rt_p_0[~dh_rt_p_0['rectal temperature'].between(lower_bound_rctl, upper_bound_rctl, inclusive=True)]"
      ],
      "metadata": {
        "colab": {
          "base_uri": "https://localhost:8080/",
          "height": 569
        },
        "outputId": "7013591d-dfe9-4d6b-cb0a-49f2e424f8d1",
        "id": "YBCkjRmly6sL"
      },
      "execution_count": null,
      "outputs": [
        {
          "output_type": "stream",
          "name": "stderr",
          "text": [
            "<ipython-input-21-b9225bbf8eb9>:2: FutureWarning: Boolean inputs to the `inclusive` argument are deprecated infavour of `both` or `neither`.\n",
            "  dh_rt_p_0[~dh_rt_p_0['rectal temperature'].between(lower_bound_rctl, upper_bound_rctl, inclusive=True)]\n"
          ]
        },
        {
          "output_type": "execute_result",
          "data": {
            "text/plain": [
              "     surgery?  Age  rectal temperature  pulse  respiratory rate  \\\n",
              "20        1.0    1                39.9   72.0              60.0   \n",
              "44        1.0    1                35.4  140.0              24.0   \n",
              "54        2.0    1                40.3  114.0              36.0   \n",
              "75        1.0    9                39.7  100.0               NaN   \n",
              "80        1.0    1                36.4   98.0              35.0   \n",
              "91        2.0    1                40.3  114.0              36.0   \n",
              "99        2.0    1                39.6  108.0              51.0   \n",
              "118       1.0    1                36.5   78.0              30.0   \n",
              "141       2.0    1                36.0   42.0              30.0   \n",
              "238       2.0    1                36.1   88.0               NaN   \n",
              "251       2.0    1                36.6   42.0              18.0   \n",
              "259       1.0    1                40.8   72.0              42.0   \n",
              "281       2.0    1                40.0   78.0               NaN   \n",
              "298       1.0    1                36.5  100.0              24.0   \n",
              "\n",
              "     temperature of extremities  pain  outcome category of rectal temperature  \\\n",
              "20                          1.0   5.0      1.0                       critical   \n",
              "44                          3.0   4.0      3.0                         normal   \n",
              "54                          3.0   2.0      3.0                       critical   \n",
              "75                          3.0   2.0      3.0                       critical   \n",
              "80                          3.0   4.0      2.0                         normal   \n",
              "91                          3.0   2.0      2.0                       critical   \n",
              "99                          3.0   2.0      1.0                           sick   \n",
              "118                         1.0   5.0      1.0                         normal   \n",
              "141                         NaN   NaN      2.0                         normal   \n",
              "238                         3.0   3.0      3.0                         normal   \n",
              "251                         3.0   1.0      2.0                         normal   \n",
              "259                         3.0   2.0      2.0                       critical   \n",
              "281                         3.0   2.0      2.0                       critical   \n",
              "298                         3.0   3.0      1.0                         normal   \n",
              "\n",
              "    category of pulse  \n",
              "20             normal  \n",
              "44           critical  \n",
              "54             danger  \n",
              "75             danger  \n",
              "80             danger  \n",
              "91             danger  \n",
              "99             danger  \n",
              "118            normal  \n",
              "141            normal  \n",
              "238            danger  \n",
              "251            normal  \n",
              "259            normal  \n",
              "281            normal  \n",
              "298            danger  "
            ],
            "text/html": [
              "\n",
              "  <div id=\"df-3e533b98-d129-41c9-8c86-1ef813c0f1d0\">\n",
              "    <div class=\"colab-df-container\">\n",
              "      <div>\n",
              "<style scoped>\n",
              "    .dataframe tbody tr th:only-of-type {\n",
              "        vertical-align: middle;\n",
              "    }\n",
              "\n",
              "    .dataframe tbody tr th {\n",
              "        vertical-align: top;\n",
              "    }\n",
              "\n",
              "    .dataframe thead th {\n",
              "        text-align: right;\n",
              "    }\n",
              "</style>\n",
              "<table border=\"1\" class=\"dataframe\">\n",
              "  <thead>\n",
              "    <tr style=\"text-align: right;\">\n",
              "      <th></th>\n",
              "      <th>surgery?</th>\n",
              "      <th>Age</th>\n",
              "      <th>rectal temperature</th>\n",
              "      <th>pulse</th>\n",
              "      <th>respiratory rate</th>\n",
              "      <th>temperature of extremities</th>\n",
              "      <th>pain</th>\n",
              "      <th>outcome</th>\n",
              "      <th>category of rectal temperature</th>\n",
              "      <th>category of pulse</th>\n",
              "    </tr>\n",
              "  </thead>\n",
              "  <tbody>\n",
              "    <tr>\n",
              "      <th>20</th>\n",
              "      <td>1.0</td>\n",
              "      <td>1</td>\n",
              "      <td>39.9</td>\n",
              "      <td>72.0</td>\n",
              "      <td>60.0</td>\n",
              "      <td>1.0</td>\n",
              "      <td>5.0</td>\n",
              "      <td>1.0</td>\n",
              "      <td>critical</td>\n",
              "      <td>normal</td>\n",
              "    </tr>\n",
              "    <tr>\n",
              "      <th>44</th>\n",
              "      <td>1.0</td>\n",
              "      <td>1</td>\n",
              "      <td>35.4</td>\n",
              "      <td>140.0</td>\n",
              "      <td>24.0</td>\n",
              "      <td>3.0</td>\n",
              "      <td>4.0</td>\n",
              "      <td>3.0</td>\n",
              "      <td>normal</td>\n",
              "      <td>critical</td>\n",
              "    </tr>\n",
              "    <tr>\n",
              "      <th>54</th>\n",
              "      <td>2.0</td>\n",
              "      <td>1</td>\n",
              "      <td>40.3</td>\n",
              "      <td>114.0</td>\n",
              "      <td>36.0</td>\n",
              "      <td>3.0</td>\n",
              "      <td>2.0</td>\n",
              "      <td>3.0</td>\n",
              "      <td>critical</td>\n",
              "      <td>danger</td>\n",
              "    </tr>\n",
              "    <tr>\n",
              "      <th>75</th>\n",
              "      <td>1.0</td>\n",
              "      <td>9</td>\n",
              "      <td>39.7</td>\n",
              "      <td>100.0</td>\n",
              "      <td>NaN</td>\n",
              "      <td>3.0</td>\n",
              "      <td>2.0</td>\n",
              "      <td>3.0</td>\n",
              "      <td>critical</td>\n",
              "      <td>danger</td>\n",
              "    </tr>\n",
              "    <tr>\n",
              "      <th>80</th>\n",
              "      <td>1.0</td>\n",
              "      <td>1</td>\n",
              "      <td>36.4</td>\n",
              "      <td>98.0</td>\n",
              "      <td>35.0</td>\n",
              "      <td>3.0</td>\n",
              "      <td>4.0</td>\n",
              "      <td>2.0</td>\n",
              "      <td>normal</td>\n",
              "      <td>danger</td>\n",
              "    </tr>\n",
              "    <tr>\n",
              "      <th>91</th>\n",
              "      <td>2.0</td>\n",
              "      <td>1</td>\n",
              "      <td>40.3</td>\n",
              "      <td>114.0</td>\n",
              "      <td>36.0</td>\n",
              "      <td>3.0</td>\n",
              "      <td>2.0</td>\n",
              "      <td>2.0</td>\n",
              "      <td>critical</td>\n",
              "      <td>danger</td>\n",
              "    </tr>\n",
              "    <tr>\n",
              "      <th>99</th>\n",
              "      <td>2.0</td>\n",
              "      <td>1</td>\n",
              "      <td>39.6</td>\n",
              "      <td>108.0</td>\n",
              "      <td>51.0</td>\n",
              "      <td>3.0</td>\n",
              "      <td>2.0</td>\n",
              "      <td>1.0</td>\n",
              "      <td>sick</td>\n",
              "      <td>danger</td>\n",
              "    </tr>\n",
              "    <tr>\n",
              "      <th>118</th>\n",
              "      <td>1.0</td>\n",
              "      <td>1</td>\n",
              "      <td>36.5</td>\n",
              "      <td>78.0</td>\n",
              "      <td>30.0</td>\n",
              "      <td>1.0</td>\n",
              "      <td>5.0</td>\n",
              "      <td>1.0</td>\n",
              "      <td>normal</td>\n",
              "      <td>normal</td>\n",
              "    </tr>\n",
              "    <tr>\n",
              "      <th>141</th>\n",
              "      <td>2.0</td>\n",
              "      <td>1</td>\n",
              "      <td>36.0</td>\n",
              "      <td>42.0</td>\n",
              "      <td>30.0</td>\n",
              "      <td>NaN</td>\n",
              "      <td>NaN</td>\n",
              "      <td>2.0</td>\n",
              "      <td>normal</td>\n",
              "      <td>normal</td>\n",
              "    </tr>\n",
              "    <tr>\n",
              "      <th>238</th>\n",
              "      <td>2.0</td>\n",
              "      <td>1</td>\n",
              "      <td>36.1</td>\n",
              "      <td>88.0</td>\n",
              "      <td>NaN</td>\n",
              "      <td>3.0</td>\n",
              "      <td>3.0</td>\n",
              "      <td>3.0</td>\n",
              "      <td>normal</td>\n",
              "      <td>danger</td>\n",
              "    </tr>\n",
              "    <tr>\n",
              "      <th>251</th>\n",
              "      <td>2.0</td>\n",
              "      <td>1</td>\n",
              "      <td>36.6</td>\n",
              "      <td>42.0</td>\n",
              "      <td>18.0</td>\n",
              "      <td>3.0</td>\n",
              "      <td>1.0</td>\n",
              "      <td>2.0</td>\n",
              "      <td>normal</td>\n",
              "      <td>normal</td>\n",
              "    </tr>\n",
              "    <tr>\n",
              "      <th>259</th>\n",
              "      <td>1.0</td>\n",
              "      <td>1</td>\n",
              "      <td>40.8</td>\n",
              "      <td>72.0</td>\n",
              "      <td>42.0</td>\n",
              "      <td>3.0</td>\n",
              "      <td>2.0</td>\n",
              "      <td>2.0</td>\n",
              "      <td>critical</td>\n",
              "      <td>normal</td>\n",
              "    </tr>\n",
              "    <tr>\n",
              "      <th>281</th>\n",
              "      <td>2.0</td>\n",
              "      <td>1</td>\n",
              "      <td>40.0</td>\n",
              "      <td>78.0</td>\n",
              "      <td>NaN</td>\n",
              "      <td>3.0</td>\n",
              "      <td>2.0</td>\n",
              "      <td>2.0</td>\n",
              "      <td>critical</td>\n",
              "      <td>normal</td>\n",
              "    </tr>\n",
              "    <tr>\n",
              "      <th>298</th>\n",
              "      <td>1.0</td>\n",
              "      <td>1</td>\n",
              "      <td>36.5</td>\n",
              "      <td>100.0</td>\n",
              "      <td>24.0</td>\n",
              "      <td>3.0</td>\n",
              "      <td>3.0</td>\n",
              "      <td>1.0</td>\n",
              "      <td>normal</td>\n",
              "      <td>danger</td>\n",
              "    </tr>\n",
              "  </tbody>\n",
              "</table>\n",
              "</div>\n",
              "      <button class=\"colab-df-convert\" onclick=\"convertToInteractive('df-3e533b98-d129-41c9-8c86-1ef813c0f1d0')\"\n",
              "              title=\"Convert this dataframe to an interactive table.\"\n",
              "              style=\"display:none;\">\n",
              "        \n",
              "  <svg xmlns=\"http://www.w3.org/2000/svg\" height=\"24px\"viewBox=\"0 0 24 24\"\n",
              "       width=\"24px\">\n",
              "    <path d=\"M0 0h24v24H0V0z\" fill=\"none\"/>\n",
              "    <path d=\"M18.56 5.44l.94 2.06.94-2.06 2.06-.94-2.06-.94-.94-2.06-.94 2.06-2.06.94zm-11 1L8.5 8.5l.94-2.06 2.06-.94-2.06-.94L8.5 2.5l-.94 2.06-2.06.94zm10 10l.94 2.06.94-2.06 2.06-.94-2.06-.94-.94-2.06-.94 2.06-2.06.94z\"/><path d=\"M17.41 7.96l-1.37-1.37c-.4-.4-.92-.59-1.43-.59-.52 0-1.04.2-1.43.59L10.3 9.45l-7.72 7.72c-.78.78-.78 2.05 0 2.83L4 21.41c.39.39.9.59 1.41.59.51 0 1.02-.2 1.41-.59l7.78-7.78 2.81-2.81c.8-.78.8-2.07 0-2.86zM5.41 20L4 18.59l7.72-7.72 1.47 1.35L5.41 20z\"/>\n",
              "  </svg>\n",
              "      </button>\n",
              "      \n",
              "  <style>\n",
              "    .colab-df-container {\n",
              "      display:flex;\n",
              "      flex-wrap:wrap;\n",
              "      gap: 12px;\n",
              "    }\n",
              "\n",
              "    .colab-df-convert {\n",
              "      background-color: #E8F0FE;\n",
              "      border: none;\n",
              "      border-radius: 50%;\n",
              "      cursor: pointer;\n",
              "      display: none;\n",
              "      fill: #1967D2;\n",
              "      height: 32px;\n",
              "      padding: 0 0 0 0;\n",
              "      width: 32px;\n",
              "    }\n",
              "\n",
              "    .colab-df-convert:hover {\n",
              "      background-color: #E2EBFA;\n",
              "      box-shadow: 0px 1px 2px rgba(60, 64, 67, 0.3), 0px 1px 3px 1px rgba(60, 64, 67, 0.15);\n",
              "      fill: #174EA6;\n",
              "    }\n",
              "\n",
              "    [theme=dark] .colab-df-convert {\n",
              "      background-color: #3B4455;\n",
              "      fill: #D2E3FC;\n",
              "    }\n",
              "\n",
              "    [theme=dark] .colab-df-convert:hover {\n",
              "      background-color: #434B5C;\n",
              "      box-shadow: 0px 1px 3px 1px rgba(0, 0, 0, 0.15);\n",
              "      filter: drop-shadow(0px 1px 2px rgba(0, 0, 0, 0.3));\n",
              "      fill: #FFFFFF;\n",
              "    }\n",
              "  </style>\n",
              "\n",
              "      <script>\n",
              "        const buttonEl =\n",
              "          document.querySelector('#df-3e533b98-d129-41c9-8c86-1ef813c0f1d0 button.colab-df-convert');\n",
              "        buttonEl.style.display =\n",
              "          google.colab.kernel.accessAllowed ? 'block' : 'none';\n",
              "\n",
              "        async function convertToInteractive(key) {\n",
              "          const element = document.querySelector('#df-3e533b98-d129-41c9-8c86-1ef813c0f1d0');\n",
              "          const dataTable =\n",
              "            await google.colab.kernel.invokeFunction('convertToInteractive',\n",
              "                                                     [key], {});\n",
              "          if (!dataTable) return;\n",
              "\n",
              "          const docLinkHtml = 'Like what you see? Visit the ' +\n",
              "            '<a target=\"_blank\" href=https://colab.research.google.com/notebooks/data_table.ipynb>data table notebook</a>'\n",
              "            + ' to learn more about interactive tables.';\n",
              "          element.innerHTML = '';\n",
              "          dataTable['output_type'] = 'display_data';\n",
              "          await google.colab.output.renderOutput(dataTable, element);\n",
              "          const docLink = document.createElement('div');\n",
              "          docLink.innerHTML = docLinkHtml;\n",
              "          element.appendChild(docLink);\n",
              "        }\n",
              "      </script>\n",
              "    </div>\n",
              "  </div>\n",
              "  "
            ]
          },
          "metadata": {},
          "execution_count": 21
        }
      ]
    },
    {
      "cell_type": "code",
      "source": [
        "# IQR ректальной температуры\n",
        "Q1_rectal = data_horse['rectal temperature'].quantile(0.25)\n",
        "Q3_rectal = data_horse['rectal temperature'].quantile(0.75)\n",
        "IQR_rectal = Q3_rectal - Q1_rectal\n",
        "print(IQR_rectal)\n",
        "\n",
        "# IQR частоты дыхания\n",
        "Q1_respiratore = data_horse['respiratory rate'].quantile(0.25)\n",
        "Q3_respiratore = data_horse['respiratory rate'].quantile(0.75)\n",
        "IQR_respiratore = Q3_respiratore - Q1_respiratore\n",
        "print(IQR_respiratore)"
      ],
      "metadata": {
        "colab": {
          "base_uri": "https://localhost:8080/"
        },
        "id": "0GuALwEMzABn",
        "outputId": "31cfcd0e-67bc-42f7-9318-302680cf91fe"
      },
      "execution_count": null,
      "outputs": [
        {
          "output_type": "stream",
          "name": "stdout",
          "text": [
            "0.7000000000000028\n",
            "17.5\n"
          ]
        }
      ]
    },
    {
      "cell_type": "code",
      "source": [
        "# Диапазон, куда выбросы НЕ входят данные по ректальной t\n",
        "lower_bound_rectal = Q1_rectal - (1.5 * IQR_rectal) \n",
        "upper_bound_rectal = Q3_rectal + (1.5 * IQR_rectal)\n",
        "\n",
        "# Диапазон, куда выбросы НЕ входят данные по дыханию\n",
        "lower_bound_respiratore = Q1_respiratore - (1.5 * IQR_respiratore) \n",
        "upper_bound_respiratore = Q3_respiratore + (1.5 * IQR_respiratore)"
      ],
      "metadata": {
        "id": "-ORrRqYrzyk5"
      },
      "execution_count": null,
      "outputs": []
    },
    {
      "cell_type": "code",
      "source": [
        "# Есть ли эти самые выбросы по ректальной t?\n",
        "print(len(data_horse[~data_horse['rectal temperature'].between(lower_bound_rectal, upper_bound_rectal, inclusive=True)]))\n",
        "\n",
        "# Есть ли эти самые выбросы по дыханию?\n",
        "print(len(data_horse[~data_horse['respiratory rate'].between(lower_bound_respiratore, upper_bound_respiratore, inclusive=True)]))"
      ],
      "metadata": {
        "colab": {
          "base_uri": "https://localhost:8080/"
        },
        "id": "F0SS2Dq9z2XM",
        "outputId": "bf681a0a-23c3-4395-f818-e351c37336e6"
      },
      "execution_count": null,
      "outputs": [
        {
          "output_type": "stream",
          "name": "stdout",
          "text": [
            "74\n",
            "75\n"
          ]
        },
        {
          "output_type": "stream",
          "name": "stderr",
          "text": [
            "/usr/local/lib/python3.7/dist-packages/ipykernel_launcher.py:2: FutureWarning: Boolean inputs to the `inclusive` argument are deprecated infavour of `both` or `neither`.\n",
            "  \n",
            "/usr/local/lib/python3.7/dist-packages/ipykernel_launcher.py:5: FutureWarning: Boolean inputs to the `inclusive` argument are deprecated infavour of `both` or `neither`.\n",
            "  \"\"\"\n"
          ]
        }
      ]
    },
    {
      "cell_type": "markdown",
      "source": [
        "Ого!!! 74 и 75 из 300 выбросы! А я переживала про 9%))"
      ],
      "metadata": {
        "id": "DT73zkTU2CWw"
      }
    },
    {
      "cell_type": "code",
      "source": [
        "# что это за выбросы по рект t?\n",
        "data_horse[~data_horse['rectal temperature'].between(lower_bound_rectal, upper_bound_rectal, inclusive=True)]\n",
        "\n",
        "# что это за выбросы по дыханию?\n",
        "data_horse[~data_horse['respiratory rate'].between(lower_bound_respiratore, upper_bound_respiratore, inclusive=True)]"
      ],
      "metadata": {
        "colab": {
          "base_uri": "https://localhost:8080/",
          "height": 557
        },
        "id": "BDJmV3y1z5ss",
        "outputId": "3dd38a55-84a0-4310-cf30-4086b899cc2f"
      },
      "execution_count": null,
      "outputs": [
        {
          "output_type": "stream",
          "name": "stderr",
          "text": [
            "/usr/local/lib/python3.7/dist-packages/ipykernel_launcher.py:2: FutureWarning: Boolean inputs to the `inclusive` argument are deprecated infavour of `both` or `neither`.\n",
            "  \n",
            "/usr/local/lib/python3.7/dist-packages/ipykernel_launcher.py:5: FutureWarning: Boolean inputs to the `inclusive` argument are deprecated infavour of `both` or `neither`.\n",
            "  \"\"\"\n"
          ]
        },
        {
          "output_type": "execute_result",
          "data": {
            "text/plain": [
              "     surgery?  Age  rectal temperature  pulse  respiratory rate  \\\n",
              "3         1.0    9                39.1  164.0              84.0   \n",
              "5         2.0    1                 NaN    NaN               NaN   \n",
              "7         1.0    1                 NaN   60.0               NaN   \n",
              "9         2.0    9                38.3   90.0               NaN   \n",
              "28        1.0    1                 NaN    NaN               NaN   \n",
              "..        ...  ...                 ...    ...               ...   \n",
              "274       1.0    1                 NaN   76.0               NaN   \n",
              "281       2.0    1                40.0   78.0               NaN   \n",
              "284       2.0    1                38.5   54.0               NaN   \n",
              "288       1.0    1                 NaN    NaN               NaN   \n",
              "295       1.0    1                 NaN  120.0              70.0   \n",
              "\n",
              "     temperature of extremities  pain  outcome category of rectal temperature  \\\n",
              "3                           4.0   2.0      2.0                           sick   \n",
              "5                           2.0   2.0      1.0                            NaN   \n",
              "7                           3.0   NaN      2.0                            NaN   \n",
              "9                           1.0   5.0      1.0                         normal   \n",
              "28                          NaN   NaN      2.0                            NaN   \n",
              "..                          ...   ...      ...                            ...   \n",
              "274                         NaN   NaN      3.0                            NaN   \n",
              "281                         3.0   2.0      2.0                       critical   \n",
              "284                         1.0   3.0      1.0                         normal   \n",
              "288                         NaN   NaN      1.0                            NaN   \n",
              "295                         4.0   2.0      3.0                            NaN   \n",
              "\n",
              "    category of pulse  \n",
              "3            critical  \n",
              "5                 NaN  \n",
              "7              normal  \n",
              "9              danger  \n",
              "28                NaN  \n",
              "..                ...  \n",
              "274            normal  \n",
              "281            normal  \n",
              "284            normal  \n",
              "288               NaN  \n",
              "295          critical  \n",
              "\n",
              "[75 rows x 10 columns]"
            ],
            "text/html": [
              "\n",
              "  <div id=\"df-0109d7cc-f2c6-4884-86d2-b4e0773a9238\">\n",
              "    <div class=\"colab-df-container\">\n",
              "      <div>\n",
              "<style scoped>\n",
              "    .dataframe tbody tr th:only-of-type {\n",
              "        vertical-align: middle;\n",
              "    }\n",
              "\n",
              "    .dataframe tbody tr th {\n",
              "        vertical-align: top;\n",
              "    }\n",
              "\n",
              "    .dataframe thead th {\n",
              "        text-align: right;\n",
              "    }\n",
              "</style>\n",
              "<table border=\"1\" class=\"dataframe\">\n",
              "  <thead>\n",
              "    <tr style=\"text-align: right;\">\n",
              "      <th></th>\n",
              "      <th>surgery?</th>\n",
              "      <th>Age</th>\n",
              "      <th>rectal temperature</th>\n",
              "      <th>pulse</th>\n",
              "      <th>respiratory rate</th>\n",
              "      <th>temperature of extremities</th>\n",
              "      <th>pain</th>\n",
              "      <th>outcome</th>\n",
              "      <th>category of rectal temperature</th>\n",
              "      <th>category of pulse</th>\n",
              "    </tr>\n",
              "  </thead>\n",
              "  <tbody>\n",
              "    <tr>\n",
              "      <th>3</th>\n",
              "      <td>1.0</td>\n",
              "      <td>9</td>\n",
              "      <td>39.1</td>\n",
              "      <td>164.0</td>\n",
              "      <td>84.0</td>\n",
              "      <td>4.0</td>\n",
              "      <td>2.0</td>\n",
              "      <td>2.0</td>\n",
              "      <td>sick</td>\n",
              "      <td>critical</td>\n",
              "    </tr>\n",
              "    <tr>\n",
              "      <th>5</th>\n",
              "      <td>2.0</td>\n",
              "      <td>1</td>\n",
              "      <td>NaN</td>\n",
              "      <td>NaN</td>\n",
              "      <td>NaN</td>\n",
              "      <td>2.0</td>\n",
              "      <td>2.0</td>\n",
              "      <td>1.0</td>\n",
              "      <td>NaN</td>\n",
              "      <td>NaN</td>\n",
              "    </tr>\n",
              "    <tr>\n",
              "      <th>7</th>\n",
              "      <td>1.0</td>\n",
              "      <td>1</td>\n",
              "      <td>NaN</td>\n",
              "      <td>60.0</td>\n",
              "      <td>NaN</td>\n",
              "      <td>3.0</td>\n",
              "      <td>NaN</td>\n",
              "      <td>2.0</td>\n",
              "      <td>NaN</td>\n",
              "      <td>normal</td>\n",
              "    </tr>\n",
              "    <tr>\n",
              "      <th>9</th>\n",
              "      <td>2.0</td>\n",
              "      <td>9</td>\n",
              "      <td>38.3</td>\n",
              "      <td>90.0</td>\n",
              "      <td>NaN</td>\n",
              "      <td>1.0</td>\n",
              "      <td>5.0</td>\n",
              "      <td>1.0</td>\n",
              "      <td>normal</td>\n",
              "      <td>danger</td>\n",
              "    </tr>\n",
              "    <tr>\n",
              "      <th>28</th>\n",
              "      <td>1.0</td>\n",
              "      <td>1</td>\n",
              "      <td>NaN</td>\n",
              "      <td>NaN</td>\n",
              "      <td>NaN</td>\n",
              "      <td>NaN</td>\n",
              "      <td>NaN</td>\n",
              "      <td>2.0</td>\n",
              "      <td>NaN</td>\n",
              "      <td>NaN</td>\n",
              "    </tr>\n",
              "    <tr>\n",
              "      <th>...</th>\n",
              "      <td>...</td>\n",
              "      <td>...</td>\n",
              "      <td>...</td>\n",
              "      <td>...</td>\n",
              "      <td>...</td>\n",
              "      <td>...</td>\n",
              "      <td>...</td>\n",
              "      <td>...</td>\n",
              "      <td>...</td>\n",
              "      <td>...</td>\n",
              "    </tr>\n",
              "    <tr>\n",
              "      <th>274</th>\n",
              "      <td>1.0</td>\n",
              "      <td>1</td>\n",
              "      <td>NaN</td>\n",
              "      <td>76.0</td>\n",
              "      <td>NaN</td>\n",
              "      <td>NaN</td>\n",
              "      <td>NaN</td>\n",
              "      <td>3.0</td>\n",
              "      <td>NaN</td>\n",
              "      <td>normal</td>\n",
              "    </tr>\n",
              "    <tr>\n",
              "      <th>281</th>\n",
              "      <td>2.0</td>\n",
              "      <td>1</td>\n",
              "      <td>40.0</td>\n",
              "      <td>78.0</td>\n",
              "      <td>NaN</td>\n",
              "      <td>3.0</td>\n",
              "      <td>2.0</td>\n",
              "      <td>2.0</td>\n",
              "      <td>critical</td>\n",
              "      <td>normal</td>\n",
              "    </tr>\n",
              "    <tr>\n",
              "      <th>284</th>\n",
              "      <td>2.0</td>\n",
              "      <td>1</td>\n",
              "      <td>38.5</td>\n",
              "      <td>54.0</td>\n",
              "      <td>NaN</td>\n",
              "      <td>1.0</td>\n",
              "      <td>3.0</td>\n",
              "      <td>1.0</td>\n",
              "      <td>normal</td>\n",
              "      <td>normal</td>\n",
              "    </tr>\n",
              "    <tr>\n",
              "      <th>288</th>\n",
              "      <td>1.0</td>\n",
              "      <td>1</td>\n",
              "      <td>NaN</td>\n",
              "      <td>NaN</td>\n",
              "      <td>NaN</td>\n",
              "      <td>NaN</td>\n",
              "      <td>NaN</td>\n",
              "      <td>1.0</td>\n",
              "      <td>NaN</td>\n",
              "      <td>NaN</td>\n",
              "    </tr>\n",
              "    <tr>\n",
              "      <th>295</th>\n",
              "      <td>1.0</td>\n",
              "      <td>1</td>\n",
              "      <td>NaN</td>\n",
              "      <td>120.0</td>\n",
              "      <td>70.0</td>\n",
              "      <td>4.0</td>\n",
              "      <td>2.0</td>\n",
              "      <td>3.0</td>\n",
              "      <td>NaN</td>\n",
              "      <td>critical</td>\n",
              "    </tr>\n",
              "  </tbody>\n",
              "</table>\n",
              "<p>75 rows × 10 columns</p>\n",
              "</div>\n",
              "      <button class=\"colab-df-convert\" onclick=\"convertToInteractive('df-0109d7cc-f2c6-4884-86d2-b4e0773a9238')\"\n",
              "              title=\"Convert this dataframe to an interactive table.\"\n",
              "              style=\"display:none;\">\n",
              "        \n",
              "  <svg xmlns=\"http://www.w3.org/2000/svg\" height=\"24px\"viewBox=\"0 0 24 24\"\n",
              "       width=\"24px\">\n",
              "    <path d=\"M0 0h24v24H0V0z\" fill=\"none\"/>\n",
              "    <path d=\"M18.56 5.44l.94 2.06.94-2.06 2.06-.94-2.06-.94-.94-2.06-.94 2.06-2.06.94zm-11 1L8.5 8.5l.94-2.06 2.06-.94-2.06-.94L8.5 2.5l-.94 2.06-2.06.94zm10 10l.94 2.06.94-2.06 2.06-.94-2.06-.94-.94-2.06-.94 2.06-2.06.94z\"/><path d=\"M17.41 7.96l-1.37-1.37c-.4-.4-.92-.59-1.43-.59-.52 0-1.04.2-1.43.59L10.3 9.45l-7.72 7.72c-.78.78-.78 2.05 0 2.83L4 21.41c.39.39.9.59 1.41.59.51 0 1.02-.2 1.41-.59l7.78-7.78 2.81-2.81c.8-.78.8-2.07 0-2.86zM5.41 20L4 18.59l7.72-7.72 1.47 1.35L5.41 20z\"/>\n",
              "  </svg>\n",
              "      </button>\n",
              "      \n",
              "  <style>\n",
              "    .colab-df-container {\n",
              "      display:flex;\n",
              "      flex-wrap:wrap;\n",
              "      gap: 12px;\n",
              "    }\n",
              "\n",
              "    .colab-df-convert {\n",
              "      background-color: #E8F0FE;\n",
              "      border: none;\n",
              "      border-radius: 50%;\n",
              "      cursor: pointer;\n",
              "      display: none;\n",
              "      fill: #1967D2;\n",
              "      height: 32px;\n",
              "      padding: 0 0 0 0;\n",
              "      width: 32px;\n",
              "    }\n",
              "\n",
              "    .colab-df-convert:hover {\n",
              "      background-color: #E2EBFA;\n",
              "      box-shadow: 0px 1px 2px rgba(60, 64, 67, 0.3), 0px 1px 3px 1px rgba(60, 64, 67, 0.15);\n",
              "      fill: #174EA6;\n",
              "    }\n",
              "\n",
              "    [theme=dark] .colab-df-convert {\n",
              "      background-color: #3B4455;\n",
              "      fill: #D2E3FC;\n",
              "    }\n",
              "\n",
              "    [theme=dark] .colab-df-convert:hover {\n",
              "      background-color: #434B5C;\n",
              "      box-shadow: 0px 1px 3px 1px rgba(0, 0, 0, 0.15);\n",
              "      filter: drop-shadow(0px 1px 2px rgba(0, 0, 0, 0.3));\n",
              "      fill: #FFFFFF;\n",
              "    }\n",
              "  </style>\n",
              "\n",
              "      <script>\n",
              "        const buttonEl =\n",
              "          document.querySelector('#df-0109d7cc-f2c6-4884-86d2-b4e0773a9238 button.colab-df-convert');\n",
              "        buttonEl.style.display =\n",
              "          google.colab.kernel.accessAllowed ? 'block' : 'none';\n",
              "\n",
              "        async function convertToInteractive(key) {\n",
              "          const element = document.querySelector('#df-0109d7cc-f2c6-4884-86d2-b4e0773a9238');\n",
              "          const dataTable =\n",
              "            await google.colab.kernel.invokeFunction('convertToInteractive',\n",
              "                                                     [key], {});\n",
              "          if (!dataTable) return;\n",
              "\n",
              "          const docLinkHtml = 'Like what you see? Visit the ' +\n",
              "            '<a target=\"_blank\" href=https://colab.research.google.com/notebooks/data_table.ipynb>data table notebook</a>'\n",
              "            + ' to learn more about interactive tables.';\n",
              "          element.innerHTML = '';\n",
              "          dataTable['output_type'] = 'display_data';\n",
              "          await google.colab.output.renderOutput(dataTable, element);\n",
              "          const docLink = document.createElement('div');\n",
              "          docLink.innerHTML = docLinkHtml;\n",
              "          element.appendChild(docLink);\n",
              "        }\n",
              "      </script>\n",
              "    </div>\n",
              "  </div>\n",
              "  "
            ]
          },
          "metadata": {},
          "execution_count": 25
        }
      ]
    },
    {
      "cell_type": "markdown",
      "source": [
        "Отлично! в Выбросы (до заполнения пустот) попали лошадки с высокой температурой и с NAN\n",
        "\n",
        " В выбросы по дыханию попали лошадки с частотой дыхания в 7-8+ раз больше нормы))\n",
        "\n",
        "Кстати, сюда жа вошла лошадка, которую я отметила, как критическую по пульсу. И эта же лошадка отмечена, как мёртвая. Оно и понятно теперь))"
      ],
      "metadata": {
        "id": "_SwJq8-u2c9i"
      }
    },
    {
      "cell_type": "code",
      "source": [],
      "metadata": {
        "id": "xHzxZejzDAyR"
      },
      "execution_count": null,
      "outputs": []
    },
    {
      "cell_type": "markdown",
      "source": [
        "Попробую понять, насколько связаны выброс пульса, температуры и дыхания с тем, что лошадка умерла и(или) её усыпили"
      ],
      "metadata": {
        "id": "fo70OzqEDBk_"
      }
    },
    {
      "cell_type": "code",
      "source": [
        "print(data_horse.groupby('outcome')['pulse'].median())\n",
        "# print(data_horse.groupby('outcome')['pulse'].mode()[0]) # Error :(\n",
        "\n",
        "print(data_horse.groupby('outcome')['respiratory rate'].median())\n",
        "# print(data_horse.groupby('outcome')['respiratory rate'].mode()[0])\n",
        "\n",
        "print(data_horse.groupby('outcome')['rectal temperature'].median())"
      ],
      "metadata": {
        "colab": {
          "base_uri": "https://localhost:8080/"
        },
        "id": "-aaxvnhlG3K9",
        "outputId": "1263724a-cd20-4448-e55a-324f7c203526"
      },
      "execution_count": null,
      "outputs": [
        {
          "output_type": "stream",
          "name": "stdout",
          "text": [
            "outcome\n",
            "1.0    54.0\n",
            "2.0    86.0\n",
            "3.0    82.0\n",
            "Name: pulse, dtype: float64\n",
            "outcome\n",
            "1.0    24.0\n",
            "2.0    30.0\n",
            "3.0    24.0\n",
            "Name: respiratory rate, dtype: float64\n",
            "outcome\n",
            "1.0    38.20\n",
            "2.0    38.10\n",
            "3.0    38.05\n",
            "Name: rectal temperature, dtype: float64\n"
          ]
        }
      ]
    },
    {
      "cell_type": "markdown",
      "source": [
        "Ну, и что я получила?)) Что только по пульсу более-менее можно понять, как заполнить пропуски)\n",
        "\n",
        "Значит, остальное заполним медианой. Не буду заполнять средним, так как много выбросов нашла по всем столбцам. А они искажают среднее.\n",
        "\n",
        "Возможно, следовало бы заполнять пропуски в несколько этапов:\n",
        "1. сначала по пульсу и исходу заполнить пульс.\n",
        "2. опять сгруппировать по исходу, пульсу -- заполнить дыхание\n",
        "3. сгруппировать по пульсу, исходу, дыханию  -- заполнить температуру.\n",
        "\n",
        "Попробую заморочиться)"
      ],
      "metadata": {
        "id": "zQeDsB9VJael"
      }
    },
    {
      "cell_type": "code",
      "source": [
        "data_horse_test = data_horse.copy()\n",
        "data_horse_test.info()"
      ],
      "metadata": {
        "colab": {
          "base_uri": "https://localhost:8080/"
        },
        "id": "KQgTSnGTLDB6",
        "outputId": "65d46e17-86cf-45f6-cadf-bf6b55aed23b"
      },
      "execution_count": null,
      "outputs": [
        {
          "output_type": "stream",
          "name": "stdout",
          "text": [
            "<class 'pandas.core.frame.DataFrame'>\n",
            "RangeIndex: 300 entries, 0 to 299\n",
            "Data columns (total 10 columns):\n",
            " #   Column                          Non-Null Count  Dtype  \n",
            "---  ------                          --------------  -----  \n",
            " 0   surgery?                        299 non-null    float64\n",
            " 1   Age                             300 non-null    int64  \n",
            " 2   rectal temperature              240 non-null    float64\n",
            " 3   pulse                           276 non-null    float64\n",
            " 4   respiratory rate                242 non-null    float64\n",
            " 5   temperature of extremities      244 non-null    float64\n",
            " 6   pain                            245 non-null    float64\n",
            " 7   outcome                         299 non-null    float64\n",
            " 8   category of rectal temperature  240 non-null    object \n",
            " 9   category of pulse               276 non-null    object \n",
            "dtypes: float64(7), int64(1), object(2)\n",
            "memory usage: 23.6+ KB\n"
          ]
        }
      ]
    },
    {
      "cell_type": "code",
      "source": [
        "data_horse_test['outcome'] = data_horse_test['outcome'].fillna(data_horse_test['outcome'].mode()[0])"
      ],
      "metadata": {
        "id": "HVoocQXhRXM-"
      },
      "execution_count": null,
      "outputs": []
    },
    {
      "cell_type": "code",
      "source": [
        "data_horse_test.info()"
      ],
      "metadata": {
        "colab": {
          "base_uri": "https://localhost:8080/"
        },
        "id": "4wMp8oRxR1-n",
        "outputId": "a29fa815-3269-47a7-c7b8-4d82d1763d40"
      },
      "execution_count": null,
      "outputs": [
        {
          "output_type": "stream",
          "name": "stdout",
          "text": [
            "<class 'pandas.core.frame.DataFrame'>\n",
            "RangeIndex: 300 entries, 0 to 299\n",
            "Data columns (total 10 columns):\n",
            " #   Column                          Non-Null Count  Dtype  \n",
            "---  ------                          --------------  -----  \n",
            " 0   surgery?                        299 non-null    float64\n",
            " 1   Age                             300 non-null    int64  \n",
            " 2   rectal temperature              240 non-null    float64\n",
            " 3   pulse                           276 non-null    float64\n",
            " 4   respiratory rate                242 non-null    float64\n",
            " 5   temperature of extremities      244 non-null    float64\n",
            " 6   pain                            245 non-null    float64\n",
            " 7   outcome                         300 non-null    float64\n",
            " 8   category of rectal temperature  240 non-null    object \n",
            " 9   category of pulse               276 non-null    object \n",
            "dtypes: float64(7), int64(1), object(2)\n",
            "memory usage: 23.6+ KB\n"
          ]
        }
      ]
    },
    {
      "cell_type": "code",
      "source": [
        "print(data_horse_test.groupby('outcome')['pulse'].median())"
      ],
      "metadata": {
        "colab": {
          "base_uri": "https://localhost:8080/"
        },
        "id": "AMGnDHlhl0dt",
        "outputId": "65849fd2-88f0-4806-d93c-424795e954dc"
      },
      "execution_count": null,
      "outputs": [
        {
          "output_type": "stream",
          "name": "stdout",
          "text": [
            "outcome\n",
            "1.0    54.0\n",
            "2.0    86.0\n",
            "3.0    82.0\n",
            "Name: pulse, dtype: float64\n"
          ]
        }
      ]
    },
    {
      "cell_type": "markdown",
      "source": [
        "для заполнение модой через transform можно использовать вот такой синтаксис (из-за того, что mode() возвращает массив): \n",
        "\n",
        "df['col'].fillna(df.groupby('group_col')['col'].transform(lambda x: x.mode()[0]))\n",
        "\n",
        ", это было бы более уместно для заполнения категориальных значений."
      ],
      "metadata": {
        "id": "2DnW6Vki0s_r"
      }
    },
    {
      "cell_type": "code",
      "source": [
        "data_horse_test['pulse'] = data_horse_test['pulse'].fillna(data_horse_test.groupby('outcome')['pulse'].transform(lambda x: x.mode()[0]))"
      ],
      "metadata": {
        "id": "qchrB4Nt05Uy"
      },
      "execution_count": null,
      "outputs": []
    },
    {
      "cell_type": "code",
      "source": [
        "data_horse_test.info()"
      ],
      "metadata": {
        "colab": {
          "base_uri": "https://localhost:8080/"
        },
        "id": "kVCrAwLP1GK0",
        "outputId": "34be51a0-f6c4-448c-dc64-3b22a243ca55"
      },
      "execution_count": null,
      "outputs": [
        {
          "output_type": "stream",
          "name": "stdout",
          "text": [
            "<class 'pandas.core.frame.DataFrame'>\n",
            "RangeIndex: 300 entries, 0 to 299\n",
            "Data columns (total 10 columns):\n",
            " #   Column                          Non-Null Count  Dtype  \n",
            "---  ------                          --------------  -----  \n",
            " 0   surgery?                        299 non-null    float64\n",
            " 1   Age                             300 non-null    int64  \n",
            " 2   rectal temperature              240 non-null    float64\n",
            " 3   pulse                           300 non-null    float64\n",
            " 4   respiratory rate                242 non-null    float64\n",
            " 5   temperature of extremities      244 non-null    float64\n",
            " 6   pain                            245 non-null    float64\n",
            " 7   outcome                         300 non-null    float64\n",
            " 8   category of rectal temperature  240 non-null    object \n",
            " 9   category of pulse               276 non-null    object \n",
            "dtypes: float64(7), int64(1), object(2)\n",
            "memory usage: 23.6+ KB\n"
          ]
        }
      ]
    },
    {
      "cell_type": "code",
      "source": [
        "data_horse_test"
      ],
      "metadata": {
        "id": "9RZRMwpOmHbr"
      },
      "execution_count": null,
      "outputs": []
    },
    {
      "cell_type": "code",
      "source": [
        "print(data_horse_test.groupby(['outcome', 'pulse'])['respiratory rate'].median())"
      ],
      "metadata": {
        "colab": {
          "base_uri": "https://localhost:8080/"
        },
        "id": "7ZMJaQi2QbVI",
        "outputId": "db07ffd4-b13e-4d7f-d655-53befe8ceb63"
      },
      "execution_count": null,
      "outputs": [
        {
          "output_type": "stream",
          "name": "stdout",
          "text": [
            "outcome  pulse\n",
            "1.0      30.0     18.0\n",
            "         36.0      9.0\n",
            "         38.0     20.0\n",
            "         40.0     16.0\n",
            "         42.0     26.0\n",
            "                  ... \n",
            "3.0      112.0    16.0\n",
            "         114.0    36.0\n",
            "         120.0    59.0\n",
            "         130.0    16.0\n",
            "         140.0    24.0\n",
            "Name: respiratory rate, Length: 98, dtype: float64\n"
          ]
        }
      ]
    },
    {
      "cell_type": "markdown",
      "source": [
        "Интересно, почему нет исхода == 2?"
      ],
      "metadata": {
        "id": "VkEISQpcUOxR"
      }
    },
    {
      "cell_type": "code",
      "source": [
        "data_horse_test['respiratory rate'] = data_horse_test['respiratory rate'].fillna(data_horse_test.groupby(['outcome', 'pulse'])['respiratory rate'].transform('median'))"
      ],
      "metadata": {
        "id": "m58E8RzUS_t8"
      },
      "execution_count": null,
      "outputs": []
    },
    {
      "cell_type": "code",
      "source": [
        "data_horse_test.info()"
      ],
      "metadata": {
        "colab": {
          "base_uri": "https://localhost:8080/"
        },
        "id": "2MGIEl9fTPBa",
        "outputId": "630e9eaf-915d-422e-b7e6-e0b5f83132aa"
      },
      "execution_count": null,
      "outputs": [
        {
          "output_type": "stream",
          "name": "stdout",
          "text": [
            "<class 'pandas.core.frame.DataFrame'>\n",
            "RangeIndex: 300 entries, 0 to 299\n",
            "Data columns (total 10 columns):\n",
            " #   Column                          Non-Null Count  Dtype  \n",
            "---  ------                          --------------  -----  \n",
            " 0   surgery?                        299 non-null    float64\n",
            " 1   Age                             300 non-null    int64  \n",
            " 2   rectal temperature              240 non-null    float64\n",
            " 3   pulse                           300 non-null    float64\n",
            " 4   respiratory rate                292 non-null    float64\n",
            " 5   temperature of extremities      244 non-null    float64\n",
            " 6   pain                            245 non-null    float64\n",
            " 7   outcome                         300 non-null    float64\n",
            " 8   category of rectal temperature  240 non-null    object \n",
            " 9   category of pulse               276 non-null    object \n",
            "dtypes: float64(7), int64(1), object(2)\n",
            "memory usage: 23.6+ KB\n"
          ]
        }
      ]
    },
    {
      "cell_type": "markdown",
      "source": [
        "Не все строки 'respiratory rate' заполнились.\n",
        "\n",
        "Заполню медианой или модой"
      ],
      "metadata": {
        "id": "9QFylB_4makT"
      }
    },
    {
      "cell_type": "code",
      "source": [
        "data_horse_test['respiratory rate'] = data_horse_test['respiratory rate'].fillna(data_horse_test['respiratory rate'].median())"
      ],
      "metadata": {
        "id": "Vck30yjpmkA5"
      },
      "execution_count": null,
      "outputs": []
    },
    {
      "cell_type": "code",
      "source": [
        "data_horse_test.info()"
      ],
      "metadata": {
        "colab": {
          "base_uri": "https://localhost:8080/"
        },
        "id": "GJR6GKYTmyQZ",
        "outputId": "f353067c-ad1e-4c58-d51a-69b4d6e11d4d"
      },
      "execution_count": null,
      "outputs": [
        {
          "output_type": "stream",
          "name": "stdout",
          "text": [
            "<class 'pandas.core.frame.DataFrame'>\n",
            "RangeIndex: 300 entries, 0 to 299\n",
            "Data columns (total 10 columns):\n",
            " #   Column                          Non-Null Count  Dtype  \n",
            "---  ------                          --------------  -----  \n",
            " 0   surgery?                        299 non-null    float64\n",
            " 1   Age                             300 non-null    int64  \n",
            " 2   rectal temperature              262 non-null    float64\n",
            " 3   pulse                           300 non-null    float64\n",
            " 4   respiratory rate                300 non-null    float64\n",
            " 5   temperature of extremities      244 non-null    float64\n",
            " 6   pain                            245 non-null    float64\n",
            " 7   outcome                         300 non-null    float64\n",
            " 8   category of rectal temperature  240 non-null    object \n",
            " 9   category of pulse               276 non-null    object \n",
            "dtypes: float64(7), int64(1), object(2)\n",
            "memory usage: 23.6+ KB\n"
          ]
        }
      ]
    },
    {
      "cell_type": "code",
      "source": [
        "print(data_horse_test.groupby(['outcome', 'pulse', 'respiratory rate'])['rectal temperature'].median())"
      ],
      "metadata": {
        "colab": {
          "base_uri": "https://localhost:8080/"
        },
        "id": "2B1O3KJ6Tcq5",
        "outputId": "05c33f93-98fd-424e-fbed-bf448150c5d8"
      },
      "execution_count": null,
      "outputs": [
        {
          "output_type": "stream",
          "name": "stdout",
          "text": [
            "outcome  pulse  respiratory rate\n",
            "1.0      30.0   18.0                38.5\n",
            "         36.0   9.0                 37.2\n",
            "         38.0   20.0                37.6\n",
            "         40.0   8.0                 37.1\n",
            "                12.0                37.8\n",
            "                                    ... \n",
            "3.0      120.0  48.0                39.4\n",
            "                59.0                 NaN\n",
            "                70.0                 NaN\n",
            "         130.0  16.0                38.2\n",
            "         140.0  24.0                35.4\n",
            "Name: rectal temperature, Length: 218, dtype: float64\n"
          ]
        }
      ]
    },
    {
      "cell_type": "code",
      "source": [
        "data_horse_test['rectal temperature'] = data_horse_test['rectal temperature'].fillna(data_horse_test.groupby(['outcome', 'pulse', 'respiratory rate'])['rectal temperature'].transform('median'))"
      ],
      "metadata": {
        "id": "k_1PmGAbUXyy"
      },
      "execution_count": null,
      "outputs": []
    },
    {
      "cell_type": "code",
      "source": [
        "data_horse_test.info()"
      ],
      "metadata": {
        "colab": {
          "base_uri": "https://localhost:8080/"
        },
        "id": "lfnDypdmUnAi",
        "outputId": "e0d35d1b-5c00-4bab-f525-7f81d5fe9e75"
      },
      "execution_count": null,
      "outputs": [
        {
          "output_type": "stream",
          "name": "stdout",
          "text": [
            "<class 'pandas.core.frame.DataFrame'>\n",
            "RangeIndex: 300 entries, 0 to 299\n",
            "Data columns (total 10 columns):\n",
            " #   Column                          Non-Null Count  Dtype  \n",
            "---  ------                          --------------  -----  \n",
            " 0   surgery?                        299 non-null    float64\n",
            " 1   Age                             300 non-null    int64  \n",
            " 2   rectal temperature              262 non-null    float64\n",
            " 3   pulse                           300 non-null    float64\n",
            " 4   respiratory rate                300 non-null    float64\n",
            " 5   temperature of extremities      244 non-null    float64\n",
            " 6   pain                            245 non-null    float64\n",
            " 7   outcome                         300 non-null    float64\n",
            " 8   category of rectal temperature  240 non-null    object \n",
            " 9   category of pulse               276 non-null    object \n",
            "dtypes: float64(7), int64(1), object(2)\n",
            "memory usage: 23.6+ KB\n"
          ]
        }
      ]
    },
    {
      "cell_type": "markdown",
      "source": [
        "Остались пустые строки.\n",
        "\n",
        "Заполню их median, так как разброс температуры не тако огромный, как пульса"
      ],
      "metadata": {
        "id": "bqaYvqjVUwWS"
      }
    },
    {
      "cell_type": "code",
      "source": [
        "data_horse_test['rectal temperature'] = data_horse_test['rectal temperature'].fillna(data_horse_test['rectal temperature'].median())"
      ],
      "metadata": {
        "id": "XiMKd3NfnaBw"
      },
      "execution_count": null,
      "outputs": []
    },
    {
      "cell_type": "code",
      "source": [
        "data_horse_test.info()"
      ],
      "metadata": {
        "colab": {
          "base_uri": "https://localhost:8080/"
        },
        "id": "ANxNUlrQnoHM",
        "outputId": "300b98ba-8ccf-4d6d-f1f5-a99e8fea86ad"
      },
      "execution_count": null,
      "outputs": [
        {
          "output_type": "stream",
          "name": "stdout",
          "text": [
            "<class 'pandas.core.frame.DataFrame'>\n",
            "RangeIndex: 300 entries, 0 to 299\n",
            "Data columns (total 10 columns):\n",
            " #   Column                          Non-Null Count  Dtype  \n",
            "---  ------                          --------------  -----  \n",
            " 0   surgery?                        299 non-null    float64\n",
            " 1   Age                             300 non-null    int64  \n",
            " 2   rectal temperature              300 non-null    float64\n",
            " 3   pulse                           300 non-null    float64\n",
            " 4   respiratory rate                300 non-null    float64\n",
            " 5   temperature of extremities      244 non-null    float64\n",
            " 6   pain                            245 non-null    float64\n",
            " 7   outcome                         300 non-null    float64\n",
            " 8   category of rectal temperature  240 non-null    object \n",
            " 9   category of pulse               276 non-null    object \n",
            "dtypes: float64(7), int64(1), object(2)\n",
            "memory usage: 23.6+ KB\n"
          ]
        }
      ]
    },
    {
      "cell_type": "markdown",
      "source": [
        "Обновим наши строки по категориям 'category of rectal temperature' и 'category of pulse', чтоб убрать и там пустоты          "
      ],
      "metadata": {
        "id": "_TFljloTn21_"
      }
    },
    {
      "cell_type": "code",
      "source": [
        "data_horse_test['category of pulse'] = data_horse_test.apply(pulse_filter, axis=1)\n",
        "data_horse_test"
      ],
      "metadata": {
        "colab": {
          "base_uri": "https://localhost:8080/",
          "height": 468
        },
        "id": "9M0SLaJvohSJ",
        "outputId": "ded064c2-63ba-4dcd-896b-2a0ee53955bd"
      },
      "execution_count": null,
      "outputs": [
        {
          "output_type": "execute_result",
          "data": {
            "text/plain": [
              "     surgery?  Age  rectal temperature  pulse  respiratory rate  \\\n",
              "0         2.0    1                38.5   66.0              28.0   \n",
              "1         1.0    1                39.2   88.0              20.0   \n",
              "2         2.0    1                38.3   40.0              24.0   \n",
              "3         1.0    9                39.1  164.0              84.0   \n",
              "4         2.0    1                37.3  104.0              35.0   \n",
              "..        ...  ...                 ...    ...               ...   \n",
              "295       1.0    1                38.2  120.0              70.0   \n",
              "296       2.0    1                37.2   72.0              24.0   \n",
              "297       1.0    1                37.5   72.0              30.0   \n",
              "298       1.0    1                36.5  100.0              24.0   \n",
              "299       1.0    1                37.2   40.0              20.0   \n",
              "\n",
              "     temperature of extremities  pain  outcome category of rectal temperature  \\\n",
              "0                           3.0   5.0      2.0                         normal   \n",
              "1                           NaN   3.0      3.0                           sick   \n",
              "2                           1.0   3.0      1.0                         normal   \n",
              "3                           4.0   2.0      2.0                           sick   \n",
              "4                           NaN   NaN      2.0                         normal   \n",
              "..                          ...   ...      ...                            ...   \n",
              "295                         4.0   2.0      3.0                            NaN   \n",
              "296                         3.0   4.0      3.0                         normal   \n",
              "297                         4.0   4.0      2.0                         normal   \n",
              "298                         3.0   3.0      1.0                         normal   \n",
              "299                         NaN   NaN      3.0                         normal   \n",
              "\n",
              "    category of pulse  \n",
              "0              normal  \n",
              "1              danger  \n",
              "2              normal  \n",
              "3            critical  \n",
              "4              danger  \n",
              "..                ...  \n",
              "295          critical  \n",
              "296            normal  \n",
              "297            normal  \n",
              "298            danger  \n",
              "299            normal  \n",
              "\n",
              "[300 rows x 10 columns]"
            ],
            "text/html": [
              "\n",
              "  <div id=\"df-0193d194-6d61-4ac4-8b57-bd93c17f0441\">\n",
              "    <div class=\"colab-df-container\">\n",
              "      <div>\n",
              "<style scoped>\n",
              "    .dataframe tbody tr th:only-of-type {\n",
              "        vertical-align: middle;\n",
              "    }\n",
              "\n",
              "    .dataframe tbody tr th {\n",
              "        vertical-align: top;\n",
              "    }\n",
              "\n",
              "    .dataframe thead th {\n",
              "        text-align: right;\n",
              "    }\n",
              "</style>\n",
              "<table border=\"1\" class=\"dataframe\">\n",
              "  <thead>\n",
              "    <tr style=\"text-align: right;\">\n",
              "      <th></th>\n",
              "      <th>surgery?</th>\n",
              "      <th>Age</th>\n",
              "      <th>rectal temperature</th>\n",
              "      <th>pulse</th>\n",
              "      <th>respiratory rate</th>\n",
              "      <th>temperature of extremities</th>\n",
              "      <th>pain</th>\n",
              "      <th>outcome</th>\n",
              "      <th>category of rectal temperature</th>\n",
              "      <th>category of pulse</th>\n",
              "    </tr>\n",
              "  </thead>\n",
              "  <tbody>\n",
              "    <tr>\n",
              "      <th>0</th>\n",
              "      <td>2.0</td>\n",
              "      <td>1</td>\n",
              "      <td>38.5</td>\n",
              "      <td>66.0</td>\n",
              "      <td>28.0</td>\n",
              "      <td>3.0</td>\n",
              "      <td>5.0</td>\n",
              "      <td>2.0</td>\n",
              "      <td>normal</td>\n",
              "      <td>normal</td>\n",
              "    </tr>\n",
              "    <tr>\n",
              "      <th>1</th>\n",
              "      <td>1.0</td>\n",
              "      <td>1</td>\n",
              "      <td>39.2</td>\n",
              "      <td>88.0</td>\n",
              "      <td>20.0</td>\n",
              "      <td>NaN</td>\n",
              "      <td>3.0</td>\n",
              "      <td>3.0</td>\n",
              "      <td>sick</td>\n",
              "      <td>danger</td>\n",
              "    </tr>\n",
              "    <tr>\n",
              "      <th>2</th>\n",
              "      <td>2.0</td>\n",
              "      <td>1</td>\n",
              "      <td>38.3</td>\n",
              "      <td>40.0</td>\n",
              "      <td>24.0</td>\n",
              "      <td>1.0</td>\n",
              "      <td>3.0</td>\n",
              "      <td>1.0</td>\n",
              "      <td>normal</td>\n",
              "      <td>normal</td>\n",
              "    </tr>\n",
              "    <tr>\n",
              "      <th>3</th>\n",
              "      <td>1.0</td>\n",
              "      <td>9</td>\n",
              "      <td>39.1</td>\n",
              "      <td>164.0</td>\n",
              "      <td>84.0</td>\n",
              "      <td>4.0</td>\n",
              "      <td>2.0</td>\n",
              "      <td>2.0</td>\n",
              "      <td>sick</td>\n",
              "      <td>critical</td>\n",
              "    </tr>\n",
              "    <tr>\n",
              "      <th>4</th>\n",
              "      <td>2.0</td>\n",
              "      <td>1</td>\n",
              "      <td>37.3</td>\n",
              "      <td>104.0</td>\n",
              "      <td>35.0</td>\n",
              "      <td>NaN</td>\n",
              "      <td>NaN</td>\n",
              "      <td>2.0</td>\n",
              "      <td>normal</td>\n",
              "      <td>danger</td>\n",
              "    </tr>\n",
              "    <tr>\n",
              "      <th>...</th>\n",
              "      <td>...</td>\n",
              "      <td>...</td>\n",
              "      <td>...</td>\n",
              "      <td>...</td>\n",
              "      <td>...</td>\n",
              "      <td>...</td>\n",
              "      <td>...</td>\n",
              "      <td>...</td>\n",
              "      <td>...</td>\n",
              "      <td>...</td>\n",
              "    </tr>\n",
              "    <tr>\n",
              "      <th>295</th>\n",
              "      <td>1.0</td>\n",
              "      <td>1</td>\n",
              "      <td>38.2</td>\n",
              "      <td>120.0</td>\n",
              "      <td>70.0</td>\n",
              "      <td>4.0</td>\n",
              "      <td>2.0</td>\n",
              "      <td>3.0</td>\n",
              "      <td>NaN</td>\n",
              "      <td>critical</td>\n",
              "    </tr>\n",
              "    <tr>\n",
              "      <th>296</th>\n",
              "      <td>2.0</td>\n",
              "      <td>1</td>\n",
              "      <td>37.2</td>\n",
              "      <td>72.0</td>\n",
              "      <td>24.0</td>\n",
              "      <td>3.0</td>\n",
              "      <td>4.0</td>\n",
              "      <td>3.0</td>\n",
              "      <td>normal</td>\n",
              "      <td>normal</td>\n",
              "    </tr>\n",
              "    <tr>\n",
              "      <th>297</th>\n",
              "      <td>1.0</td>\n",
              "      <td>1</td>\n",
              "      <td>37.5</td>\n",
              "      <td>72.0</td>\n",
              "      <td>30.0</td>\n",
              "      <td>4.0</td>\n",
              "      <td>4.0</td>\n",
              "      <td>2.0</td>\n",
              "      <td>normal</td>\n",
              "      <td>normal</td>\n",
              "    </tr>\n",
              "    <tr>\n",
              "      <th>298</th>\n",
              "      <td>1.0</td>\n",
              "      <td>1</td>\n",
              "      <td>36.5</td>\n",
              "      <td>100.0</td>\n",
              "      <td>24.0</td>\n",
              "      <td>3.0</td>\n",
              "      <td>3.0</td>\n",
              "      <td>1.0</td>\n",
              "      <td>normal</td>\n",
              "      <td>danger</td>\n",
              "    </tr>\n",
              "    <tr>\n",
              "      <th>299</th>\n",
              "      <td>1.0</td>\n",
              "      <td>1</td>\n",
              "      <td>37.2</td>\n",
              "      <td>40.0</td>\n",
              "      <td>20.0</td>\n",
              "      <td>NaN</td>\n",
              "      <td>NaN</td>\n",
              "      <td>3.0</td>\n",
              "      <td>normal</td>\n",
              "      <td>normal</td>\n",
              "    </tr>\n",
              "  </tbody>\n",
              "</table>\n",
              "<p>300 rows × 10 columns</p>\n",
              "</div>\n",
              "      <button class=\"colab-df-convert\" onclick=\"convertToInteractive('df-0193d194-6d61-4ac4-8b57-bd93c17f0441')\"\n",
              "              title=\"Convert this dataframe to an interactive table.\"\n",
              "              style=\"display:none;\">\n",
              "        \n",
              "  <svg xmlns=\"http://www.w3.org/2000/svg\" height=\"24px\"viewBox=\"0 0 24 24\"\n",
              "       width=\"24px\">\n",
              "    <path d=\"M0 0h24v24H0V0z\" fill=\"none\"/>\n",
              "    <path d=\"M18.56 5.44l.94 2.06.94-2.06 2.06-.94-2.06-.94-.94-2.06-.94 2.06-2.06.94zm-11 1L8.5 8.5l.94-2.06 2.06-.94-2.06-.94L8.5 2.5l-.94 2.06-2.06.94zm10 10l.94 2.06.94-2.06 2.06-.94-2.06-.94-.94-2.06-.94 2.06-2.06.94z\"/><path d=\"M17.41 7.96l-1.37-1.37c-.4-.4-.92-.59-1.43-.59-.52 0-1.04.2-1.43.59L10.3 9.45l-7.72 7.72c-.78.78-.78 2.05 0 2.83L4 21.41c.39.39.9.59 1.41.59.51 0 1.02-.2 1.41-.59l7.78-7.78 2.81-2.81c.8-.78.8-2.07 0-2.86zM5.41 20L4 18.59l7.72-7.72 1.47 1.35L5.41 20z\"/>\n",
              "  </svg>\n",
              "      </button>\n",
              "      \n",
              "  <style>\n",
              "    .colab-df-container {\n",
              "      display:flex;\n",
              "      flex-wrap:wrap;\n",
              "      gap: 12px;\n",
              "    }\n",
              "\n",
              "    .colab-df-convert {\n",
              "      background-color: #E8F0FE;\n",
              "      border: none;\n",
              "      border-radius: 50%;\n",
              "      cursor: pointer;\n",
              "      display: none;\n",
              "      fill: #1967D2;\n",
              "      height: 32px;\n",
              "      padding: 0 0 0 0;\n",
              "      width: 32px;\n",
              "    }\n",
              "\n",
              "    .colab-df-convert:hover {\n",
              "      background-color: #E2EBFA;\n",
              "      box-shadow: 0px 1px 2px rgba(60, 64, 67, 0.3), 0px 1px 3px 1px rgba(60, 64, 67, 0.15);\n",
              "      fill: #174EA6;\n",
              "    }\n",
              "\n",
              "    [theme=dark] .colab-df-convert {\n",
              "      background-color: #3B4455;\n",
              "      fill: #D2E3FC;\n",
              "    }\n",
              "\n",
              "    [theme=dark] .colab-df-convert:hover {\n",
              "      background-color: #434B5C;\n",
              "      box-shadow: 0px 1px 3px 1px rgba(0, 0, 0, 0.15);\n",
              "      filter: drop-shadow(0px 1px 2px rgba(0, 0, 0, 0.3));\n",
              "      fill: #FFFFFF;\n",
              "    }\n",
              "  </style>\n",
              "\n",
              "      <script>\n",
              "        const buttonEl =\n",
              "          document.querySelector('#df-0193d194-6d61-4ac4-8b57-bd93c17f0441 button.colab-df-convert');\n",
              "        buttonEl.style.display =\n",
              "          google.colab.kernel.accessAllowed ? 'block' : 'none';\n",
              "\n",
              "        async function convertToInteractive(key) {\n",
              "          const element = document.querySelector('#df-0193d194-6d61-4ac4-8b57-bd93c17f0441');\n",
              "          const dataTable =\n",
              "            await google.colab.kernel.invokeFunction('convertToInteractive',\n",
              "                                                     [key], {});\n",
              "          if (!dataTable) return;\n",
              "\n",
              "          const docLinkHtml = 'Like what you see? Visit the ' +\n",
              "            '<a target=\"_blank\" href=https://colab.research.google.com/notebooks/data_table.ipynb>data table notebook</a>'\n",
              "            + ' to learn more about interactive tables.';\n",
              "          element.innerHTML = '';\n",
              "          dataTable['output_type'] = 'display_data';\n",
              "          await google.colab.output.renderOutput(dataTable, element);\n",
              "          const docLink = document.createElement('div');\n",
              "          docLink.innerHTML = docLinkHtml;\n",
              "          element.appendChild(docLink);\n",
              "        }\n",
              "      </script>\n",
              "    </div>\n",
              "  </div>\n",
              "  "
            ]
          },
          "metadata": {},
          "execution_count": 129
        }
      ]
    },
    {
      "cell_type": "code",
      "source": [
        "data_horse_test.info()"
      ],
      "metadata": {
        "colab": {
          "base_uri": "https://localhost:8080/"
        },
        "id": "IMRxS5lhopRd",
        "outputId": "470bc8ac-d614-48e7-a084-bab678ff7ebe"
      },
      "execution_count": null,
      "outputs": [
        {
          "output_type": "stream",
          "name": "stdout",
          "text": [
            "<class 'pandas.core.frame.DataFrame'>\n",
            "RangeIndex: 300 entries, 0 to 299\n",
            "Data columns (total 10 columns):\n",
            " #   Column                          Non-Null Count  Dtype  \n",
            "---  ------                          --------------  -----  \n",
            " 0   surgery?                        299 non-null    float64\n",
            " 1   Age                             300 non-null    int64  \n",
            " 2   rectal temperature              300 non-null    float64\n",
            " 3   pulse                           300 non-null    float64\n",
            " 4   respiratory rate                300 non-null    float64\n",
            " 5   temperature of extremities      244 non-null    float64\n",
            " 6   pain                            245 non-null    float64\n",
            " 7   outcome                         300 non-null    float64\n",
            " 8   category of rectal temperature  240 non-null    object \n",
            " 9   category of pulse               300 non-null    object \n",
            "dtypes: float64(7), int64(1), object(2)\n",
            "memory usage: 23.6+ KB\n"
          ]
        }
      ]
    },
    {
      "cell_type": "code",
      "source": [
        "data_horse_test['category of rectal temperature'] = data_horse_test.apply(rectal_tem_filter, axis=1)\n",
        "data_horse_test"
      ],
      "metadata": {
        "colab": {
          "base_uri": "https://localhost:8080/",
          "height": 468
        },
        "id": "Kbq7_X7To52F",
        "outputId": "584b4107-a589-44e4-d3ed-86eb71bc2dd0"
      },
      "execution_count": null,
      "outputs": [
        {
          "output_type": "execute_result",
          "data": {
            "text/plain": [
              "     surgery?  Age  rectal temperature  pulse  respiratory rate  \\\n",
              "0         2.0    1                38.5   66.0              28.0   \n",
              "1         1.0    1                39.2   88.0              20.0   \n",
              "2         2.0    1                38.3   40.0              24.0   \n",
              "3         1.0    9                39.1  164.0              84.0   \n",
              "4         2.0    1                37.3  104.0              35.0   \n",
              "..        ...  ...                 ...    ...               ...   \n",
              "295       1.0    1                38.2  120.0              70.0   \n",
              "296       2.0    1                37.2   72.0              24.0   \n",
              "297       1.0    1                37.5   72.0              30.0   \n",
              "298       1.0    1                36.5  100.0              24.0   \n",
              "299       1.0    1                37.2   40.0              20.0   \n",
              "\n",
              "     temperature of extremities  pain  outcome category of rectal temperature  \\\n",
              "0                           3.0   5.0      2.0                         normal   \n",
              "1                           NaN   3.0      3.0                           sick   \n",
              "2                           1.0   3.0      1.0                         normal   \n",
              "3                           4.0   2.0      2.0                           sick   \n",
              "4                           NaN   NaN      2.0                         normal   \n",
              "..                          ...   ...      ...                            ...   \n",
              "295                         4.0   2.0      3.0                         normal   \n",
              "296                         3.0   4.0      3.0                         normal   \n",
              "297                         4.0   4.0      2.0                         normal   \n",
              "298                         3.0   3.0      1.0                         normal   \n",
              "299                         NaN   NaN      3.0                         normal   \n",
              "\n",
              "    category of pulse  \n",
              "0              normal  \n",
              "1              danger  \n",
              "2              normal  \n",
              "3            critical  \n",
              "4              danger  \n",
              "..                ...  \n",
              "295          critical  \n",
              "296            normal  \n",
              "297            normal  \n",
              "298            danger  \n",
              "299            normal  \n",
              "\n",
              "[300 rows x 10 columns]"
            ],
            "text/html": [
              "\n",
              "  <div id=\"df-846dd978-5d6f-4a39-852a-1fcd86498abf\">\n",
              "    <div class=\"colab-df-container\">\n",
              "      <div>\n",
              "<style scoped>\n",
              "    .dataframe tbody tr th:only-of-type {\n",
              "        vertical-align: middle;\n",
              "    }\n",
              "\n",
              "    .dataframe tbody tr th {\n",
              "        vertical-align: top;\n",
              "    }\n",
              "\n",
              "    .dataframe thead th {\n",
              "        text-align: right;\n",
              "    }\n",
              "</style>\n",
              "<table border=\"1\" class=\"dataframe\">\n",
              "  <thead>\n",
              "    <tr style=\"text-align: right;\">\n",
              "      <th></th>\n",
              "      <th>surgery?</th>\n",
              "      <th>Age</th>\n",
              "      <th>rectal temperature</th>\n",
              "      <th>pulse</th>\n",
              "      <th>respiratory rate</th>\n",
              "      <th>temperature of extremities</th>\n",
              "      <th>pain</th>\n",
              "      <th>outcome</th>\n",
              "      <th>category of rectal temperature</th>\n",
              "      <th>category of pulse</th>\n",
              "    </tr>\n",
              "  </thead>\n",
              "  <tbody>\n",
              "    <tr>\n",
              "      <th>0</th>\n",
              "      <td>2.0</td>\n",
              "      <td>1</td>\n",
              "      <td>38.5</td>\n",
              "      <td>66.0</td>\n",
              "      <td>28.0</td>\n",
              "      <td>3.0</td>\n",
              "      <td>5.0</td>\n",
              "      <td>2.0</td>\n",
              "      <td>normal</td>\n",
              "      <td>normal</td>\n",
              "    </tr>\n",
              "    <tr>\n",
              "      <th>1</th>\n",
              "      <td>1.0</td>\n",
              "      <td>1</td>\n",
              "      <td>39.2</td>\n",
              "      <td>88.0</td>\n",
              "      <td>20.0</td>\n",
              "      <td>NaN</td>\n",
              "      <td>3.0</td>\n",
              "      <td>3.0</td>\n",
              "      <td>sick</td>\n",
              "      <td>danger</td>\n",
              "    </tr>\n",
              "    <tr>\n",
              "      <th>2</th>\n",
              "      <td>2.0</td>\n",
              "      <td>1</td>\n",
              "      <td>38.3</td>\n",
              "      <td>40.0</td>\n",
              "      <td>24.0</td>\n",
              "      <td>1.0</td>\n",
              "      <td>3.0</td>\n",
              "      <td>1.0</td>\n",
              "      <td>normal</td>\n",
              "      <td>normal</td>\n",
              "    </tr>\n",
              "    <tr>\n",
              "      <th>3</th>\n",
              "      <td>1.0</td>\n",
              "      <td>9</td>\n",
              "      <td>39.1</td>\n",
              "      <td>164.0</td>\n",
              "      <td>84.0</td>\n",
              "      <td>4.0</td>\n",
              "      <td>2.0</td>\n",
              "      <td>2.0</td>\n",
              "      <td>sick</td>\n",
              "      <td>critical</td>\n",
              "    </tr>\n",
              "    <tr>\n",
              "      <th>4</th>\n",
              "      <td>2.0</td>\n",
              "      <td>1</td>\n",
              "      <td>37.3</td>\n",
              "      <td>104.0</td>\n",
              "      <td>35.0</td>\n",
              "      <td>NaN</td>\n",
              "      <td>NaN</td>\n",
              "      <td>2.0</td>\n",
              "      <td>normal</td>\n",
              "      <td>danger</td>\n",
              "    </tr>\n",
              "    <tr>\n",
              "      <th>...</th>\n",
              "      <td>...</td>\n",
              "      <td>...</td>\n",
              "      <td>...</td>\n",
              "      <td>...</td>\n",
              "      <td>...</td>\n",
              "      <td>...</td>\n",
              "      <td>...</td>\n",
              "      <td>...</td>\n",
              "      <td>...</td>\n",
              "      <td>...</td>\n",
              "    </tr>\n",
              "    <tr>\n",
              "      <th>295</th>\n",
              "      <td>1.0</td>\n",
              "      <td>1</td>\n",
              "      <td>38.2</td>\n",
              "      <td>120.0</td>\n",
              "      <td>70.0</td>\n",
              "      <td>4.0</td>\n",
              "      <td>2.0</td>\n",
              "      <td>3.0</td>\n",
              "      <td>normal</td>\n",
              "      <td>critical</td>\n",
              "    </tr>\n",
              "    <tr>\n",
              "      <th>296</th>\n",
              "      <td>2.0</td>\n",
              "      <td>1</td>\n",
              "      <td>37.2</td>\n",
              "      <td>72.0</td>\n",
              "      <td>24.0</td>\n",
              "      <td>3.0</td>\n",
              "      <td>4.0</td>\n",
              "      <td>3.0</td>\n",
              "      <td>normal</td>\n",
              "      <td>normal</td>\n",
              "    </tr>\n",
              "    <tr>\n",
              "      <th>297</th>\n",
              "      <td>1.0</td>\n",
              "      <td>1</td>\n",
              "      <td>37.5</td>\n",
              "      <td>72.0</td>\n",
              "      <td>30.0</td>\n",
              "      <td>4.0</td>\n",
              "      <td>4.0</td>\n",
              "      <td>2.0</td>\n",
              "      <td>normal</td>\n",
              "      <td>normal</td>\n",
              "    </tr>\n",
              "    <tr>\n",
              "      <th>298</th>\n",
              "      <td>1.0</td>\n",
              "      <td>1</td>\n",
              "      <td>36.5</td>\n",
              "      <td>100.0</td>\n",
              "      <td>24.0</td>\n",
              "      <td>3.0</td>\n",
              "      <td>3.0</td>\n",
              "      <td>1.0</td>\n",
              "      <td>normal</td>\n",
              "      <td>danger</td>\n",
              "    </tr>\n",
              "    <tr>\n",
              "      <th>299</th>\n",
              "      <td>1.0</td>\n",
              "      <td>1</td>\n",
              "      <td>37.2</td>\n",
              "      <td>40.0</td>\n",
              "      <td>20.0</td>\n",
              "      <td>NaN</td>\n",
              "      <td>NaN</td>\n",
              "      <td>3.0</td>\n",
              "      <td>normal</td>\n",
              "      <td>normal</td>\n",
              "    </tr>\n",
              "  </tbody>\n",
              "</table>\n",
              "<p>300 rows × 10 columns</p>\n",
              "</div>\n",
              "      <button class=\"colab-df-convert\" onclick=\"convertToInteractive('df-846dd978-5d6f-4a39-852a-1fcd86498abf')\"\n",
              "              title=\"Convert this dataframe to an interactive table.\"\n",
              "              style=\"display:none;\">\n",
              "        \n",
              "  <svg xmlns=\"http://www.w3.org/2000/svg\" height=\"24px\"viewBox=\"0 0 24 24\"\n",
              "       width=\"24px\">\n",
              "    <path d=\"M0 0h24v24H0V0z\" fill=\"none\"/>\n",
              "    <path d=\"M18.56 5.44l.94 2.06.94-2.06 2.06-.94-2.06-.94-.94-2.06-.94 2.06-2.06.94zm-11 1L8.5 8.5l.94-2.06 2.06-.94-2.06-.94L8.5 2.5l-.94 2.06-2.06.94zm10 10l.94 2.06.94-2.06 2.06-.94-2.06-.94-.94-2.06-.94 2.06-2.06.94z\"/><path d=\"M17.41 7.96l-1.37-1.37c-.4-.4-.92-.59-1.43-.59-.52 0-1.04.2-1.43.59L10.3 9.45l-7.72 7.72c-.78.78-.78 2.05 0 2.83L4 21.41c.39.39.9.59 1.41.59.51 0 1.02-.2 1.41-.59l7.78-7.78 2.81-2.81c.8-.78.8-2.07 0-2.86zM5.41 20L4 18.59l7.72-7.72 1.47 1.35L5.41 20z\"/>\n",
              "  </svg>\n",
              "      </button>\n",
              "      \n",
              "  <style>\n",
              "    .colab-df-container {\n",
              "      display:flex;\n",
              "      flex-wrap:wrap;\n",
              "      gap: 12px;\n",
              "    }\n",
              "\n",
              "    .colab-df-convert {\n",
              "      background-color: #E8F0FE;\n",
              "      border: none;\n",
              "      border-radius: 50%;\n",
              "      cursor: pointer;\n",
              "      display: none;\n",
              "      fill: #1967D2;\n",
              "      height: 32px;\n",
              "      padding: 0 0 0 0;\n",
              "      width: 32px;\n",
              "    }\n",
              "\n",
              "    .colab-df-convert:hover {\n",
              "      background-color: #E2EBFA;\n",
              "      box-shadow: 0px 1px 2px rgba(60, 64, 67, 0.3), 0px 1px 3px 1px rgba(60, 64, 67, 0.15);\n",
              "      fill: #174EA6;\n",
              "    }\n",
              "\n",
              "    [theme=dark] .colab-df-convert {\n",
              "      background-color: #3B4455;\n",
              "      fill: #D2E3FC;\n",
              "    }\n",
              "\n",
              "    [theme=dark] .colab-df-convert:hover {\n",
              "      background-color: #434B5C;\n",
              "      box-shadow: 0px 1px 3px 1px rgba(0, 0, 0, 0.15);\n",
              "      filter: drop-shadow(0px 1px 2px rgba(0, 0, 0, 0.3));\n",
              "      fill: #FFFFFF;\n",
              "    }\n",
              "  </style>\n",
              "\n",
              "      <script>\n",
              "        const buttonEl =\n",
              "          document.querySelector('#df-846dd978-5d6f-4a39-852a-1fcd86498abf button.colab-df-convert');\n",
              "        buttonEl.style.display =\n",
              "          google.colab.kernel.accessAllowed ? 'block' : 'none';\n",
              "\n",
              "        async function convertToInteractive(key) {\n",
              "          const element = document.querySelector('#df-846dd978-5d6f-4a39-852a-1fcd86498abf');\n",
              "          const dataTable =\n",
              "            await google.colab.kernel.invokeFunction('convertToInteractive',\n",
              "                                                     [key], {});\n",
              "          if (!dataTable) return;\n",
              "\n",
              "          const docLinkHtml = 'Like what you see? Visit the ' +\n",
              "            '<a target=\"_blank\" href=https://colab.research.google.com/notebooks/data_table.ipynb>data table notebook</a>'\n",
              "            + ' to learn more about interactive tables.';\n",
              "          element.innerHTML = '';\n",
              "          dataTable['output_type'] = 'display_data';\n",
              "          await google.colab.output.renderOutput(dataTable, element);\n",
              "          const docLink = document.createElement('div');\n",
              "          docLink.innerHTML = docLinkHtml;\n",
              "          element.appendChild(docLink);\n",
              "        }\n",
              "      </script>\n",
              "    </div>\n",
              "  </div>\n",
              "  "
            ]
          },
          "metadata": {},
          "execution_count": 131
        }
      ]
    },
    {
      "cell_type": "code",
      "source": [
        "data_horse_test.info()"
      ],
      "metadata": {
        "colab": {
          "base_uri": "https://localhost:8080/"
        },
        "id": "KyXmTFy4pAS5",
        "outputId": "d13ce83d-9439-4f60-e67f-35721efe8a7e"
      },
      "execution_count": null,
      "outputs": [
        {
          "output_type": "stream",
          "name": "stdout",
          "text": [
            "<class 'pandas.core.frame.DataFrame'>\n",
            "RangeIndex: 300 entries, 0 to 299\n",
            "Data columns (total 10 columns):\n",
            " #   Column                          Non-Null Count  Dtype  \n",
            "---  ------                          --------------  -----  \n",
            " 0   surgery?                        299 non-null    float64\n",
            " 1   Age                             300 non-null    int64  \n",
            " 2   rectal temperature              300 non-null    float64\n",
            " 3   pulse                           300 non-null    float64\n",
            " 4   respiratory rate                300 non-null    float64\n",
            " 5   temperature of extremities      244 non-null    float64\n",
            " 6   pain                            245 non-null    float64\n",
            " 7   outcome                         300 non-null    float64\n",
            " 8   category of rectal temperature  300 non-null    object \n",
            " 9   category of pulse               300 non-null    object \n",
            "dtypes: float64(7), int64(1), object(2)\n",
            "memory usage: 23.6+ KB\n"
          ]
        }
      ]
    },
    {
      "cell_type": "code",
      "source": [
        "data_horse_test[['category of rectal temperature', 'category of pulse']].value_counts()"
      ],
      "metadata": {
        "colab": {
          "base_uri": "https://localhost:8080/"
        },
        "id": "s7RgmoOIpLRd",
        "outputId": "9694486e-b432-4fd3-b9d4-0e3cab49a8c8"
      },
      "execution_count": null,
      "outputs": [
        {
          "output_type": "execute_result",
          "data": {
            "text/plain": [
              "category of rectal temperature  category of pulse\n",
              "normal                          normal               168\n",
              "                                danger                69\n",
              "sick                            normal                18\n",
              "normal                          critical              17\n",
              "sick                            danger                13\n",
              "                                critical               9\n",
              "critical                        danger                 3\n",
              "                                normal                 3\n",
              "dtype: int64"
            ]
          },
          "metadata": {},
          "execution_count": 133
        }
      ]
    },
    {
      "cell_type": "code",
      "source": [
        "# IQR пульсу\n",
        "Q1_pulse_test = data_horse_test['pulse'].quantile(0.25)\n",
        "Q3_pulse_test = data_horse_test['pulse'].quantile(0.75)\n",
        "IQR_pulse_test = Q3_pulse_test - Q1_pulse_test\n",
        "print(IQR_pulse_test)\n",
        "\n",
        "# IQR ректальной температуры\n",
        "Q1_rectal_test = data_horse_test['rectal temperature'].quantile(0.25)\n",
        "Q3_rectal_test = data_horse_test['rectal temperature'].quantile(0.75)\n",
        "IQR_rectal_test = Q3_rectal_test - Q1_rectal_test\n",
        "print(IQR_rectal_test)\n",
        "\n",
        "# IQR частоты дыхания\n",
        "Q1_respiratore_test = data_horse_test['respiratory rate'].quantile(0.25)\n",
        "Q3_respiratore_test = data_horse_test['respiratory rate'].quantile(0.75)\n",
        "IQR_respiratore_test = Q3_respiratore_test - Q1_respiratore_test\n",
        "print(IQR_respiratore_test)\n",
        "\n",
        "# было до заполнения пустот:\n",
        "# 40.0\n",
        "# 0.7000000000000028\n",
        "# 17.5"
      ],
      "metadata": {
        "colab": {
          "base_uri": "https://localhost:8080/"
        },
        "id": "j9r_xFxAp2MB",
        "outputId": "1f71512e-b88f-4a87-a21e-ca1ed4e4ff9b"
      },
      "execution_count": null,
      "outputs": [
        {
          "output_type": "stream",
          "name": "stdout",
          "text": [
            "40.0\n",
            "0.7000000000000028\n",
            "16.0\n"
          ]
        }
      ]
    },
    {
      "cell_type": "code",
      "source": [
        "# Диапазон, куда выбросы НЕ входят данные по пульсу\n",
        "lower_bound_pulse_test = Q1_pulse_test - (1.5 * IQR_pulse_test) \n",
        "upper_bound_pulse_test = Q3_pulse_test + (1.5 * IQR_pulse_test)\n",
        "\n",
        "# Диапазон, куда выбросы НЕ входят данные по ректальной t\n",
        "lower_bound_rectal_test = Q1_rectal_test - (1.5 * IQR_rectal_test) \n",
        "upper_bound_rectal_test = Q3_rectal_test + (1.5 * IQR_rectal_test)\n",
        "\n",
        "# Диапазон, куда выбросы НЕ входят данные по дыханию\n",
        "lower_bound_respiratore_test = Q1_respiratore_test - (1.5 * IQR_respiratore_test) \n",
        "upper_bound_respiratore_test = Q3_respiratore_test + (1.5 * IQR_respiratore_test)"
      ],
      "metadata": {
        "id": "y9ZLuqKQqNKM"
      },
      "execution_count": null,
      "outputs": []
    },
    {
      "cell_type": "code",
      "source": [
        "# что это за выбросы по рект t?\n",
        "print(len(data_horse_test[~data_horse_test['pulse'].between(lower_bound_pulse_test, upper_bound_pulse_test, inclusive=True)]))\n",
        "\n",
        "# что это за выбросы по рект t?\n",
        "print(len(data_horse_test[~data_horse_test['rectal temperature'].between(lower_bound_rectal_test, upper_bound_rectal_test, inclusive=True)]))\n",
        "\n",
        "# что это за выбросы по дыханию?\n",
        "print(len(data_horse_test[~data_horse_test['respiratory rate'].between(lower_bound_respiratore_test, upper_bound_respiratore_test, inclusive=True)]))"
      ],
      "metadata": {
        "colab": {
          "base_uri": "https://localhost:8080/"
        },
        "id": "WWQGrYQers9H",
        "outputId": "351937b6-2ab5-4e1f-90af-61fe78fba594"
      },
      "execution_count": null,
      "outputs": [
        {
          "output_type": "stream",
          "name": "stdout",
          "text": [
            "5\n",
            "14\n",
            "17\n"
          ]
        },
        {
          "output_type": "stream",
          "name": "stderr",
          "text": [
            "/usr/local/lib/python3.7/dist-packages/ipykernel_launcher.py:2: FutureWarning: Boolean inputs to the `inclusive` argument are deprecated infavour of `both` or `neither`.\n",
            "  \n",
            "/usr/local/lib/python3.7/dist-packages/ipykernel_launcher.py:5: FutureWarning: Boolean inputs to the `inclusive` argument are deprecated infavour of `both` or `neither`.\n",
            "  \"\"\"\n",
            "/usr/local/lib/python3.7/dist-packages/ipykernel_launcher.py:8: FutureWarning: Boolean inputs to the `inclusive` argument are deprecated infavour of `both` or `neither`.\n",
            "  \n"
          ]
        }
      ]
    },
    {
      "cell_type": "markdown",
      "source": [
        "Вижу, что количество строк, считаемые выбросами, занчительно уменьшилось.\n",
        "\n",
        "Было:\n",
        "\n",
        "29\n",
        "\n",
        "74\n",
        "\n",
        "75"
      ],
      "metadata": {
        "id": "qFCrDJCwt4nE"
      }
    },
    {
      "cell_type": "code",
      "source": [
        "data_horse_test[~data_horse_test['pulse'].between(lower_bound_pulse_test, upper_bound_pulse_test, inclusive=True)]"
      ],
      "metadata": {
        "colab": {
          "base_uri": "https://localhost:8080/",
          "height": 305
        },
        "id": "n9pWqStPtdTx",
        "outputId": "ccf05313-cc35-4f10-9dbe-a9ce5d45b2cc"
      },
      "execution_count": null,
      "outputs": [
        {
          "output_type": "stream",
          "name": "stderr",
          "text": [
            "/usr/local/lib/python3.7/dist-packages/ipykernel_launcher.py:1: FutureWarning: Boolean inputs to the `inclusive` argument are deprecated infavour of `both` or `neither`.\n",
            "  \"\"\"Entry point for launching an IPython kernel.\n"
          ]
        },
        {
          "output_type": "execute_result",
          "data": {
            "text/plain": [
              "     surgery?  Age  rectal temperature  pulse  respiratory rate  \\\n",
              "3         1.0    9                39.1  164.0              84.0   \n",
              "41        2.0    9                39.0  150.0              72.0   \n",
              "55        1.0    9                38.6  160.0              20.0   \n",
              "255       1.0    9                38.8  184.0              84.0   \n",
              "275       1.0    9                38.8  150.0              50.0   \n",
              "\n",
              "     temperature of extremities  pain  outcome category of rectal temperature  \\\n",
              "3                           4.0   2.0      2.0                           sick   \n",
              "41                          NaN   NaN      1.0                           sick   \n",
              "55                          3.0   3.0      2.0                         normal   \n",
              "255                         1.0   4.0      2.0                           sick   \n",
              "275                         1.0   5.0      2.0                           sick   \n",
              "\n",
              "    category of pulse  \n",
              "3            critical  \n",
              "41           critical  \n",
              "55           critical  \n",
              "255          critical  \n",
              "275          critical  "
            ],
            "text/html": [
              "\n",
              "  <div id=\"df-d641a920-9eb0-4efd-97f7-79fade322f0e\">\n",
              "    <div class=\"colab-df-container\">\n",
              "      <div>\n",
              "<style scoped>\n",
              "    .dataframe tbody tr th:only-of-type {\n",
              "        vertical-align: middle;\n",
              "    }\n",
              "\n",
              "    .dataframe tbody tr th {\n",
              "        vertical-align: top;\n",
              "    }\n",
              "\n",
              "    .dataframe thead th {\n",
              "        text-align: right;\n",
              "    }\n",
              "</style>\n",
              "<table border=\"1\" class=\"dataframe\">\n",
              "  <thead>\n",
              "    <tr style=\"text-align: right;\">\n",
              "      <th></th>\n",
              "      <th>surgery?</th>\n",
              "      <th>Age</th>\n",
              "      <th>rectal temperature</th>\n",
              "      <th>pulse</th>\n",
              "      <th>respiratory rate</th>\n",
              "      <th>temperature of extremities</th>\n",
              "      <th>pain</th>\n",
              "      <th>outcome</th>\n",
              "      <th>category of rectal temperature</th>\n",
              "      <th>category of pulse</th>\n",
              "    </tr>\n",
              "  </thead>\n",
              "  <tbody>\n",
              "    <tr>\n",
              "      <th>3</th>\n",
              "      <td>1.0</td>\n",
              "      <td>9</td>\n",
              "      <td>39.1</td>\n",
              "      <td>164.0</td>\n",
              "      <td>84.0</td>\n",
              "      <td>4.0</td>\n",
              "      <td>2.0</td>\n",
              "      <td>2.0</td>\n",
              "      <td>sick</td>\n",
              "      <td>critical</td>\n",
              "    </tr>\n",
              "    <tr>\n",
              "      <th>41</th>\n",
              "      <td>2.0</td>\n",
              "      <td>9</td>\n",
              "      <td>39.0</td>\n",
              "      <td>150.0</td>\n",
              "      <td>72.0</td>\n",
              "      <td>NaN</td>\n",
              "      <td>NaN</td>\n",
              "      <td>1.0</td>\n",
              "      <td>sick</td>\n",
              "      <td>critical</td>\n",
              "    </tr>\n",
              "    <tr>\n",
              "      <th>55</th>\n",
              "      <td>1.0</td>\n",
              "      <td>9</td>\n",
              "      <td>38.6</td>\n",
              "      <td>160.0</td>\n",
              "      <td>20.0</td>\n",
              "      <td>3.0</td>\n",
              "      <td>3.0</td>\n",
              "      <td>2.0</td>\n",
              "      <td>normal</td>\n",
              "      <td>critical</td>\n",
              "    </tr>\n",
              "    <tr>\n",
              "      <th>255</th>\n",
              "      <td>1.0</td>\n",
              "      <td>9</td>\n",
              "      <td>38.8</td>\n",
              "      <td>184.0</td>\n",
              "      <td>84.0</td>\n",
              "      <td>1.0</td>\n",
              "      <td>4.0</td>\n",
              "      <td>2.0</td>\n",
              "      <td>sick</td>\n",
              "      <td>critical</td>\n",
              "    </tr>\n",
              "    <tr>\n",
              "      <th>275</th>\n",
              "      <td>1.0</td>\n",
              "      <td>9</td>\n",
              "      <td>38.8</td>\n",
              "      <td>150.0</td>\n",
              "      <td>50.0</td>\n",
              "      <td>1.0</td>\n",
              "      <td>5.0</td>\n",
              "      <td>2.0</td>\n",
              "      <td>sick</td>\n",
              "      <td>critical</td>\n",
              "    </tr>\n",
              "  </tbody>\n",
              "</table>\n",
              "</div>\n",
              "      <button class=\"colab-df-convert\" onclick=\"convertToInteractive('df-d641a920-9eb0-4efd-97f7-79fade322f0e')\"\n",
              "              title=\"Convert this dataframe to an interactive table.\"\n",
              "              style=\"display:none;\">\n",
              "        \n",
              "  <svg xmlns=\"http://www.w3.org/2000/svg\" height=\"24px\"viewBox=\"0 0 24 24\"\n",
              "       width=\"24px\">\n",
              "    <path d=\"M0 0h24v24H0V0z\" fill=\"none\"/>\n",
              "    <path d=\"M18.56 5.44l.94 2.06.94-2.06 2.06-.94-2.06-.94-.94-2.06-.94 2.06-2.06.94zm-11 1L8.5 8.5l.94-2.06 2.06-.94-2.06-.94L8.5 2.5l-.94 2.06-2.06.94zm10 10l.94 2.06.94-2.06 2.06-.94-2.06-.94-.94-2.06-.94 2.06-2.06.94z\"/><path d=\"M17.41 7.96l-1.37-1.37c-.4-.4-.92-.59-1.43-.59-.52 0-1.04.2-1.43.59L10.3 9.45l-7.72 7.72c-.78.78-.78 2.05 0 2.83L4 21.41c.39.39.9.59 1.41.59.51 0 1.02-.2 1.41-.59l7.78-7.78 2.81-2.81c.8-.78.8-2.07 0-2.86zM5.41 20L4 18.59l7.72-7.72 1.47 1.35L5.41 20z\"/>\n",
              "  </svg>\n",
              "      </button>\n",
              "      \n",
              "  <style>\n",
              "    .colab-df-container {\n",
              "      display:flex;\n",
              "      flex-wrap:wrap;\n",
              "      gap: 12px;\n",
              "    }\n",
              "\n",
              "    .colab-df-convert {\n",
              "      background-color: #E8F0FE;\n",
              "      border: none;\n",
              "      border-radius: 50%;\n",
              "      cursor: pointer;\n",
              "      display: none;\n",
              "      fill: #1967D2;\n",
              "      height: 32px;\n",
              "      padding: 0 0 0 0;\n",
              "      width: 32px;\n",
              "    }\n",
              "\n",
              "    .colab-df-convert:hover {\n",
              "      background-color: #E2EBFA;\n",
              "      box-shadow: 0px 1px 2px rgba(60, 64, 67, 0.3), 0px 1px 3px 1px rgba(60, 64, 67, 0.15);\n",
              "      fill: #174EA6;\n",
              "    }\n",
              "\n",
              "    [theme=dark] .colab-df-convert {\n",
              "      background-color: #3B4455;\n",
              "      fill: #D2E3FC;\n",
              "    }\n",
              "\n",
              "    [theme=dark] .colab-df-convert:hover {\n",
              "      background-color: #434B5C;\n",
              "      box-shadow: 0px 1px 3px 1px rgba(0, 0, 0, 0.15);\n",
              "      filter: drop-shadow(0px 1px 2px rgba(0, 0, 0, 0.3));\n",
              "      fill: #FFFFFF;\n",
              "    }\n",
              "  </style>\n",
              "\n",
              "      <script>\n",
              "        const buttonEl =\n",
              "          document.querySelector('#df-d641a920-9eb0-4efd-97f7-79fade322f0e button.colab-df-convert');\n",
              "        buttonEl.style.display =\n",
              "          google.colab.kernel.accessAllowed ? 'block' : 'none';\n",
              "\n",
              "        async function convertToInteractive(key) {\n",
              "          const element = document.querySelector('#df-d641a920-9eb0-4efd-97f7-79fade322f0e');\n",
              "          const dataTable =\n",
              "            await google.colab.kernel.invokeFunction('convertToInteractive',\n",
              "                                                     [key], {});\n",
              "          if (!dataTable) return;\n",
              "\n",
              "          const docLinkHtml = 'Like what you see? Visit the ' +\n",
              "            '<a target=\"_blank\" href=https://colab.research.google.com/notebooks/data_table.ipynb>data table notebook</a>'\n",
              "            + ' to learn more about interactive tables.';\n",
              "          element.innerHTML = '';\n",
              "          dataTable['output_type'] = 'display_data';\n",
              "          await google.colab.output.renderOutput(dataTable, element);\n",
              "          const docLink = document.createElement('div');\n",
              "          docLink.innerHTML = docLinkHtml;\n",
              "          element.appendChild(docLink);\n",
              "        }\n",
              "      </script>\n",
              "    </div>\n",
              "  </div>\n",
              "  "
            ]
          },
          "metadata": {},
          "execution_count": 147
        }
      ]
    },
    {
      "cell_type": "markdown",
      "source": [
        "Что я вижу?\n",
        "\n",
        "Я вижу, что в эти выбросы попали лошадки с возрастом 9, которого не должно быть в априори.\n",
        "Сказала бы, что всё хорошо, с этими данными, так как вижу, что и дыханием у этих лошадок не всё хорошо, но ижу, что попала одна лошадь с нормальным -- 20 -- дыханием.\n",
        "\n",
        "Хотя, если судить по \"этим выбросам\", то получается, что лошадка № 41 одна была без операции и в итоге выжившая)) Остальные не пережили операции, видимо)\n",
        "\n"
      ],
      "metadata": {
        "id": "02_GbS_6virj"
      }
    },
    {
      "cell_type": "markdown",
      "source": [
        "Сравним средние показатели до заполнения пустот и после заполнения БЕЗ учета этих 5 строк"
      ],
      "metadata": {
        "id": "XEa4HFRVxwAJ"
      }
    },
    {
      "cell_type": "code",
      "source": [
        "len(data_horse_test[data_horse_test['pulse'].between(lower_bound_pulse_test, upper_bound_pulse_test, inclusive=True)])"
      ],
      "metadata": {
        "colab": {
          "base_uri": "https://localhost:8080/"
        },
        "id": "qMfCrviLyXhX",
        "outputId": "f42cf1c6-365a-4e5e-91b3-ceb66993e8a0"
      },
      "execution_count": null,
      "outputs": [
        {
          "output_type": "stream",
          "name": "stderr",
          "text": [
            "/usr/local/lib/python3.7/dist-packages/ipykernel_launcher.py:1: FutureWarning: Boolean inputs to the `inclusive` argument are deprecated infavour of `both` or `neither`.\n",
            "  \"\"\"Entry point for launching an IPython kernel.\n"
          ]
        },
        {
          "output_type": "execute_result",
          "data": {
            "text/plain": [
              "295"
            ]
          },
          "metadata": {},
          "execution_count": 150
        }
      ]
    },
    {
      "cell_type": "code",
      "source": [
        "data_horse.describe()"
      ],
      "metadata": {
        "colab": {
          "base_uri": "https://localhost:8080/",
          "height": 300
        },
        "id": "Liviv_rpxvLX",
        "outputId": "0fd41ca5-72ea-4735-fa4c-16603c84ccae"
      },
      "execution_count": null,
      "outputs": [
        {
          "output_type": "execute_result",
          "data": {
            "text/plain": [
              "         surgery?         Age  rectal temperature       pulse  \\\n",
              "count  299.000000  300.000000          240.000000  276.000000   \n",
              "mean     1.397993    1.640000           38.167917   71.913043   \n",
              "std      0.490305    2.173972            0.732289   28.630557   \n",
              "min      1.000000    1.000000           35.400000   30.000000   \n",
              "25%      1.000000    1.000000           37.800000   48.000000   \n",
              "50%      1.000000    1.000000           38.200000   64.000000   \n",
              "75%      2.000000    1.000000           38.500000   88.000000   \n",
              "max      2.000000    9.000000           40.800000  184.000000   \n",
              "\n",
              "       respiratory rate  temperature of extremities       pain     outcome  \n",
              "count        242.000000                  244.000000  245.00000  299.000000  \n",
              "mean          30.417355                    2.348361    2.95102    1.551839  \n",
              "std           17.642231                    1.045054    1.30794    0.737187  \n",
              "min            8.000000                    1.000000    1.00000    1.000000  \n",
              "25%           18.500000                    1.000000    2.00000    1.000000  \n",
              "50%           24.500000                    3.000000    3.00000    1.000000  \n",
              "75%           36.000000                    3.000000    4.00000    2.000000  \n",
              "max           96.000000                    4.000000    5.00000    3.000000  "
            ],
            "text/html": [
              "\n",
              "  <div id=\"df-3c82939f-883c-4487-aef6-2b7128b48377\">\n",
              "    <div class=\"colab-df-container\">\n",
              "      <div>\n",
              "<style scoped>\n",
              "    .dataframe tbody tr th:only-of-type {\n",
              "        vertical-align: middle;\n",
              "    }\n",
              "\n",
              "    .dataframe tbody tr th {\n",
              "        vertical-align: top;\n",
              "    }\n",
              "\n",
              "    .dataframe thead th {\n",
              "        text-align: right;\n",
              "    }\n",
              "</style>\n",
              "<table border=\"1\" class=\"dataframe\">\n",
              "  <thead>\n",
              "    <tr style=\"text-align: right;\">\n",
              "      <th></th>\n",
              "      <th>surgery?</th>\n",
              "      <th>Age</th>\n",
              "      <th>rectal temperature</th>\n",
              "      <th>pulse</th>\n",
              "      <th>respiratory rate</th>\n",
              "      <th>temperature of extremities</th>\n",
              "      <th>pain</th>\n",
              "      <th>outcome</th>\n",
              "    </tr>\n",
              "  </thead>\n",
              "  <tbody>\n",
              "    <tr>\n",
              "      <th>count</th>\n",
              "      <td>299.000000</td>\n",
              "      <td>300.000000</td>\n",
              "      <td>240.000000</td>\n",
              "      <td>276.000000</td>\n",
              "      <td>242.000000</td>\n",
              "      <td>244.000000</td>\n",
              "      <td>245.00000</td>\n",
              "      <td>299.000000</td>\n",
              "    </tr>\n",
              "    <tr>\n",
              "      <th>mean</th>\n",
              "      <td>1.397993</td>\n",
              "      <td>1.640000</td>\n",
              "      <td>38.167917</td>\n",
              "      <td>71.913043</td>\n",
              "      <td>30.417355</td>\n",
              "      <td>2.348361</td>\n",
              "      <td>2.95102</td>\n",
              "      <td>1.551839</td>\n",
              "    </tr>\n",
              "    <tr>\n",
              "      <th>std</th>\n",
              "      <td>0.490305</td>\n",
              "      <td>2.173972</td>\n",
              "      <td>0.732289</td>\n",
              "      <td>28.630557</td>\n",
              "      <td>17.642231</td>\n",
              "      <td>1.045054</td>\n",
              "      <td>1.30794</td>\n",
              "      <td>0.737187</td>\n",
              "    </tr>\n",
              "    <tr>\n",
              "      <th>min</th>\n",
              "      <td>1.000000</td>\n",
              "      <td>1.000000</td>\n",
              "      <td>35.400000</td>\n",
              "      <td>30.000000</td>\n",
              "      <td>8.000000</td>\n",
              "      <td>1.000000</td>\n",
              "      <td>1.00000</td>\n",
              "      <td>1.000000</td>\n",
              "    </tr>\n",
              "    <tr>\n",
              "      <th>25%</th>\n",
              "      <td>1.000000</td>\n",
              "      <td>1.000000</td>\n",
              "      <td>37.800000</td>\n",
              "      <td>48.000000</td>\n",
              "      <td>18.500000</td>\n",
              "      <td>1.000000</td>\n",
              "      <td>2.00000</td>\n",
              "      <td>1.000000</td>\n",
              "    </tr>\n",
              "    <tr>\n",
              "      <th>50%</th>\n",
              "      <td>1.000000</td>\n",
              "      <td>1.000000</td>\n",
              "      <td>38.200000</td>\n",
              "      <td>64.000000</td>\n",
              "      <td>24.500000</td>\n",
              "      <td>3.000000</td>\n",
              "      <td>3.00000</td>\n",
              "      <td>1.000000</td>\n",
              "    </tr>\n",
              "    <tr>\n",
              "      <th>75%</th>\n",
              "      <td>2.000000</td>\n",
              "      <td>1.000000</td>\n",
              "      <td>38.500000</td>\n",
              "      <td>88.000000</td>\n",
              "      <td>36.000000</td>\n",
              "      <td>3.000000</td>\n",
              "      <td>4.00000</td>\n",
              "      <td>2.000000</td>\n",
              "    </tr>\n",
              "    <tr>\n",
              "      <th>max</th>\n",
              "      <td>2.000000</td>\n",
              "      <td>9.000000</td>\n",
              "      <td>40.800000</td>\n",
              "      <td>184.000000</td>\n",
              "      <td>96.000000</td>\n",
              "      <td>4.000000</td>\n",
              "      <td>5.00000</td>\n",
              "      <td>3.000000</td>\n",
              "    </tr>\n",
              "  </tbody>\n",
              "</table>\n",
              "</div>\n",
              "      <button class=\"colab-df-convert\" onclick=\"convertToInteractive('df-3c82939f-883c-4487-aef6-2b7128b48377')\"\n",
              "              title=\"Convert this dataframe to an interactive table.\"\n",
              "              style=\"display:none;\">\n",
              "        \n",
              "  <svg xmlns=\"http://www.w3.org/2000/svg\" height=\"24px\"viewBox=\"0 0 24 24\"\n",
              "       width=\"24px\">\n",
              "    <path d=\"M0 0h24v24H0V0z\" fill=\"none\"/>\n",
              "    <path d=\"M18.56 5.44l.94 2.06.94-2.06 2.06-.94-2.06-.94-.94-2.06-.94 2.06-2.06.94zm-11 1L8.5 8.5l.94-2.06 2.06-.94-2.06-.94L8.5 2.5l-.94 2.06-2.06.94zm10 10l.94 2.06.94-2.06 2.06-.94-2.06-.94-.94-2.06-.94 2.06-2.06.94z\"/><path d=\"M17.41 7.96l-1.37-1.37c-.4-.4-.92-.59-1.43-.59-.52 0-1.04.2-1.43.59L10.3 9.45l-7.72 7.72c-.78.78-.78 2.05 0 2.83L4 21.41c.39.39.9.59 1.41.59.51 0 1.02-.2 1.41-.59l7.78-7.78 2.81-2.81c.8-.78.8-2.07 0-2.86zM5.41 20L4 18.59l7.72-7.72 1.47 1.35L5.41 20z\"/>\n",
              "  </svg>\n",
              "      </button>\n",
              "      \n",
              "  <style>\n",
              "    .colab-df-container {\n",
              "      display:flex;\n",
              "      flex-wrap:wrap;\n",
              "      gap: 12px;\n",
              "    }\n",
              "\n",
              "    .colab-df-convert {\n",
              "      background-color: #E8F0FE;\n",
              "      border: none;\n",
              "      border-radius: 50%;\n",
              "      cursor: pointer;\n",
              "      display: none;\n",
              "      fill: #1967D2;\n",
              "      height: 32px;\n",
              "      padding: 0 0 0 0;\n",
              "      width: 32px;\n",
              "    }\n",
              "\n",
              "    .colab-df-convert:hover {\n",
              "      background-color: #E2EBFA;\n",
              "      box-shadow: 0px 1px 2px rgba(60, 64, 67, 0.3), 0px 1px 3px 1px rgba(60, 64, 67, 0.15);\n",
              "      fill: #174EA6;\n",
              "    }\n",
              "\n",
              "    [theme=dark] .colab-df-convert {\n",
              "      background-color: #3B4455;\n",
              "      fill: #D2E3FC;\n",
              "    }\n",
              "\n",
              "    [theme=dark] .colab-df-convert:hover {\n",
              "      background-color: #434B5C;\n",
              "      box-shadow: 0px 1px 3px 1px rgba(0, 0, 0, 0.15);\n",
              "      filter: drop-shadow(0px 1px 2px rgba(0, 0, 0, 0.3));\n",
              "      fill: #FFFFFF;\n",
              "    }\n",
              "  </style>\n",
              "\n",
              "      <script>\n",
              "        const buttonEl =\n",
              "          document.querySelector('#df-3c82939f-883c-4487-aef6-2b7128b48377 button.colab-df-convert');\n",
              "        buttonEl.style.display =\n",
              "          google.colab.kernel.accessAllowed ? 'block' : 'none';\n",
              "\n",
              "        async function convertToInteractive(key) {\n",
              "          const element = document.querySelector('#df-3c82939f-883c-4487-aef6-2b7128b48377');\n",
              "          const dataTable =\n",
              "            await google.colab.kernel.invokeFunction('convertToInteractive',\n",
              "                                                     [key], {});\n",
              "          if (!dataTable) return;\n",
              "\n",
              "          const docLinkHtml = 'Like what you see? Visit the ' +\n",
              "            '<a target=\"_blank\" href=https://colab.research.google.com/notebooks/data_table.ipynb>data table notebook</a>'\n",
              "            + ' to learn more about interactive tables.';\n",
              "          element.innerHTML = '';\n",
              "          dataTable['output_type'] = 'display_data';\n",
              "          await google.colab.output.renderOutput(dataTable, element);\n",
              "          const docLink = document.createElement('div');\n",
              "          docLink.innerHTML = docLinkHtml;\n",
              "          element.appendChild(docLink);\n",
              "        }\n",
              "      </script>\n",
              "    </div>\n",
              "  </div>\n",
              "  "
            ]
          },
          "metadata": {},
          "execution_count": 148
        }
      ]
    },
    {
      "cell_type": "code",
      "source": [
        "data_horse_test[data_horse_test['pulse'].between(lower_bound_pulse_test, upper_bound_pulse_test, inclusive=True)].describe()"
      ],
      "metadata": {
        "colab": {
          "base_uri": "https://localhost:8080/",
          "height": 355
        },
        "id": "734VF4DNx7mY",
        "outputId": "ef1437fb-87a5-4e25-ad60-62ca09f20bdb"
      },
      "execution_count": null,
      "outputs": [
        {
          "output_type": "stream",
          "name": "stderr",
          "text": [
            "/usr/local/lib/python3.7/dist-packages/ipykernel_launcher.py:1: FutureWarning: Boolean inputs to the `inclusive` argument are deprecated infavour of `both` or `neither`.\n",
            "  \"\"\"Entry point for launching an IPython kernel.\n"
          ]
        },
        {
          "output_type": "execute_result",
          "data": {
            "text/plain": [
              "         surgery?         Age  rectal temperature       pulse  \\\n",
              "count  294.000000  295.000000          295.000000  295.000000   \n",
              "mean     1.401361    1.515254           38.159492   70.223729   \n",
              "std      0.491009    1.967146            0.659090   25.402557   \n",
              "min      1.000000    1.000000           35.400000   30.000000   \n",
              "25%      1.000000    1.000000           37.800000   48.000000   \n",
              "50%      1.000000    1.000000           38.200000   64.000000   \n",
              "75%      2.000000    1.000000           38.450000   87.000000   \n",
              "max      2.000000    9.000000           40.800000  146.000000   \n",
              "\n",
              "       respiratory rate  temperature of extremities        pain     outcome  \n",
              "count        295.000000                  240.000000  241.000000  295.000000  \n",
              "mean          29.288136                    2.350000    2.941909    1.545763  \n",
              "std           15.646011                    1.040196    1.308922    0.740317  \n",
              "min            8.000000                    1.000000    1.000000    1.000000  \n",
              "25%           20.000000                    1.000000    2.000000    1.000000  \n",
              "50%           24.000000                    3.000000    3.000000    1.000000  \n",
              "75%           35.500000                    3.000000    4.000000    2.000000  \n",
              "max           96.000000                    4.000000    5.000000    3.000000  "
            ],
            "text/html": [
              "\n",
              "  <div id=\"df-3ae7f533-edb2-46a3-99fc-ff1ab7690893\">\n",
              "    <div class=\"colab-df-container\">\n",
              "      <div>\n",
              "<style scoped>\n",
              "    .dataframe tbody tr th:only-of-type {\n",
              "        vertical-align: middle;\n",
              "    }\n",
              "\n",
              "    .dataframe tbody tr th {\n",
              "        vertical-align: top;\n",
              "    }\n",
              "\n",
              "    .dataframe thead th {\n",
              "        text-align: right;\n",
              "    }\n",
              "</style>\n",
              "<table border=\"1\" class=\"dataframe\">\n",
              "  <thead>\n",
              "    <tr style=\"text-align: right;\">\n",
              "      <th></th>\n",
              "      <th>surgery?</th>\n",
              "      <th>Age</th>\n",
              "      <th>rectal temperature</th>\n",
              "      <th>pulse</th>\n",
              "      <th>respiratory rate</th>\n",
              "      <th>temperature of extremities</th>\n",
              "      <th>pain</th>\n",
              "      <th>outcome</th>\n",
              "    </tr>\n",
              "  </thead>\n",
              "  <tbody>\n",
              "    <tr>\n",
              "      <th>count</th>\n",
              "      <td>294.000000</td>\n",
              "      <td>295.000000</td>\n",
              "      <td>295.000000</td>\n",
              "      <td>295.000000</td>\n",
              "      <td>295.000000</td>\n",
              "      <td>240.000000</td>\n",
              "      <td>241.000000</td>\n",
              "      <td>295.000000</td>\n",
              "    </tr>\n",
              "    <tr>\n",
              "      <th>mean</th>\n",
              "      <td>1.401361</td>\n",
              "      <td>1.515254</td>\n",
              "      <td>38.159492</td>\n",
              "      <td>70.223729</td>\n",
              "      <td>29.288136</td>\n",
              "      <td>2.350000</td>\n",
              "      <td>2.941909</td>\n",
              "      <td>1.545763</td>\n",
              "    </tr>\n",
              "    <tr>\n",
              "      <th>std</th>\n",
              "      <td>0.491009</td>\n",
              "      <td>1.967146</td>\n",
              "      <td>0.659090</td>\n",
              "      <td>25.402557</td>\n",
              "      <td>15.646011</td>\n",
              "      <td>1.040196</td>\n",
              "      <td>1.308922</td>\n",
              "      <td>0.740317</td>\n",
              "    </tr>\n",
              "    <tr>\n",
              "      <th>min</th>\n",
              "      <td>1.000000</td>\n",
              "      <td>1.000000</td>\n",
              "      <td>35.400000</td>\n",
              "      <td>30.000000</td>\n",
              "      <td>8.000000</td>\n",
              "      <td>1.000000</td>\n",
              "      <td>1.000000</td>\n",
              "      <td>1.000000</td>\n",
              "    </tr>\n",
              "    <tr>\n",
              "      <th>25%</th>\n",
              "      <td>1.000000</td>\n",
              "      <td>1.000000</td>\n",
              "      <td>37.800000</td>\n",
              "      <td>48.000000</td>\n",
              "      <td>20.000000</td>\n",
              "      <td>1.000000</td>\n",
              "      <td>2.000000</td>\n",
              "      <td>1.000000</td>\n",
              "    </tr>\n",
              "    <tr>\n",
              "      <th>50%</th>\n",
              "      <td>1.000000</td>\n",
              "      <td>1.000000</td>\n",
              "      <td>38.200000</td>\n",
              "      <td>64.000000</td>\n",
              "      <td>24.000000</td>\n",
              "      <td>3.000000</td>\n",
              "      <td>3.000000</td>\n",
              "      <td>1.000000</td>\n",
              "    </tr>\n",
              "    <tr>\n",
              "      <th>75%</th>\n",
              "      <td>2.000000</td>\n",
              "      <td>1.000000</td>\n",
              "      <td>38.450000</td>\n",
              "      <td>87.000000</td>\n",
              "      <td>35.500000</td>\n",
              "      <td>3.000000</td>\n",
              "      <td>4.000000</td>\n",
              "      <td>2.000000</td>\n",
              "    </tr>\n",
              "    <tr>\n",
              "      <th>max</th>\n",
              "      <td>2.000000</td>\n",
              "      <td>9.000000</td>\n",
              "      <td>40.800000</td>\n",
              "      <td>146.000000</td>\n",
              "      <td>96.000000</td>\n",
              "      <td>4.000000</td>\n",
              "      <td>5.000000</td>\n",
              "      <td>3.000000</td>\n",
              "    </tr>\n",
              "  </tbody>\n",
              "</table>\n",
              "</div>\n",
              "      <button class=\"colab-df-convert\" onclick=\"convertToInteractive('df-3ae7f533-edb2-46a3-99fc-ff1ab7690893')\"\n",
              "              title=\"Convert this dataframe to an interactive table.\"\n",
              "              style=\"display:none;\">\n",
              "        \n",
              "  <svg xmlns=\"http://www.w3.org/2000/svg\" height=\"24px\"viewBox=\"0 0 24 24\"\n",
              "       width=\"24px\">\n",
              "    <path d=\"M0 0h24v24H0V0z\" fill=\"none\"/>\n",
              "    <path d=\"M18.56 5.44l.94 2.06.94-2.06 2.06-.94-2.06-.94-.94-2.06-.94 2.06-2.06.94zm-11 1L8.5 8.5l.94-2.06 2.06-.94-2.06-.94L8.5 2.5l-.94 2.06-2.06.94zm10 10l.94 2.06.94-2.06 2.06-.94-2.06-.94-.94-2.06-.94 2.06-2.06.94z\"/><path d=\"M17.41 7.96l-1.37-1.37c-.4-.4-.92-.59-1.43-.59-.52 0-1.04.2-1.43.59L10.3 9.45l-7.72 7.72c-.78.78-.78 2.05 0 2.83L4 21.41c.39.39.9.59 1.41.59.51 0 1.02-.2 1.41-.59l7.78-7.78 2.81-2.81c.8-.78.8-2.07 0-2.86zM5.41 20L4 18.59l7.72-7.72 1.47 1.35L5.41 20z\"/>\n",
              "  </svg>\n",
              "      </button>\n",
              "      \n",
              "  <style>\n",
              "    .colab-df-container {\n",
              "      display:flex;\n",
              "      flex-wrap:wrap;\n",
              "      gap: 12px;\n",
              "    }\n",
              "\n",
              "    .colab-df-convert {\n",
              "      background-color: #E8F0FE;\n",
              "      border: none;\n",
              "      border-radius: 50%;\n",
              "      cursor: pointer;\n",
              "      display: none;\n",
              "      fill: #1967D2;\n",
              "      height: 32px;\n",
              "      padding: 0 0 0 0;\n",
              "      width: 32px;\n",
              "    }\n",
              "\n",
              "    .colab-df-convert:hover {\n",
              "      background-color: #E2EBFA;\n",
              "      box-shadow: 0px 1px 2px rgba(60, 64, 67, 0.3), 0px 1px 3px 1px rgba(60, 64, 67, 0.15);\n",
              "      fill: #174EA6;\n",
              "    }\n",
              "\n",
              "    [theme=dark] .colab-df-convert {\n",
              "      background-color: #3B4455;\n",
              "      fill: #D2E3FC;\n",
              "    }\n",
              "\n",
              "    [theme=dark] .colab-df-convert:hover {\n",
              "      background-color: #434B5C;\n",
              "      box-shadow: 0px 1px 3px 1px rgba(0, 0, 0, 0.15);\n",
              "      filter: drop-shadow(0px 1px 2px rgba(0, 0, 0, 0.3));\n",
              "      fill: #FFFFFF;\n",
              "    }\n",
              "  </style>\n",
              "\n",
              "      <script>\n",
              "        const buttonEl =\n",
              "          document.querySelector('#df-3ae7f533-edb2-46a3-99fc-ff1ab7690893 button.colab-df-convert');\n",
              "        buttonEl.style.display =\n",
              "          google.colab.kernel.accessAllowed ? 'block' : 'none';\n",
              "\n",
              "        async function convertToInteractive(key) {\n",
              "          const element = document.querySelector('#df-3ae7f533-edb2-46a3-99fc-ff1ab7690893');\n",
              "          const dataTable =\n",
              "            await google.colab.kernel.invokeFunction('convertToInteractive',\n",
              "                                                     [key], {});\n",
              "          if (!dataTable) return;\n",
              "\n",
              "          const docLinkHtml = 'Like what you see? Visit the ' +\n",
              "            '<a target=\"_blank\" href=https://colab.research.google.com/notebooks/data_table.ipynb>data table notebook</a>'\n",
              "            + ' to learn more about interactive tables.';\n",
              "          element.innerHTML = '';\n",
              "          dataTable['output_type'] = 'display_data';\n",
              "          await google.colab.output.renderOutput(dataTable, element);\n",
              "          const docLink = document.createElement('div');\n",
              "          docLink.innerHTML = docLinkHtml;\n",
              "          element.appendChild(docLink);\n",
              "        }\n",
              "      </script>\n",
              "    </div>\n",
              "  </div>\n",
              "  "
            ]
          },
          "metadata": {},
          "execution_count": 151
        }
      ]
    },
    {
      "cell_type": "markdown",
      "source": [
        "Я не вижу критических изменений)\n",
        "\n",
        "Да, std изменилось. Это понятно) там квадраты.\n",
        "\n",
        "В средних, медианах, квартилях изменилось совсем немного.\n",
        "\n",
        "Максимум по поульсу ушёл после исключения выбросов\n",
        "\n",
        "Теперь посмотрю, какая из категорий встречается больше всего по пульсу и по исходу"
      ],
      "metadata": {
        "id": "FlirlJE6y5Ys"
      }
    },
    {
      "cell_type": "code",
      "source": [
        "data_horse_test['category of pulse'].mode()[0]"
      ],
      "metadata": {
        "colab": {
          "base_uri": "https://localhost:8080/",
          "height": 35
        },
        "id": "tOP41eDP05Wa",
        "outputId": "3ed45f96-19fc-4668-d1df-9be8d85c11df"
      },
      "execution_count": null,
      "outputs": [
        {
          "output_type": "execute_result",
          "data": {
            "text/plain": [
              "'normal'"
            ],
            "application/vnd.google.colaboratory.intrinsic+json": {
              "type": "string"
            }
          },
          "metadata": {},
          "execution_count": 157
        }
      ]
    },
    {
      "cell_type": "code",
      "source": [
        "data_horse_test['outcome'].mode()[0]"
      ],
      "metadata": {
        "colab": {
          "base_uri": "https://localhost:8080/"
        },
        "id": "wTGQWmpv12dT",
        "outputId": "e139a554-4120-4c49-ff5a-214c3704e4df"
      },
      "execution_count": null,
      "outputs": [
        {
          "output_type": "execute_result",
          "data": {
            "text/plain": [
              "1.0"
            ]
          },
          "metadata": {},
          "execution_count": 158
        }
      ]
    },
    {
      "cell_type": "code",
      "source": [
        "data_horse_test['category of pulse'].value_counts()"
      ],
      "metadata": {
        "colab": {
          "base_uri": "https://localhost:8080/"
        },
        "id": "Ko26j0WB6wpx",
        "outputId": "836a1e90-ed3c-40c1-9e44-309f77aa825c"
      },
      "execution_count": null,
      "outputs": [
        {
          "output_type": "execute_result",
          "data": {
            "text/plain": [
              "normal      189\n",
              "danger       85\n",
              "critical     26\n",
              "Name: category of pulse, dtype: int64"
            ]
          },
          "metadata": {},
          "execution_count": 159
        }
      ]
    },
    {
      "cell_type": "code",
      "source": [
        "data_horse_test['outcome'].value_counts()"
      ],
      "metadata": {
        "colab": {
          "base_uri": "https://localhost:8080/"
        },
        "id": "IRwXcuO2739J",
        "outputId": "a3a8f901-b9ca-4fe4-93f0-8b4185d67c29"
      },
      "execution_count": null,
      "outputs": [
        {
          "output_type": "execute_result",
          "data": {
            "text/plain": [
              "1.0    179\n",
              "2.0     77\n",
              "3.0     44\n",
              "Name: outcome, dtype: int64"
            ]
          },
          "metadata": {},
          "execution_count": 160
        }
      ]
    },
    {
      "cell_type": "markdown",
      "source": [
        "Вижу, что большинство лошадок живы и в нормальном статусе. Однако больше трети всё же в зонах danger и critical.\n",
        "\n",
        "Значит, содержатся в приемлимых физических условиях. Но, возможно, не в совсем нормальных психологических условиях. Возможно, это повышает пульс? Возможно, лошадей замеряли после скачек?\n",
        "\n",
        "И по статистике исход видно, что больше трети так или иначе уже нет в живых. \n",
        "\n",
        "Глупо плохо содержать животных, на которых собираешься зарабатывать.\n",
        "\n",
        "Лошадку нужно вырастить, натренировать, чтоб она приносила дивиденты. И плюс она должна быть всегда здорова физически и пчихически. чтоб хорошо выступать.\n",
        "Иначе, ферма будет убыточна.\n",
        "\n",
        "Не могу предположить, что ферма не скаковая. В наше время конина совсем не популярна. А содержать коней сложно и затратно. Не думаю, что колбасы окупают всё) Хотя, \"Есть многое на свете, друг Горацио, что и не снилось нашим мудрецам\"\n",
        "\n",
        "Не могу сказать ничего определенного, кроме того, что летальный исход на ферме явление не из ряда вон выходящее.\n",
        "\n",
        "\n",
        "ПС не знаю, уместна ли здесь эта моя мысль?)))\n",
        "И, конечно же, не стоит выбрасывать из головы, что данные в эти таблицы могли заноситься небрежно, если вспомнить \"Возраст\" == 9 и значения пульса, превышающие норму в 4 раза."
      ],
      "metadata": {
        "id": "gIDJ0Wvt2DYJ"
      }
    },
    {
      "cell_type": "code",
      "source": [],
      "metadata": {
        "id": "5tNYPMGyItYQ"
      },
      "execution_count": null,
      "outputs": []
    },
    {
      "cell_type": "markdown",
      "source": [
        "#Полезные ссылки\n",
        "\n",
        "[Colab с вебинара](https://colab.research.google.com/drive/1gQq1IVkXJFh2NTmkFcF5WSkgsKbI6F8S#scrollTo=0JuWO8oMOU5g)\n",
        "\n",
        "[Pandas read_csv() with Examples](https://sparkbyexamples.com/pandas/pandas-read-csv-examples/)\n",
        "\n",
        "[Важность правильного прочтения файла!](https://www.geeksforgeeks.org/use-of-na_values-parameter-in-read_csv-function-of-pandas-in-python/)\n",
        "\n",
        "Без `na_values = '?'` или `na_values = ['?']` прочитывается как папало и НЕ выдает нужную инфу по ДФ\n",
        "\n",
        "[Ещё про CSV файлы и работе с ними](http://net-informations.com/ds/pda/csv.htm)\n",
        "\n",
        "[Изменить тип данных столбцов в Pandas](https://www.delftstack.com/ru/howto/python-pandas/how-to-change-data-type-of-columns-in-pandas/)\n",
        "\n",
        "[Еще про выбросы](http://statsoft.ru/home/textbook/modules/stbasic.html#Correlationse)\n",
        "\n",
        "[How to select rows with NaN in particular column?](https://stackoverflow.com/questions/43831539/how-to-select-rows-with-nan-in-particular-column)"
      ],
      "metadata": {
        "id": "fRYjzmPO2lId"
      }
    }
  ]
}