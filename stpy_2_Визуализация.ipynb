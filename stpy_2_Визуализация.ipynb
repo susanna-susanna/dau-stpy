{
  "nbformat": 4,
  "nbformat_minor": 0,
  "metadata": {
    "colab": {
      "provenance": [],
      "include_colab_link": true
    },
    "kernelspec": {
      "name": "python3",
      "display_name": "Python 3"
    },
    "language_info": {
      "name": "python"
    }
  },
  "cells": [
    {
      "cell_type": "markdown",
      "metadata": {
        "id": "view-in-github",
        "colab_type": "text"
      },
      "source": [
        "<a href=\"https://colab.research.google.com/github/susanna-susanna/dau-stpy/blob/main/stpy_2_%D0%92%D0%B8%D0%B7%D1%83%D0%B0%D0%BB%D0%B8%D0%B7%D0%B0%D1%86%D0%B8%D1%8F.ipynb\" target=\"_parent\"><img src=\"https://colab.research.google.com/assets/colab-badge.svg\" alt=\"Open In Colab\"/></a>"
      ]
    },
    {
      "cell_type": "markdown",
      "source": [
        "###Домашнее задание к лекции \"Визуализация данных\"\n",
        "\n",
        "**Обязательная часть**\n",
        "Вам необходимо провести базовый [EDA](https://en.wikipedia.org/wiki/Exploratory_data_analysis) выбранного набора данных.\n",
        "\n",
        "Требования к анализу:\n",
        "\n",
        "* построить не менее 4 визуализаций различных видов;\n",
        "* каждая визуализация должным образом оформлена и читается даже в отрыве от контекста;\n",
        "* по каждой визуализации необходимо написать вывод (какую гипотезу на ее основе можно выдвинуть?).\n",
        "\n",
        "Откуда брать данные?\n",
        "\n",
        "Можете взять свои рабочие данные, либо найти открытые данные (например, на kaggle.com) по интересующей вас предметной области (тогда не забудьте приложить ссылку на данные). Если идей нет, можете взять один из перечисленных ниже:\n",
        "\n",
        "* данные приложений из Google Play;\n",
        "* данные о видео из трендов YouTube;\n",
        "* данные об уровне счастья в разных странах.\n",
        "\n",
        "\n",
        "**Дополнительная часть (необязательная)**\n",
        "* построить дополнительно не менее 2 визуализаций (итого не менее 6);\n",
        "* в работе должны присутствовать следующие визуализации: boxplot, heatmap, scatter plot matrix;"
      ],
      "metadata": {
        "id": "FozBihgI4FBW"
      }
    },
    {
      "cell_type": "code",
      "execution_count": null,
      "metadata": {
        "id": "Qv_7CaKvVIv9"
      },
      "outputs": [],
      "source": [
        "import matplotlib.pyplot as plt\n",
        "import pandas as pd\n",
        "import numpy as np\n",
        "\n",
        "import seaborn as sns"
      ]
    },
    {
      "cell_type": "code",
      "source": [
        "#увеличим дефолтный размер графиков\n",
        "from pylab import rcParams\n",
        "rcParams['figure.figsize'] = 11,7"
      ],
      "metadata": {
        "id": "KWa1zZN76yhW"
      },
      "execution_count": null,
      "outputs": []
    },
    {
      "cell_type": "code",
      "source": [
        "df = pd.read_csv('https://raw.githubusercontent.com/susanna-susanna/dau-homeworks/main/Student_Behaviour.csv')"
      ],
      "metadata": {
        "id": "UwWui8cCVz9d"
      },
      "execution_count": null,
      "outputs": []
    },
    {
      "cell_type": "code",
      "source": [
        "df.head()"
      ],
      "metadata": {
        "colab": {
          "base_uri": "https://localhost:8080/",
          "height": 513
        },
        "id": "S83rIdeoWEg_",
        "outputId": "4fd0ace7-ac72-4330-ef33-55c99e639799"
      },
      "execution_count": null,
      "outputs": [
        {
          "output_type": "execute_result",
          "data": {
            "text/plain": [
              "  Have you completed any certification courses, or are you currently enrolled in any?  \\\n",
              "0                                                 No                                    \n",
              "1                                                 No                                    \n",
              "2                                                Yes                                    \n",
              "3                                                Yes                                    \n",
              "4                                                 No                                    \n",
              "\n",
              "   Gender Department  Height(CM)  Weight(KG)  10th Mark  12th Mark  \\\n",
              "0    Male        BCA       100.0        58.0       79.0       65.0   \n",
              "1  Female        BCA        90.0        40.0       70.0       80.0   \n",
              "2    Male        BCA       159.0        78.0       69.5       61.0   \n",
              "3  Female        BCA       147.0        20.0       70.0       59.0   \n",
              "4    Male        BCA       170.0        54.0       40.0       65.0   \n",
              "\n",
              "   college mark        hobbies daily studing time prefer to study in  \\\n",
              "0          80.0    Video Games      0 - 30 minute            Morning   \n",
              "1          70.0         Cinema     30 - 60 minute            Morning   \n",
              "2          55.0         Cinema         1 - 2 Hour            Anytime   \n",
              "3          58.0  Reading books         1 - 2 Hour            Anytime   \n",
              "4          30.0    Video Games     30 - 60 minute            Morning   \n",
              "\n",
              "   salary expectation Do you like your degree?  \\\n",
              "0               40000                       No   \n",
              "1               15000                      Yes   \n",
              "2               13000                      Yes   \n",
              "3             1500000                       No   \n",
              "4               50000                      Yes   \n",
              "\n",
              "  possibility of choosing  their career based on their degree :   \\\n",
              "0                                                50%               \n",
              "1                                                75%               \n",
              "2                                                50%               \n",
              "3                                                50%               \n",
              "4                                                25%               \n",
              "\n",
              "  social medai & video games spending Time Travelling Time  Stress Level   \\\n",
              "0                            1.30 - 2 hour  30 - 60 minutes           Bad   \n",
              "1                            1 - 1.30 hour   0 - 30 minutes           Bad   \n",
              "2                         More than 2 hour  30 - 60 minutes         Awful   \n",
              "3                            1.30 - 2 hour   0 - 30 minutes           Bad   \n",
              "4                            1.30 - 2 hour  30 - 60 minutes          Good   \n",
              "\n",
              "  Financial Status Are you doing a part-time job right now?  \n",
              "0              Bad                                       No  \n",
              "1              Bad                                       No  \n",
              "2              Bad                                       No  \n",
              "3             good                                       No  \n",
              "4             good                                       No  "
            ],
            "text/html": [
              "\n",
              "  <div id=\"df-be84ebc0-2dc0-4591-b1c7-3a627120c2bc\">\n",
              "    <div class=\"colab-df-container\">\n",
              "      <div>\n",
              "<style scoped>\n",
              "    .dataframe tbody tr th:only-of-type {\n",
              "        vertical-align: middle;\n",
              "    }\n",
              "\n",
              "    .dataframe tbody tr th {\n",
              "        vertical-align: top;\n",
              "    }\n",
              "\n",
              "    .dataframe thead th {\n",
              "        text-align: right;\n",
              "    }\n",
              "</style>\n",
              "<table border=\"1\" class=\"dataframe\">\n",
              "  <thead>\n",
              "    <tr style=\"text-align: right;\">\n",
              "      <th></th>\n",
              "      <th>Have you completed any certification courses, or are you currently enrolled in any?</th>\n",
              "      <th>Gender</th>\n",
              "      <th>Department</th>\n",
              "      <th>Height(CM)</th>\n",
              "      <th>Weight(KG)</th>\n",
              "      <th>10th Mark</th>\n",
              "      <th>12th Mark</th>\n",
              "      <th>college mark</th>\n",
              "      <th>hobbies</th>\n",
              "      <th>daily studing time</th>\n",
              "      <th>prefer to study in</th>\n",
              "      <th>salary expectation</th>\n",
              "      <th>Do you like your degree?</th>\n",
              "      <th>possibility of choosing  their career based on their degree :</th>\n",
              "      <th>social medai &amp; video games spending Time</th>\n",
              "      <th>Travelling Time</th>\n",
              "      <th>Stress Level</th>\n",
              "      <th>Financial Status</th>\n",
              "      <th>Are you doing a part-time job right now?</th>\n",
              "    </tr>\n",
              "  </thead>\n",
              "  <tbody>\n",
              "    <tr>\n",
              "      <th>0</th>\n",
              "      <td>No</td>\n",
              "      <td>Male</td>\n",
              "      <td>BCA</td>\n",
              "      <td>100.0</td>\n",
              "      <td>58.0</td>\n",
              "      <td>79.0</td>\n",
              "      <td>65.0</td>\n",
              "      <td>80.0</td>\n",
              "      <td>Video Games</td>\n",
              "      <td>0 - 30 minute</td>\n",
              "      <td>Morning</td>\n",
              "      <td>40000</td>\n",
              "      <td>No</td>\n",
              "      <td>50%</td>\n",
              "      <td>1.30 - 2 hour</td>\n",
              "      <td>30 - 60 minutes</td>\n",
              "      <td>Bad</td>\n",
              "      <td>Bad</td>\n",
              "      <td>No</td>\n",
              "    </tr>\n",
              "    <tr>\n",
              "      <th>1</th>\n",
              "      <td>No</td>\n",
              "      <td>Female</td>\n",
              "      <td>BCA</td>\n",
              "      <td>90.0</td>\n",
              "      <td>40.0</td>\n",
              "      <td>70.0</td>\n",
              "      <td>80.0</td>\n",
              "      <td>70.0</td>\n",
              "      <td>Cinema</td>\n",
              "      <td>30 - 60 minute</td>\n",
              "      <td>Morning</td>\n",
              "      <td>15000</td>\n",
              "      <td>Yes</td>\n",
              "      <td>75%</td>\n",
              "      <td>1 - 1.30 hour</td>\n",
              "      <td>0 - 30 minutes</td>\n",
              "      <td>Bad</td>\n",
              "      <td>Bad</td>\n",
              "      <td>No</td>\n",
              "    </tr>\n",
              "    <tr>\n",
              "      <th>2</th>\n",
              "      <td>Yes</td>\n",
              "      <td>Male</td>\n",
              "      <td>BCA</td>\n",
              "      <td>159.0</td>\n",
              "      <td>78.0</td>\n",
              "      <td>69.5</td>\n",
              "      <td>61.0</td>\n",
              "      <td>55.0</td>\n",
              "      <td>Cinema</td>\n",
              "      <td>1 - 2 Hour</td>\n",
              "      <td>Anytime</td>\n",
              "      <td>13000</td>\n",
              "      <td>Yes</td>\n",
              "      <td>50%</td>\n",
              "      <td>More than 2 hour</td>\n",
              "      <td>30 - 60 minutes</td>\n",
              "      <td>Awful</td>\n",
              "      <td>Bad</td>\n",
              "      <td>No</td>\n",
              "    </tr>\n",
              "    <tr>\n",
              "      <th>3</th>\n",
              "      <td>Yes</td>\n",
              "      <td>Female</td>\n",
              "      <td>BCA</td>\n",
              "      <td>147.0</td>\n",
              "      <td>20.0</td>\n",
              "      <td>70.0</td>\n",
              "      <td>59.0</td>\n",
              "      <td>58.0</td>\n",
              "      <td>Reading books</td>\n",
              "      <td>1 - 2 Hour</td>\n",
              "      <td>Anytime</td>\n",
              "      <td>1500000</td>\n",
              "      <td>No</td>\n",
              "      <td>50%</td>\n",
              "      <td>1.30 - 2 hour</td>\n",
              "      <td>0 - 30 minutes</td>\n",
              "      <td>Bad</td>\n",
              "      <td>good</td>\n",
              "      <td>No</td>\n",
              "    </tr>\n",
              "    <tr>\n",
              "      <th>4</th>\n",
              "      <td>No</td>\n",
              "      <td>Male</td>\n",
              "      <td>BCA</td>\n",
              "      <td>170.0</td>\n",
              "      <td>54.0</td>\n",
              "      <td>40.0</td>\n",
              "      <td>65.0</td>\n",
              "      <td>30.0</td>\n",
              "      <td>Video Games</td>\n",
              "      <td>30 - 60 minute</td>\n",
              "      <td>Morning</td>\n",
              "      <td>50000</td>\n",
              "      <td>Yes</td>\n",
              "      <td>25%</td>\n",
              "      <td>1.30 - 2 hour</td>\n",
              "      <td>30 - 60 minutes</td>\n",
              "      <td>Good</td>\n",
              "      <td>good</td>\n",
              "      <td>No</td>\n",
              "    </tr>\n",
              "  </tbody>\n",
              "</table>\n",
              "</div>\n",
              "      <button class=\"colab-df-convert\" onclick=\"convertToInteractive('df-be84ebc0-2dc0-4591-b1c7-3a627120c2bc')\"\n",
              "              title=\"Convert this dataframe to an interactive table.\"\n",
              "              style=\"display:none;\">\n",
              "        \n",
              "  <svg xmlns=\"http://www.w3.org/2000/svg\" height=\"24px\"viewBox=\"0 0 24 24\"\n",
              "       width=\"24px\">\n",
              "    <path d=\"M0 0h24v24H0V0z\" fill=\"none\"/>\n",
              "    <path d=\"M18.56 5.44l.94 2.06.94-2.06 2.06-.94-2.06-.94-.94-2.06-.94 2.06-2.06.94zm-11 1L8.5 8.5l.94-2.06 2.06-.94-2.06-.94L8.5 2.5l-.94 2.06-2.06.94zm10 10l.94 2.06.94-2.06 2.06-.94-2.06-.94-.94-2.06-.94 2.06-2.06.94z\"/><path d=\"M17.41 7.96l-1.37-1.37c-.4-.4-.92-.59-1.43-.59-.52 0-1.04.2-1.43.59L10.3 9.45l-7.72 7.72c-.78.78-.78 2.05 0 2.83L4 21.41c.39.39.9.59 1.41.59.51 0 1.02-.2 1.41-.59l7.78-7.78 2.81-2.81c.8-.78.8-2.07 0-2.86zM5.41 20L4 18.59l7.72-7.72 1.47 1.35L5.41 20z\"/>\n",
              "  </svg>\n",
              "      </button>\n",
              "      \n",
              "  <style>\n",
              "    .colab-df-container {\n",
              "      display:flex;\n",
              "      flex-wrap:wrap;\n",
              "      gap: 12px;\n",
              "    }\n",
              "\n",
              "    .colab-df-convert {\n",
              "      background-color: #E8F0FE;\n",
              "      border: none;\n",
              "      border-radius: 50%;\n",
              "      cursor: pointer;\n",
              "      display: none;\n",
              "      fill: #1967D2;\n",
              "      height: 32px;\n",
              "      padding: 0 0 0 0;\n",
              "      width: 32px;\n",
              "    }\n",
              "\n",
              "    .colab-df-convert:hover {\n",
              "      background-color: #E2EBFA;\n",
              "      box-shadow: 0px 1px 2px rgba(60, 64, 67, 0.3), 0px 1px 3px 1px rgba(60, 64, 67, 0.15);\n",
              "      fill: #174EA6;\n",
              "    }\n",
              "\n",
              "    [theme=dark] .colab-df-convert {\n",
              "      background-color: #3B4455;\n",
              "      fill: #D2E3FC;\n",
              "    }\n",
              "\n",
              "    [theme=dark] .colab-df-convert:hover {\n",
              "      background-color: #434B5C;\n",
              "      box-shadow: 0px 1px 3px 1px rgba(0, 0, 0, 0.15);\n",
              "      filter: drop-shadow(0px 1px 2px rgba(0, 0, 0, 0.3));\n",
              "      fill: #FFFFFF;\n",
              "    }\n",
              "  </style>\n",
              "\n",
              "      <script>\n",
              "        const buttonEl =\n",
              "          document.querySelector('#df-be84ebc0-2dc0-4591-b1c7-3a627120c2bc button.colab-df-convert');\n",
              "        buttonEl.style.display =\n",
              "          google.colab.kernel.accessAllowed ? 'block' : 'none';\n",
              "\n",
              "        async function convertToInteractive(key) {\n",
              "          const element = document.querySelector('#df-be84ebc0-2dc0-4591-b1c7-3a627120c2bc');\n",
              "          const dataTable =\n",
              "            await google.colab.kernel.invokeFunction('convertToInteractive',\n",
              "                                                     [key], {});\n",
              "          if (!dataTable) return;\n",
              "\n",
              "          const docLinkHtml = 'Like what you see? Visit the ' +\n",
              "            '<a target=\"_blank\" href=https://colab.research.google.com/notebooks/data_table.ipynb>data table notebook</a>'\n",
              "            + ' to learn more about interactive tables.';\n",
              "          element.innerHTML = '';\n",
              "          dataTable['output_type'] = 'display_data';\n",
              "          await google.colab.output.renderOutput(dataTable, element);\n",
              "          const docLink = document.createElement('div');\n",
              "          docLink.innerHTML = docLinkHtml;\n",
              "          element.appendChild(docLink);\n",
              "        }\n",
              "      </script>\n",
              "    </div>\n",
              "  </div>\n",
              "  "
            ]
          },
          "metadata": {},
          "execution_count": 22
        }
      ]
    },
    {
      "cell_type": "code",
      "source": [
        "df.info()"
      ],
      "metadata": {
        "colab": {
          "base_uri": "https://localhost:8080/"
        },
        "id": "veke1L0eWN5S",
        "outputId": "4b494157-880a-43b1-8556-3ab2a27f52e5"
      },
      "execution_count": null,
      "outputs": [
        {
          "output_type": "stream",
          "name": "stdout",
          "text": [
            "<class 'pandas.core.frame.DataFrame'>\n",
            "RangeIndex: 235 entries, 0 to 234\n",
            "Data columns (total 19 columns):\n",
            " #   Column                                                                               Non-Null Count  Dtype  \n",
            "---  ------                                                                               --------------  -----  \n",
            " 0   Have you completed any certification courses, or are you currently enrolled in any?  235 non-null    object \n",
            " 1   Gender                                                                               235 non-null    object \n",
            " 2   Department                                                                           235 non-null    object \n",
            " 3   Height(CM)                                                                           235 non-null    float64\n",
            " 4   Weight(KG)                                                                           235 non-null    float64\n",
            " 5   10th Mark                                                                            235 non-null    float64\n",
            " 6   12th Mark                                                                            235 non-null    float64\n",
            " 7   college mark                                                                         235 non-null    float64\n",
            " 8   hobbies                                                                              235 non-null    object \n",
            " 9   daily studing time                                                                   235 non-null    object \n",
            " 10  prefer to study in                                                                   235 non-null    object \n",
            " 11  salary expectation                                                                   235 non-null    int64  \n",
            " 12  Do you like your degree?                                                             235 non-null    object \n",
            " 13  possibility of choosing  their career based on their degree :                        235 non-null    object \n",
            " 14  social medai & video games spending Time                                             235 non-null    object \n",
            " 15  Travelling Time                                                                      235 non-null    object \n",
            " 16  Stress Level                                                                         235 non-null    object \n",
            " 17  Financial Status                                                                     235 non-null    object \n",
            " 18  Are you doing a part-time job right now?                                             235 non-null    object \n",
            "dtypes: float64(5), int64(1), object(13)\n",
            "memory usage: 35.0+ KB\n"
          ]
        }
      ]
    },
    {
      "cell_type": "code",
      "source": [
        "#Изучим столбцов. Вижу, что в некоторых столбцах лишние пробелы. Это знание поможет в работе с датасетом.\n",
        "df.columns"
      ],
      "metadata": {
        "colab": {
          "base_uri": "https://localhost:8080/"
        },
        "id": "iHRThdwwN0iD",
        "outputId": "c9bcd16e-3902-44be-f28f-05262dab6eb5"
      },
      "execution_count": null,
      "outputs": [
        {
          "output_type": "execute_result",
          "data": {
            "text/plain": [
              "Index(['Have you completed any certification courses, or are you currently enrolled in any?',\n",
              "       'Gender', 'Department', 'Height(CM)', 'Weight(KG)', '10th Mark',\n",
              "       '12th Mark', 'college mark', 'hobbies', 'daily studing time',\n",
              "       'prefer to study in', 'salary expectation', 'Do you like your degree?',\n",
              "       'possibility of choosing  their career based on their degree : ',\n",
              "       'social medai & video games spending Time', 'Travelling Time ',\n",
              "       'Stress Level ', 'Financial Status',\n",
              "       'Are you doing a part-time job right now?'],\n",
              "      dtype='object')"
            ]
          },
          "metadata": {},
          "execution_count": 23
        }
      ]
    },
    {
      "cell_type": "code",
      "source": [
        "# сравним показатели оценок по классам и колледжам среди мужчин и женщин\n",
        "comparison_mark = df[['Gender', '10th Mark', '12th Mark', 'college mark']].groupby('Gender').mean()\n",
        "comparison_mark"
      ],
      "metadata": {
        "colab": {
          "base_uri": "https://localhost:8080/",
          "height": 143
        },
        "id": "L2DVj3iUac6e",
        "outputId": "6581b7e5-3a6c-4854-e8c0-178168a3a021"
      },
      "execution_count": null,
      "outputs": [
        {
          "output_type": "execute_result",
          "data": {
            "text/plain": [
              "        10th Mark  12th Mark  college mark\n",
              "Gender                                    \n",
              "Female  78.974684  71.715190     76.870886\n",
              "Male    75.762179  67.293782     67.515577"
            ],
            "text/html": [
              "\n",
              "  <div id=\"df-4f6ead8a-5d7b-4a2d-8ed8-df848eced955\">\n",
              "    <div class=\"colab-df-container\">\n",
              "      <div>\n",
              "<style scoped>\n",
              "    .dataframe tbody tr th:only-of-type {\n",
              "        vertical-align: middle;\n",
              "    }\n",
              "\n",
              "    .dataframe tbody tr th {\n",
              "        vertical-align: top;\n",
              "    }\n",
              "\n",
              "    .dataframe thead th {\n",
              "        text-align: right;\n",
              "    }\n",
              "</style>\n",
              "<table border=\"1\" class=\"dataframe\">\n",
              "  <thead>\n",
              "    <tr style=\"text-align: right;\">\n",
              "      <th></th>\n",
              "      <th>10th Mark</th>\n",
              "      <th>12th Mark</th>\n",
              "      <th>college mark</th>\n",
              "    </tr>\n",
              "    <tr>\n",
              "      <th>Gender</th>\n",
              "      <th></th>\n",
              "      <th></th>\n",
              "      <th></th>\n",
              "    </tr>\n",
              "  </thead>\n",
              "  <tbody>\n",
              "    <tr>\n",
              "      <th>Female</th>\n",
              "      <td>78.974684</td>\n",
              "      <td>71.715190</td>\n",
              "      <td>76.870886</td>\n",
              "    </tr>\n",
              "    <tr>\n",
              "      <th>Male</th>\n",
              "      <td>75.762179</td>\n",
              "      <td>67.293782</td>\n",
              "      <td>67.515577</td>\n",
              "    </tr>\n",
              "  </tbody>\n",
              "</table>\n",
              "</div>\n",
              "      <button class=\"colab-df-convert\" onclick=\"convertToInteractive('df-4f6ead8a-5d7b-4a2d-8ed8-df848eced955')\"\n",
              "              title=\"Convert this dataframe to an interactive table.\"\n",
              "              style=\"display:none;\">\n",
              "        \n",
              "  <svg xmlns=\"http://www.w3.org/2000/svg\" height=\"24px\"viewBox=\"0 0 24 24\"\n",
              "       width=\"24px\">\n",
              "    <path d=\"M0 0h24v24H0V0z\" fill=\"none\"/>\n",
              "    <path d=\"M18.56 5.44l.94 2.06.94-2.06 2.06-.94-2.06-.94-.94-2.06-.94 2.06-2.06.94zm-11 1L8.5 8.5l.94-2.06 2.06-.94-2.06-.94L8.5 2.5l-.94 2.06-2.06.94zm10 10l.94 2.06.94-2.06 2.06-.94-2.06-.94-.94-2.06-.94 2.06-2.06.94z\"/><path d=\"M17.41 7.96l-1.37-1.37c-.4-.4-.92-.59-1.43-.59-.52 0-1.04.2-1.43.59L10.3 9.45l-7.72 7.72c-.78.78-.78 2.05 0 2.83L4 21.41c.39.39.9.59 1.41.59.51 0 1.02-.2 1.41-.59l7.78-7.78 2.81-2.81c.8-.78.8-2.07 0-2.86zM5.41 20L4 18.59l7.72-7.72 1.47 1.35L5.41 20z\"/>\n",
              "  </svg>\n",
              "      </button>\n",
              "      \n",
              "  <style>\n",
              "    .colab-df-container {\n",
              "      display:flex;\n",
              "      flex-wrap:wrap;\n",
              "      gap: 12px;\n",
              "    }\n",
              "\n",
              "    .colab-df-convert {\n",
              "      background-color: #E8F0FE;\n",
              "      border: none;\n",
              "      border-radius: 50%;\n",
              "      cursor: pointer;\n",
              "      display: none;\n",
              "      fill: #1967D2;\n",
              "      height: 32px;\n",
              "      padding: 0 0 0 0;\n",
              "      width: 32px;\n",
              "    }\n",
              "\n",
              "    .colab-df-convert:hover {\n",
              "      background-color: #E2EBFA;\n",
              "      box-shadow: 0px 1px 2px rgba(60, 64, 67, 0.3), 0px 1px 3px 1px rgba(60, 64, 67, 0.15);\n",
              "      fill: #174EA6;\n",
              "    }\n",
              "\n",
              "    [theme=dark] .colab-df-convert {\n",
              "      background-color: #3B4455;\n",
              "      fill: #D2E3FC;\n",
              "    }\n",
              "\n",
              "    [theme=dark] .colab-df-convert:hover {\n",
              "      background-color: #434B5C;\n",
              "      box-shadow: 0px 1px 3px 1px rgba(0, 0, 0, 0.15);\n",
              "      filter: drop-shadow(0px 1px 2px rgba(0, 0, 0, 0.3));\n",
              "      fill: #FFFFFF;\n",
              "    }\n",
              "  </style>\n",
              "\n",
              "      <script>\n",
              "        const buttonEl =\n",
              "          document.querySelector('#df-4f6ead8a-5d7b-4a2d-8ed8-df848eced955 button.colab-df-convert');\n",
              "        buttonEl.style.display =\n",
              "          google.colab.kernel.accessAllowed ? 'block' : 'none';\n",
              "\n",
              "        async function convertToInteractive(key) {\n",
              "          const element = document.querySelector('#df-4f6ead8a-5d7b-4a2d-8ed8-df848eced955');\n",
              "          const dataTable =\n",
              "            await google.colab.kernel.invokeFunction('convertToInteractive',\n",
              "                                                     [key], {});\n",
              "          if (!dataTable) return;\n",
              "\n",
              "          const docLinkHtml = 'Like what you see? Visit the ' +\n",
              "            '<a target=\"_blank\" href=https://colab.research.google.com/notebooks/data_table.ipynb>data table notebook</a>'\n",
              "            + ' to learn more about interactive tables.';\n",
              "          element.innerHTML = '';\n",
              "          dataTable['output_type'] = 'display_data';\n",
              "          await google.colab.output.renderOutput(dataTable, element);\n",
              "          const docLink = document.createElement('div');\n",
              "          docLink.innerHTML = docLinkHtml;\n",
              "          element.appendChild(docLink);\n",
              "        }\n",
              "      </script>\n",
              "    </div>\n",
              "  </div>\n",
              "  "
            ]
          },
          "metadata": {},
          "execution_count": 10
        }
      ]
    },
    {
      "cell_type": "code",
      "source": [
        "comparison_mark.loc['Female'].values"
      ],
      "metadata": {
        "colab": {
          "base_uri": "https://localhost:8080/"
        },
        "id": "35f0jmBJvKnV",
        "outputId": "0c3979dd-9f24-4c10-8fd5-f1f818123eae"
      },
      "execution_count": null,
      "outputs": [
        {
          "output_type": "execute_result",
          "data": {
            "text/plain": [
              "array([78.97468354, 71.71518987, 76.87088608])"
            ]
          },
          "metadata": {},
          "execution_count": 24
        }
      ]
    },
    {
      "cell_type": "code",
      "source": [
        "comparison_mark.columns.values"
      ],
      "metadata": {
        "colab": {
          "base_uri": "https://localhost:8080/"
        },
        "id": "nF1ihEtxy_UL",
        "outputId": "c7308abd-cfe9-4357-9e2e-d06bc1e50c02"
      },
      "execution_count": null,
      "outputs": [
        {
          "output_type": "execute_result",
          "data": {
            "text/plain": [
              "array(['10th Mark', '12th Mark', 'college mark'], dtype=object)"
            ]
          },
          "metadata": {},
          "execution_count": 25
        }
      ]
    },
    {
      "cell_type": "code",
      "source": [
        "len(comparison_mark.loc['Female'])"
      ],
      "metadata": {
        "colab": {
          "base_uri": "https://localhost:8080/"
        },
        "id": "rwCnRDj7vwHX",
        "outputId": "8cb72424-b186-4009-b92f-9757fbdd884c"
      },
      "execution_count": null,
      "outputs": [
        {
          "output_type": "execute_result",
          "data": {
            "text/plain": [
              "3"
            ]
          },
          "metadata": {},
          "execution_count": 26
        }
      ]
    },
    {
      "cell_type": "code",
      "source": [
        "# https://www.python-graph-gallery.com/8-add-confidence-interval-on-barplot\n",
        "import matplotlib.patches as patches\n",
        "\n",
        "# width of the bars\n",
        "barWidth = 0.3\n",
        "\n",
        "# Choose the height of the pink bars\n",
        "bar1 = comparison_mark.loc['Female'].values\n",
        "bar1\n",
        "\n",
        "# Choose the height of the blue bars\n",
        "bar2 = comparison_mark.loc['Male'].values\n",
        "bar2\n",
        "\n",
        "# The x position of bars\n",
        "r1 = np.arange(len(bar1))\n",
        "r2 = [x + barWidth for x in r1]\n",
        "\n",
        "# Create blue bars\n",
        "plt.bar(r1, bar1, width = barWidth, color = 'pink', edgecolor = 'black', capsize=7, label='Девушки')\n",
        " \n",
        "# Create cyan bars\n",
        "plt.bar(r2, bar2, width = barWidth, color = 'blue', edgecolor = 'black', capsize=7, label='Парни')\n",
        " \n",
        "# general layout\n",
        "plt.xticks([r + barWidth for r in range(len(bar1))], comparison_mark.columns.values)\n",
        "plt.ylabel('Средний балл', size=15)\n",
        "plt.legend()\n",
        "plt.title('Средний балл по базовым образовательным уровням', size=23)\n",
        "plt.xlabel('Градация базовых учебных заведений', size=18)\n",
        "\n",
        "# Вот этот цикл добавляет подписи к столбцам.\n",
        "# нет встроенного метода, поэтому добавляем циклом. Девочкам\n",
        "for f, val in enumerate(bar1):\n",
        "    plt.text(f, val, round(float(val), 2), horizontalalignment='center', verticalalignment='bottom', fontdict={'size':14})\n",
        "\n",
        "# plt.tick_params(left=False) #Так и не поняла, что это за параметр и для чего он нужен?)))\n",
        "\n",
        "# Парням\n",
        "for m, val in enumerate(bar2):\n",
        "    plt.text(m + barWidth, val, round(float(val), 2), horizontalalignment='center', verticalalignment='bottom', fontdict={'size':14})\n",
        "    \n",
        "# plt.tick_params(right=False) \n",
        " \n",
        "# Show graphic\n",
        "# plt.show() Вспомнила, что это необходимо для других IDE, кроме ноутбука))"
      ],
      "metadata": {
        "colab": {
          "base_uri": "https://localhost:8080/",
          "height": 475
        },
        "id": "E297P9kzz_Ui",
        "outputId": "3a6fefa1-1943-4278-d3cb-422c2d607211"
      },
      "execution_count": null,
      "outputs": [
        {
          "output_type": "display_data",
          "data": {
            "text/plain": [
              "<Figure size 792x504 with 1 Axes>"
            ],
            "image/png": "[encoded data removed]"
          },
          "metadata": {
            "needs_background": "light"
          }
        }
      ]
    },
    {
      "cell_type": "markdown",
      "source": [
        "Деовчки на всех этапах стараются получить более высокую оценку. Не путать с \"более умнее\") Мальчики иногда стесняются получать высокую оценку, чтоб не слыть ботаном. Плюс девочки более коммуникабельнее и не стесняются общаться с преподавателями на предмет повышения своих оценок. Мальчики же в этом возрасте не уверены в себе для таких коммуникаций.\n",
        "\n",
        "\n",
        "В старших классах средняя падает у всех. \n",
        "Причин может быть:\n",
        "* немного устали и немного потеряли мотивацию\n",
        "* дети сосредоточены не на получении оценки, а больше времени тратят на подготовительные экзамены в ВУЗы\n",
        "\n",
        "Однако в школах не сильна разница между девочками и мальчиками.\n",
        "В колледже средняя между полами уже меняется. \n",
        "Возможно, мальчики не так сильно могут оценить ценность хороших оценок (не видят большой пользы от хороших оценок)\n",
        "Возможно, мальчики не боятся низких оценок в колледже, потому что не ставят себе амбициозных целей.\n",
        "Возможно, мальчики начинают подрабатывать, и у них меньше времени и сил на уделение должного винмания учёбе."
      ],
      "metadata": {
        "id": "IMJucxhNuylw"
      }
    },
    {
      "cell_type": "code",
      "source": [
        "# посмотрим, есть ли зависимость от затрачиваемого времени на каждодневное обучение и получением хороших оценок\n",
        "marks = df[['Gender','10th Mark', '12th Mark', 'college mark', 'daily studing time']]\n",
        "marks"
      ],
      "metadata": {
        "colab": {
          "base_uri": "https://localhost:8080/",
          "height": 424
        },
        "id": "pcoVE_UhUknu",
        "outputId": "33bd210f-e379-4ec5-e338-387391a96e92"
      },
      "execution_count": null,
      "outputs": [
        {
          "output_type": "execute_result",
          "data": {
            "text/plain": [
              "     Gender  10th Mark  12th Mark  college mark daily studing time\n",
              "0      Male       79.0       65.0          80.0      0 - 30 minute\n",
              "1    Female       70.0       80.0          70.0     30 - 60 minute\n",
              "2      Male       69.5       61.0          55.0         1 - 2 Hour\n",
              "3    Female       70.0       59.0          58.0         1 - 2 Hour\n",
              "4      Male       40.0       65.0          30.0     30 - 60 minute\n",
              "..      ...        ...        ...           ...                ...\n",
              "230    Male       72.0       67.0          65.0     30 - 60 minute\n",
              "231    Male       72.0       70.0          76.0         2 - 3 hour\n",
              "232  Female       90.0       75.0          70.0     30 - 60 minute\n",
              "233  Female       85.0       74.0          75.0      0 - 30 minute\n",
              "234  Female       45.0       45.0          50.0         3 - 4 hour\n",
              "\n",
              "[235 rows x 5 columns]"
            ],
            "text/html": [
              "\n",
              "  <div id=\"df-d94822fa-88bb-4c8c-9afc-da843987ab85\">\n",
              "    <div class=\"colab-df-container\">\n",
              "      <div>\n",
              "<style scoped>\n",
              "    .dataframe tbody tr th:only-of-type {\n",
              "        vertical-align: middle;\n",
              "    }\n",
              "\n",
              "    .dataframe tbody tr th {\n",
              "        vertical-align: top;\n",
              "    }\n",
              "\n",
              "    .dataframe thead th {\n",
              "        text-align: right;\n",
              "    }\n",
              "</style>\n",
              "<table border=\"1\" class=\"dataframe\">\n",
              "  <thead>\n",
              "    <tr style=\"text-align: right;\">\n",
              "      <th></th>\n",
              "      <th>Gender</th>\n",
              "      <th>10th Mark</th>\n",
              "      <th>12th Mark</th>\n",
              "      <th>college mark</th>\n",
              "      <th>daily studing time</th>\n",
              "    </tr>\n",
              "  </thead>\n",
              "  <tbody>\n",
              "    <tr>\n",
              "      <th>0</th>\n",
              "      <td>Male</td>\n",
              "      <td>79.0</td>\n",
              "      <td>65.0</td>\n",
              "      <td>80.0</td>\n",
              "      <td>0 - 30 minute</td>\n",
              "    </tr>\n",
              "    <tr>\n",
              "      <th>1</th>\n",
              "      <td>Female</td>\n",
              "      <td>70.0</td>\n",
              "      <td>80.0</td>\n",
              "      <td>70.0</td>\n",
              "      <td>30 - 60 minute</td>\n",
              "    </tr>\n",
              "    <tr>\n",
              "      <th>2</th>\n",
              "      <td>Male</td>\n",
              "      <td>69.5</td>\n",
              "      <td>61.0</td>\n",
              "      <td>55.0</td>\n",
              "      <td>1 - 2 Hour</td>\n",
              "    </tr>\n",
              "    <tr>\n",
              "      <th>3</th>\n",
              "      <td>Female</td>\n",
              "      <td>70.0</td>\n",
              "      <td>59.0</td>\n",
              "      <td>58.0</td>\n",
              "      <td>1 - 2 Hour</td>\n",
              "    </tr>\n",
              "    <tr>\n",
              "      <th>4</th>\n",
              "      <td>Male</td>\n",
              "      <td>40.0</td>\n",
              "      <td>65.0</td>\n",
              "      <td>30.0</td>\n",
              "      <td>30 - 60 minute</td>\n",
              "    </tr>\n",
              "    <tr>\n",
              "      <th>...</th>\n",
              "      <td>...</td>\n",
              "      <td>...</td>\n",
              "      <td>...</td>\n",
              "      <td>...</td>\n",
              "      <td>...</td>\n",
              "    </tr>\n",
              "    <tr>\n",
              "      <th>230</th>\n",
              "      <td>Male</td>\n",
              "      <td>72.0</td>\n",
              "      <td>67.0</td>\n",
              "      <td>65.0</td>\n",
              "      <td>30 - 60 minute</td>\n",
              "    </tr>\n",
              "    <tr>\n",
              "      <th>231</th>\n",
              "      <td>Male</td>\n",
              "      <td>72.0</td>\n",
              "      <td>70.0</td>\n",
              "      <td>76.0</td>\n",
              "      <td>2 - 3 hour</td>\n",
              "    </tr>\n",
              "    <tr>\n",
              "      <th>232</th>\n",
              "      <td>Female</td>\n",
              "      <td>90.0</td>\n",
              "      <td>75.0</td>\n",
              "      <td>70.0</td>\n",
              "      <td>30 - 60 minute</td>\n",
              "    </tr>\n",
              "    <tr>\n",
              "      <th>233</th>\n",
              "      <td>Female</td>\n",
              "      <td>85.0</td>\n",
              "      <td>74.0</td>\n",
              "      <td>75.0</td>\n",
              "      <td>0 - 30 minute</td>\n",
              "    </tr>\n",
              "    <tr>\n",
              "      <th>234</th>\n",
              "      <td>Female</td>\n",
              "      <td>45.0</td>\n",
              "      <td>45.0</td>\n",
              "      <td>50.0</td>\n",
              "      <td>3 - 4 hour</td>\n",
              "    </tr>\n",
              "  </tbody>\n",
              "</table>\n",
              "<p>235 rows × 5 columns</p>\n",
              "</div>\n",
              "      <button class=\"colab-df-convert\" onclick=\"convertToInteractive('df-d94822fa-88bb-4c8c-9afc-da843987ab85')\"\n",
              "              title=\"Convert this dataframe to an interactive table.\"\n",
              "              style=\"display:none;\">\n",
              "        \n",
              "  <svg xmlns=\"http://www.w3.org/2000/svg\" height=\"24px\"viewBox=\"0 0 24 24\"\n",
              "       width=\"24px\">\n",
              "    <path d=\"M0 0h24v24H0V0z\" fill=\"none\"/>\n",
              "    <path d=\"M18.56 5.44l.94 2.06.94-2.06 2.06-.94-2.06-.94-.94-2.06-.94 2.06-2.06.94zm-11 1L8.5 8.5l.94-2.06 2.06-.94-2.06-.94L8.5 2.5l-.94 2.06-2.06.94zm10 10l.94 2.06.94-2.06 2.06-.94-2.06-.94-.94-2.06-.94 2.06-2.06.94z\"/><path d=\"M17.41 7.96l-1.37-1.37c-.4-.4-.92-.59-1.43-.59-.52 0-1.04.2-1.43.59L10.3 9.45l-7.72 7.72c-.78.78-.78 2.05 0 2.83L4 21.41c.39.39.9.59 1.41.59.51 0 1.02-.2 1.41-.59l7.78-7.78 2.81-2.81c.8-.78.8-2.07 0-2.86zM5.41 20L4 18.59l7.72-7.72 1.47 1.35L5.41 20z\"/>\n",
              "  </svg>\n",
              "      </button>\n",
              "      \n",
              "  <style>\n",
              "    .colab-df-container {\n",
              "      display:flex;\n",
              "      flex-wrap:wrap;\n",
              "      gap: 12px;\n",
              "    }\n",
              "\n",
              "    .colab-df-convert {\n",
              "      background-color: #E8F0FE;\n",
              "      border: none;\n",
              "      border-radius: 50%;\n",
              "      cursor: pointer;\n",
              "      display: none;\n",
              "      fill: #1967D2;\n",
              "      height: 32px;\n",
              "      padding: 0 0 0 0;\n",
              "      width: 32px;\n",
              "    }\n",
              "\n",
              "    .colab-df-convert:hover {\n",
              "      background-color: #E2EBFA;\n",
              "      box-shadow: 0px 1px 2px rgba(60, 64, 67, 0.3), 0px 1px 3px 1px rgba(60, 64, 67, 0.15);\n",
              "      fill: #174EA6;\n",
              "    }\n",
              "\n",
              "    [theme=dark] .colab-df-convert {\n",
              "      background-color: #3B4455;\n",
              "      fill: #D2E3FC;\n",
              "    }\n",
              "\n",
              "    [theme=dark] .colab-df-convert:hover {\n",
              "      background-color: #434B5C;\n",
              "      box-shadow: 0px 1px 3px 1px rgba(0, 0, 0, 0.15);\n",
              "      filter: drop-shadow(0px 1px 2px rgba(0, 0, 0, 0.3));\n",
              "      fill: #FFFFFF;\n",
              "    }\n",
              "  </style>\n",
              "\n",
              "      <script>\n",
              "        const buttonEl =\n",
              "          document.querySelector('#df-d94822fa-88bb-4c8c-9afc-da843987ab85 button.colab-df-convert');\n",
              "        buttonEl.style.display =\n",
              "          google.colab.kernel.accessAllowed ? 'block' : 'none';\n",
              "\n",
              "        async function convertToInteractive(key) {\n",
              "          const element = document.querySelector('#df-d94822fa-88bb-4c8c-9afc-da843987ab85');\n",
              "          const dataTable =\n",
              "            await google.colab.kernel.invokeFunction('convertToInteractive',\n",
              "                                                     [key], {});\n",
              "          if (!dataTable) return;\n",
              "\n",
              "          const docLinkHtml = 'Like what you see? Visit the ' +\n",
              "            '<a target=\"_blank\" href=https://colab.research.google.com/notebooks/data_table.ipynb>data table notebook</a>'\n",
              "            + ' to learn more about interactive tables.';\n",
              "          element.innerHTML = '';\n",
              "          dataTable['output_type'] = 'display_data';\n",
              "          await google.colab.output.renderOutput(dataTable, element);\n",
              "          const docLink = document.createElement('div');\n",
              "          docLink.innerHTML = docLinkHtml;\n",
              "          element.appendChild(docLink);\n",
              "        }\n",
              "      </script>\n",
              "    </div>\n",
              "  </div>\n",
              "  "
            ]
          },
          "metadata": {},
          "execution_count": 16
        }
      ]
    },
    {
      "cell_type": "code",
      "source": [
        "marks['daily studing time'].value_counts()"
      ],
      "metadata": {
        "colab": {
          "base_uri": "https://localhost:8080/"
        },
        "id": "H3e4RW_OnaaM",
        "outputId": "54b8e93c-5dd8-4dee-f210-a0b97072eaee"
      },
      "execution_count": null,
      "outputs": [
        {
          "output_type": "execute_result",
          "data": {
            "text/plain": [
              "30 - 60 minute      81\n",
              "1 - 2 Hour          61\n",
              "0 - 30 minute       46\n",
              "2 - 3 hour          24\n",
              "3 - 4 hour          15\n",
              "More Than 4 hour     8\n",
              "Name: daily studing time, dtype: int64"
            ]
          },
          "metadata": {},
          "execution_count": 33
        }
      ]
    },
    {
      "cell_type": "code",
      "source": [
        "def order_filter(row):\n",
        "    \"\"\"Фильтрует строки по следующим правилам:\n",
        "        смотрит на затраченное время\n",
        "        и нумерует по возврастанию\n",
        "        \"\"\"\n",
        "    daily_studing_time = row['daily studing time']\n",
        "\n",
        "    \n",
        "    if daily_studing_time == '0 - 30 minute':\n",
        "        return '01. less than 30 minutes'\n",
        "    elif daily_studing_time == '30 - 60 minute':\n",
        "        return '02. 30 - 60 minute'\n",
        "    elif daily_studing_time == '1 - 2 Hour':\n",
        "        return '03. 1 - 2 hour'\n",
        "    elif daily_studing_time == '2 - 3 hour':\n",
        "        return '04. 2 - 3 hour'\n",
        "    elif daily_studing_time == '3 - 4 hour':\n",
        "        return '05. 3 - 4 hour'\n",
        "    elif daily_studing_time == 'More Than 4 hour':\n",
        "        return '06. more than 4 hour'\n",
        "\n",
        "    return daily_studing_time"
      ],
      "metadata": {
        "id": "zKMxHHRkoMz7"
      },
      "execution_count": null,
      "outputs": []
    },
    {
      "cell_type": "code",
      "source": [
        "marks['studing_time'] = marks.apply(order_filter, axis=1)"
      ],
      "metadata": {
        "colab": {
          "base_uri": "https://localhost:8080/"
        },
        "id": "4seCf0BXpuLN",
        "outputId": "f1c2687c-b796-4c91-fc7e-43a78829a84a"
      },
      "execution_count": null,
      "outputs": [
        {
          "output_type": "stream",
          "name": "stderr",
          "text": [
            "/usr/local/lib/python3.7/dist-packages/ipykernel_launcher.py:1: SettingWithCopyWarning: \n",
            "A value is trying to be set on a copy of a slice from a DataFrame.\n",
            "Try using .loc[row_indexer,col_indexer] = value instead\n",
            "\n",
            "See the caveats in the documentation: https://pandas.pydata.org/pandas-docs/stable/user_guide/indexing.html#returning-a-view-versus-a-copy\n",
            "  \"\"\"Entry point for launching an IPython kernel.\n"
          ]
        }
      ]
    },
    {
      "cell_type": "code",
      "source": [
        "marks"
      ],
      "metadata": {
        "colab": {
          "base_uri": "https://localhost:8080/",
          "height": 424
        },
        "id": "Y6RST-vWqOLr",
        "outputId": "47273332-ccd1-4edb-9eec-0d3bcc94de6a"
      },
      "execution_count": null,
      "outputs": [
        {
          "output_type": "execute_result",
          "data": {
            "text/plain": [
              "     Gender  10th Mark  12th Mark  college mark daily studing time  \\\n",
              "0      Male       79.0       65.0          80.0      0 - 30 minute   \n",
              "1    Female       70.0       80.0          70.0     30 - 60 minute   \n",
              "2      Male       69.5       61.0          55.0         1 - 2 Hour   \n",
              "3    Female       70.0       59.0          58.0         1 - 2 Hour   \n",
              "4      Male       40.0       65.0          30.0     30 - 60 minute   \n",
              "..      ...        ...        ...           ...                ...   \n",
              "230    Male       72.0       67.0          65.0     30 - 60 minute   \n",
              "231    Male       72.0       70.0          76.0         2 - 3 hour   \n",
              "232  Female       90.0       75.0          70.0     30 - 60 minute   \n",
              "233  Female       85.0       74.0          75.0      0 - 30 minute   \n",
              "234  Female       45.0       45.0          50.0         3 - 4 hour   \n",
              "\n",
              "                 studing_time  \n",
              "0    01. less than 30 minutes  \n",
              "1          02. 30 - 60 minute  \n",
              "2              03. 1 - 2 hour  \n",
              "3              03. 1 - 2 hour  \n",
              "4          02. 30 - 60 minute  \n",
              "..                        ...  \n",
              "230        02. 30 - 60 minute  \n",
              "231            04. 2 - 3 hour  \n",
              "232        02. 30 - 60 minute  \n",
              "233  01. less than 30 minutes  \n",
              "234            05. 3 - 4 hour  \n",
              "\n",
              "[235 rows x 6 columns]"
            ],
            "text/html": [
              "\n",
              "  <div id=\"df-8ac414b9-b776-497b-9371-fe37bbe279ea\">\n",
              "    <div class=\"colab-df-container\">\n",
              "      <div>\n",
              "<style scoped>\n",
              "    .dataframe tbody tr th:only-of-type {\n",
              "        vertical-align: middle;\n",
              "    }\n",
              "\n",
              "    .dataframe tbody tr th {\n",
              "        vertical-align: top;\n",
              "    }\n",
              "\n",
              "    .dataframe thead th {\n",
              "        text-align: right;\n",
              "    }\n",
              "</style>\n",
              "<table border=\"1\" class=\"dataframe\">\n",
              "  <thead>\n",
              "    <tr style=\"text-align: right;\">\n",
              "      <th></th>\n",
              "      <th>Gender</th>\n",
              "      <th>10th Mark</th>\n",
              "      <th>12th Mark</th>\n",
              "      <th>college mark</th>\n",
              "      <th>daily studing time</th>\n",
              "      <th>studing_time</th>\n",
              "    </tr>\n",
              "  </thead>\n",
              "  <tbody>\n",
              "    <tr>\n",
              "      <th>0</th>\n",
              "      <td>Male</td>\n",
              "      <td>79.0</td>\n",
              "      <td>65.0</td>\n",
              "      <td>80.0</td>\n",
              "      <td>0 - 30 minute</td>\n",
              "      <td>01. less than 30 minutes</td>\n",
              "    </tr>\n",
              "    <tr>\n",
              "      <th>1</th>\n",
              "      <td>Female</td>\n",
              "      <td>70.0</td>\n",
              "      <td>80.0</td>\n",
              "      <td>70.0</td>\n",
              "      <td>30 - 60 minute</td>\n",
              "      <td>02. 30 - 60 minute</td>\n",
              "    </tr>\n",
              "    <tr>\n",
              "      <th>2</th>\n",
              "      <td>Male</td>\n",
              "      <td>69.5</td>\n",
              "      <td>61.0</td>\n",
              "      <td>55.0</td>\n",
              "      <td>1 - 2 Hour</td>\n",
              "      <td>03. 1 - 2 hour</td>\n",
              "    </tr>\n",
              "    <tr>\n",
              "      <th>3</th>\n",
              "      <td>Female</td>\n",
              "      <td>70.0</td>\n",
              "      <td>59.0</td>\n",
              "      <td>58.0</td>\n",
              "      <td>1 - 2 Hour</td>\n",
              "      <td>03. 1 - 2 hour</td>\n",
              "    </tr>\n",
              "    <tr>\n",
              "      <th>4</th>\n",
              "      <td>Male</td>\n",
              "      <td>40.0</td>\n",
              "      <td>65.0</td>\n",
              "      <td>30.0</td>\n",
              "      <td>30 - 60 minute</td>\n",
              "      <td>02. 30 - 60 minute</td>\n",
              "    </tr>\n",
              "    <tr>\n",
              "      <th>...</th>\n",
              "      <td>...</td>\n",
              "      <td>...</td>\n",
              "      <td>...</td>\n",
              "      <td>...</td>\n",
              "      <td>...</td>\n",
              "      <td>...</td>\n",
              "    </tr>\n",
              "    <tr>\n",
              "      <th>230</th>\n",
              "      <td>Male</td>\n",
              "      <td>72.0</td>\n",
              "      <td>67.0</td>\n",
              "      <td>65.0</td>\n",
              "      <td>30 - 60 minute</td>\n",
              "      <td>02. 30 - 60 minute</td>\n",
              "    </tr>\n",
              "    <tr>\n",
              "      <th>231</th>\n",
              "      <td>Male</td>\n",
              "      <td>72.0</td>\n",
              "      <td>70.0</td>\n",
              "      <td>76.0</td>\n",
              "      <td>2 - 3 hour</td>\n",
              "      <td>04. 2 - 3 hour</td>\n",
              "    </tr>\n",
              "    <tr>\n",
              "      <th>232</th>\n",
              "      <td>Female</td>\n",
              "      <td>90.0</td>\n",
              "      <td>75.0</td>\n",
              "      <td>70.0</td>\n",
              "      <td>30 - 60 minute</td>\n",
              "      <td>02. 30 - 60 minute</td>\n",
              "    </tr>\n",
              "    <tr>\n",
              "      <th>233</th>\n",
              "      <td>Female</td>\n",
              "      <td>85.0</td>\n",
              "      <td>74.0</td>\n",
              "      <td>75.0</td>\n",
              "      <td>0 - 30 minute</td>\n",
              "      <td>01. less than 30 minutes</td>\n",
              "    </tr>\n",
              "    <tr>\n",
              "      <th>234</th>\n",
              "      <td>Female</td>\n",
              "      <td>45.0</td>\n",
              "      <td>45.0</td>\n",
              "      <td>50.0</td>\n",
              "      <td>3 - 4 hour</td>\n",
              "      <td>05. 3 - 4 hour</td>\n",
              "    </tr>\n",
              "  </tbody>\n",
              "</table>\n",
              "<p>235 rows × 6 columns</p>\n",
              "</div>\n",
              "      <button class=\"colab-df-convert\" onclick=\"convertToInteractive('df-8ac414b9-b776-497b-9371-fe37bbe279ea')\"\n",
              "              title=\"Convert this dataframe to an interactive table.\"\n",
              "              style=\"display:none;\">\n",
              "        \n",
              "  <svg xmlns=\"http://www.w3.org/2000/svg\" height=\"24px\"viewBox=\"0 0 24 24\"\n",
              "       width=\"24px\">\n",
              "    <path d=\"M0 0h24v24H0V0z\" fill=\"none\"/>\n",
              "    <path d=\"M18.56 5.44l.94 2.06.94-2.06 2.06-.94-2.06-.94-.94-2.06-.94 2.06-2.06.94zm-11 1L8.5 8.5l.94-2.06 2.06-.94-2.06-.94L8.5 2.5l-.94 2.06-2.06.94zm10 10l.94 2.06.94-2.06 2.06-.94-2.06-.94-.94-2.06-.94 2.06-2.06.94z\"/><path d=\"M17.41 7.96l-1.37-1.37c-.4-.4-.92-.59-1.43-.59-.52 0-1.04.2-1.43.59L10.3 9.45l-7.72 7.72c-.78.78-.78 2.05 0 2.83L4 21.41c.39.39.9.59 1.41.59.51 0 1.02-.2 1.41-.59l7.78-7.78 2.81-2.81c.8-.78.8-2.07 0-2.86zM5.41 20L4 18.59l7.72-7.72 1.47 1.35L5.41 20z\"/>\n",
              "  </svg>\n",
              "      </button>\n",
              "      \n",
              "  <style>\n",
              "    .colab-df-container {\n",
              "      display:flex;\n",
              "      flex-wrap:wrap;\n",
              "      gap: 12px;\n",
              "    }\n",
              "\n",
              "    .colab-df-convert {\n",
              "      background-color: #E8F0FE;\n",
              "      border: none;\n",
              "      border-radius: 50%;\n",
              "      cursor: pointer;\n",
              "      display: none;\n",
              "      fill: #1967D2;\n",
              "      height: 32px;\n",
              "      padding: 0 0 0 0;\n",
              "      width: 32px;\n",
              "    }\n",
              "\n",
              "    .colab-df-convert:hover {\n",
              "      background-color: #E2EBFA;\n",
              "      box-shadow: 0px 1px 2px rgba(60, 64, 67, 0.3), 0px 1px 3px 1px rgba(60, 64, 67, 0.15);\n",
              "      fill: #174EA6;\n",
              "    }\n",
              "\n",
              "    [theme=dark] .colab-df-convert {\n",
              "      background-color: #3B4455;\n",
              "      fill: #D2E3FC;\n",
              "    }\n",
              "\n",
              "    [theme=dark] .colab-df-convert:hover {\n",
              "      background-color: #434B5C;\n",
              "      box-shadow: 0px 1px 3px 1px rgba(0, 0, 0, 0.15);\n",
              "      filter: drop-shadow(0px 1px 2px rgba(0, 0, 0, 0.3));\n",
              "      fill: #FFFFFF;\n",
              "    }\n",
              "  </style>\n",
              "\n",
              "      <script>\n",
              "        const buttonEl =\n",
              "          document.querySelector('#df-8ac414b9-b776-497b-9371-fe37bbe279ea button.colab-df-convert');\n",
              "        buttonEl.style.display =\n",
              "          google.colab.kernel.accessAllowed ? 'block' : 'none';\n",
              "\n",
              "        async function convertToInteractive(key) {\n",
              "          const element = document.querySelector('#df-8ac414b9-b776-497b-9371-fe37bbe279ea');\n",
              "          const dataTable =\n",
              "            await google.colab.kernel.invokeFunction('convertToInteractive',\n",
              "                                                     [key], {});\n",
              "          if (!dataTable) return;\n",
              "\n",
              "          const docLinkHtml = 'Like what you see? Visit the ' +\n",
              "            '<a target=\"_blank\" href=https://colab.research.google.com/notebooks/data_table.ipynb>data table notebook</a>'\n",
              "            + ' to learn more about interactive tables.';\n",
              "          element.innerHTML = '';\n",
              "          dataTable['output_type'] = 'display_data';\n",
              "          await google.colab.output.renderOutput(dataTable, element);\n",
              "          const docLink = document.createElement('div');\n",
              "          docLink.innerHTML = docLinkHtml;\n",
              "          element.appendChild(docLink);\n",
              "        }\n",
              "      </script>\n",
              "    </div>\n",
              "  </div>\n",
              "  "
            ]
          },
          "metadata": {},
          "execution_count": 36
        }
      ]
    },
    {
      "cell_type": "code",
      "source": [
        "marks.groupby('studing_time').mean()"
      ],
      "metadata": {
        "colab": {
          "base_uri": "https://localhost:8080/",
          "height": 269
        },
        "id": "8yHUFI_7ihV1",
        "outputId": "6968e5d7-2e8a-4eea-cbb3-5322cc4b27c9"
      },
      "execution_count": null,
      "outputs": [
        {
          "output_type": "execute_result",
          "data": {
            "text/plain": [
              "                          10th Mark  12th Mark  college mark\n",
              "studing_time                                                \n",
              "01. less than 30 minutes  74.180435  66.133913     68.690435\n",
              "02. 30 - 60 minute        77.197531  68.928025     69.864198\n",
              "03. 1 - 2 hour            77.906557  70.085246     70.317541\n",
              "04. 2 - 3 hour            77.804167  68.366667     75.929167\n",
              "05. 3 - 4 hour            77.653333  68.333333     75.520000\n",
              "06. more than 4 hour      76.025000  74.625000     67.750000"
            ],
            "text/html": [
              "\n",
              "  <div id=\"df-c7618d4d-8687-4049-a6e9-40f067fa2bab\">\n",
              "    <div class=\"colab-df-container\">\n",
              "      <div>\n",
              "<style scoped>\n",
              "    .dataframe tbody tr th:only-of-type {\n",
              "        vertical-align: middle;\n",
              "    }\n",
              "\n",
              "    .dataframe tbody tr th {\n",
              "        vertical-align: top;\n",
              "    }\n",
              "\n",
              "    .dataframe thead th {\n",
              "        text-align: right;\n",
              "    }\n",
              "</style>\n",
              "<table border=\"1\" class=\"dataframe\">\n",
              "  <thead>\n",
              "    <tr style=\"text-align: right;\">\n",
              "      <th></th>\n",
              "      <th>10th Mark</th>\n",
              "      <th>12th Mark</th>\n",
              "      <th>college mark</th>\n",
              "    </tr>\n",
              "    <tr>\n",
              "      <th>studing_time</th>\n",
              "      <th></th>\n",
              "      <th></th>\n",
              "      <th></th>\n",
              "    </tr>\n",
              "  </thead>\n",
              "  <tbody>\n",
              "    <tr>\n",
              "      <th>01. less than 30 minutes</th>\n",
              "      <td>74.180435</td>\n",
              "      <td>66.133913</td>\n",
              "      <td>68.690435</td>\n",
              "    </tr>\n",
              "    <tr>\n",
              "      <th>02. 30 - 60 minute</th>\n",
              "      <td>77.197531</td>\n",
              "      <td>68.928025</td>\n",
              "      <td>69.864198</td>\n",
              "    </tr>\n",
              "    <tr>\n",
              "      <th>03. 1 - 2 hour</th>\n",
              "      <td>77.906557</td>\n",
              "      <td>70.085246</td>\n",
              "      <td>70.317541</td>\n",
              "    </tr>\n",
              "    <tr>\n",
              "      <th>04. 2 - 3 hour</th>\n",
              "      <td>77.804167</td>\n",
              "      <td>68.366667</td>\n",
              "      <td>75.929167</td>\n",
              "    </tr>\n",
              "    <tr>\n",
              "      <th>05. 3 - 4 hour</th>\n",
              "      <td>77.653333</td>\n",
              "      <td>68.333333</td>\n",
              "      <td>75.520000</td>\n",
              "    </tr>\n",
              "    <tr>\n",
              "      <th>06. more than 4 hour</th>\n",
              "      <td>76.025000</td>\n",
              "      <td>74.625000</td>\n",
              "      <td>67.750000</td>\n",
              "    </tr>\n",
              "  </tbody>\n",
              "</table>\n",
              "</div>\n",
              "      <button class=\"colab-df-convert\" onclick=\"convertToInteractive('df-c7618d4d-8687-4049-a6e9-40f067fa2bab')\"\n",
              "              title=\"Convert this dataframe to an interactive table.\"\n",
              "              style=\"display:none;\">\n",
              "        \n",
              "  <svg xmlns=\"http://www.w3.org/2000/svg\" height=\"24px\"viewBox=\"0 0 24 24\"\n",
              "       width=\"24px\">\n",
              "    <path d=\"M0 0h24v24H0V0z\" fill=\"none\"/>\n",
              "    <path d=\"M18.56 5.44l.94 2.06.94-2.06 2.06-.94-2.06-.94-.94-2.06-.94 2.06-2.06.94zm-11 1L8.5 8.5l.94-2.06 2.06-.94-2.06-.94L8.5 2.5l-.94 2.06-2.06.94zm10 10l.94 2.06.94-2.06 2.06-.94-2.06-.94-.94-2.06-.94 2.06-2.06.94z\"/><path d=\"M17.41 7.96l-1.37-1.37c-.4-.4-.92-.59-1.43-.59-.52 0-1.04.2-1.43.59L10.3 9.45l-7.72 7.72c-.78.78-.78 2.05 0 2.83L4 21.41c.39.39.9.59 1.41.59.51 0 1.02-.2 1.41-.59l7.78-7.78 2.81-2.81c.8-.78.8-2.07 0-2.86zM5.41 20L4 18.59l7.72-7.72 1.47 1.35L5.41 20z\"/>\n",
              "  </svg>\n",
              "      </button>\n",
              "      \n",
              "  <style>\n",
              "    .colab-df-container {\n",
              "      display:flex;\n",
              "      flex-wrap:wrap;\n",
              "      gap: 12px;\n",
              "    }\n",
              "\n",
              "    .colab-df-convert {\n",
              "      background-color: #E8F0FE;\n",
              "      border: none;\n",
              "      border-radius: 50%;\n",
              "      cursor: pointer;\n",
              "      display: none;\n",
              "      fill: #1967D2;\n",
              "      height: 32px;\n",
              "      padding: 0 0 0 0;\n",
              "      width: 32px;\n",
              "    }\n",
              "\n",
              "    .colab-df-convert:hover {\n",
              "      background-color: #E2EBFA;\n",
              "      box-shadow: 0px 1px 2px rgba(60, 64, 67, 0.3), 0px 1px 3px 1px rgba(60, 64, 67, 0.15);\n",
              "      fill: #174EA6;\n",
              "    }\n",
              "\n",
              "    [theme=dark] .colab-df-convert {\n",
              "      background-color: #3B4455;\n",
              "      fill: #D2E3FC;\n",
              "    }\n",
              "\n",
              "    [theme=dark] .colab-df-convert:hover {\n",
              "      background-color: #434B5C;\n",
              "      box-shadow: 0px 1px 3px 1px rgba(0, 0, 0, 0.15);\n",
              "      filter: drop-shadow(0px 1px 2px rgba(0, 0, 0, 0.3));\n",
              "      fill: #FFFFFF;\n",
              "    }\n",
              "  </style>\n",
              "\n",
              "      <script>\n",
              "        const buttonEl =\n",
              "          document.querySelector('#df-c7618d4d-8687-4049-a6e9-40f067fa2bab button.colab-df-convert');\n",
              "        buttonEl.style.display =\n",
              "          google.colab.kernel.accessAllowed ? 'block' : 'none';\n",
              "\n",
              "        async function convertToInteractive(key) {\n",
              "          const element = document.querySelector('#df-c7618d4d-8687-4049-a6e9-40f067fa2bab');\n",
              "          const dataTable =\n",
              "            await google.colab.kernel.invokeFunction('convertToInteractive',\n",
              "                                                     [key], {});\n",
              "          if (!dataTable) return;\n",
              "\n",
              "          const docLinkHtml = 'Like what you see? Visit the ' +\n",
              "            '<a target=\"_blank\" href=https://colab.research.google.com/notebooks/data_table.ipynb>data table notebook</a>'\n",
              "            + ' to learn more about interactive tables.';\n",
              "          element.innerHTML = '';\n",
              "          dataTable['output_type'] = 'display_data';\n",
              "          await google.colab.output.renderOutput(dataTable, element);\n",
              "          const docLink = document.createElement('div');\n",
              "          docLink.innerHTML = docLinkHtml;\n",
              "          element.appendChild(docLink);\n",
              "        }\n",
              "      </script>\n",
              "    </div>\n",
              "  </div>\n",
              "  "
            ]
          },
          "metadata": {},
          "execution_count": 37
        }
      ]
    },
    {
      "cell_type": "code",
      "source": [
        "sns.heatmap(marks.groupby('studing_time').mean(), cmap='PuBu')"
      ],
      "metadata": {
        "colab": {
          "base_uri": "https://localhost:8080/",
          "height": 445
        },
        "id": "Z3ILOdSkkkeI",
        "outputId": "9afa3718-118d-4ddd-a88e-f29cc2ce8933"
      },
      "execution_count": null,
      "outputs": [
        {
          "output_type": "execute_result",
          "data": {
            "text/plain": [
              "<matplotlib.axes._subplots.AxesSubplot at 0x7f98fb537910>"
            ]
          },
          "metadata": {},
          "execution_count": 39
        },
        {
          "output_type": "display_data",
          "data": {
            "text/plain": [
              "<Figure size 792x504 with 2 Axes>"
            ],
            "image/png": "[encoded data removed]"
          },
          "metadata": {
            "needs_background": "light"
          }
        }
      ]
    },
    {
      "cell_type": "markdown",
      "source": [
        "В школе дети уделяют обучению время по-разному. Диапазон от меньше 30 минут до более 4 часов. Те, кто получает более высокие оценки, уделяют обучению от 1 до 4 часов в день.\n",
        "\n",
        "Для получения высоких оценок уже в старших классах дети уже уделяют более 4 часов.\n",
        "\n",
        "В колледже тоже определён оптимальный интервал времени, который помогает полоучать высокие оценки -- 2-4 часа в день"
      ],
      "metadata": {
        "id": "xJ-HUtRDrlo6"
      }
    },
    {
      "cell_type": "markdown",
      "source": [
        "Обдумать вариант \"Не верят в хорошую карьеру\": добавить столбец ожидания карьеры и подумать, мб не верят в хорошую карьеру, поэтому плохо учатся"
      ],
      "metadata": {
        "id": "9xzjvrxl_aBX"
      }
    },
    {
      "cell_type": "code",
      "source": [
        "femi = df.loc[df['Gender'] == 'Female']\n",
        "\n",
        "male = df.loc[df['Gender'] == 'Male']"
      ],
      "metadata": {
        "id": "WKcMzNW4qvrl"
      },
      "execution_count": null,
      "outputs": []
    },
    {
      "cell_type": "code",
      "source": [
        "femi.head(2)"
      ],
      "metadata": {
        "colab": {
          "base_uri": "https://localhost:8080/",
          "height": 350
        },
        "id": "xwj2g8fJ4nUD",
        "outputId": "0049d730-09a0-4331-cdfa-361315804a7a"
      },
      "execution_count": null,
      "outputs": [
        {
          "output_type": "execute_result",
          "data": {
            "text/plain": [
              "  Have you completed any certification courses, or are you currently enrolled in any?  \\\n",
              "1                                                 No                                    \n",
              "3                                                Yes                                    \n",
              "\n",
              "   Gender Department  Height(CM)  Weight(KG)  10th Mark  12th Mark  \\\n",
              "1  Female        BCA        90.0        40.0       70.0       80.0   \n",
              "3  Female        BCA       147.0        20.0       70.0       59.0   \n",
              "\n",
              "   college mark        hobbies daily studing time prefer to study in  \\\n",
              "1          70.0         Cinema     30 - 60 minute            Morning   \n",
              "3          58.0  Reading books         1 - 2 Hour            Anytime   \n",
              "\n",
              "   salary expectation Do you like your degree?  \\\n",
              "1               15000                      Yes   \n",
              "3             1500000                       No   \n",
              "\n",
              "  possibility of choosing  their career based on their degree :   \\\n",
              "1                                                75%               \n",
              "3                                                50%               \n",
              "\n",
              "  social medai & video games spending Time Travelling Time  Stress Level   \\\n",
              "1                            1 - 1.30 hour   0 - 30 minutes           Bad   \n",
              "3                            1.30 - 2 hour   0 - 30 minutes           Bad   \n",
              "\n",
              "  Financial Status Are you doing a part-time job right now?  \n",
              "1              Bad                                       No  \n",
              "3             good                                       No  "
            ],
            "text/html": [
              "\n",
              "  <div id=\"df-7974b86a-c1b9-4294-858f-40f02aa68d71\">\n",
              "    <div class=\"colab-df-container\">\n",
              "      <div>\n",
              "<style scoped>\n",
              "    .dataframe tbody tr th:only-of-type {\n",
              "        vertical-align: middle;\n",
              "    }\n",
              "\n",
              "    .dataframe tbody tr th {\n",
              "        vertical-align: top;\n",
              "    }\n",
              "\n",
              "    .dataframe thead th {\n",
              "        text-align: right;\n",
              "    }\n",
              "</style>\n",
              "<table border=\"1\" class=\"dataframe\">\n",
              "  <thead>\n",
              "    <tr style=\"text-align: right;\">\n",
              "      <th></th>\n",
              "      <th>Have you completed any certification courses, or are you currently enrolled in any?</th>\n",
              "      <th>Gender</th>\n",
              "      <th>Department</th>\n",
              "      <th>Height(CM)</th>\n",
              "      <th>Weight(KG)</th>\n",
              "      <th>10th Mark</th>\n",
              "      <th>12th Mark</th>\n",
              "      <th>college mark</th>\n",
              "      <th>hobbies</th>\n",
              "      <th>daily studing time</th>\n",
              "      <th>prefer to study in</th>\n",
              "      <th>salary expectation</th>\n",
              "      <th>Do you like your degree?</th>\n",
              "      <th>possibility of choosing  their career based on their degree :</th>\n",
              "      <th>social medai &amp; video games spending Time</th>\n",
              "      <th>Travelling Time</th>\n",
              "      <th>Stress Level</th>\n",
              "      <th>Financial Status</th>\n",
              "      <th>Are you doing a part-time job right now?</th>\n",
              "    </tr>\n",
              "  </thead>\n",
              "  <tbody>\n",
              "    <tr>\n",
              "      <th>1</th>\n",
              "      <td>No</td>\n",
              "      <td>Female</td>\n",
              "      <td>BCA</td>\n",
              "      <td>90.0</td>\n",
              "      <td>40.0</td>\n",
              "      <td>70.0</td>\n",
              "      <td>80.0</td>\n",
              "      <td>70.0</td>\n",
              "      <td>Cinema</td>\n",
              "      <td>30 - 60 minute</td>\n",
              "      <td>Morning</td>\n",
              "      <td>15000</td>\n",
              "      <td>Yes</td>\n",
              "      <td>75%</td>\n",
              "      <td>1 - 1.30 hour</td>\n",
              "      <td>0 - 30 minutes</td>\n",
              "      <td>Bad</td>\n",
              "      <td>Bad</td>\n",
              "      <td>No</td>\n",
              "    </tr>\n",
              "    <tr>\n",
              "      <th>3</th>\n",
              "      <td>Yes</td>\n",
              "      <td>Female</td>\n",
              "      <td>BCA</td>\n",
              "      <td>147.0</td>\n",
              "      <td>20.0</td>\n",
              "      <td>70.0</td>\n",
              "      <td>59.0</td>\n",
              "      <td>58.0</td>\n",
              "      <td>Reading books</td>\n",
              "      <td>1 - 2 Hour</td>\n",
              "      <td>Anytime</td>\n",
              "      <td>1500000</td>\n",
              "      <td>No</td>\n",
              "      <td>50%</td>\n",
              "      <td>1.30 - 2 hour</td>\n",
              "      <td>0 - 30 minutes</td>\n",
              "      <td>Bad</td>\n",
              "      <td>good</td>\n",
              "      <td>No</td>\n",
              "    </tr>\n",
              "  </tbody>\n",
              "</table>\n",
              "</div>\n",
              "      <button class=\"colab-df-convert\" onclick=\"convertToInteractive('df-7974b86a-c1b9-4294-858f-40f02aa68d71')\"\n",
              "              title=\"Convert this dataframe to an interactive table.\"\n",
              "              style=\"display:none;\">\n",
              "        \n",
              "  <svg xmlns=\"http://www.w3.org/2000/svg\" height=\"24px\"viewBox=\"0 0 24 24\"\n",
              "       width=\"24px\">\n",
              "    <path d=\"M0 0h24v24H0V0z\" fill=\"none\"/>\n",
              "    <path d=\"M18.56 5.44l.94 2.06.94-2.06 2.06-.94-2.06-.94-.94-2.06-.94 2.06-2.06.94zm-11 1L8.5 8.5l.94-2.06 2.06-.94-2.06-.94L8.5 2.5l-.94 2.06-2.06.94zm10 10l.94 2.06.94-2.06 2.06-.94-2.06-.94-.94-2.06-.94 2.06-2.06.94z\"/><path d=\"M17.41 7.96l-1.37-1.37c-.4-.4-.92-.59-1.43-.59-.52 0-1.04.2-1.43.59L10.3 9.45l-7.72 7.72c-.78.78-.78 2.05 0 2.83L4 21.41c.39.39.9.59 1.41.59.51 0 1.02-.2 1.41-.59l7.78-7.78 2.81-2.81c.8-.78.8-2.07 0-2.86zM5.41 20L4 18.59l7.72-7.72 1.47 1.35L5.41 20z\"/>\n",
              "  </svg>\n",
              "      </button>\n",
              "      \n",
              "  <style>\n",
              "    .colab-df-container {\n",
              "      display:flex;\n",
              "      flex-wrap:wrap;\n",
              "      gap: 12px;\n",
              "    }\n",
              "\n",
              "    .colab-df-convert {\n",
              "      background-color: #E8F0FE;\n",
              "      border: none;\n",
              "      border-radius: 50%;\n",
              "      cursor: pointer;\n",
              "      display: none;\n",
              "      fill: #1967D2;\n",
              "      height: 32px;\n",
              "      padding: 0 0 0 0;\n",
              "      width: 32px;\n",
              "    }\n",
              "\n",
              "    .colab-df-convert:hover {\n",
              "      background-color: #E2EBFA;\n",
              "      box-shadow: 0px 1px 2px rgba(60, 64, 67, 0.3), 0px 1px 3px 1px rgba(60, 64, 67, 0.15);\n",
              "      fill: #174EA6;\n",
              "    }\n",
              "\n",
              "    [theme=dark] .colab-df-convert {\n",
              "      background-color: #3B4455;\n",
              "      fill: #D2E3FC;\n",
              "    }\n",
              "\n",
              "    [theme=dark] .colab-df-convert:hover {\n",
              "      background-color: #434B5C;\n",
              "      box-shadow: 0px 1px 3px 1px rgba(0, 0, 0, 0.15);\n",
              "      filter: drop-shadow(0px 1px 2px rgba(0, 0, 0, 0.3));\n",
              "      fill: #FFFFFF;\n",
              "    }\n",
              "  </style>\n",
              "\n",
              "      <script>\n",
              "        const buttonEl =\n",
              "          document.querySelector('#df-7974b86a-c1b9-4294-858f-40f02aa68d71 button.colab-df-convert');\n",
              "        buttonEl.style.display =\n",
              "          google.colab.kernel.accessAllowed ? 'block' : 'none';\n",
              "\n",
              "        async function convertToInteractive(key) {\n",
              "          const element = document.querySelector('#df-7974b86a-c1b9-4294-858f-40f02aa68d71');\n",
              "          const dataTable =\n",
              "            await google.colab.kernel.invokeFunction('convertToInteractive',\n",
              "                                                     [key], {});\n",
              "          if (!dataTable) return;\n",
              "\n",
              "          const docLinkHtml = 'Like what you see? Visit the ' +\n",
              "            '<a target=\"_blank\" href=https://colab.research.google.com/notebooks/data_table.ipynb>data table notebook</a>'\n",
              "            + ' to learn more about interactive tables.';\n",
              "          element.innerHTML = '';\n",
              "          dataTable['output_type'] = 'display_data';\n",
              "          await google.colab.output.renderOutput(dataTable, element);\n",
              "          const docLink = document.createElement('div');\n",
              "          docLink.innerHTML = docLinkHtml;\n",
              "          element.appendChild(docLink);\n",
              "        }\n",
              "      </script>\n",
              "    </div>\n",
              "  </div>\n",
              "  "
            ]
          },
          "metadata": {},
          "execution_count": 117
        }
      ]
    },
    {
      "cell_type": "code",
      "source": [
        "femi['10th Mark'][:5]"
      ],
      "metadata": {
        "colab": {
          "base_uri": "https://localhost:8080/"
        },
        "id": "vg3mvMQt45ZU",
        "outputId": "1b07da64-8e55-4875-e6ba-e713f8331f88"
      },
      "execution_count": null,
      "outputs": [
        {
          "output_type": "execute_result",
          "data": {
            "text/plain": [
              "1     70.0\n",
              "3     70.0\n",
              "5     90.0\n",
              "11    60.0\n",
              "12    59.0\n",
              "Name: 10th Mark, dtype: float64"
            ]
          },
          "metadata": {},
          "execution_count": 118
        }
      ]
    },
    {
      "cell_type": "code",
      "source": [
        "femi['Travelling Time ']"
      ],
      "metadata": {
        "colab": {
          "base_uri": "https://localhost:8080/"
        },
        "id": "HurOyr-e2JIs",
        "outputId": "b13eca6f-d013-49fb-d7f7-405f5452de86"
      },
      "execution_count": null,
      "outputs": [
        {
          "output_type": "execute_result",
          "data": {
            "text/plain": [
              "1       0 - 30 minutes\n",
              "3       0 - 30 minutes\n",
              "5       0 - 30 minutes\n",
              "11       2 - 2.30 hour\n",
              "12     30 - 60 minutes\n",
              "            ...       \n",
              "226    30 - 60 minutes\n",
              "229     0 - 30 minutes\n",
              "232      2.30 - 3 hour\n",
              "233      2.30 - 3 hour\n",
              "234      2.30 - 3 hour\n",
              "Name: Travelling Time , Length: 79, dtype: object"
            ]
          },
          "metadata": {},
          "execution_count": 17
        }
      ]
    },
    {
      "cell_type": "code",
      "source": [
        "femi['prefer to study in']"
      ],
      "metadata": {
        "colab": {
          "base_uri": "https://localhost:8080/"
        },
        "id": "_eB0H-SH5SPu",
        "outputId": "732f387c-35f0-44d3-d6dd-fd51646ced5a"
      },
      "execution_count": null,
      "outputs": [
        {
          "output_type": "execute_result",
          "data": {
            "text/plain": [
              "1      Morning\n",
              "3      Anytime\n",
              "5        Night\n",
              "11       Night\n",
              "12     Morning\n",
              "        ...   \n",
              "226      Night\n",
              "229    Anytime\n",
              "232      Night\n",
              "233    Anytime\n",
              "234      Night\n",
              "Name: prefer to study in, Length: 79, dtype: object"
            ]
          },
          "metadata": {},
          "execution_count": 22
        }
      ]
    },
    {
      "cell_type": "code",
      "source": [
        "male['salary expectation']"
      ],
      "metadata": {
        "colab": {
          "base_uri": "https://localhost:8080/"
        },
        "id": "6S5Mf6ROhRhd",
        "outputId": "d6e053b9-6735-46f3-847e-40fb408c228e"
      },
      "execution_count": null,
      "outputs": [
        {
          "output_type": "execute_result",
          "data": {
            "text/plain": [
              "0      40000\n",
              "2      13000\n",
              "4      50000\n",
              "6      15000\n",
              "7      25000\n",
              "       ...  \n",
              "223    16000\n",
              "227    17000\n",
              "228      500\n",
              "230     7000\n",
              "231    25000\n",
              "Name: salary expectation, Length: 156, dtype: int64"
            ]
          },
          "metadata": {},
          "execution_count": 152
        }
      ]
    },
    {
      "cell_type": "code",
      "source": [
        "(femi['salary expectation']/1000).plot(kind='hist', \n",
        "                     alpha = 0.5,\n",
        "                     bins=20,\n",
        "                     label='Ожидания девочек')\n",
        "                    #  density = True)\n",
        "\n",
        "(male['salary expectation']/1000).plot(kind='hist', \n",
        "                     alpha = 0.5,\n",
        "                     bins=20,\n",
        "                     label='Ожидания мальчиков')\n",
        "                    #  density = True)\n",
        "\n",
        "plt.title('Ожидания по зарплате в тыс.', size=23)\n",
        "plt.legend()"
      ],
      "metadata": {
        "colab": {
          "base_uri": "https://localhost:8080/",
          "height": 527
        },
        "id": "fpiwyfYc687h",
        "outputId": "d9ed544a-a534-450f-ce51-45e705a5b67b"
      },
      "execution_count": null,
      "outputs": [
        {
          "output_type": "execute_result",
          "data": {
            "text/plain": [
              "<matplotlib.legend.Legend at 0x7f4a8db313d0>"
            ]
          },
          "metadata": {},
          "execution_count": 24
        },
        {
          "output_type": "display_data",
          "data": {
            "text/plain": [
              "<Figure size 720x576 with 1 Axes>"
            ],
            "image/png": "[encoded data removed]"
          },
          "metadata": {}
        }
      ]
    },
    {
      "cell_type": "code",
      "source": [
        "# libraries & dataset\n",
        "import seaborn as sns\n",
        "import matplotlib.pyplot as plt\n",
        "# set a grey background (use sns.set_theme() if seaborn version 0.11.0 or above) \n",
        "sns.set(style=\"darkgrid\")\n",
        "# df = sns.load_dataset(\"iris\")\n",
        "\n",
        "sns.histplot(data=femi, x=femi['salary expectation'], color=\"red\", label=\"Девочки\", kde=True)\n",
        "sns.histplot(data=male, x=male['salary expectation'], color=\"skyblue\", label=\"Мальчики\", kde=True)\n",
        "\n",
        "# # figure size in inches\n",
        "rcParams['figure.figsize'] = 10, 8 #Что-то я так и не поняла, как нстроить размеры\n",
        "\n",
        "plt.legend() \n",
        "plt.show()"
      ],
      "metadata": {
        "colab": {
          "base_uri": "https://localhost:8080/",
          "height": 448
        },
        "id": "GktMVqH0iAzo",
        "outputId": "36f1c6ff-a304-4fdd-c89a-7ea9ce631d2b"
      },
      "execution_count": null,
      "outputs": [
        {
          "output_type": "display_data",
          "data": {
            "text/plain": [
              "<Figure size 792x504 with 1 Axes>"
            ],
            "image/png": "[encoded data removed]"
          },
          "metadata": {}
        }
      ]
    },
    {
      "cell_type": "code",
      "source": [
        "print(\"Максимум по ожиданиям по всей выборке \", df['salary expectation'].max())\n",
        "print(\"Среднее по ожиданиям по всей выборке \", df['salary expectation'].mean())\n",
        "print(\"Максимум по ожиданиям среди девочек \", femi['salary expectation'].max())\n",
        "print(\"Среднее по ожиданиям среди девочек \", femi['salary expectation'].mean())\n",
        "print(\"Максимум по ожиданиям среди мальчиков \", male['salary expectation'].max())\n",
        "print(\"Среднее по ожиданиям среди мальчиков \", male['salary expectation'].mean())\n",
        "print('--------------------')\n",
        "print(\"Мода по ожиданиям по всей выборке \", df['salary expectation'].mode())\n",
        "print(\"Медиан по ожиданиям по всей выборке \", df['salary expectation'].median())\n",
        "print(\"Мода по ожиданиям среди девочек \", femi['salary expectation'].mode())\n",
        "print(\"Медиан по ожиданиям среди девочек \", femi['salary expectation'].median())\n",
        "print(\"Мода по ожиданиям среди мальчиков \", male['salary expectation'].mode())\n",
        "print(\"Медиан по ожиданиям среди мальчиков \", male['salary expectation'].median())"
      ],
      "metadata": {
        "colab": {
          "base_uri": "https://localhost:8080/"
        },
        "id": "QfV4T-NhWqnJ",
        "outputId": "828dc7d5-d197-4077-b270-8553671703b4"
      },
      "execution_count": null,
      "outputs": [
        {
          "output_type": "stream",
          "name": "stdout",
          "text": [
            "Максимум по ожиданиям по всей выборке  1500000\n",
            "Среднее по ожиданиям по всей выборке  32481.68085106383\n",
            "Максимум по ожиданиям среди девочек  1500000\n",
            "Среднее по ожиданиям среди девочек  38165.0\n",
            "Максимум по ожиданиям среди мальчиков  700000\n",
            "Среднее по ожиданиям среди мальчиков  29603.589743589742\n",
            "--------------------\n",
            "Мода по ожиданиям по всей выборке  0    20000\n",
            "dtype: int64\n",
            "Медиан по ожиданиям по всей выборке  20000.0\n",
            "Мода по ожиданиям среди девочек  0    20000\n",
            "dtype: int64\n",
            "Медиан по ожиданиям среди девочек  17000.0\n",
            "Мода по ожиданиям среди мальчиков  0    20000\n",
            "dtype: int64\n",
            "Медиан по ожиданиям среди мальчиков  20000.0\n"
          ]
        }
      ]
    },
    {
      "cell_type": "markdown",
      "source": [
        "##Вывод\n",
        "Девочки настроены  зарабатывать суммы, выше, чем планируют зарабатывать мальчики. Очень маленькие группки (Если не единичные случаи) мальчиков настроены зарабатывать среднее по выборке. И есть девочки, которые собираются зарабывать несоразмеримо больше всех остальных из опршенных. Так?))\n",
        "\n",
        "Больше я ничего не понимаю в гистограммах.\n",
        "Буду очень признательна, если вы поможете мне понять, что я тут вижу. То, что дети не рассчитывают получать высокие з/п. И чаще всего называют суммы близкие к низкой зарплате? Или что?\n",
        "И не могу нагуглить что-то, где на пальцах объясняют, как правильно читать эти гистограммы. Вижу, они часто используются, поэтому очень бы хотелось научиться понимать их"
      ],
      "metadata": {
        "id": "-A6VSnwmoFCG"
      }
    },
    {
      "cell_type": "code",
      "source": [
        "df.head(2)"
      ],
      "metadata": {
        "colab": {
          "base_uri": "https://localhost:8080/",
          "height": 350
        },
        "id": "hqeadg937Etm",
        "outputId": "7627de36-daaa-482d-ade0-30e5bead1da5"
      },
      "execution_count": null,
      "outputs": [
        {
          "output_type": "execute_result",
          "data": {
            "text/plain": [
              "  Have you completed any certification courses, or are you currently enrolled in any?  \\\n",
              "0                                                 No                                    \n",
              "1                                                 No                                    \n",
              "\n",
              "   Gender Department  Height(CM)  Weight(KG)  10th Mark  12th Mark  \\\n",
              "0    Male        BCA       100.0        58.0       79.0       65.0   \n",
              "1  Female        BCA        90.0        40.0       70.0       80.0   \n",
              "\n",
              "   college mark      hobbies daily studing time prefer to study in  \\\n",
              "0          80.0  Video Games      0 - 30 minute            Morning   \n",
              "1          70.0       Cinema     30 - 60 minute            Morning   \n",
              "\n",
              "   salary expectation Do you like your degree?  \\\n",
              "0               40000                       No   \n",
              "1               15000                      Yes   \n",
              "\n",
              "  possibility of choosing  their career based on their degree :   \\\n",
              "0                                                50%               \n",
              "1                                                75%               \n",
              "\n",
              "  social medai & video games spending Time Travelling Time  Stress Level   \\\n",
              "0                            1.30 - 2 hour  30 - 60 minutes           Bad   \n",
              "1                            1 - 1.30 hour   0 - 30 minutes           Bad   \n",
              "\n",
              "  Financial Status Are you doing a part-time job right now?  \n",
              "0              Bad                                       No  \n",
              "1              Bad                                       No  "
            ],
            "text/html": [
              "\n",
              "  <div id=\"df-e0128c5e-aed6-41f6-8133-c08ff7095dcb\">\n",
              "    <div class=\"colab-df-container\">\n",
              "      <div>\n",
              "<style scoped>\n",
              "    .dataframe tbody tr th:only-of-type {\n",
              "        vertical-align: middle;\n",
              "    }\n",
              "\n",
              "    .dataframe tbody tr th {\n",
              "        vertical-align: top;\n",
              "    }\n",
              "\n",
              "    .dataframe thead th {\n",
              "        text-align: right;\n",
              "    }\n",
              "</style>\n",
              "<table border=\"1\" class=\"dataframe\">\n",
              "  <thead>\n",
              "    <tr style=\"text-align: right;\">\n",
              "      <th></th>\n",
              "      <th>Have you completed any certification courses, or are you currently enrolled in any?</th>\n",
              "      <th>Gender</th>\n",
              "      <th>Department</th>\n",
              "      <th>Height(CM)</th>\n",
              "      <th>Weight(KG)</th>\n",
              "      <th>10th Mark</th>\n",
              "      <th>12th Mark</th>\n",
              "      <th>college mark</th>\n",
              "      <th>hobbies</th>\n",
              "      <th>daily studing time</th>\n",
              "      <th>prefer to study in</th>\n",
              "      <th>salary expectation</th>\n",
              "      <th>Do you like your degree?</th>\n",
              "      <th>possibility of choosing  their career based on their degree :</th>\n",
              "      <th>social medai &amp; video games spending Time</th>\n",
              "      <th>Travelling Time</th>\n",
              "      <th>Stress Level</th>\n",
              "      <th>Financial Status</th>\n",
              "      <th>Are you doing a part-time job right now?</th>\n",
              "    </tr>\n",
              "  </thead>\n",
              "  <tbody>\n",
              "    <tr>\n",
              "      <th>0</th>\n",
              "      <td>No</td>\n",
              "      <td>Male</td>\n",
              "      <td>BCA</td>\n",
              "      <td>100.0</td>\n",
              "      <td>58.0</td>\n",
              "      <td>79.0</td>\n",
              "      <td>65.0</td>\n",
              "      <td>80.0</td>\n",
              "      <td>Video Games</td>\n",
              "      <td>0 - 30 minute</td>\n",
              "      <td>Morning</td>\n",
              "      <td>40000</td>\n",
              "      <td>No</td>\n",
              "      <td>50%</td>\n",
              "      <td>1.30 - 2 hour</td>\n",
              "      <td>30 - 60 minutes</td>\n",
              "      <td>Bad</td>\n",
              "      <td>Bad</td>\n",
              "      <td>No</td>\n",
              "    </tr>\n",
              "    <tr>\n",
              "      <th>1</th>\n",
              "      <td>No</td>\n",
              "      <td>Female</td>\n",
              "      <td>BCA</td>\n",
              "      <td>90.0</td>\n",
              "      <td>40.0</td>\n",
              "      <td>70.0</td>\n",
              "      <td>80.0</td>\n",
              "      <td>70.0</td>\n",
              "      <td>Cinema</td>\n",
              "      <td>30 - 60 minute</td>\n",
              "      <td>Morning</td>\n",
              "      <td>15000</td>\n",
              "      <td>Yes</td>\n",
              "      <td>75%</td>\n",
              "      <td>1 - 1.30 hour</td>\n",
              "      <td>0 - 30 minutes</td>\n",
              "      <td>Bad</td>\n",
              "      <td>Bad</td>\n",
              "      <td>No</td>\n",
              "    </tr>\n",
              "  </tbody>\n",
              "</table>\n",
              "</div>\n",
              "      <button class=\"colab-df-convert\" onclick=\"convertToInteractive('df-e0128c5e-aed6-41f6-8133-c08ff7095dcb')\"\n",
              "              title=\"Convert this dataframe to an interactive table.\"\n",
              "              style=\"display:none;\">\n",
              "        \n",
              "  <svg xmlns=\"http://www.w3.org/2000/svg\" height=\"24px\"viewBox=\"0 0 24 24\"\n",
              "       width=\"24px\">\n",
              "    <path d=\"M0 0h24v24H0V0z\" fill=\"none\"/>\n",
              "    <path d=\"M18.56 5.44l.94 2.06.94-2.06 2.06-.94-2.06-.94-.94-2.06-.94 2.06-2.06.94zm-11 1L8.5 8.5l.94-2.06 2.06-.94-2.06-.94L8.5 2.5l-.94 2.06-2.06.94zm10 10l.94 2.06.94-2.06 2.06-.94-2.06-.94-.94-2.06-.94 2.06-2.06.94z\"/><path d=\"M17.41 7.96l-1.37-1.37c-.4-.4-.92-.59-1.43-.59-.52 0-1.04.2-1.43.59L10.3 9.45l-7.72 7.72c-.78.78-.78 2.05 0 2.83L4 21.41c.39.39.9.59 1.41.59.51 0 1.02-.2 1.41-.59l7.78-7.78 2.81-2.81c.8-.78.8-2.07 0-2.86zM5.41 20L4 18.59l7.72-7.72 1.47 1.35L5.41 20z\"/>\n",
              "  </svg>\n",
              "      </button>\n",
              "      \n",
              "  <style>\n",
              "    .colab-df-container {\n",
              "      display:flex;\n",
              "      flex-wrap:wrap;\n",
              "      gap: 12px;\n",
              "    }\n",
              "\n",
              "    .colab-df-convert {\n",
              "      background-color: #E8F0FE;\n",
              "      border: none;\n",
              "      border-radius: 50%;\n",
              "      cursor: pointer;\n",
              "      display: none;\n",
              "      fill: #1967D2;\n",
              "      height: 32px;\n",
              "      padding: 0 0 0 0;\n",
              "      width: 32px;\n",
              "    }\n",
              "\n",
              "    .colab-df-convert:hover {\n",
              "      background-color: #E2EBFA;\n",
              "      box-shadow: 0px 1px 2px rgba(60, 64, 67, 0.3), 0px 1px 3px 1px rgba(60, 64, 67, 0.15);\n",
              "      fill: #174EA6;\n",
              "    }\n",
              "\n",
              "    [theme=dark] .colab-df-convert {\n",
              "      background-color: #3B4455;\n",
              "      fill: #D2E3FC;\n",
              "    }\n",
              "\n",
              "    [theme=dark] .colab-df-convert:hover {\n",
              "      background-color: #434B5C;\n",
              "      box-shadow: 0px 1px 3px 1px rgba(0, 0, 0, 0.15);\n",
              "      filter: drop-shadow(0px 1px 2px rgba(0, 0, 0, 0.3));\n",
              "      fill: #FFFFFF;\n",
              "    }\n",
              "  </style>\n",
              "\n",
              "      <script>\n",
              "        const buttonEl =\n",
              "          document.querySelector('#df-e0128c5e-aed6-41f6-8133-c08ff7095dcb button.colab-df-convert');\n",
              "        buttonEl.style.display =\n",
              "          google.colab.kernel.accessAllowed ? 'block' : 'none';\n",
              "\n",
              "        async function convertToInteractive(key) {\n",
              "          const element = document.querySelector('#df-e0128c5e-aed6-41f6-8133-c08ff7095dcb');\n",
              "          const dataTable =\n",
              "            await google.colab.kernel.invokeFunction('convertToInteractive',\n",
              "                                                     [key], {});\n",
              "          if (!dataTable) return;\n",
              "\n",
              "          const docLinkHtml = 'Like what you see? Visit the ' +\n",
              "            '<a target=\"_blank\" href=https://colab.research.google.com/notebooks/data_table.ipynb>data table notebook</a>'\n",
              "            + ' to learn more about interactive tables.';\n",
              "          element.innerHTML = '';\n",
              "          dataTable['output_type'] = 'display_data';\n",
              "          await google.colab.output.renderOutput(dataTable, element);\n",
              "          const docLink = document.createElement('div');\n",
              "          docLink.innerHTML = docLinkHtml;\n",
              "          element.appendChild(docLink);\n",
              "        }\n",
              "      </script>\n",
              "    </div>\n",
              "  </div>\n",
              "  "
            ]
          },
          "metadata": {},
          "execution_count": 55
        }
      ]
    },
    {
      "cell_type": "markdown",
      "source": [
        "Сравним набор увлечений среди мальчиков и девочек"
      ],
      "metadata": {
        "id": "qVH661Q5AIg4"
      }
    },
    {
      "cell_type": "code",
      "source": [
        "femi_trav_hobbies = df.loc[df['Gender'] == 'Female']['hobbies']\n",
        "\n",
        "male_trav_hobbies = df.loc[df['Gender'] == 'Male']['hobbies']"
      ],
      "metadata": {
        "id": "heOnCU-676Z1"
      },
      "execution_count": null,
      "outputs": []
    },
    {
      "cell_type": "code",
      "source": [
        "femi_trav_hobbies.unique()\n",
        "\n",
        "# НЕ подходит! выводит не в том порядке, который мне нужен!\n",
        "# Он выводит по алфавитному порядку, а мне нужен порядок, привзанный к порядку значений"
      ],
      "metadata": {
        "colab": {
          "base_uri": "https://localhost:8080/"
        },
        "id": "u8OlG1tx8gSt",
        "outputId": "eac77c87-7b3e-46c9-db17-948375876d83"
      },
      "execution_count": null,
      "outputs": [
        {
          "output_type": "execute_result",
          "data": {
            "text/plain": [
              "array(['Cinema', 'Reading books', 'Sports', 'Video Games'], dtype=object)"
            ]
          },
          "metadata": {},
          "execution_count": 26
        }
      ]
    },
    {
      "cell_type": "code",
      "source": [
        "femi_trav_hobbies.value_counts().index\n",
        "\n",
        "# То, что надо))"
      ],
      "metadata": {
        "colab": {
          "base_uri": "https://localhost:8080/"
        },
        "id": "c-doTTep-IcY",
        "outputId": "53117378-eb63-4e29-cfe1-b5211ff492ce"
      },
      "execution_count": null,
      "outputs": [
        {
          "output_type": "execute_result",
          "data": {
            "text/plain": [
              "Index(['Cinema', 'Sports', 'Reading books', 'Video Games'], dtype='object')"
            ]
          },
          "metadata": {},
          "execution_count": 27
        }
      ]
    },
    {
      "cell_type": "code",
      "source": [
        "femi_trav_hobbies.value_counts()"
      ],
      "metadata": {
        "colab": {
          "base_uri": "https://localhost:8080/"
        },
        "id": "oj9mAPW2-1ri",
        "outputId": "69db4abe-29ad-40aa-e556-7e3e8b4d3d43"
      },
      "execution_count": null,
      "outputs": [
        {
          "output_type": "execute_result",
          "data": {
            "text/plain": [
              "Cinema           35\n",
              "Sports           23\n",
              "Reading books    18\n",
              "Video Games       3\n",
              "Name: hobbies, dtype: int64"
            ]
          },
          "metadata": {},
          "execution_count": 68
        }
      ]
    },
    {
      "cell_type": "code",
      "source": [
        "!pip install squarify"
      ],
      "metadata": {
        "colab": {
          "base_uri": "https://localhost:8080/"
        },
        "id": "54g_rGlh6pvU",
        "outputId": "fd6bd66c-e5d4-4b4f-9ca4-89f3503f619b"
      },
      "execution_count": null,
      "outputs": [
        {
          "output_type": "stream",
          "name": "stdout",
          "text": [
            "Looking in indexes: https://pypi.org/simple, https://us-python.pkg.dev/colab-wheels/public/simple/\n",
            "Collecting squarify\n",
            "  Downloading squarify-0.4.3-py3-none-any.whl (4.3 kB)\n",
            "Installing collected packages: squarify\n",
            "Successfully installed squarify-0.4.3\n"
          ]
        }
      ]
    },
    {
      "cell_type": "code",
      "source": [
        "# libraries\n",
        "import matplotlib.pyplot as plt\n",
        "import squarify    # pip install squarify (algorithm for treemap)\n",
        "import pandas as pd\n",
        "\n",
        "# Create a data frame with fake data\n",
        "# Эту запись оставила, чтоб помнить как создавать на ходу)\n",
        "# df = pd.DataFrame({'количество упоминаний':femi_trav_hobbies.value_counts(), 'хобби':femi_trav_hobbies.value_counts().index })\n",
        "\n",
        "# plot it\n",
        "# squarify.plot(sizes=df['количество упоминаний'], label=df['хобби'], alpha=.1 )\n",
        "\n",
        "# plot it\n",
        "squarify.plot(sizes=femi_trav_hobbies.value_counts(), label=femi_trav_hobbies.value_counts().index, alpha=.5, pad = True )\n",
        "plt.axis('off')\n",
        "# plt.show()\n",
        "plt.title('Увлечения девочек',size=23)"
      ],
      "metadata": {
        "colab": {
          "base_uri": "https://localhost:8080/",
          "height": 508
        },
        "id": "8csipcOM6ebA",
        "outputId": "4f120926-3339-4573-f2c8-bd851c1116b4"
      },
      "execution_count": null,
      "outputs": [
        {
          "output_type": "execute_result",
          "data": {
            "text/plain": [
              "Text(0.5, 1.0, 'Увлечения девочек')"
            ]
          },
          "metadata": {},
          "execution_count": 28
        },
        {
          "output_type": "display_data",
          "data": {
            "text/plain": [
              "<Figure size 720x576 with 1 Axes>"
            ],
            "image/png": "[encoded data removed]"
          },
          "metadata": {}
        }
      ]
    },
    {
      "cell_type": "code",
      "source": [
        "squarify.plot(sizes=male_trav_hobbies.value_counts(), label=male_trav_hobbies.value_counts().index, alpha=.2, pad = True )\n",
        "plt.axis('off')\n",
        "plt.title('Увлечения мальчиков',size=23)"
      ],
      "metadata": {
        "colab": {
          "base_uri": "https://localhost:8080/",
          "height": 453
        },
        "id": "cBv4v6slb7TP",
        "outputId": "69ca5c8d-7ed3-48c7-d54f-a572f85448ab"
      },
      "execution_count": null,
      "outputs": [
        {
          "output_type": "execute_result",
          "data": {
            "text/plain": [
              "Text(0.5, 1.0, 'Увлечения мальчиков')"
            ]
          },
          "metadata": {},
          "execution_count": 113
        },
        {
          "output_type": "display_data",
          "data": {
            "text/plain": [
              "<Figure size 792x504 with 1 Axes>"
            ],
            "image/png": "[encoded data removed]"
          },
          "metadata": {
            "needs_background": "light"
          }
        }
      ]
    },
    {
      "cell_type": "markdown",
      "source": [
        "По увлечениям видно, что мальчики больше любят и больше занимаются спортом, чем девочки. Спорт -- фаворит развлечений у мальчиков.\n",
        "Девочки читают больше мальчиков.\n",
        "И что явно бросается в глаза -- девочки много реже мальчиков играют в видеоигры.\n",
        "\n",
        "**Вывод**: несмотря на увлечения спортом, что вызывает выработку здорового дофамина, мальчики более склонны к зависимости(ям), вызывающим выработку нездорового дофамина.\n",
        "Очень печально.  Хотя не стоит исключать тот факт, что девочки давали \"правильные\" ответы и не были так откровенны, как мальчики (которые по природе общаются без задних мыслей)))"
      ],
      "metadata": {
        "id": "fWH2eka7cSka"
      }
    },
    {
      "cell_type": "code",
      "source": [
        "a = pd.DataFrame(df['salary expectation'])\n",
        "a['Gender'] = 'both'\n",
        "a.head(2)"
      ],
      "metadata": {
        "colab": {
          "base_uri": "https://localhost:8080/",
          "height": 112
        },
        "id": "d2VyAix7a9e9",
        "outputId": "983e5169-56bf-44bb-bb3c-6716b9be9557"
      },
      "execution_count": null,
      "outputs": [
        {
          "output_type": "execute_result",
          "data": {
            "text/plain": [
              "   salary expectation Gender\n",
              "0               40000   both\n",
              "1               15000   both"
            ],
            "text/html": [
              "\n",
              "  <div id=\"df-02f062b1-a4ec-48a7-9433-a318f02bc5c3\">\n",
              "    <div class=\"colab-df-container\">\n",
              "      <div>\n",
              "<style scoped>\n",
              "    .dataframe tbody tr th:only-of-type {\n",
              "        vertical-align: middle;\n",
              "    }\n",
              "\n",
              "    .dataframe tbody tr th {\n",
              "        vertical-align: top;\n",
              "    }\n",
              "\n",
              "    .dataframe thead th {\n",
              "        text-align: right;\n",
              "    }\n",
              "</style>\n",
              "<table border=\"1\" class=\"dataframe\">\n",
              "  <thead>\n",
              "    <tr style=\"text-align: right;\">\n",
              "      <th></th>\n",
              "      <th>salary expectation</th>\n",
              "      <th>Gender</th>\n",
              "    </tr>\n",
              "  </thead>\n",
              "  <tbody>\n",
              "    <tr>\n",
              "      <th>0</th>\n",
              "      <td>40000</td>\n",
              "      <td>both</td>\n",
              "    </tr>\n",
              "    <tr>\n",
              "      <th>1</th>\n",
              "      <td>15000</td>\n",
              "      <td>both</td>\n",
              "    </tr>\n",
              "  </tbody>\n",
              "</table>\n",
              "</div>\n",
              "      <button class=\"colab-df-convert\" onclick=\"convertToInteractive('df-02f062b1-a4ec-48a7-9433-a318f02bc5c3')\"\n",
              "              title=\"Convert this dataframe to an interactive table.\"\n",
              "              style=\"display:none;\">\n",
              "        \n",
              "  <svg xmlns=\"http://www.w3.org/2000/svg\" height=\"24px\"viewBox=\"0 0 24 24\"\n",
              "       width=\"24px\">\n",
              "    <path d=\"M0 0h24v24H0V0z\" fill=\"none\"/>\n",
              "    <path d=\"M18.56 5.44l.94 2.06.94-2.06 2.06-.94-2.06-.94-.94-2.06-.94 2.06-2.06.94zm-11 1L8.5 8.5l.94-2.06 2.06-.94-2.06-.94L8.5 2.5l-.94 2.06-2.06.94zm10 10l.94 2.06.94-2.06 2.06-.94-2.06-.94-.94-2.06-.94 2.06-2.06.94z\"/><path d=\"M17.41 7.96l-1.37-1.37c-.4-.4-.92-.59-1.43-.59-.52 0-1.04.2-1.43.59L10.3 9.45l-7.72 7.72c-.78.78-.78 2.05 0 2.83L4 21.41c.39.39.9.59 1.41.59.51 0 1.02-.2 1.41-.59l7.78-7.78 2.81-2.81c.8-.78.8-2.07 0-2.86zM5.41 20L4 18.59l7.72-7.72 1.47 1.35L5.41 20z\"/>\n",
              "  </svg>\n",
              "      </button>\n",
              "      \n",
              "  <style>\n",
              "    .colab-df-container {\n",
              "      display:flex;\n",
              "      flex-wrap:wrap;\n",
              "      gap: 12px;\n",
              "    }\n",
              "\n",
              "    .colab-df-convert {\n",
              "      background-color: #E8F0FE;\n",
              "      border: none;\n",
              "      border-radius: 50%;\n",
              "      cursor: pointer;\n",
              "      display: none;\n",
              "      fill: #1967D2;\n",
              "      height: 32px;\n",
              "      padding: 0 0 0 0;\n",
              "      width: 32px;\n",
              "    }\n",
              "\n",
              "    .colab-df-convert:hover {\n",
              "      background-color: #E2EBFA;\n",
              "      box-shadow: 0px 1px 2px rgba(60, 64, 67, 0.3), 0px 1px 3px 1px rgba(60, 64, 67, 0.15);\n",
              "      fill: #174EA6;\n",
              "    }\n",
              "\n",
              "    [theme=dark] .colab-df-convert {\n",
              "      background-color: #3B4455;\n",
              "      fill: #D2E3FC;\n",
              "    }\n",
              "\n",
              "    [theme=dark] .colab-df-convert:hover {\n",
              "      background-color: #434B5C;\n",
              "      box-shadow: 0px 1px 3px 1px rgba(0, 0, 0, 0.15);\n",
              "      filter: drop-shadow(0px 1px 2px rgba(0, 0, 0, 0.3));\n",
              "      fill: #FFFFFF;\n",
              "    }\n",
              "  </style>\n",
              "\n",
              "      <script>\n",
              "        const buttonEl =\n",
              "          document.querySelector('#df-02f062b1-a4ec-48a7-9433-a318f02bc5c3 button.colab-df-convert');\n",
              "        buttonEl.style.display =\n",
              "          google.colab.kernel.accessAllowed ? 'block' : 'none';\n",
              "\n",
              "        async function convertToInteractive(key) {\n",
              "          const element = document.querySelector('#df-02f062b1-a4ec-48a7-9433-a318f02bc5c3');\n",
              "          const dataTable =\n",
              "            await google.colab.kernel.invokeFunction('convertToInteractive',\n",
              "                                                     [key], {});\n",
              "          if (!dataTable) return;\n",
              "\n",
              "          const docLinkHtml = 'Like what you see? Visit the ' +\n",
              "            '<a target=\"_blank\" href=https://colab.research.google.com/notebooks/data_table.ipynb>data table notebook</a>'\n",
              "            + ' to learn more about interactive tables.';\n",
              "          element.innerHTML = '';\n",
              "          dataTable['output_type'] = 'display_data';\n",
              "          await google.colab.output.renderOutput(dataTable, element);\n",
              "          const docLink = document.createElement('div');\n",
              "          docLink.innerHTML = docLinkHtml;\n",
              "          element.appendChild(docLink);\n",
              "        }\n",
              "      </script>\n",
              "    </div>\n",
              "  </div>\n",
              "  "
            ]
          },
          "metadata": {},
          "execution_count": 43
        }
      ]
    },
    {
      "cell_type": "code",
      "source": [
        "cols = a.columns.tolist()\n",
        "cols"
      ],
      "metadata": {
        "colab": {
          "base_uri": "https://localhost:8080/"
        },
        "id": "pJkLXjYvc_r6",
        "outputId": "daaf9a28-cdd0-457f-9e29-be87887199a9"
      },
      "execution_count": null,
      "outputs": [
        {
          "output_type": "execute_result",
          "data": {
            "text/plain": [
              "['salary expectation', 'Gender']"
            ]
          },
          "metadata": {},
          "execution_count": 44
        }
      ]
    },
    {
      "cell_type": "code",
      "source": [
        "cols = cols[-1:] + cols[:-1]\n",
        "cols"
      ],
      "metadata": {
        "colab": {
          "base_uri": "https://localhost:8080/"
        },
        "id": "l_Y8CxlOdKir",
        "outputId": "7dc6b25b-cb0d-41e1-f0d7-6f8483c01a56"
      },
      "execution_count": null,
      "outputs": [
        {
          "output_type": "execute_result",
          "data": {
            "text/plain": [
              "['Gender', 'salary expectation']"
            ]
          },
          "metadata": {},
          "execution_count": 45
        }
      ]
    },
    {
      "cell_type": "code",
      "source": [
        "a = a[cols]\n",
        "a.head(2)"
      ],
      "metadata": {
        "colab": {
          "base_uri": "https://localhost:8080/",
          "height": 112
        },
        "id": "--cnTQSmdOph",
        "outputId": "9f2dece7-cef5-4adb-857d-22b6cbac7f4d"
      },
      "execution_count": null,
      "outputs": [
        {
          "output_type": "execute_result",
          "data": {
            "text/plain": [
              "  Gender  salary expectation\n",
              "0   both               40000\n",
              "1   both               15000"
            ],
            "text/html": [
              "\n",
              "  <div id=\"df-88101cab-cecd-4e21-ada4-094b45510991\">\n",
              "    <div class=\"colab-df-container\">\n",
              "      <div>\n",
              "<style scoped>\n",
              "    .dataframe tbody tr th:only-of-type {\n",
              "        vertical-align: middle;\n",
              "    }\n",
              "\n",
              "    .dataframe tbody tr th {\n",
              "        vertical-align: top;\n",
              "    }\n",
              "\n",
              "    .dataframe thead th {\n",
              "        text-align: right;\n",
              "    }\n",
              "</style>\n",
              "<table border=\"1\" class=\"dataframe\">\n",
              "  <thead>\n",
              "    <tr style=\"text-align: right;\">\n",
              "      <th></th>\n",
              "      <th>Gender</th>\n",
              "      <th>salary expectation</th>\n",
              "    </tr>\n",
              "  </thead>\n",
              "  <tbody>\n",
              "    <tr>\n",
              "      <th>0</th>\n",
              "      <td>both</td>\n",
              "      <td>40000</td>\n",
              "    </tr>\n",
              "    <tr>\n",
              "      <th>1</th>\n",
              "      <td>both</td>\n",
              "      <td>15000</td>\n",
              "    </tr>\n",
              "  </tbody>\n",
              "</table>\n",
              "</div>\n",
              "      <button class=\"colab-df-convert\" onclick=\"convertToInteractive('df-88101cab-cecd-4e21-ada4-094b45510991')\"\n",
              "              title=\"Convert this dataframe to an interactive table.\"\n",
              "              style=\"display:none;\">\n",
              "        \n",
              "  <svg xmlns=\"http://www.w3.org/2000/svg\" height=\"24px\"viewBox=\"0 0 24 24\"\n",
              "       width=\"24px\">\n",
              "    <path d=\"M0 0h24v24H0V0z\" fill=\"none\"/>\n",
              "    <path d=\"M18.56 5.44l.94 2.06.94-2.06 2.06-.94-2.06-.94-.94-2.06-.94 2.06-2.06.94zm-11 1L8.5 8.5l.94-2.06 2.06-.94-2.06-.94L8.5 2.5l-.94 2.06-2.06.94zm10 10l.94 2.06.94-2.06 2.06-.94-2.06-.94-.94-2.06-.94 2.06-2.06.94z\"/><path d=\"M17.41 7.96l-1.37-1.37c-.4-.4-.92-.59-1.43-.59-.52 0-1.04.2-1.43.59L10.3 9.45l-7.72 7.72c-.78.78-.78 2.05 0 2.83L4 21.41c.39.39.9.59 1.41.59.51 0 1.02-.2 1.41-.59l7.78-7.78 2.81-2.81c.8-.78.8-2.07 0-2.86zM5.41 20L4 18.59l7.72-7.72 1.47 1.35L5.41 20z\"/>\n",
              "  </svg>\n",
              "      </button>\n",
              "      \n",
              "  <style>\n",
              "    .colab-df-container {\n",
              "      display:flex;\n",
              "      flex-wrap:wrap;\n",
              "      gap: 12px;\n",
              "    }\n",
              "\n",
              "    .colab-df-convert {\n",
              "      background-color: #E8F0FE;\n",
              "      border: none;\n",
              "      border-radius: 50%;\n",
              "      cursor: pointer;\n",
              "      display: none;\n",
              "      fill: #1967D2;\n",
              "      height: 32px;\n",
              "      padding: 0 0 0 0;\n",
              "      width: 32px;\n",
              "    }\n",
              "\n",
              "    .colab-df-convert:hover {\n",
              "      background-color: #E2EBFA;\n",
              "      box-shadow: 0px 1px 2px rgba(60, 64, 67, 0.3), 0px 1px 3px 1px rgba(60, 64, 67, 0.15);\n",
              "      fill: #174EA6;\n",
              "    }\n",
              "\n",
              "    [theme=dark] .colab-df-convert {\n",
              "      background-color: #3B4455;\n",
              "      fill: #D2E3FC;\n",
              "    }\n",
              "\n",
              "    [theme=dark] .colab-df-convert:hover {\n",
              "      background-color: #434B5C;\n",
              "      box-shadow: 0px 1px 3px 1px rgba(0, 0, 0, 0.15);\n",
              "      filter: drop-shadow(0px 1px 2px rgba(0, 0, 0, 0.3));\n",
              "      fill: #FFFFFF;\n",
              "    }\n",
              "  </style>\n",
              "\n",
              "      <script>\n",
              "        const buttonEl =\n",
              "          document.querySelector('#df-88101cab-cecd-4e21-ada4-094b45510991 button.colab-df-convert');\n",
              "        buttonEl.style.display =\n",
              "          google.colab.kernel.accessAllowed ? 'block' : 'none';\n",
              "\n",
              "        async function convertToInteractive(key) {\n",
              "          const element = document.querySelector('#df-88101cab-cecd-4e21-ada4-094b45510991');\n",
              "          const dataTable =\n",
              "            await google.colab.kernel.invokeFunction('convertToInteractive',\n",
              "                                                     [key], {});\n",
              "          if (!dataTable) return;\n",
              "\n",
              "          const docLinkHtml = 'Like what you see? Visit the ' +\n",
              "            '<a target=\"_blank\" href=https://colab.research.google.com/notebooks/data_table.ipynb>data table notebook</a>'\n",
              "            + ' to learn more about interactive tables.';\n",
              "          element.innerHTML = '';\n",
              "          dataTable['output_type'] = 'display_data';\n",
              "          await google.colab.output.renderOutput(dataTable, element);\n",
              "          const docLink = document.createElement('div');\n",
              "          docLink.innerHTML = docLinkHtml;\n",
              "          element.appendChild(docLink);\n",
              "        }\n",
              "      </script>\n",
              "    </div>\n",
              "  </div>\n",
              "  "
            ]
          },
          "metadata": {},
          "execution_count": 46
        }
      ]
    },
    {
      "cell_type": "code",
      "source": [
        "df_box = a.append(male[['Gender', 'salary expectation']]).append(femi[['Gender', 'salary expectation']])\n",
        "df_box.info()"
      ],
      "metadata": {
        "colab": {
          "base_uri": "https://localhost:8080/"
        },
        "id": "6yeMrNbHhXc8",
        "outputId": "ed0994eb-b051-4353-b715-1575a1a0844f"
      },
      "execution_count": null,
      "outputs": [
        {
          "output_type": "stream",
          "name": "stdout",
          "text": [
            "<class 'pandas.core.frame.DataFrame'>\n",
            "Int64Index: 470 entries, 0 to 234\n",
            "Data columns (total 2 columns):\n",
            " #   Column              Non-Null Count  Dtype \n",
            "---  ------              --------------  ----- \n",
            " 0   Gender              470 non-null    object\n",
            " 1   salary expectation  470 non-null    int64 \n",
            "dtypes: int64(1), object(1)\n",
            "memory usage: 11.0+ KB\n"
          ]
        }
      ]
    },
    {
      "cell_type": "code",
      "source": [
        "# # Usual boxplot\n",
        "sns.boxplot(x='Gender', y='salary expectation', data=df_box)\n",
        "plt.title('Boxplot-ы по ожиданиям зарплат', size=23)"
      ],
      "metadata": {
        "colab": {
          "base_uri": "https://localhost:8080/",
          "height": 483
        },
        "id": "9LMhFRuuhPzN",
        "outputId": "20c28d1f-1b90-4c7e-dedc-0488df64a66f"
      },
      "execution_count": null,
      "outputs": [
        {
          "output_type": "execute_result",
          "data": {
            "text/plain": [
              "Text(0.5, 1.0, 'Boxplot-ы по ожиданиям зарплат')"
            ]
          },
          "metadata": {},
          "execution_count": 50
        },
        {
          "output_type": "display_data",
          "data": {
            "text/plain": [
              "<Figure size 792x504 with 1 Axes>"
            ],
            "image/png": "[encoded data removed]"
          },
          "metadata": {
            "needs_background": "light"
          }
        }
      ]
    },
    {
      "cell_type": "markdown",
      "source": [
        "Не очень удобно читать таике боксплоты.\n",
        "\n",
        "В боксплотах нужно убрать выбросы (просто ограничив ось) при помощи функции ylim, т.к. сейчас они не очень хорошо читаются именно из-за них."
      ],
      "metadata": {
        "id": "sysJBchpuVr6"
      }
    },
    {
      "cell_type": "code",
      "source": [
        "# # Usual boxplot\n",
        "sns.boxplot(x='Gender', y='salary expectation', data=df_box)\n",
        "plt.title('Boxplot-ы по ожиданиям зарплат', size=23)\n",
        "\n",
        "plt.ylim(0, 0.06e6) #1e6 взяла из визуализации сверху"
      ],
      "metadata": {
        "colab": {
          "base_uri": "https://localhost:8080/",
          "height": 483
        },
        "id": "gHJp4OuIiPEn",
        "outputId": "8297bb68-d422-4095-c1db-91020a80a3b8"
      },
      "execution_count": null,
      "outputs": [
        {
          "output_type": "execute_result",
          "data": {
            "text/plain": [
              "(0.0, 60000.0)"
            ]
          },
          "metadata": {},
          "execution_count": 51
        },
        {
          "output_type": "display_data",
          "data": {
            "text/plain": [
              "<Figure size 792x504 with 1 Axes>"
            ],
            "image/png": "[encoded data removed]"
          },
          "metadata": {
            "needs_background": "light"
          }
        }
      ]
    },
    {
      "cell_type": "code",
      "source": [
        "# Попробуем продвинутутю визуализацию\n",
        "from plotly.offline import init_notebook_mode, iplot\n",
        "import plotly\n",
        "import plotly.graph_objs as go\n",
        "\n",
        "\n",
        "data = []\n",
        "\n",
        "for sex in df_box.Gender.unique():\n",
        "    data.append(\n",
        "        go.Box(y=df_box[df_box.Gender==sex]['salary expectation'], \n",
        "               name=sex)\n",
        "    )\n",
        "iplot(data, show_link = False)\n",
        "\n",
        "# Не смогла сделать название для этой визуализации\n",
        "# И не смогла обрезать ось Y, как на предыдущей визуализации"
      ],
      "metadata": {
        "colab": {
          "base_uri": "https://localhost:8080/",
          "height": 542
        },
        "id": "IR81zgo2j3Ek",
        "outputId": "c686fa23-d024-4145-8902-d090e6b74878"
      },
      "execution_count": null,
      "outputs": [
        {
          "output_type": "display_data",
          "data": {
            "text/html": [
              "<html>\n",
              "<head><meta charset=\"utf-8\" /></head>\n",
              "<body>\n",
              "    <div>            <script src=\"https://cdnjs.cloudflare.com/ajax/libs/mathjax/2.7.5/MathJax.js?config=TeX-AMS-MML_SVG\"></script><script type=\"text/javascript\">if (window.MathJax) {MathJax.Hub.Config({SVG: {font: \"STIX-Web\"}});}</script>                <script type=\"text/javascript\">window.PlotlyConfig = {MathJaxConfig: 'local'};</script>\n",
              "        <script src=\"https://cdn.plot.ly/plotly-2.8.3.min.js\"></script>                <div id=\"b0993c8e-c61a-4e38-948c-85e59b4f6590\" class=\"plotly-graph-div\" style=\"height:525px; width:100%;\"></div>            <script type=\"text/javascript\">                                    window.PLOTLYENV=window.PLOTLYENV || {};                                    if (document.getElementById(\"b0993c8e-c61a-4e38-948c-85e59b4f6590\")) {                    Plotly.newPlot(                        \"b0993c8e-c61a-4e38-948c-85e59b4f6590\",                        [{\"name\":\"both\",\"y\":[40000,15000,13000,1500000,50000,20000,15000,25000,20000,20000,18000,20000,18000,17,60000,18000,15000,0,30000,20000,10000,20000,25000,18000,20000,18000,30000,15000,20000,15000,30000,30000,20000,15000,17000,15000,15000,25000,40000,10000,50000,20000,10000,20000,20000,10000,30000,100000,20000,15000,50000,8000,15000,15000,10000,20000,15000,18000,20000,50000,15000,15000,15000,20000,20000,25000,20000,18000,50000,10000,15000,20000,10000,50000,20000,20000,20000,15000,20000,18000,12000,10000,25000,25000,21,25000,20000,35000,20000,15000,18000,20000,30000,15000,50000,25000,20000,25000,20000,10000,18000,25000,15000,20000,25000,30000,20000,10000,30000,20000,20000,12000,16000,15000,15000,25000,20000,17000,18000,15000,20000,20000,15000,20000,17000,20000,20000,20000,20000,25000,50000,18000,20000,5000,20000,20000,20000,12500,20000,15000,12000,20000,25000,15000,10000,100000,15000,5000,30000,10000,20000,30000,20000,13000,100000,25000,15000,50000,15000,15000,15000,40000,15000,25000,25000,35000,18000,40000,20000,15000,20000,25000,15000,15000,25000,11000,25000,20000,10000,120000,15000,45000,5000,23000,30000,500000,40000,30000,700000,12000,20000,20000,15000,20000,15000,10000,10,30000,25000,20000,50000,15000,10000,15000,13000,10000,13000,15000,20000,15000,15,22,15000,12000,15000,15000,20000,20000,20000,20000,20000,20000,100,16000,15000,15000,15000,17000,500,15000,7000,25000,20000,20000,10],\"type\":\"box\"},{\"name\":\"Male\",\"y\":[40000,13000,50000,15000,25000,20000,20000,18000,17,60000,18000,15000,0,30000,10000,20000,18000,20000,18000,30000,15000,30000,30000,20000,15000,17000,15000,40000,10000,20000,20000,30000,100000,20000,15000,50000,15000,20000,50000,15000,20000,20000,25000,18000,50000,10000,15000,50000,20000,20000,15000,20000,18000,25000,25000,21,25000,20000,15000,20000,30000,15000,50000,25000,25000,20000,10000,20000,25000,30000,20000,10000,30000,20000,20000,16000,15000,15000,25000,20000,17000,18000,15000,20000,15000,20000,20000,20000,20000,25000,50000,18000,20000,5000,20000,20000,12500,12000,20000,25000,15000,100000,15000,20000,30000,20000,15000,15000,15000,15000,40000,15000,25000,25000,35000,40000,20000,15000,25000,25000,11000,45000,23000,30000,500000,40000,30000,700000,12000,20000,20000,15000,20000,10000,30000,25000,20000,50000,15000,15000,13000,10000,15000,20000,15000,22,12000,20000,20000,20000,100,16000,17000,500,7000,25000],\"type\":\"box\"},{\"name\":\"Female\",\"y\":[15000,1500000,20000,20000,18000,20000,25000,20000,15000,15000,25000,50000,20000,10000,10000,8000,15000,10000,15000,18000,20000,15000,15000,20000,20000,10000,20000,12000,10000,20000,35000,18000,20000,18000,25000,15000,12000,20000,17000,20000,20000,20000,15000,10000,5000,30000,10000,13000,100000,25000,50000,18000,20000,15000,15000,25000,20000,10000,120000,15000,5000,15000,10,10000,13000,15,15000,15000,15000,20000,20000,20000,15000,15000,15000,15000,20000,20000,10],\"type\":\"box\"}],                        {\"template\":{\"data\":{\"barpolar\":[{\"marker\":{\"line\":{\"color\":\"#E5ECF6\",\"width\":0.5},\"pattern\":{\"fillmode\":\"overlay\",\"size\":10,\"solidity\":0.2}},\"type\":\"barpolar\"}],\"bar\":[{\"error_x\":{\"color\":\"#2a3f5f\"},\"error_y\":{\"color\":\"#2a3f5f\"},\"marker\":{\"line\":{\"color\":\"#E5ECF6\",\"width\":0.5},\"pattern\":{\"fillmode\":\"overlay\",\"size\":10,\"solidity\":0.2}},\"type\":\"bar\"}],\"carpet\":[{\"aaxis\":{\"endlinecolor\":\"#2a3f5f\",\"gridcolor\":\"white\",\"linecolor\":\"white\",\"minorgridcolor\":\"white\",\"startlinecolor\":\"#2a3f5f\"},\"baxis\":{\"endlinecolor\":\"#2a3f5f\",\"gridcolor\":\"white\",\"linecolor\":\"white\",\"minorgridcolor\":\"white\",\"startlinecolor\":\"#2a3f5f\"},\"type\":\"carpet\"}],\"choropleth\":[{\"colorbar\":{\"outlinewidth\":0,\"ticks\":\"\"},\"type\":\"choropleth\"}],\"contourcarpet\":[{\"colorbar\":{\"outlinewidth\":0,\"ticks\":\"\"},\"type\":\"contourcarpet\"}],\"contour\":[{\"colorbar\":{\"outlinewidth\":0,\"ticks\":\"\"},\"colorscale\":[[0.0,\"#0d0887\"],[0.1111111111111111,\"#46039f\"],[0.2222222222222222,\"#7201a8\"],[0.3333333333333333,\"#9c179e\"],[0.4444444444444444,\"#bd3786\"],[0.5555555555555556,\"#d8576b\"],[0.6666666666666666,\"#ed7953\"],[0.7777777777777778,\"#fb9f3a\"],[0.8888888888888888,\"#fdca26\"],[1.0,\"#f0f921\"]],\"type\":\"contour\"}],\"heatmapgl\":[{\"colorbar\":{\"outlinewidth\":0,\"ticks\":\"\"},\"colorscale\":[[0.0,\"#0d0887\"],[0.1111111111111111,\"#46039f\"],[0.2222222222222222,\"#7201a8\"],[0.3333333333333333,\"#9c179e\"],[0.4444444444444444,\"#bd3786\"],[0.5555555555555556,\"#d8576b\"],[0.6666666666666666,\"#ed7953\"],[0.7777777777777778,\"#fb9f3a\"],[0.8888888888888888,\"#fdca26\"],[1.0,\"#f0f921\"]],\"type\":\"heatmapgl\"}],\"heatmap\":[{\"colorbar\":{\"outlinewidth\":0,\"ticks\":\"\"},\"colorscale\":[[0.0,\"#0d0887\"],[0.1111111111111111,\"#46039f\"],[0.2222222222222222,\"#7201a8\"],[0.3333333333333333,\"#9c179e\"],[0.4444444444444444,\"#bd3786\"],[0.5555555555555556,\"#d8576b\"],[0.6666666666666666,\"#ed7953\"],[0.7777777777777778,\"#fb9f3a\"],[0.8888888888888888,\"#fdca26\"],[1.0,\"#f0f921\"]],\"type\":\"heatmap\"}],\"histogram2dcontour\":[{\"colorbar\":{\"outlinewidth\":0,\"ticks\":\"\"},\"colorscale\":[[0.0,\"#0d0887\"],[0.1111111111111111,\"#46039f\"],[0.2222222222222222,\"#7201a8\"],[0.3333333333333333,\"#9c179e\"],[0.4444444444444444,\"#bd3786\"],[0.5555555555555556,\"#d8576b\"],[0.6666666666666666,\"#ed7953\"],[0.7777777777777778,\"#fb9f3a\"],[0.8888888888888888,\"#fdca26\"],[1.0,\"#f0f921\"]],\"type\":\"histogram2dcontour\"}],\"histogram2d\":[{\"colorbar\":{\"outlinewidth\":0,\"ticks\":\"\"},\"colorscale\":[[0.0,\"#0d0887\"],[0.1111111111111111,\"#46039f\"],[0.2222222222222222,\"#7201a8\"],[0.3333333333333333,\"#9c179e\"],[0.4444444444444444,\"#bd3786\"],[0.5555555555555556,\"#d8576b\"],[0.6666666666666666,\"#ed7953\"],[0.7777777777777778,\"#fb9f3a\"],[0.8888888888888888,\"#fdca26\"],[1.0,\"#f0f921\"]],\"type\":\"histogram2d\"}],\"histogram\":[{\"marker\":{\"pattern\":{\"fillmode\":\"overlay\",\"size\":10,\"solidity\":0.2}},\"type\":\"histogram\"}],\"mesh3d\":[{\"colorbar\":{\"outlinewidth\":0,\"ticks\":\"\"},\"type\":\"mesh3d\"}],\"parcoords\":[{\"line\":{\"colorbar\":{\"outlinewidth\":0,\"ticks\":\"\"}},\"type\":\"parcoords\"}],\"pie\":[{\"automargin\":true,\"type\":\"pie\"}],\"scatter3d\":[{\"line\":{\"colorbar\":{\"outlinewidth\":0,\"ticks\":\"\"}},\"marker\":{\"colorbar\":{\"outlinewidth\":0,\"ticks\":\"\"}},\"type\":\"scatter3d\"}],\"scattercarpet\":[{\"marker\":{\"colorbar\":{\"outlinewidth\":0,\"ticks\":\"\"}},\"type\":\"scattercarpet\"}],\"scattergeo\":[{\"marker\":{\"colorbar\":{\"outlinewidth\":0,\"ticks\":\"\"}},\"type\":\"scattergeo\"}],\"scattergl\":[{\"marker\":{\"colorbar\":{\"outlinewidth\":0,\"ticks\":\"\"}},\"type\":\"scattergl\"}],\"scattermapbox\":[{\"marker\":{\"colorbar\":{\"outlinewidth\":0,\"ticks\":\"\"}},\"type\":\"scattermapbox\"}],\"scatterpolargl\":[{\"marker\":{\"colorbar\":{\"outlinewidth\":0,\"ticks\":\"\"}},\"type\":\"scatterpolargl\"}],\"scatterpolar\":[{\"marker\":{\"colorbar\":{\"outlinewidth\":0,\"ticks\":\"\"}},\"type\":\"scatterpolar\"}],\"scatter\":[{\"marker\":{\"colorbar\":{\"outlinewidth\":0,\"ticks\":\"\"}},\"type\":\"scatter\"}],\"scatterternary\":[{\"marker\":{\"colorbar\":{\"outlinewidth\":0,\"ticks\":\"\"}},\"type\":\"scatterternary\"}],\"surface\":[{\"colorbar\":{\"outlinewidth\":0,\"ticks\":\"\"},\"colorscale\":[[0.0,\"#0d0887\"],[0.1111111111111111,\"#46039f\"],[0.2222222222222222,\"#7201a8\"],[0.3333333333333333,\"#9c179e\"],[0.4444444444444444,\"#bd3786\"],[0.5555555555555556,\"#d8576b\"],[0.6666666666666666,\"#ed7953\"],[0.7777777777777778,\"#fb9f3a\"],[0.8888888888888888,\"#fdca26\"],[1.0,\"#f0f921\"]],\"type\":\"surface\"}],\"table\":[{\"cells\":{\"fill\":{\"color\":\"#EBF0F8\"},\"line\":{\"color\":\"white\"}},\"header\":{\"fill\":{\"color\":\"#C8D4E3\"},\"line\":{\"color\":\"white\"}},\"type\":\"table\"}]},\"layout\":{\"annotationdefaults\":{\"arrowcolor\":\"#2a3f5f\",\"arrowhead\":0,\"arrowwidth\":1},\"autotypenumbers\":\"strict\",\"coloraxis\":{\"colorbar\":{\"outlinewidth\":0,\"ticks\":\"\"}},\"colorscale\":{\"diverging\":[[0,\"#8e0152\"],[0.1,\"#c51b7d\"],[0.2,\"#de77ae\"],[0.3,\"#f1b6da\"],[0.4,\"#fde0ef\"],[0.5,\"#f7f7f7\"],[0.6,\"#e6f5d0\"],[0.7,\"#b8e186\"],[0.8,\"#7fbc41\"],[0.9,\"#4d9221\"],[1,\"#276419\"]],\"sequential\":[[0.0,\"#0d0887\"],[0.1111111111111111,\"#46039f\"],[0.2222222222222222,\"#7201a8\"],[0.3333333333333333,\"#9c179e\"],[0.4444444444444444,\"#bd3786\"],[0.5555555555555556,\"#d8576b\"],[0.6666666666666666,\"#ed7953\"],[0.7777777777777778,\"#fb9f3a\"],[0.8888888888888888,\"#fdca26\"],[1.0,\"#f0f921\"]],\"sequentialminus\":[[0.0,\"#0d0887\"],[0.1111111111111111,\"#46039f\"],[0.2222222222222222,\"#7201a8\"],[0.3333333333333333,\"#9c179e\"],[0.4444444444444444,\"#bd3786\"],[0.5555555555555556,\"#d8576b\"],[0.6666666666666666,\"#ed7953\"],[0.7777777777777778,\"#fb9f3a\"],[0.8888888888888888,\"#fdca26\"],[1.0,\"#f0f921\"]]},\"colorway\":[\"#636efa\",\"#EF553B\",\"#00cc96\",\"#ab63fa\",\"#FFA15A\",\"#19d3f3\",\"#FF6692\",\"#B6E880\",\"#FF97FF\",\"#FECB52\"],\"font\":{\"color\":\"#2a3f5f\"},\"geo\":{\"bgcolor\":\"white\",\"lakecolor\":\"white\",\"landcolor\":\"#E5ECF6\",\"showlakes\":true,\"showland\":true,\"subunitcolor\":\"white\"},\"hoverlabel\":{\"align\":\"left\"},\"hovermode\":\"closest\",\"mapbox\":{\"style\":\"light\"},\"paper_bgcolor\":\"white\",\"plot_bgcolor\":\"#E5ECF6\",\"polar\":{\"angularaxis\":{\"gridcolor\":\"white\",\"linecolor\":\"white\",\"ticks\":\"\"},\"bgcolor\":\"#E5ECF6\",\"radialaxis\":{\"gridcolor\":\"white\",\"linecolor\":\"white\",\"ticks\":\"\"}},\"scene\":{\"xaxis\":{\"backgroundcolor\":\"#E5ECF6\",\"gridcolor\":\"white\",\"gridwidth\":2,\"linecolor\":\"white\",\"showbackground\":true,\"ticks\":\"\",\"zerolinecolor\":\"white\"},\"yaxis\":{\"backgroundcolor\":\"#E5ECF6\",\"gridcolor\":\"white\",\"gridwidth\":2,\"linecolor\":\"white\",\"showbackground\":true,\"ticks\":\"\",\"zerolinecolor\":\"white\"},\"zaxis\":{\"backgroundcolor\":\"#E5ECF6\",\"gridcolor\":\"white\",\"gridwidth\":2,\"linecolor\":\"white\",\"showbackground\":true,\"ticks\":\"\",\"zerolinecolor\":\"white\"}},\"shapedefaults\":{\"line\":{\"color\":\"#2a3f5f\"}},\"ternary\":{\"aaxis\":{\"gridcolor\":\"white\",\"linecolor\":\"white\",\"ticks\":\"\"},\"baxis\":{\"gridcolor\":\"white\",\"linecolor\":\"white\",\"ticks\":\"\"},\"bgcolor\":\"#E5ECF6\",\"caxis\":{\"gridcolor\":\"white\",\"linecolor\":\"white\",\"ticks\":\"\"}},\"title\":{\"x\":0.05},\"xaxis\":{\"automargin\":true,\"gridcolor\":\"white\",\"linecolor\":\"white\",\"ticks\":\"\",\"title\":{\"standoff\":15},\"zerolinecolor\":\"white\",\"zerolinewidth\":2},\"yaxis\":{\"automargin\":true,\"gridcolor\":\"white\",\"linecolor\":\"white\",\"ticks\":\"\",\"title\":{\"standoff\":15},\"zerolinecolor\":\"white\",\"zerolinewidth\":2}}}},                        {\"responsive\": true}                    ).then(function(){\n",
              "                            \n",
              "var gd = document.getElementById('b0993c8e-c61a-4e38-948c-85e59b4f6590');\n",
              "var x = new MutationObserver(function (mutations, observer) {{\n",
              "        var display = window.getComputedStyle(gd).display;\n",
              "        if (!display || display === 'none') {{\n",
              "            console.log([gd, 'removed!']);\n",
              "            Plotly.purge(gd);\n",
              "            observer.disconnect();\n",
              "        }}\n",
              "}});\n",
              "\n",
              "// Listen for the removal of the full notebook cells\n",
              "var notebookContainer = gd.closest('#notebook-container');\n",
              "if (notebookContainer) {{\n",
              "    x.observe(notebookContainer, {childList: true});\n",
              "}}\n",
              "\n",
              "// Listen for the clearing of the current output cell\n",
              "var outputEl = gd.closest('.output');\n",
              "if (outputEl) {{\n",
              "    x.observe(outputEl, {childList: true});\n",
              "}}\n",
              "\n",
              "                        })                };                            </script>        </div>\n",
              "</body>\n",
              "</html>"
            ]
          },
          "metadata": {}
        }
      ]
    },
    {
      "cell_type": "markdown",
      "source": [
        "Межквартильный размах у мальчиков шире, чем у девочек.\n",
        "У мальчиков выбросы не так далеки от третьей квантили. И более-менее равномерны.\n",
        "\n",
        "У девочек межвартильный размах у́же. Выбросы неравномерны: часть близко расположена к третьей квантили, часть много далеки от 3 квантили.\n",
        "\n",
        "\n",
        "Сразу видно, что опрашивались подростки) С одной стороны дети очень неуверены в себе, с другой стороны есть слишком уверенные в себе. \n",
        "Возможно, в общем: девочки более уверены в заработке, хоть каком (у них нет нуля в мининмуме)"
      ],
      "metadata": {
        "id": "dHRAD6DitVjU"
      }
    },
    {
      "cell_type": "markdown",
      "source": [
        "##Полезные материалы\n",
        "[Colab с занятия (31)](https://colab.research.google.com/drive/1N540vhlhVN-fUDjFzGndd6VNx3uDldzr) \n",
        "\n",
        "[Colab с занятия (32)](https://colab.research.google.com/drive/1du8T0Vx4PrhFPtOb2fXW4gyqNL4BM6Hs)\n",
        "\n",
        "[Сделать список из значений столбца](https://python.ivan-shamaev.ru/pandas-series-and-dataframe-objects-build-index/)\n",
        "\n",
        "[Отфильтровать нужные строки](https://pandas.pydata.org/docs/reference/api/pandas.DataFrame.loc.html)\n",
        "\n",
        "[Python Graph Gallery](https://www.python-graph-gallery.com/8-add-confidence-interval-on-barplot)\n",
        "\n",
        "https://www.python-graph-gallery.com/25-histogram-with-several-variables-seaborn\n",
        "\n",
        "[5 простых способов визуализации данных на Python](https://medium.com/nuances-of-programming/5-%D0%BF%D1%80%D0%BE%D1%81%D1%82%D1%8B%D1%85-%D1%81%D0%BF%D0%BE%D1%81%D0%BE%D0%B1%D0%BE%D0%B2-%D0%B2%D0%B8%D0%B7%D1%83%D0%B0%D0%BB%D0%B8%D0%B7%D0%B0%D1%86%D0%B8%D0%B8-%D0%B4%D0%B0%D0%BD%D0%BD%D1%8B%D1%85-%D0%BD%D0%B0-python-%D1%81-%D0%BA%D0%BE%D0%B4%D0%BE%D0%BC-e0053808c83d)\n",
        "\n",
        "[Гистограмма распределения в EXCEL](https://excel2.ru/articles/gistogramma-raspredeleniya-v-ms-excel)\n",
        "\n",
        "[Подобрать нужный цвет, чтоб не вырви глаз](https://fcpython.com/visualisation/python-treemaps-squarify-matplotlib)\n",
        "\n",
        "[Hidden Data Under Boxplot](https://www.python-graph-gallery.com/39-hidden-data-under-boxplot)\n",
        "\n",
        "[Поменять порядок столбцов в ДФ](https://stackoverflow.com/questions/13148429/how-to-change-the-order-of-dataframe-columns)\n",
        "\n",
        "[Setting the Font, Title, Legend Entries, and Axis Titles in Python](https://plotly.com/python/figure-labels/)\n",
        "\n",
        "[Title alignment in Plotly](https://www.geeksforgeeks.org/title-alignment-in-plotly/)\n",
        "\n",
        "[Как читать гистограммы](https://www.wikihow.com/Read-Histograms)\n",
        "\n",
        "[Примеры кода в plotly](https://plotly.com/python/figure-labels/)\n",
        "\n",
        "[Colab с домашкой](https://colab.research.google.com/drive/1VvXV9c1bkm7u08nS0NDdfF8BvHjFboPJ#scrollTo=KtdiBxgFg1rF)\n",
        "\n",
        "[Python Graph Gallery. Treemap](https://www.python-graph-gallery.com/treemap/)"
      ],
      "metadata": {
        "id": "x9g-xLIf5uXf"
      }
    },
    {
      "cell_type": "markdown",
      "source": [
        "Для подписи значений на столбчатом графике можно использовать функцию bar_label, примеры использования здесь: www.geeksforgeeks.org...n-barplot/\n",
        "\n",
        "Иногда могут возникать ошибки при построении гистограммы именно из-за того, что обращаются к столбцам, которые содержат не числовые, а строковые значения, на таких данных построить гистограмму нельзя. Как читать гистограммы - вот здесь наглядный материал: www.wikihow.com...Histograms"
      ],
      "metadata": {
        "id": "KtdiBxgFg1rF"
      }
    }
  ]
}