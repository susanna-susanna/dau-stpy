{
  "nbformat": 4,
  "nbformat_minor": 0,
  "metadata": {
    "colab": {
      "provenance": [],
      "include_colab_link": true
    },
    "kernelspec": {
      "name": "python3",
      "display_name": "Python 3"
    },
    "language_info": {
      "name": "python"
    }
  },
  "cells": [
    {
      "cell_type": "markdown",
      "metadata": {
        "id": "view-in-github",
        "colab_type": "text"
      },
      "source": [
        "<a href=\"https://colab.research.google.com/github/susanna-susanna/dau-stpy/blob/main/stpy_8_case_study.ipynb\" target=\"_parent\"><img src=\"https://colab.research.google.com/assets/colab-badge.svg\" alt=\"Open In Colab\"/></a>"
      ]
    },
    {
      "cell_type": "code",
      "source": [
        "https://www.kaggle.com/code/alxmamaev/how-to-easy-preprocess-russian-text/script\n",
        "\n",
        "How to easy preprocess Russian text 🇷🇺"
      ],
      "metadata": {
        "id": "38WGIdNMEWJl"
      },
      "execution_count": null,
      "outputs": []
    },
    {
      "cell_type": "markdown",
      "source": [
        "##[Домашнее задание к лекции \"Статистика. Практика\"](https://github.com/obulygin/pyda_homeworks/blob/master/stat_case_study/stat_case_study.ipynb)"
      ],
      "metadata": {
        "id": "hxQQXDx0hXs8"
      }
    },
    {
      "cell_type": "markdown",
      "source": [
        "###Задание 1\n",
        "Вернемся к набору данных о видеоиграх.\n",
        "https://raw.githubusercontent.com/obulygin/pyda_homeworks/master/stat_case_study/vgsales.csv\n",
        "\n",
        "Ответьте на следующие вопросы:\n",
        "\n",
        "1) Как критики относятся к спортивным играм?\n",
        "\n",
        "2) Критикам нравятся больше игры на PC или на PS4?\n",
        "\n",
        "3) Критикам больше нравятся стрелялки или стратегии?\n",
        "\n",
        "\n",
        "Для каждого вопроса:\n",
        "\n",
        "* сформулируйте нулевую и альтернативную гипотезы;\n",
        "\n",
        "* выберите пороговый уровень статистической значимости;\n",
        "\n",
        "* опишите полученные результаты статистического теста.\n",
        "\n",
        "\n",
        "\n",
        "\n"
      ],
      "metadata": {
        "id": "oEWkIwQubkb_"
      }
    },
    {
      "cell_type": "code",
      "source": [
        "import pandas as pd\n",
        "import numpy as np  \n",
        "\n",
        "from scipy import stats # При работе со статистикой\n",
        "import matplotlib.pyplot as plt  # Библиотека для визуализации результатов \n",
        "\n",
        "import seaborn as sns # Более продвинутая библиотека для визуализации"
      ],
      "metadata": {
        "id": "FfoprzBi0oRG"
      },
      "execution_count": null,
      "outputs": []
    },
    {
      "cell_type": "code",
      "source": [
        "CB91_Blue = '#2CBDFE'\n",
        "CB91_Green = '#47DBCD'\n",
        "CB91_Pink = '#F3A0F2'\n",
        "CB91_Purple = '#9D2EC5'\n",
        "CB91_Violet = '#661D98'\n",
        "CB91_Amber = '#F5B14C'"
      ],
      "metadata": {
        "id": "uH5GLx4A0dYt"
      },
      "execution_count": null,
      "outputs": []
    },
    {
      "cell_type": "code",
      "source": [
        "games = pd.read_csv('https://raw.githubusercontent.com/obulygin/pyda_homeworks/master/stat_case_study/vgsales.csv')\n",
        "games.info()"
      ],
      "metadata": {
        "colab": {
          "base_uri": "https://localhost:8080/"
        },
        "id": "zKkvyG9rmK8F",
        "outputId": "bef2e0a9-800e-4f53-fd3f-997cfe7d65a4"
      },
      "execution_count": null,
      "outputs": [
        {
          "output_type": "stream",
          "name": "stdout",
          "text": [
            "<class 'pandas.core.frame.DataFrame'>\n",
            "RangeIndex: 16719 entries, 0 to 16718\n",
            "Data columns (total 16 columns):\n",
            " #   Column           Non-Null Count  Dtype  \n",
            "---  ------           --------------  -----  \n",
            " 0   Name             16717 non-null  object \n",
            " 1   Platform         16719 non-null  object \n",
            " 2   Year_of_Release  16450 non-null  float64\n",
            " 3   Genre            16717 non-null  object \n",
            " 4   Publisher        16665 non-null  object \n",
            " 5   NA_Sales         16719 non-null  float64\n",
            " 6   EU_Sales         16719 non-null  float64\n",
            " 7   JP_Sales         16719 non-null  float64\n",
            " 8   Other_Sales      16719 non-null  float64\n",
            " 9   Global_Sales     16719 non-null  float64\n",
            " 10  Critic_Score     8137 non-null   float64\n",
            " 11  Critic_Count     8137 non-null   float64\n",
            " 12  User_Score       10015 non-null  object \n",
            " 13  User_Count       7590 non-null   float64\n",
            " 14  Developer        10096 non-null  object \n",
            " 15  Rating           9950 non-null   object \n",
            "dtypes: float64(9), object(7)\n",
            "memory usage: 2.0+ MB\n"
          ]
        }
      ]
    },
    {
      "cell_type": "code",
      "source": [
        "games.head(3)"
      ],
      "metadata": {
        "colab": {
          "base_uri": "https://localhost:8080/",
          "height": 294
        },
        "id": "PpvD9WSqnQcf",
        "outputId": "757d3557-f4e8-483c-e97e-1ce0a53b19aa"
      },
      "execution_count": null,
      "outputs": [
        {
          "output_type": "execute_result",
          "data": {
            "text/plain": [
              "                Name Platform  Year_of_Release     Genre Publisher  NA_Sales  \\\n",
              "0         Wii Sports      Wii           2006.0    Sports  Nintendo     41.36   \n",
              "1  Super Mario Bros.      NES           1985.0  Platform  Nintendo     29.08   \n",
              "2     Mario Kart Wii      Wii           2008.0    Racing  Nintendo     15.68   \n",
              "\n",
              "   EU_Sales  JP_Sales  Other_Sales  Global_Sales  Critic_Score  Critic_Count  \\\n",
              "0     28.96      3.77         8.45         82.53          76.0          51.0   \n",
              "1      3.58      6.81         0.77         40.24           NaN           NaN   \n",
              "2     12.76      3.79         3.29         35.52          82.0          73.0   \n",
              "\n",
              "  User_Score  User_Count Developer Rating  \n",
              "0          8       322.0  Nintendo      E  \n",
              "1        NaN         NaN       NaN    NaN  \n",
              "2        8.3       709.0  Nintendo      E  "
            ],
            "text/html": [
              "\n",
              "  <div id=\"df-c67559ba-3f59-478e-9bb6-5ef4ebb583ac\">\n",
              "    <div class=\"colab-df-container\">\n",
              "      <div>\n",
              "<style scoped>\n",
              "    .dataframe tbody tr th:only-of-type {\n",
              "        vertical-align: middle;\n",
              "    }\n",
              "\n",
              "    .dataframe tbody tr th {\n",
              "        vertical-align: top;\n",
              "    }\n",
              "\n",
              "    .dataframe thead th {\n",
              "        text-align: right;\n",
              "    }\n",
              "</style>\n",
              "<table border=\"1\" class=\"dataframe\">\n",
              "  <thead>\n",
              "    <tr style=\"text-align: right;\">\n",
              "      <th></th>\n",
              "      <th>Name</th>\n",
              "      <th>Platform</th>\n",
              "      <th>Year_of_Release</th>\n",
              "      <th>Genre</th>\n",
              "      <th>Publisher</th>\n",
              "      <th>NA_Sales</th>\n",
              "      <th>EU_Sales</th>\n",
              "      <th>JP_Sales</th>\n",
              "      <th>Other_Sales</th>\n",
              "      <th>Global_Sales</th>\n",
              "      <th>Critic_Score</th>\n",
              "      <th>Critic_Count</th>\n",
              "      <th>User_Score</th>\n",
              "      <th>User_Count</th>\n",
              "      <th>Developer</th>\n",
              "      <th>Rating</th>\n",
              "    </tr>\n",
              "  </thead>\n",
              "  <tbody>\n",
              "    <tr>\n",
              "      <th>0</th>\n",
              "      <td>Wii Sports</td>\n",
              "      <td>Wii</td>\n",
              "      <td>2006.0</td>\n",
              "      <td>Sports</td>\n",
              "      <td>Nintendo</td>\n",
              "      <td>41.36</td>\n",
              "      <td>28.96</td>\n",
              "      <td>3.77</td>\n",
              "      <td>8.45</td>\n",
              "      <td>82.53</td>\n",
              "      <td>76.0</td>\n",
              "      <td>51.0</td>\n",
              "      <td>8</td>\n",
              "      <td>322.0</td>\n",
              "      <td>Nintendo</td>\n",
              "      <td>E</td>\n",
              "    </tr>\n",
              "    <tr>\n",
              "      <th>1</th>\n",
              "      <td>Super Mario Bros.</td>\n",
              "      <td>NES</td>\n",
              "      <td>1985.0</td>\n",
              "      <td>Platform</td>\n",
              "      <td>Nintendo</td>\n",
              "      <td>29.08</td>\n",
              "      <td>3.58</td>\n",
              "      <td>6.81</td>\n",
              "      <td>0.77</td>\n",
              "      <td>40.24</td>\n",
              "      <td>NaN</td>\n",
              "      <td>NaN</td>\n",
              "      <td>NaN</td>\n",
              "      <td>NaN</td>\n",
              "      <td>NaN</td>\n",
              "      <td>NaN</td>\n",
              "    </tr>\n",
              "    <tr>\n",
              "      <th>2</th>\n",
              "      <td>Mario Kart Wii</td>\n",
              "      <td>Wii</td>\n",
              "      <td>2008.0</td>\n",
              "      <td>Racing</td>\n",
              "      <td>Nintendo</td>\n",
              "      <td>15.68</td>\n",
              "      <td>12.76</td>\n",
              "      <td>3.79</td>\n",
              "      <td>3.29</td>\n",
              "      <td>35.52</td>\n",
              "      <td>82.0</td>\n",
              "      <td>73.0</td>\n",
              "      <td>8.3</td>\n",
              "      <td>709.0</td>\n",
              "      <td>Nintendo</td>\n",
              "      <td>E</td>\n",
              "    </tr>\n",
              "  </tbody>\n",
              "</table>\n",
              "</div>\n",
              "      <button class=\"colab-df-convert\" onclick=\"convertToInteractive('df-c67559ba-3f59-478e-9bb6-5ef4ebb583ac')\"\n",
              "              title=\"Convert this dataframe to an interactive table.\"\n",
              "              style=\"display:none;\">\n",
              "        \n",
              "  <svg xmlns=\"http://www.w3.org/2000/svg\" height=\"24px\"viewBox=\"0 0 24 24\"\n",
              "       width=\"24px\">\n",
              "    <path d=\"M0 0h24v24H0V0z\" fill=\"none\"/>\n",
              "    <path d=\"M18.56 5.44l.94 2.06.94-2.06 2.06-.94-2.06-.94-.94-2.06-.94 2.06-2.06.94zm-11 1L8.5 8.5l.94-2.06 2.06-.94-2.06-.94L8.5 2.5l-.94 2.06-2.06.94zm10 10l.94 2.06.94-2.06 2.06-.94-2.06-.94-.94-2.06-.94 2.06-2.06.94z\"/><path d=\"M17.41 7.96l-1.37-1.37c-.4-.4-.92-.59-1.43-.59-.52 0-1.04.2-1.43.59L10.3 9.45l-7.72 7.72c-.78.78-.78 2.05 0 2.83L4 21.41c.39.39.9.59 1.41.59.51 0 1.02-.2 1.41-.59l7.78-7.78 2.81-2.81c.8-.78.8-2.07 0-2.86zM5.41 20L4 18.59l7.72-7.72 1.47 1.35L5.41 20z\"/>\n",
              "  </svg>\n",
              "      </button>\n",
              "      \n",
              "  <style>\n",
              "    .colab-df-container {\n",
              "      display:flex;\n",
              "      flex-wrap:wrap;\n",
              "      gap: 12px;\n",
              "    }\n",
              "\n",
              "    .colab-df-convert {\n",
              "      background-color: #E8F0FE;\n",
              "      border: none;\n",
              "      border-radius: 50%;\n",
              "      cursor: pointer;\n",
              "      display: none;\n",
              "      fill: #1967D2;\n",
              "      height: 32px;\n",
              "      padding: 0 0 0 0;\n",
              "      width: 32px;\n",
              "    }\n",
              "\n",
              "    .colab-df-convert:hover {\n",
              "      background-color: #E2EBFA;\n",
              "      box-shadow: 0px 1px 2px rgba(60, 64, 67, 0.3), 0px 1px 3px 1px rgba(60, 64, 67, 0.15);\n",
              "      fill: #174EA6;\n",
              "    }\n",
              "\n",
              "    [theme=dark] .colab-df-convert {\n",
              "      background-color: #3B4455;\n",
              "      fill: #D2E3FC;\n",
              "    }\n",
              "\n",
              "    [theme=dark] .colab-df-convert:hover {\n",
              "      background-color: #434B5C;\n",
              "      box-shadow: 0px 1px 3px 1px rgba(0, 0, 0, 0.15);\n",
              "      filter: drop-shadow(0px 1px 2px rgba(0, 0, 0, 0.3));\n",
              "      fill: #FFFFFF;\n",
              "    }\n",
              "  </style>\n",
              "\n",
              "      <script>\n",
              "        const buttonEl =\n",
              "          document.querySelector('#df-c67559ba-3f59-478e-9bb6-5ef4ebb583ac button.colab-df-convert');\n",
              "        buttonEl.style.display =\n",
              "          google.colab.kernel.accessAllowed ? 'block' : 'none';\n",
              "\n",
              "        async function convertToInteractive(key) {\n",
              "          const element = document.querySelector('#df-c67559ba-3f59-478e-9bb6-5ef4ebb583ac');\n",
              "          const dataTable =\n",
              "            await google.colab.kernel.invokeFunction('convertToInteractive',\n",
              "                                                     [key], {});\n",
              "          if (!dataTable) return;\n",
              "\n",
              "          const docLinkHtml = 'Like what you see? Visit the ' +\n",
              "            '<a target=\"_blank\" href=https://colab.research.google.com/notebooks/data_table.ipynb>data table notebook</a>'\n",
              "            + ' to learn more about interactive tables.';\n",
              "          element.innerHTML = '';\n",
              "          dataTable['output_type'] = 'display_data';\n",
              "          await google.colab.output.renderOutput(dataTable, element);\n",
              "          const docLink = document.createElement('div');\n",
              "          docLink.innerHTML = docLinkHtml;\n",
              "          element.appendChild(docLink);\n",
              "        }\n",
              "      </script>\n",
              "    </div>\n",
              "  </div>\n",
              "  "
            ]
          },
          "metadata": {},
          "execution_count": 4
        }
      ]
    },
    {
      "cell_type": "markdown",
      "source": [
        "\n",
        "\n",
        "1) Как критики относятся к спортивным играм?\n",
        "\n",
        "\n",
        "Для каждого вопроса:\n",
        "\n",
        "сформулируйте нулевую и альтернативную гипотезы;\n",
        "\n",
        "выберите пороговый уровень статистической значимости;\n",
        "\n",
        "опишите полученные результаты статистического теста."
      ],
      "metadata": {
        "id": "eZboanyh8I6W"
      }
    },
    {
      "cell_type": "code",
      "source": [
        "games.loc[games.Genre == 'Sports'].info()"
      ],
      "metadata": {
        "colab": {
          "base_uri": "https://localhost:8080/"
        },
        "id": "yV9ofutWpUL7",
        "outputId": "196e76dd-5921-41ec-bb7c-301afe3648f4"
      },
      "execution_count": null,
      "outputs": [
        {
          "output_type": "stream",
          "name": "stdout",
          "text": [
            "<class 'pandas.core.frame.DataFrame'>\n",
            "Int64Index: 2348 entries, 0 to 16715\n",
            "Data columns (total 16 columns):\n",
            " #   Column           Non-Null Count  Dtype  \n",
            "---  ------           --------------  -----  \n",
            " 0   Name             2348 non-null   object \n",
            " 1   Platform         2348 non-null   object \n",
            " 2   Year_of_Release  2306 non-null   float64\n",
            " 3   Genre            2348 non-null   object \n",
            " 4   Publisher        2345 non-null   object \n",
            " 5   NA_Sales         2348 non-null   float64\n",
            " 6   EU_Sales         2348 non-null   float64\n",
            " 7   JP_Sales         2348 non-null   float64\n",
            " 8   Other_Sales      2348 non-null   float64\n",
            " 9   Global_Sales     2348 non-null   float64\n",
            " 10  Critic_Score     1194 non-null   float64\n",
            " 11  Critic_Count     1194 non-null   float64\n",
            " 12  User_Score       1516 non-null   object \n",
            " 13  User_Count       1103 non-null   float64\n",
            " 14  Developer        1526 non-null   object \n",
            " 15  Rating           1509 non-null   object \n",
            "dtypes: float64(9), object(7)\n",
            "memory usage: 311.8+ KB\n"
          ]
        }
      ]
    },
    {
      "cell_type": "markdown",
      "source": [
        "Получила 2348 строк, которые которые содеражат данные по играм жанра \"Спорт\".\n",
        "\n",
        "Вижу, что не пустых строк 1194. Т.е. почти половину игр критики НЕ оценивали. \n",
        "\n",
        "Интересно, могу ли посчитать, что критикам не интересны спортивные игры?)) Что моральных и ментальных сил у критиков хватает оценить только  половину таких игр?))\n",
        "\n",
        "Сейчас проверим"
      ],
      "metadata": {
        "id": "RkISJYp2p9I0"
      }
    },
    {
      "cell_type": "code",
      "source": [
        "games.loc[games.Genre != 'Sports'].info()"
      ],
      "metadata": {
        "colab": {
          "base_uri": "https://localhost:8080/"
        },
        "id": "dQHKqVzRAo2-",
        "outputId": "3f3744e6-3a5d-4119-f424-9b685fd02e27"
      },
      "execution_count": null,
      "outputs": [
        {
          "output_type": "stream",
          "name": "stdout",
          "text": [
            "<class 'pandas.core.frame.DataFrame'>\n",
            "Int64Index: 14371 entries, 1 to 16718\n",
            "Data columns (total 16 columns):\n",
            " #   Column           Non-Null Count  Dtype  \n",
            "---  ------           --------------  -----  \n",
            " 0   Name             14369 non-null  object \n",
            " 1   Platform         14371 non-null  object \n",
            " 2   Year_of_Release  14144 non-null  float64\n",
            " 3   Genre            14369 non-null  object \n",
            " 4   Publisher        14320 non-null  object \n",
            " 5   NA_Sales         14371 non-null  float64\n",
            " 6   EU_Sales         14371 non-null  float64\n",
            " 7   JP_Sales         14371 non-null  float64\n",
            " 8   Other_Sales      14371 non-null  float64\n",
            " 9   Global_Sales     14371 non-null  float64\n",
            " 10  Critic_Score     6943 non-null   float64\n",
            " 11  Critic_Count     6943 non-null   float64\n",
            " 12  User_Score       8499 non-null   object \n",
            " 13  User_Count       6487 non-null   float64\n",
            " 14  Developer        8570 non-null   object \n",
            " 15  Rating           8441 non-null   object \n",
            "dtypes: float64(9), object(7)\n",
            "memory usage: 1.9+ MB\n"
          ]
        }
      ]
    },
    {
      "cell_type": "markdown",
      "source": [
        "Картина, наверное, даже немного хуже. Больше половины игр критики не оценивают.\n",
        "\n",
        "---\n",
        "\n",
        "Сформулируем Н0, которая звучит так: критики к спортивным играм относятся ровно так, как и ко всем остальным.\n",
        "\n",
        "Н1 -- критики предпочитают или спортивный жанр, или другие жанры.\n",
        "\n",
        "Уровень значимости примем за `0.05` ($\\alpha=0.05$).\n",
        "\n",
        "ttest_ind тестом посмотрим, имеют ли две выборки данных разные средние значения. Здесь мы принимаем нулевую гипотезу о том, что обе группы имеют равные средние.\n",
        "\n",
        "mannwhitneyu сравним медианы"
      ],
      "metadata": {
        "id": "xJzkw-BgA4QB"
      }
    },
    {
      "cell_type": "code",
      "source": [
        "sport = games.loc[games.Genre == 'Sports']['Critic_Score']\n",
        "not_sport = games.loc[games.Genre != 'Sports']['Critic_Score']\n",
        "\n",
        "# можно дропнуть NaN-ы\n",
        "# sport = games.loc[games.Genre == 'Sports']['Critic_Score'].dropna()\n",
        "# not_sport = games.loc[games.Genre != 'Sports']['Critic_Score'].dropna()\n",
        "\n",
        "# можно использовать nan_policy='omit' в stats.ttest_ind(sport, not_sport, equal_var=False)\n",
        "# чтоб не удалять пустые значения"
      ],
      "metadata": {
        "id": "Nx-qx183usNf"
      },
      "execution_count": null,
      "outputs": []
    },
    {
      "cell_type": "code",
      "source": [
        "plt.figure(figsize=(8,6))\n",
        "plt.hist(not_sport, bins=100, alpha=0.7, color=CB91_Pink, label='not_sport')\n",
        "plt.hist(sport, bins=100, alpha=1, color=CB91_Blue, label='Sport')\n",
        "plt.legend()\n",
        "plt.title('Распределение интересов критиков по играм спортивным и не спортивным', size=16)\n",
        "plt.show()"
      ],
      "metadata": {
        "colab": {
          "base_uri": "https://localhost:8080/",
          "height": 392
        },
        "id": "dt1uFTj9zu5t",
        "outputId": "9768dd20-dd8d-4576-9a22-9138fce11671"
      },
      "execution_count": null,
      "outputs": [
        {
          "output_type": "display_data",
          "data": {
            "text/plain": [
              "<Figure size 576x432 with 1 Axes>"
            ],
            "image/png": "[encoded data removed]"
          },
          "metadata": {
            "needs_background": "light"
          }
        }
      ]
    },
    {
      "cell_type": "code",
      "source": [
        "t_1, p_value_1 = stats.ttest_ind(sport, not_sport, equal_var=False, nan_policy='omit')\n",
        "print(t_1)\n",
        "print(p_value_1)\n",
        "\n",
        "if p_value_1 < 0.05:\n",
        "  print(\"Наша Н0 -- не верна. Интерес критиков ко спортивным играм не такой же, как к другим\")\n",
        "else:\n",
        "  print(\"Наша Н0 -- верна. Интерес критиков ко спортивным играм такой же, как к другим\")\n",
        "\n",
        "print(\"Средняя оценка критиков по спортивным играм: \", sport.mean())\n",
        "print(\"Средняя оценка критиков по неспортивным играм: \", not_sport.mean())"
      ],
      "metadata": {
        "colab": {
          "base_uri": "https://localhost:8080/"
        },
        "id": "C1NERtfgCA4B",
        "outputId": "6e3daf07-69a7-4467-897a-396d0e767752"
      },
      "execution_count": null,
      "outputs": [
        {
          "output_type": "stream",
          "name": "stdout",
          "text": [
            "8.08698828481822\n",
            "1.1811713083203639e-15\n",
            "Наша Н0 -- не верна. Интерес критиков ко спортивным играм не такой же, как к другим\n",
            "Средняя оценка критиков по спортивным играм:  71.96817420435511\n",
            "Средняя оценка критиков по неспортивным играм:  68.4516779490134\n"
          ]
        }
      ]
    },
    {
      "cell_type": "markdown",
      "source": [
        "[Mann-Whitney-U-Test: Auswertung und Interpretation](https://statistikguru.de/spss/mann-whitney-u-test/auswertung-und-interpretation-2.html#:~:text=Ein%20signifikantes%20Ergebnis%20bedeutet%20beim,Gruppen%20von%20gewerkschaft%20von%20einander.)"
      ],
      "metadata": {
        "id": "P6sbbBQKNRSr"
      }
    },
    {
      "cell_type": "code",
      "source": [
        "# без .dropna() выдает ошибку. Сатрая версия Питона для nan_policy='omit'\n",
        "a = sport.dropna()\n",
        "b = not_sport.dropna()\n",
        "statistic_1, pvalue_1 = stats.mannwhitneyu(a, b)\n",
        "print(statistic_1, pvalue_1)\n",
        "\n",
        "if pvalue_1 < 0.05:\n",
        "  print(\"Наша Н0 -- не верна. Интерес критиков ко спортивным играм не такой же, как к другим\")\n",
        "else:\n",
        "  print(\"Наша Н0 -- верна. Интерес критиков ко спортивным играм такой же, как к другим\")\n",
        "\n",
        "print(\"Медиана критиков по спортивным играм: \", sport.median())\n",
        "print(\"Медиана критиков по неспортивным играм: \", not_sport.median())"
      ],
      "metadata": {
        "colab": {
          "base_uri": "https://localhost:8080/"
        },
        "id": "fp3oIKj3LuKg",
        "outputId": "ffca37a8-53da-4fdb-f3a1-2f5125d6b9b3"
      },
      "execution_count": null,
      "outputs": [
        {
          "output_type": "stream",
          "name": "stdout",
          "text": [
            "4839129.5 2.038377437021481e-20\n",
            "Наша Н0 -- не верна. Интерес критиков ко спортивным играм не такой же, как к другим\n",
            "Медиана критиков по спортивным играм:  75.0\n",
            "Медиана критиков по неспортивным играм:  70.0\n"
          ]
        }
      ]
    },
    {
      "cell_type": "markdown",
      "source": [
        "Как нужно понимать `t_1` и `statistic_1`?\n",
        "Всё, что я поняла, эти цифры показывают на сколько наша гипотеза (? гипотеза ли) отклоняется от чего-то)) От чего? \n",
        "\n",
        "Пока я просто ориентируюсь только на значение `pvalue`, по которому определяю верна ли наша Н0 или нет. Возможно, мне и не нужны `t_1` и `statistic_1`, а возможно именно они показывают как именно не верна Н0? Конкретно в этой задаче я поняла, что интерес к спортивным играм отличен от интереса к другим играм. НО я не знаю, в позитивном или негативном смысле)) Спортивные игры критикам сильно нравятся по сравнению с другими играми или наоборот критики терпеть не могут спортивные игры? Пока я пользуюсь методом .mean(), чтоб понять это))\n",
        "\n",
        "Я поняла, что `t-statistic` не нужно никак интерпретировать, она нам не нужна для выводов. Как раз на ее основе рассчитывается `p-value` (но она у нас и так уже есть!). \n",
        "\n",
        "И да, знак ее можно использовать, чтобы понимать, в какую сторону отклонения. Если он отрицательный, то среднее первой выборки меньше, если положительный - то больше (но никто не мешает для этих целей просто сравнивать фактические средние, как у сейчас и сделано)"
      ],
      "metadata": {
        "id": "4uQo5idZDVeN"
      }
    },
    {
      "cell_type": "code",
      "source": [],
      "metadata": {
        "id": "Jtdv4BTjGOZC"
      },
      "execution_count": null,
      "outputs": []
    },
    {
      "cell_type": "markdown",
      "source": [
        "\n",
        "2) Критикам нравятся больше игры на PC или на PS4?\n",
        "\n",
        "\n",
        "* сформулируйте нулевую и альтернативную гипотезы;\n",
        "\n",
        "* выберите пороговый уровень статистической значимости;\n",
        "\n",
        "* опишите полученные результаты статистического теста."
      ],
      "metadata": {
        "id": "o4TgTFRz8PL4"
      }
    },
    {
      "cell_type": "markdown",
      "source": [
        "Наша Н0 -- критикам равнозначно нравятся игры и на PC, и на PS4.\n",
        "\n",
        "Наша Н1 -- критики преподчитают игры на одной из этих платформ больше.\n",
        "\n",
        "Уровень значимости примем за `0.05` ($\\alpha=0.05$).\n",
        "\n",
        "ttest_ind тестом посмотрим, имеют ли две выборки данных разные средние значения. Здесь мы принимаем нулевую гипотезу о том, что обе группы имеют равные средние.\n",
        "\n",
        "mannwhitneyu сравним медианы"
      ],
      "metadata": {
        "id": "xbUUp_etQA32"
      }
    },
    {
      "cell_type": "code",
      "source": [
        "games.head(3)"
      ],
      "metadata": {
        "colab": {
          "base_uri": "https://localhost:8080/",
          "height": 257
        },
        "id": "IUSCJiZDHgz1",
        "outputId": "1c2e6290-19ee-48e5-8ba9-e48ab084cb16"
      },
      "execution_count": null,
      "outputs": [
        {
          "output_type": "execute_result",
          "data": {
            "text/plain": [
              "                Name Platform  Year_of_Release     Genre Publisher  NA_Sales  \\\n",
              "0         Wii Sports      Wii           2006.0    Sports  Nintendo     41.36   \n",
              "1  Super Mario Bros.      NES           1985.0  Platform  Nintendo     29.08   \n",
              "2     Mario Kart Wii      Wii           2008.0    Racing  Nintendo     15.68   \n",
              "\n",
              "   EU_Sales  JP_Sales  Other_Sales  Global_Sales  Critic_Score  Critic_Count  \\\n",
              "0     28.96      3.77         8.45         82.53          76.0          51.0   \n",
              "1      3.58      6.81         0.77         40.24           NaN           NaN   \n",
              "2     12.76      3.79         3.29         35.52          82.0          73.0   \n",
              "\n",
              "  User_Score  User_Count Developer Rating  \n",
              "0          8       322.0  Nintendo      E  \n",
              "1        NaN         NaN       NaN    NaN  \n",
              "2        8.3       709.0  Nintendo      E  "
            ],
            "text/html": [
              "\n",
              "  <div id=\"df-8d0f8086-01e4-4325-a1f0-a309cfda1afc\">\n",
              "    <div class=\"colab-df-container\">\n",
              "      <div>\n",
              "<style scoped>\n",
              "    .dataframe tbody tr th:only-of-type {\n",
              "        vertical-align: middle;\n",
              "    }\n",
              "\n",
              "    .dataframe tbody tr th {\n",
              "        vertical-align: top;\n",
              "    }\n",
              "\n",
              "    .dataframe thead th {\n",
              "        text-align: right;\n",
              "    }\n",
              "</style>\n",
              "<table border=\"1\" class=\"dataframe\">\n",
              "  <thead>\n",
              "    <tr style=\"text-align: right;\">\n",
              "      <th></th>\n",
              "      <th>Name</th>\n",
              "      <th>Platform</th>\n",
              "      <th>Year_of_Release</th>\n",
              "      <th>Genre</th>\n",
              "      <th>Publisher</th>\n",
              "      <th>NA_Sales</th>\n",
              "      <th>EU_Sales</th>\n",
              "      <th>JP_Sales</th>\n",
              "      <th>Other_Sales</th>\n",
              "      <th>Global_Sales</th>\n",
              "      <th>Critic_Score</th>\n",
              "      <th>Critic_Count</th>\n",
              "      <th>User_Score</th>\n",
              "      <th>User_Count</th>\n",
              "      <th>Developer</th>\n",
              "      <th>Rating</th>\n",
              "    </tr>\n",
              "  </thead>\n",
              "  <tbody>\n",
              "    <tr>\n",
              "      <th>0</th>\n",
              "      <td>Wii Sports</td>\n",
              "      <td>Wii</td>\n",
              "      <td>2006.0</td>\n",
              "      <td>Sports</td>\n",
              "      <td>Nintendo</td>\n",
              "      <td>41.36</td>\n",
              "      <td>28.96</td>\n",
              "      <td>3.77</td>\n",
              "      <td>8.45</td>\n",
              "      <td>82.53</td>\n",
              "      <td>76.0</td>\n",
              "      <td>51.0</td>\n",
              "      <td>8</td>\n",
              "      <td>322.0</td>\n",
              "      <td>Nintendo</td>\n",
              "      <td>E</td>\n",
              "    </tr>\n",
              "    <tr>\n",
              "      <th>1</th>\n",
              "      <td>Super Mario Bros.</td>\n",
              "      <td>NES</td>\n",
              "      <td>1985.0</td>\n",
              "      <td>Platform</td>\n",
              "      <td>Nintendo</td>\n",
              "      <td>29.08</td>\n",
              "      <td>3.58</td>\n",
              "      <td>6.81</td>\n",
              "      <td>0.77</td>\n",
              "      <td>40.24</td>\n",
              "      <td>NaN</td>\n",
              "      <td>NaN</td>\n",
              "      <td>NaN</td>\n",
              "      <td>NaN</td>\n",
              "      <td>NaN</td>\n",
              "      <td>NaN</td>\n",
              "    </tr>\n",
              "    <tr>\n",
              "      <th>2</th>\n",
              "      <td>Mario Kart Wii</td>\n",
              "      <td>Wii</td>\n",
              "      <td>2008.0</td>\n",
              "      <td>Racing</td>\n",
              "      <td>Nintendo</td>\n",
              "      <td>15.68</td>\n",
              "      <td>12.76</td>\n",
              "      <td>3.79</td>\n",
              "      <td>3.29</td>\n",
              "      <td>35.52</td>\n",
              "      <td>82.0</td>\n",
              "      <td>73.0</td>\n",
              "      <td>8.3</td>\n",
              "      <td>709.0</td>\n",
              "      <td>Nintendo</td>\n",
              "      <td>E</td>\n",
              "    </tr>\n",
              "  </tbody>\n",
              "</table>\n",
              "</div>\n",
              "      <button class=\"colab-df-convert\" onclick=\"convertToInteractive('df-8d0f8086-01e4-4325-a1f0-a309cfda1afc')\"\n",
              "              title=\"Convert this dataframe to an interactive table.\"\n",
              "              style=\"display:none;\">\n",
              "        \n",
              "  <svg xmlns=\"http://www.w3.org/2000/svg\" height=\"24px\"viewBox=\"0 0 24 24\"\n",
              "       width=\"24px\">\n",
              "    <path d=\"M0 0h24v24H0V0z\" fill=\"none\"/>\n",
              "    <path d=\"M18.56 5.44l.94 2.06.94-2.06 2.06-.94-2.06-.94-.94-2.06-.94 2.06-2.06.94zm-11 1L8.5 8.5l.94-2.06 2.06-.94-2.06-.94L8.5 2.5l-.94 2.06-2.06.94zm10 10l.94 2.06.94-2.06 2.06-.94-2.06-.94-.94-2.06-.94 2.06-2.06.94z\"/><path d=\"M17.41 7.96l-1.37-1.37c-.4-.4-.92-.59-1.43-.59-.52 0-1.04.2-1.43.59L10.3 9.45l-7.72 7.72c-.78.78-.78 2.05 0 2.83L4 21.41c.39.39.9.59 1.41.59.51 0 1.02-.2 1.41-.59l7.78-7.78 2.81-2.81c.8-.78.8-2.07 0-2.86zM5.41 20L4 18.59l7.72-7.72 1.47 1.35L5.41 20z\"/>\n",
              "  </svg>\n",
              "      </button>\n",
              "      \n",
              "  <style>\n",
              "    .colab-df-container {\n",
              "      display:flex;\n",
              "      flex-wrap:wrap;\n",
              "      gap: 12px;\n",
              "    }\n",
              "\n",
              "    .colab-df-convert {\n",
              "      background-color: #E8F0FE;\n",
              "      border: none;\n",
              "      border-radius: 50%;\n",
              "      cursor: pointer;\n",
              "      display: none;\n",
              "      fill: #1967D2;\n",
              "      height: 32px;\n",
              "      padding: 0 0 0 0;\n",
              "      width: 32px;\n",
              "    }\n",
              "\n",
              "    .colab-df-convert:hover {\n",
              "      background-color: #E2EBFA;\n",
              "      box-shadow: 0px 1px 2px rgba(60, 64, 67, 0.3), 0px 1px 3px 1px rgba(60, 64, 67, 0.15);\n",
              "      fill: #174EA6;\n",
              "    }\n",
              "\n",
              "    [theme=dark] .colab-df-convert {\n",
              "      background-color: #3B4455;\n",
              "      fill: #D2E3FC;\n",
              "    }\n",
              "\n",
              "    [theme=dark] .colab-df-convert:hover {\n",
              "      background-color: #434B5C;\n",
              "      box-shadow: 0px 1px 3px 1px rgba(0, 0, 0, 0.15);\n",
              "      filter: drop-shadow(0px 1px 2px rgba(0, 0, 0, 0.3));\n",
              "      fill: #FFFFFF;\n",
              "    }\n",
              "  </style>\n",
              "\n",
              "      <script>\n",
              "        const buttonEl =\n",
              "          document.querySelector('#df-8d0f8086-01e4-4325-a1f0-a309cfda1afc button.colab-df-convert');\n",
              "        buttonEl.style.display =\n",
              "          google.colab.kernel.accessAllowed ? 'block' : 'none';\n",
              "\n",
              "        async function convertToInteractive(key) {\n",
              "          const element = document.querySelector('#df-8d0f8086-01e4-4325-a1f0-a309cfda1afc');\n",
              "          const dataTable =\n",
              "            await google.colab.kernel.invokeFunction('convertToInteractive',\n",
              "                                                     [key], {});\n",
              "          if (!dataTable) return;\n",
              "\n",
              "          const docLinkHtml = 'Like what you see? Visit the ' +\n",
              "            '<a target=\"_blank\" href=https://colab.research.google.com/notebooks/data_table.ipynb>data table notebook</a>'\n",
              "            + ' to learn more about interactive tables.';\n",
              "          element.innerHTML = '';\n",
              "          dataTable['output_type'] = 'display_data';\n",
              "          await google.colab.output.renderOutput(dataTable, element);\n",
              "          const docLink = document.createElement('div');\n",
              "          docLink.innerHTML = docLinkHtml;\n",
              "          element.appendChild(docLink);\n",
              "        }\n",
              "      </script>\n",
              "    </div>\n",
              "  </div>\n",
              "  "
            ]
          },
          "metadata": {},
          "execution_count": 13
        }
      ]
    },
    {
      "cell_type": "code",
      "source": [
        "platforms = games[games.Platform.isin(['PC', 'PS4'])]"
      ],
      "metadata": {
        "id": "0eYRpk1TMbjL"
      },
      "execution_count": null,
      "outputs": []
    },
    {
      "cell_type": "code",
      "source": [
        "platforms[['Platform', 'Critic_Count']].groupby('Platform').sum()"
      ],
      "metadata": {
        "colab": {
          "base_uri": "https://localhost:8080/",
          "height": 143
        },
        "id": "rq5clp7-Hjek",
        "outputId": "d0043a25-a82b-404a-9c83-c070bb23384d"
      },
      "execution_count": null,
      "outputs": [
        {
          "output_type": "execute_result",
          "data": {
            "text/plain": [
              "          Critic_Count\n",
              "Platform              \n",
              "PC             19963.0\n",
              "PS4             9820.0"
            ],
            "text/html": [
              "\n",
              "  <div id=\"df-c0878ced-9ba9-40f4-8682-6be2c132a61c\">\n",
              "    <div class=\"colab-df-container\">\n",
              "      <div>\n",
              "<style scoped>\n",
              "    .dataframe tbody tr th:only-of-type {\n",
              "        vertical-align: middle;\n",
              "    }\n",
              "\n",
              "    .dataframe tbody tr th {\n",
              "        vertical-align: top;\n",
              "    }\n",
              "\n",
              "    .dataframe thead th {\n",
              "        text-align: right;\n",
              "    }\n",
              "</style>\n",
              "<table border=\"1\" class=\"dataframe\">\n",
              "  <thead>\n",
              "    <tr style=\"text-align: right;\">\n",
              "      <th></th>\n",
              "      <th>Critic_Count</th>\n",
              "    </tr>\n",
              "    <tr>\n",
              "      <th>Platform</th>\n",
              "      <th></th>\n",
              "    </tr>\n",
              "  </thead>\n",
              "  <tbody>\n",
              "    <tr>\n",
              "      <th>PC</th>\n",
              "      <td>19963.0</td>\n",
              "    </tr>\n",
              "    <tr>\n",
              "      <th>PS4</th>\n",
              "      <td>9820.0</td>\n",
              "    </tr>\n",
              "  </tbody>\n",
              "</table>\n",
              "</div>\n",
              "      <button class=\"colab-df-convert\" onclick=\"convertToInteractive('df-c0878ced-9ba9-40f4-8682-6be2c132a61c')\"\n",
              "              title=\"Convert this dataframe to an interactive table.\"\n",
              "              style=\"display:none;\">\n",
              "        \n",
              "  <svg xmlns=\"http://www.w3.org/2000/svg\" height=\"24px\"viewBox=\"0 0 24 24\"\n",
              "       width=\"24px\">\n",
              "    <path d=\"M0 0h24v24H0V0z\" fill=\"none\"/>\n",
              "    <path d=\"M18.56 5.44l.94 2.06.94-2.06 2.06-.94-2.06-.94-.94-2.06-.94 2.06-2.06.94zm-11 1L8.5 8.5l.94-2.06 2.06-.94-2.06-.94L8.5 2.5l-.94 2.06-2.06.94zm10 10l.94 2.06.94-2.06 2.06-.94-2.06-.94-.94-2.06-.94 2.06-2.06.94z\"/><path d=\"M17.41 7.96l-1.37-1.37c-.4-.4-.92-.59-1.43-.59-.52 0-1.04.2-1.43.59L10.3 9.45l-7.72 7.72c-.78.78-.78 2.05 0 2.83L4 21.41c.39.39.9.59 1.41.59.51 0 1.02-.2 1.41-.59l7.78-7.78 2.81-2.81c.8-.78.8-2.07 0-2.86zM5.41 20L4 18.59l7.72-7.72 1.47 1.35L5.41 20z\"/>\n",
              "  </svg>\n",
              "      </button>\n",
              "      \n",
              "  <style>\n",
              "    .colab-df-container {\n",
              "      display:flex;\n",
              "      flex-wrap:wrap;\n",
              "      gap: 12px;\n",
              "    }\n",
              "\n",
              "    .colab-df-convert {\n",
              "      background-color: #E8F0FE;\n",
              "      border: none;\n",
              "      border-radius: 50%;\n",
              "      cursor: pointer;\n",
              "      display: none;\n",
              "      fill: #1967D2;\n",
              "      height: 32px;\n",
              "      padding: 0 0 0 0;\n",
              "      width: 32px;\n",
              "    }\n",
              "\n",
              "    .colab-df-convert:hover {\n",
              "      background-color: #E2EBFA;\n",
              "      box-shadow: 0px 1px 2px rgba(60, 64, 67, 0.3), 0px 1px 3px 1px rgba(60, 64, 67, 0.15);\n",
              "      fill: #174EA6;\n",
              "    }\n",
              "\n",
              "    [theme=dark] .colab-df-convert {\n",
              "      background-color: #3B4455;\n",
              "      fill: #D2E3FC;\n",
              "    }\n",
              "\n",
              "    [theme=dark] .colab-df-convert:hover {\n",
              "      background-color: #434B5C;\n",
              "      box-shadow: 0px 1px 3px 1px rgba(0, 0, 0, 0.15);\n",
              "      filter: drop-shadow(0px 1px 2px rgba(0, 0, 0, 0.3));\n",
              "      fill: #FFFFFF;\n",
              "    }\n",
              "  </style>\n",
              "\n",
              "      <script>\n",
              "        const buttonEl =\n",
              "          document.querySelector('#df-c0878ced-9ba9-40f4-8682-6be2c132a61c button.colab-df-convert');\n",
              "        buttonEl.style.display =\n",
              "          google.colab.kernel.accessAllowed ? 'block' : 'none';\n",
              "\n",
              "        async function convertToInteractive(key) {\n",
              "          const element = document.querySelector('#df-c0878ced-9ba9-40f4-8682-6be2c132a61c');\n",
              "          const dataTable =\n",
              "            await google.colab.kernel.invokeFunction('convertToInteractive',\n",
              "                                                     [key], {});\n",
              "          if (!dataTable) return;\n",
              "\n",
              "          const docLinkHtml = 'Like what you see? Visit the ' +\n",
              "            '<a target=\"_blank\" href=https://colab.research.google.com/notebooks/data_table.ipynb>data table notebook</a>'\n",
              "            + ' to learn more about interactive tables.';\n",
              "          element.innerHTML = '';\n",
              "          dataTable['output_type'] = 'display_data';\n",
              "          await google.colab.output.renderOutput(dataTable, element);\n",
              "          const docLink = document.createElement('div');\n",
              "          docLink.innerHTML = docLinkHtml;\n",
              "          element.appendChild(docLink);\n",
              "        }\n",
              "      </script>\n",
              "    </div>\n",
              "  </div>\n",
              "  "
            ]
          },
          "metadata": {},
          "execution_count": 6
        }
      ]
    },
    {
      "cell_type": "code",
      "source": [
        "platforms[['Platform', 'Critic_Score']].groupby('Platform').sum()"
      ],
      "metadata": {
        "colab": {
          "base_uri": "https://localhost:8080/",
          "height": 143
        },
        "id": "zwWZC1fsTHMW",
        "outputId": "f9b3fd7f-5a69-4d4c-9475-825d4dad1ce7"
      },
      "execution_count": null,
      "outputs": [
        {
          "output_type": "execute_result",
          "data": {
            "text/plain": [
              "          Critic_Score\n",
              "Platform              \n",
              "PC             54289.0\n",
              "PS4            18167.0"
            ],
            "text/html": [
              "\n",
              "  <div id=\"df-40f1aefa-04ab-49e0-94c2-303845991913\">\n",
              "    <div class=\"colab-df-container\">\n",
              "      <div>\n",
              "<style scoped>\n",
              "    .dataframe tbody tr th:only-of-type {\n",
              "        vertical-align: middle;\n",
              "    }\n",
              "\n",
              "    .dataframe tbody tr th {\n",
              "        vertical-align: top;\n",
              "    }\n",
              "\n",
              "    .dataframe thead th {\n",
              "        text-align: right;\n",
              "    }\n",
              "</style>\n",
              "<table border=\"1\" class=\"dataframe\">\n",
              "  <thead>\n",
              "    <tr style=\"text-align: right;\">\n",
              "      <th></th>\n",
              "      <th>Critic_Score</th>\n",
              "    </tr>\n",
              "    <tr>\n",
              "      <th>Platform</th>\n",
              "      <th></th>\n",
              "    </tr>\n",
              "  </thead>\n",
              "  <tbody>\n",
              "    <tr>\n",
              "      <th>PC</th>\n",
              "      <td>54289.0</td>\n",
              "    </tr>\n",
              "    <tr>\n",
              "      <th>PS4</th>\n",
              "      <td>18167.0</td>\n",
              "    </tr>\n",
              "  </tbody>\n",
              "</table>\n",
              "</div>\n",
              "      <button class=\"colab-df-convert\" onclick=\"convertToInteractive('df-40f1aefa-04ab-49e0-94c2-303845991913')\"\n",
              "              title=\"Convert this dataframe to an interactive table.\"\n",
              "              style=\"display:none;\">\n",
              "        \n",
              "  <svg xmlns=\"http://www.w3.org/2000/svg\" height=\"24px\"viewBox=\"0 0 24 24\"\n",
              "       width=\"24px\">\n",
              "    <path d=\"M0 0h24v24H0V0z\" fill=\"none\"/>\n",
              "    <path d=\"M18.56 5.44l.94 2.06.94-2.06 2.06-.94-2.06-.94-.94-2.06-.94 2.06-2.06.94zm-11 1L8.5 8.5l.94-2.06 2.06-.94-2.06-.94L8.5 2.5l-.94 2.06-2.06.94zm10 10l.94 2.06.94-2.06 2.06-.94-2.06-.94-.94-2.06-.94 2.06-2.06.94z\"/><path d=\"M17.41 7.96l-1.37-1.37c-.4-.4-.92-.59-1.43-.59-.52 0-1.04.2-1.43.59L10.3 9.45l-7.72 7.72c-.78.78-.78 2.05 0 2.83L4 21.41c.39.39.9.59 1.41.59.51 0 1.02-.2 1.41-.59l7.78-7.78 2.81-2.81c.8-.78.8-2.07 0-2.86zM5.41 20L4 18.59l7.72-7.72 1.47 1.35L5.41 20z\"/>\n",
              "  </svg>\n",
              "      </button>\n",
              "      \n",
              "  <style>\n",
              "    .colab-df-container {\n",
              "      display:flex;\n",
              "      flex-wrap:wrap;\n",
              "      gap: 12px;\n",
              "    }\n",
              "\n",
              "    .colab-df-convert {\n",
              "      background-color: #E8F0FE;\n",
              "      border: none;\n",
              "      border-radius: 50%;\n",
              "      cursor: pointer;\n",
              "      display: none;\n",
              "      fill: #1967D2;\n",
              "      height: 32px;\n",
              "      padding: 0 0 0 0;\n",
              "      width: 32px;\n",
              "    }\n",
              "\n",
              "    .colab-df-convert:hover {\n",
              "      background-color: #E2EBFA;\n",
              "      box-shadow: 0px 1px 2px rgba(60, 64, 67, 0.3), 0px 1px 3px 1px rgba(60, 64, 67, 0.15);\n",
              "      fill: #174EA6;\n",
              "    }\n",
              "\n",
              "    [theme=dark] .colab-df-convert {\n",
              "      background-color: #3B4455;\n",
              "      fill: #D2E3FC;\n",
              "    }\n",
              "\n",
              "    [theme=dark] .colab-df-convert:hover {\n",
              "      background-color: #434B5C;\n",
              "      box-shadow: 0px 1px 3px 1px rgba(0, 0, 0, 0.15);\n",
              "      filter: drop-shadow(0px 1px 2px rgba(0, 0, 0, 0.3));\n",
              "      fill: #FFFFFF;\n",
              "    }\n",
              "  </style>\n",
              "\n",
              "      <script>\n",
              "        const buttonEl =\n",
              "          document.querySelector('#df-40f1aefa-04ab-49e0-94c2-303845991913 button.colab-df-convert');\n",
              "        buttonEl.style.display =\n",
              "          google.colab.kernel.accessAllowed ? 'block' : 'none';\n",
              "\n",
              "        async function convertToInteractive(key) {\n",
              "          const element = document.querySelector('#df-40f1aefa-04ab-49e0-94c2-303845991913');\n",
              "          const dataTable =\n",
              "            await google.colab.kernel.invokeFunction('convertToInteractive',\n",
              "                                                     [key], {});\n",
              "          if (!dataTable) return;\n",
              "\n",
              "          const docLinkHtml = 'Like what you see? Visit the ' +\n",
              "            '<a target=\"_blank\" href=https://colab.research.google.com/notebooks/data_table.ipynb>data table notebook</a>'\n",
              "            + ' to learn more about interactive tables.';\n",
              "          element.innerHTML = '';\n",
              "          dataTable['output_type'] = 'display_data';\n",
              "          await google.colab.output.renderOutput(dataTable, element);\n",
              "          const docLink = document.createElement('div');\n",
              "          docLink.innerHTML = docLinkHtml;\n",
              "          element.appendChild(docLink);\n",
              "        }\n",
              "      </script>\n",
              "    </div>\n",
              "  </div>\n",
              "  "
            ]
          },
          "metadata": {},
          "execution_count": 7
        }
      ]
    },
    {
      "cell_type": "code",
      "source": [
        "pc = platforms.loc[platforms.Platform == 'PC']['Critic_Score']\n",
        "ps4 = platforms.loc[platforms.Platform == 'PS4']['Critic_Score']"
      ],
      "metadata": {
        "id": "vt3H7sOwTM3W"
      },
      "execution_count": null,
      "outputs": []
    },
    {
      "cell_type": "code",
      "source": [
        "plt.figure(figsize=(8,6))\n",
        "plt.hist(pc, bins=70, alpha=1, color=CB91_Green, label='PC')\n",
        "plt.hist(ps4, bins=70, alpha=1, color=CB91_Amber, label='PS4')\n",
        "plt.legend()\n",
        "plt.title('Распределение интересов критиков по играм на PC и PS4', size=18)\n",
        "\n",
        "plt.show()"
      ],
      "metadata": {
        "colab": {
          "base_uri": "https://localhost:8080/",
          "height": 394
        },
        "id": "H4KLWlTlRGKH",
        "outputId": "a76a0fa8-f68b-4572-b32f-49fc63badbaf"
      },
      "execution_count": null,
      "outputs": [
        {
          "output_type": "display_data",
          "data": {
            "text/plain": [
              "<Figure size 576x432 with 1 Axes>"
            ],
            "image/png": "[encoded data removed]"
          },
          "metadata": {
            "needs_background": "light"
          }
        }
      ]
    },
    {
      "cell_type": "code",
      "source": [
        "t_2, p_value_2 = stats.ttest_ind(pc, ps4, equal_var=False, nan_policy='omit')\n",
        "print(t_2)\n",
        "print(p_value_2)\n",
        "\n",
        "if p_value_2 < 0.05:\n",
        "  print(\"Наша Н0 -- не верна; критики преподчитают игры на одной из этих платформ больше.\")\n",
        "else:\n",
        "  print(\"Наша Н0 -- верна; критикам равнозначно нравятся игры и на PC, и на PS4.\")\n",
        "\n",
        "print(\"Средняя оценка критиков PC: \", pc.mean())\n",
        "print(\"Средняя оценка критиков PS4: \", ps4.mean())"
      ],
      "metadata": {
        "colab": {
          "base_uri": "https://localhost:8080/"
        },
        "id": "scTx9nbbVENQ",
        "outputId": "9aa1175a-e210-47c1-876c-6995429ec51b"
      },
      "execution_count": null,
      "outputs": [
        {
          "output_type": "stream",
          "name": "stdout",
          "text": [
            "4.3087588262138725\n",
            "2.0672491572827482e-05\n",
            "Наша Н0 -- не верна; критики преподчитают игры на одной из этих платформ больше.\n",
            "Средняя оценка критиков PC:  75.92867132867133\n",
            "Средняя оценка критиков PS4:  72.09126984126983\n"
          ]
        }
      ]
    },
    {
      "cell_type": "code",
      "source": [
        "# без .dropna() выдает ошибку. Сатрая версия Питона для nan_policy='omit'\n",
        "c = pc.dropna()\n",
        "d = ps4.dropna()\n",
        "statistic_2, pvalue_2 = stats.mannwhitneyu(c, d)\n",
        "print(statistic_2, pvalue_2)\n",
        "\n",
        "if pvalue_2 < 0.05:\n",
        "  print(\"Наша Н0 -- не верна; критики преподчитают игры на одной из этих платформ больше.\")\n",
        "else:\n",
        "  print(\"Наша Н0 -- верна; критикам равнозначно нравятся игры и на PC, и на PS4.\")\n",
        "\n",
        "print(\"Медиана критиков PC: \", pc.median())\n",
        "print(\"Медиана критиков PS4: \", ps4.median())"
      ],
      "metadata": {
        "colab": {
          "base_uri": "https://localhost:8080/"
        },
        "id": "3LNAq4LfV5Eq",
        "outputId": "78a8342c-715f-4011-8972-44c8d0f8230e"
      },
      "execution_count": null,
      "outputs": [
        {
          "output_type": "stream",
          "name": "stdout",
          "text": [
            "106906.5 1.0200797553427417e-05\n",
            "Наша Н0 -- не верна; критики преподчитают игры на одной из этих платформ больше.\n",
            "Медиана критиков PC:  78.0\n",
            "Медиана критиков PS4:  73.0\n"
          ]
        }
      ]
    },
    {
      "cell_type": "code",
      "source": [],
      "metadata": {
        "id": "RUeIdKEG8a8S"
      },
      "execution_count": null,
      "outputs": []
    },
    {
      "cell_type": "markdown",
      "source": [
        "3) Критикам больше нравятся стрелялки или стратегии?\n",
        "\n",
        "\n",
        "Для каждого вопроса:\n",
        "\n",
        "* сформулируйте нулевую и альтернативную гипотезы;\n",
        "\n",
        "* выберите пороговый уровень статистической значимости;\n",
        "\n",
        "* опишите полученные результаты статистического теста."
      ],
      "metadata": {
        "id": "Jq32L7giWhYv"
      }
    },
    {
      "cell_type": "code",
      "source": [
        "games.Genre.value_counts()"
      ],
      "metadata": {
        "colab": {
          "base_uri": "https://localhost:8080/"
        },
        "id": "D5Krg-SFnjWc",
        "outputId": "3b770607-4e3c-41e5-b2ea-83e8aaa6baa1"
      },
      "execution_count": null,
      "outputs": [
        {
          "output_type": "execute_result",
          "data": {
            "text/plain": [
              "Action          3370\n",
              "Sports          2348\n",
              "Misc            1750\n",
              "Role-Playing    1500\n",
              "Shooter         1323\n",
              "Adventure       1303\n",
              "Racing          1249\n",
              "Platform         888\n",
              "Simulation       874\n",
              "Fighting         849\n",
              "Strategy         683\n",
              "Puzzle           580\n",
              "Name: Genre, dtype: int64"
            ]
          },
          "metadata": {},
          "execution_count": 30
        }
      ]
    },
    {
      "cell_type": "markdown",
      "source": [
        "Наша Н0 -- критикам равнозначно нравятся игры: и стрелялки, и стратегии.\n",
        "\n",
        "Наша Н1 -- критики преподчитают игры на одной из этих платформ больше.\n",
        "\n",
        "Уровень значимости примем за 0.05 ( 𝛼=0.05 ).\n",
        "\n",
        "ttest_ind тестом посмотрим, имеют ли две выборки данных разные средние значения. Здесь мы принимаем нулевую гипотезу о том, что обе группы имеют равные средние.\n",
        "\n",
        "mannwhitneyu сравним медианы"
      ],
      "metadata": {
        "id": "p0N-lXVK8kKS"
      }
    },
    {
      "cell_type": "code",
      "source": [
        "shooter = games.loc[games.Genre == 'Shooter']['Critic_Score']\n",
        "strategy = games.loc[games.Genre == 'Strategy']['Critic_Score']"
      ],
      "metadata": {
        "id": "9QB-A-a_8ixQ"
      },
      "execution_count": null,
      "outputs": []
    },
    {
      "cell_type": "code",
      "source": [
        "plt.figure(figsize=(8,6))\n",
        "plt.hist(shooter, bins=100, alpha=0.4, color='#EF553B', label='shooter')\n",
        "plt.hist(strategy, bins=100, alpha=1, color='#636EFA', label='strategy')\n",
        "plt.legend()\n",
        "plt.title('Распределение интересов критиков по играм на стратегии и стрелялки', size=14)\n",
        "\n",
        "plt.show()"
      ],
      "metadata": {
        "colab": {
          "base_uri": "https://localhost:8080/",
          "height": 391
        },
        "id": "RUVjXaZC9zms",
        "outputId": "c7427aa7-ba58-4360-8ada-9d6c21ba627a"
      },
      "execution_count": null,
      "outputs": [
        {
          "output_type": "display_data",
          "data": {
            "text/plain": [
              "<Figure size 576x432 with 1 Axes>"
            ],
            "image/png": "[encoded data removed]"
          },
          "metadata": {
            "needs_background": "light"
          }
        }
      ]
    },
    {
      "cell_type": "code",
      "source": [
        "t_3, p_value_3 = stats.ttest_ind(shooter, strategy, equal_var=False, nan_policy='omit')\n",
        "print(t_3)\n",
        "print(p_value_3)\n",
        "\n",
        "if p_value_3 < 0.05:\n",
        "  print(\"Наша Н0 -- не верна; критики преподчитают что-то одно\")\n",
        "else:\n",
        "  print(\"Наша Н0 -- верна; критикам равнозначно нравятся игры: и стрелялки, и стратегии\")\n",
        "\n",
        "print(\"Средняя оценка критиков стрелялки: \", shooter.mean())\n",
        "print(\"Средняя оценка критиков стратегии: \", strategy.mean())"
      ],
      "metadata": {
        "colab": {
          "base_uri": "https://localhost:8080/"
        },
        "id": "tFPuoGd6_fqV",
        "outputId": "bab304af-7715-4231-bc40-f4a00b8514a7"
      },
      "execution_count": null,
      "outputs": [
        {
          "output_type": "stream",
          "name": "stdout",
          "text": [
            "-2.2972408230640315\n",
            "0.021938989522305212\n",
            "Наша Н0 -- не верна; критики преподчитают что-то одно\n",
            "Средняя оценка критиков стрелялки:  70.18114406779661\n",
            "Средняя оценка критиков стратегии:  72.08609271523179\n"
          ]
        }
      ]
    },
    {
      "cell_type": "code",
      "source": [
        "# без .dropna() выдает ошибку. Сатрая версия Питона для nan_policy='omit'\n",
        "e = shooter.dropna()\n",
        "f = strategy.dropna()\n",
        "statistic_3, pvalue_3 = stats.mannwhitneyu(e, f)\n",
        "print(statistic_3, pvalue_3)\n",
        "\n",
        "if pvalue_3 < 0.05:\n",
        "  print(\"Наша Н0 -- не верна;  критики преподчитают что-то одно\")\n",
        "else:\n",
        "  print(\"Наша Н0 -- верна; критикам равнозначно нравятся игры: и стрелялки, и стратегии\")\n",
        "\n",
        "print(\"Медиана критиков по стрелялкам: \", shooter.median())\n",
        "print(\"Медиана критиков по стратегиям: \", strategy.median())"
      ],
      "metadata": {
        "colab": {
          "base_uri": "https://localhost:8080/"
        },
        "id": "GgfnK7tOBeuH",
        "outputId": "291f3c02-dda9-46ba-ae67-2fd9f92a9938"
      },
      "execution_count": null,
      "outputs": [
        {
          "output_type": "stream",
          "name": "stdout",
          "text": [
            "136251.5 0.2475396209469165\n",
            "Наша Н0 -- верна; ккритикам равнозначно нравятся игры: и стрелялки, и стратегии\n",
            "Медиана критиков по стрелялкам:  73.0\n",
            "Медиана критиков по стратегиям:  73.0\n"
          ]
        }
      ]
    },
    {
      "cell_type": "markdown",
      "source": [
        "Итого\n",
        "\n",
        "У меня в одном тесте задачи 1.3 получилось, что критикам больше нравятся стратегии; в другом получилось, что критикам что стратегии, что стрелялки нравятся в равной степени.\n",
        "\n",
        "Или любовь критиков к стратегиям не так велика, что можно однозначно и уверенно об этом сказать.\n",
        "\n",
        "Или я намудрила с тестами и вообще неправильно решила все три задачи этого задания))\n"
      ],
      "metadata": {
        "id": "DMZdhILQUXMy"
      }
    },
    {
      "cell_type": "markdown",
      "source": [
        "colors\n",
        "\n",
        "https://plotly.com/python/discrete-color/\n",
        "\n",
        "https://matplotlib.org/stable/api/_as_gen/matplotlib.pyplot.hist.html"
      ],
      "metadata": {
        "id": "nHQe0DXiCnpY"
      }
    },
    {
      "cell_type": "code",
      "source": [],
      "metadata": {
        "id": "V7xjKvFSpaHO"
      },
      "execution_count": null,
      "outputs": []
    },
    {
      "cell_type": "markdown",
      "source": [
        "###Задание 2\n",
        "Реализуйте базовую модель логистической регрессии для классификации текстовых сообщений (используемые данные здесь https://github.com/obulygin/pyda_homeworks/blob/master/stat_case_study/spam.csv) по признаку спама. Для этого:\n",
        "\n",
        "1) Привидите весь текст к нижнему регистру;\n",
        "\n",
        "2) Удалите мусорные символы;\n",
        "\n",
        "3) Удалите стоп-слова;\n",
        "\n",
        "4) Привидите все слова к нормальной форме;\n",
        "\n",
        "5) Преобразуйте все сообщения в вектора TF-IDF. Вам поможет следующий код:\n",
        "```\n",
        "from sklearn.feature_extraction.text import TfidfVectorizer\n",
        "\n",
        "tfidf = TfidfVectorizer()\n",
        "tfidf_matrix = tfidf.fit_transform(df.Message)\n",
        "names = tfidf.get_feature_names()\n",
        "tfidf_matrix = pd.DataFrame(tfidf_matrix.toarray(), columns=names)\n",
        "```\n",
        "Можете поэкспериментировать с параметрами TfidfVectorizer https://scikit-learn.org/stable/modules/generated/sklearn.feature_extraction.text.TfidfVectorizer.html;\n",
        "\n",
        "6) Разделите данные на тестовые и тренировочные в соотношении 30/70, укажите `random_state=42`. Используйте train_test_split https://scikit-learn.org/stable/modules/generated/sklearn.model_selection.train_test_split.html;\n",
        "\n",
        "7) Постройте модель логистической регрессии https://scikit-learn.org/stable/modules/generated/sklearn.linear_model.LogisticRegression.html, укажите `random_state=42`, оцените ее точность на тестовых данных;\n",
        "\n",
        "8) Опишите результаты при помощи confusion_matrix https://scikit-learn.org/stable/modules/generated/sklearn.metrics.confusion_matrix.html?highlight=confusion_matrix#sklearn.metrics.confusion_matrix;\n",
        "\n",
        "9) Постройте датафрейм, который будет содержать все исходные тексты сообщений, классифицированные неправильно (с указанием фактического и предсказанного). "
      ],
      "metadata": {
        "id": "5o_zxDCThSQE"
      }
    },
    {
      "cell_type": "code",
      "execution_count": null,
      "metadata": {
        "id": "HxQSpxUtbZHK",
        "colab": {
          "base_uri": "https://localhost:8080/",
          "height": 143
        },
        "outputId": "8f9c684b-396a-41b2-ef1c-4e79e75e2bd1"
      },
      "outputs": [
        {
          "output_type": "execute_result",
          "data": {
            "text/plain": [
              "  Category                                            Message\n",
              "0      ham  Go until jurong point, crazy.. Available only ...\n",
              "1      ham                      Ok lar... Joking wif u oni...\n",
              "2     spam  Free entry in 2 a wkly comp to win FA Cup fina..."
            ],
            "text/html": [
              "\n",
              "  <div id=\"df-6c31cbc6-7ab3-469e-9352-da4b37c0db80\">\n",
              "    <div class=\"colab-df-container\">\n",
              "      <div>\n",
              "<style scoped>\n",
              "    .dataframe tbody tr th:only-of-type {\n",
              "        vertical-align: middle;\n",
              "    }\n",
              "\n",
              "    .dataframe tbody tr th {\n",
              "        vertical-align: top;\n",
              "    }\n",
              "\n",
              "    .dataframe thead th {\n",
              "        text-align: right;\n",
              "    }\n",
              "</style>\n",
              "<table border=\"1\" class=\"dataframe\">\n",
              "  <thead>\n",
              "    <tr style=\"text-align: right;\">\n",
              "      <th></th>\n",
              "      <th>Category</th>\n",
              "      <th>Message</th>\n",
              "    </tr>\n",
              "  </thead>\n",
              "  <tbody>\n",
              "    <tr>\n",
              "      <th>0</th>\n",
              "      <td>ham</td>\n",
              "      <td>Go until jurong point, crazy.. Available only ...</td>\n",
              "    </tr>\n",
              "    <tr>\n",
              "      <th>1</th>\n",
              "      <td>ham</td>\n",
              "      <td>Ok lar... Joking wif u oni...</td>\n",
              "    </tr>\n",
              "    <tr>\n",
              "      <th>2</th>\n",
              "      <td>spam</td>\n",
              "      <td>Free entry in 2 a wkly comp to win FA Cup fina...</td>\n",
              "    </tr>\n",
              "  </tbody>\n",
              "</table>\n",
              "</div>\n",
              "      <button class=\"colab-df-convert\" onclick=\"convertToInteractive('df-6c31cbc6-7ab3-469e-9352-da4b37c0db80')\"\n",
              "              title=\"Convert this dataframe to an interactive table.\"\n",
              "              style=\"display:none;\">\n",
              "        \n",
              "  <svg xmlns=\"http://www.w3.org/2000/svg\" height=\"24px\"viewBox=\"0 0 24 24\"\n",
              "       width=\"24px\">\n",
              "    <path d=\"M0 0h24v24H0V0z\" fill=\"none\"/>\n",
              "    <path d=\"M18.56 5.44l.94 2.06.94-2.06 2.06-.94-2.06-.94-.94-2.06-.94 2.06-2.06.94zm-11 1L8.5 8.5l.94-2.06 2.06-.94-2.06-.94L8.5 2.5l-.94 2.06-2.06.94zm10 10l.94 2.06.94-2.06 2.06-.94-2.06-.94-.94-2.06-.94 2.06-2.06.94z\"/><path d=\"M17.41 7.96l-1.37-1.37c-.4-.4-.92-.59-1.43-.59-.52 0-1.04.2-1.43.59L10.3 9.45l-7.72 7.72c-.78.78-.78 2.05 0 2.83L4 21.41c.39.39.9.59 1.41.59.51 0 1.02-.2 1.41-.59l7.78-7.78 2.81-2.81c.8-.78.8-2.07 0-2.86zM5.41 20L4 18.59l7.72-7.72 1.47 1.35L5.41 20z\"/>\n",
              "  </svg>\n",
              "      </button>\n",
              "      \n",
              "  <style>\n",
              "    .colab-df-container {\n",
              "      display:flex;\n",
              "      flex-wrap:wrap;\n",
              "      gap: 12px;\n",
              "    }\n",
              "\n",
              "    .colab-df-convert {\n",
              "      background-color: #E8F0FE;\n",
              "      border: none;\n",
              "      border-radius: 50%;\n",
              "      cursor: pointer;\n",
              "      display: none;\n",
              "      fill: #1967D2;\n",
              "      height: 32px;\n",
              "      padding: 0 0 0 0;\n",
              "      width: 32px;\n",
              "    }\n",
              "\n",
              "    .colab-df-convert:hover {\n",
              "      background-color: #E2EBFA;\n",
              "      box-shadow: 0px 1px 2px rgba(60, 64, 67, 0.3), 0px 1px 3px 1px rgba(60, 64, 67, 0.15);\n",
              "      fill: #174EA6;\n",
              "    }\n",
              "\n",
              "    [theme=dark] .colab-df-convert {\n",
              "      background-color: #3B4455;\n",
              "      fill: #D2E3FC;\n",
              "    }\n",
              "\n",
              "    [theme=dark] .colab-df-convert:hover {\n",
              "      background-color: #434B5C;\n",
              "      box-shadow: 0px 1px 3px 1px rgba(0, 0, 0, 0.15);\n",
              "      filter: drop-shadow(0px 1px 2px rgba(0, 0, 0, 0.3));\n",
              "      fill: #FFFFFF;\n",
              "    }\n",
              "  </style>\n",
              "\n",
              "      <script>\n",
              "        const buttonEl =\n",
              "          document.querySelector('#df-6c31cbc6-7ab3-469e-9352-da4b37c0db80 button.colab-df-convert');\n",
              "        buttonEl.style.display =\n",
              "          google.colab.kernel.accessAllowed ? 'block' : 'none';\n",
              "\n",
              "        async function convertToInteractive(key) {\n",
              "          const element = document.querySelector('#df-6c31cbc6-7ab3-469e-9352-da4b37c0db80');\n",
              "          const dataTable =\n",
              "            await google.colab.kernel.invokeFunction('convertToInteractive',\n",
              "                                                     [key], {});\n",
              "          if (!dataTable) return;\n",
              "\n",
              "          const docLinkHtml = 'Like what you see? Visit the ' +\n",
              "            '<a target=\"_blank\" href=https://colab.research.google.com/notebooks/data_table.ipynb>data table notebook</a>'\n",
              "            + ' to learn more about interactive tables.';\n",
              "          element.innerHTML = '';\n",
              "          dataTable['output_type'] = 'display_data';\n",
              "          await google.colab.output.renderOutput(dataTable, element);\n",
              "          const docLink = document.createElement('div');\n",
              "          docLink.innerHTML = docLinkHtml;\n",
              "          element.appendChild(docLink);\n",
              "        }\n",
              "      </script>\n",
              "    </div>\n",
              "  </div>\n",
              "  "
            ]
          },
          "metadata": {},
          "execution_count": 2
        }
      ],
      "source": [
        "datas = pd.read_csv('https://raw.githubusercontent.com/obulygin/pyda_homeworks/master/stat_case_study/spam.csv')\n",
        "datas.head(3)"
      ]
    },
    {
      "cell_type": "markdown",
      "source": [
        "Я чуть инфаркт не получила, пытаясь прочесть csvфайл по адресу https://github.com/obulygin/pyda_homeworks/blob/master/stat_case_study/spam.csv и роясь по всему интеренету, пытаясь исправить ошибки, которые мне выбрасывает)) Пока не додумалась нажать на кнопочку raw http://joxi.ru/zAN3NV7T1DXWEr\n",
        "\n",
        "Наверное, для особо одаренных, как я, нужно сразу адрес давать, который можно прописать в `pd.read_csv(\"\")` или прописывать, где его взять))) \n",
        "\n",
        "Подскажите, пожалуйста, а что значит кнопочка Blame"
      ],
      "metadata": {
        "id": "GCwNk5dgy0Xd"
      }
    },
    {
      "cell_type": "code",
      "source": [
        "datas.Message"
      ],
      "metadata": {
        "colab": {
          "base_uri": "https://localhost:8080/"
        },
        "id": "1YhyfyiLooC3",
        "outputId": "1501e607-f3ec-4b57-fff9-a3243414a329"
      },
      "execution_count": null,
      "outputs": [
        {
          "output_type": "execute_result",
          "data": {
            "text/plain": [
              "0       Go until jurong point, crazy.. Available only ...\n",
              "1                           Ok lar... Joking wif u oni...\n",
              "2       Free entry in 2 a wkly comp to win FA Cup fina...\n",
              "3       U dun say so early hor... U c already then say...\n",
              "4       Nah I don't think he goes to usf, he lives aro...\n",
              "                              ...                        \n",
              "5567    This is the 2nd time we have tried 2 contact u...\n",
              "5568                 Will ü b going to esplanade fr home?\n",
              "5569    Pity, * was in mood for that. So...any other s...\n",
              "5570    The guy did some bitching but I acted like i'd...\n",
              "5571                           Rofl. Its true to its name\n",
              "Name: Message, Length: 5572, dtype: object"
            ]
          },
          "metadata": {},
          "execution_count": 3
        }
      ]
    },
    {
      "cell_type": "code",
      "source": [
        "datas.info()"
      ],
      "metadata": {
        "colab": {
          "base_uri": "https://localhost:8080/"
        },
        "id": "DRn00BFQ0lEV",
        "outputId": "7cb52237-7240-436e-86ed-a89876625657"
      },
      "execution_count": null,
      "outputs": [
        {
          "output_type": "stream",
          "name": "stdout",
          "text": [
            "<class 'pandas.core.frame.DataFrame'>\n",
            "RangeIndex: 5572 entries, 0 to 5571\n",
            "Data columns (total 2 columns):\n",
            " #   Column    Non-Null Count  Dtype \n",
            "---  ------    --------------  ----- \n",
            " 0   Category  5572 non-null   object\n",
            " 1   Message   5572 non-null   object\n",
            "dtypes: object(2)\n",
            "memory usage: 87.2+ KB\n"
          ]
        }
      ]
    },
    {
      "cell_type": "code",
      "source": [
        "datas.Category"
      ],
      "metadata": {
        "id": "yChUleHVLZLk"
      },
      "execution_count": null,
      "outputs": []
    },
    {
      "cell_type": "code",
      "source": [
        "# приведем все слова к нижнему регистру\n",
        "texts_lower_case = [text.lower() for text in datas.Message]\n",
        "# проверим\n",
        "texts_lower_case[:5]"
      ],
      "metadata": {
        "colab": {
          "base_uri": "https://localhost:8080/"
        },
        "id": "qoTEeJs3xGFk",
        "outputId": "bd31a54e-52dc-4446-8ae5-b67729a586b9"
      },
      "execution_count": null,
      "outputs": [
        {
          "output_type": "execute_result",
          "data": {
            "text/plain": [
              "['go until jurong point, crazy.. available only in bugis n great world la e buffet... cine there got amore wat...',\n",
              " 'ok lar... joking wif u oni...',\n",
              " \"free entry in 2 a wkly comp to win fa cup final tkts 21st may 2005. text fa to 87121 to receive entry question(std txt rate)t&c's apply 08452810075over18's\",\n",
              " 'u dun say so early hor... u c already then say...',\n",
              " \"nah i don't think he goes to usf, he lives around here though\"]"
            ]
          },
          "metadata": {},
          "execution_count": 4
        }
      ]
    },
    {
      "cell_type": "code",
      "source": [
        "# уберем все служебные символы\n",
        "\n",
        "import re\n",
        "\n",
        "print(len(texts_lower_case[0]))\n",
        "only_words_text = [re.sub('[\\W_]+', ' ', text) for text in texts_lower_case]\n",
        "# проверим\n",
        "print(len(only_words_text[0]))\n",
        "only_words_text[:5]"
      ],
      "metadata": {
        "colab": {
          "base_uri": "https://localhost:8080/"
        },
        "id": "MmTyNWoWxbbG",
        "outputId": "e311882e-d316-4ad4-8c58-f17497dc90fc"
      },
      "execution_count": null,
      "outputs": [
        {
          "output_type": "stream",
          "name": "stdout",
          "text": [
            "111\n",
            "103\n"
          ]
        },
        {
          "output_type": "execute_result",
          "data": {
            "text/plain": [
              "['go until jurong point crazy available only in bugis n great world la e buffet cine there got amore wat ',\n",
              " 'ok lar joking wif u oni ',\n",
              " 'free entry in 2 a wkly comp to win fa cup final tkts 21st may 2005 text fa to 87121 to receive entry question std txt rate t c s apply 08452810075over18 s',\n",
              " 'u dun say so early hor u c already then say ',\n",
              " 'nah i don t think he goes to usf he lives around here though']"
            ]
          },
          "metadata": {},
          "execution_count": 5
        }
      ]
    },
    {
      "cell_type": "code",
      "source": [
        "# разделим все на слова\n",
        "texts_splitted = [text.split() for text in only_words_text]\n",
        "# сколько слов?\n",
        "len(texts_splitted[0])"
      ],
      "metadata": {
        "colab": {
          "base_uri": "https://localhost:8080/"
        },
        "id": "76X794pEEuTC",
        "outputId": "1dc83868-e91f-46e4-ca71-4a83d49e002d"
      },
      "execution_count": null,
      "outputs": [
        {
          "output_type": "execute_result",
          "data": {
            "text/plain": [
              "20"
            ]
          },
          "metadata": {},
          "execution_count": 6
        }
      ]
    },
    {
      "cell_type": "code",
      "source": [
        "# удалим стоп-слова\n",
        "import nltk\n",
        "from nltk.corpus import stopwords\n",
        "nltk.download('stopwords')\n",
        "stopwords_set = set(stopwords.words('english'))\n",
        "without_sw = [[word for word in text if word not in stopwords_set] for text in texts_splitted]\n",
        "len(without_sw[0])"
      ],
      "metadata": {
        "colab": {
          "base_uri": "https://localhost:8080/"
        },
        "id": "8t_YSNLGzSDH",
        "outputId": "6861f057-f8c3-4d86-ae09-46e1450c7562"
      },
      "execution_count": null,
      "outputs": [
        {
          "output_type": "stream",
          "name": "stderr",
          "text": [
            "[nltk_data] Downloading package stopwords to /root/nltk_data...\n",
            "[nltk_data]   Unzipping corpora/stopwords.zip.\n"
          ]
        },
        {
          "output_type": "execute_result",
          "data": {
            "text/plain": [
              "16"
            ]
          },
          "metadata": {},
          "execution_count": 7
        }
      ]
    },
    {
      "cell_type": "code",
      "source": [
        "without_sw[0]"
      ],
      "metadata": {
        "colab": {
          "base_uri": "https://localhost:8080/"
        },
        "id": "3IxN4fKfz9W4",
        "outputId": "92ced59c-3644-4fa4-f88b-3b25a2f5a2d8"
      },
      "execution_count": null,
      "outputs": [
        {
          "output_type": "execute_result",
          "data": {
            "text/plain": [
              "['go',\n",
              " 'jurong',\n",
              " 'point',\n",
              " 'crazy',\n",
              " 'available',\n",
              " 'bugis',\n",
              " 'n',\n",
              " 'great',\n",
              " 'world',\n",
              " 'la',\n",
              " 'e',\n",
              " 'buffet',\n",
              " 'cine',\n",
              " 'got',\n",
              " 'amore',\n",
              " 'wat']"
            ]
          },
          "metadata": {},
          "execution_count": 8
        }
      ]
    },
    {
      "cell_type": "code",
      "source": [
        "# Произведем лемматизацию\n",
        "from nltk.stem import WordNetLemmatizer\n",
        "nltk.download('omw-1.4')\n",
        "nltk.download('wordnet')\n",
        "\n",
        "\n",
        "wordnet_lemmatizer = WordNetLemmatizer()\n",
        "lemmatized_text = [[wordnet_lemmatizer.lemmatize(word) for word in text] for text in without_sw]\n",
        "lemmatized_text[0]"
      ],
      "metadata": {
        "colab": {
          "base_uri": "https://localhost:8080/"
        },
        "id": "5ygyCh-YFjXU",
        "outputId": "6992354e-46fb-45a1-d815-b7311cd6b5f2"
      },
      "execution_count": null,
      "outputs": [
        {
          "output_type": "stream",
          "name": "stderr",
          "text": [
            "[nltk_data] Downloading package omw-1.4 to /root/nltk_data...\n",
            "[nltk_data] Downloading package wordnet to /root/nltk_data...\n"
          ]
        },
        {
          "output_type": "execute_result",
          "data": {
            "text/plain": [
              "['go',\n",
              " 'jurong',\n",
              " 'point',\n",
              " 'crazy',\n",
              " 'available',\n",
              " 'bugis',\n",
              " 'n',\n",
              " 'great',\n",
              " 'world',\n",
              " 'la',\n",
              " 'e',\n",
              " 'buffet',\n",
              " 'cine',\n",
              " 'got',\n",
              " 'amore',\n",
              " 'wat']"
            ]
          },
          "metadata": {},
          "execution_count": 9
        }
      ]
    },
    {
      "cell_type": "markdown",
      "source": [
        "[сделать вот тaкое прикольное облако слов](https://www.kaggle.com/code/stoicstatic/twitter-sentiment-analysis-for-beginners/notebook)\n",
        "\n",
        "исправить вот эту строку `collocations=False).generate(\" \".join(data_pos))` \n",
        "https://ru.stackoverflow.com/questions/705066/%D0%9E%D1%88%D0%B8%D0%B1%D0%BA%D0%B0-typeerror-sequence-item-0-expected-str-instance-int-found"
      ],
      "metadata": {
        "id": "iRZPgayIlCWV"
      }
    },
    {
      "cell_type": "code",
      "source": [
        "from wordcloud import WordCloud\n",
        "\n",
        "data_word = lemmatized_text[:300]\n",
        "plt.figure(figsize = (10,10))\n",
        "wc = WordCloud(max_words = 1000 , width = 1600 , height = 800,\n",
        "               collocations=False).generate(\" \".join(str(x) for x in data_word))\n",
        "plt.imshow(wc)"
      ],
      "metadata": {
        "colab": {
          "base_uri": "https://localhost:8080/",
          "height": 348
        },
        "id": "zGM7u9l9jemu",
        "outputId": "3e36d83c-4e81-4ce6-e087-ee8094d5f963"
      },
      "execution_count": null,
      "outputs": [
        {
          "output_type": "execute_result",
          "data": {
            "text/plain": [
              "<matplotlib.image.AxesImage at 0x7f4c192dcf90>"
            ]
          },
          "metadata": {},
          "execution_count": 12
        },
        {
          "output_type": "display_data",
          "data": {
            "text/plain": [
              "<Figure size 720x720 with 1 Axes>"
            ],
            "image/png": "[encoded data removed]"
          },
          "metadata": {
            "needs_background": "light"
          }
        }
      ]
    },
    {
      "cell_type": "code",
      "source": [
        "# https://www.machinelearningplus.com/nlp/gensim-tutorial/\n",
        "# библиотека gensim позволяет эффективно работать с корпусами текстов\n",
        "from gensim import corpora\n",
        "\n",
        "# создадим словарь, в котором присвоем каждому словую свой уникальный id\n",
        "dictionary = corpora.Dictionary(lemmatized_text)\n",
        "dict(dictionary)"
      ],
      "metadata": {
        "id": "l8s-DvhNGcmG"
      },
      "execution_count": null,
      "outputs": []
    },
    {
      "cell_type": "markdown",
      "source": [
        "https://tutorial.eyehunts.com/python/slicing-dictionary-python-example-code/"
      ],
      "metadata": {
        "id": "-GPpw034DHjn"
      }
    },
    {
      "cell_type": "code",
      "source": [
        "len(dict(dictionary))"
      ],
      "metadata": {
        "colab": {
          "base_uri": "https://localhost:8080/"
        },
        "id": "v5toB5qKGrZ_",
        "outputId": "c853640e-6c6a-4deb-f38e-b544354bfa68"
      },
      "execution_count": null,
      "outputs": [
        {
          "output_type": "execute_result",
          "data": {
            "text/plain": [
              "8082"
            ]
          },
          "metadata": {},
          "execution_count": 11
        }
      ]
    },
    {
      "cell_type": "code",
      "source": [
        "# Создадим на основе словаря модель bag of words, которая присваивает каждому слову (id) количество его вхождений в конкретном документе\n",
        "bows = [dictionary.doc2bow(text) for text in lemmatized_text]\n",
        "bows[0]"
      ],
      "metadata": {
        "colab": {
          "base_uri": "https://localhost:8080/"
        },
        "id": "Vbn6JDO7Gwng",
        "outputId": "4f64d2c9-c240-448b-9a13-26ef2692ff78"
      },
      "execution_count": null,
      "outputs": [
        {
          "output_type": "execute_result",
          "data": {
            "text/plain": [
              "[(0, 1),\n",
              " (1, 1),\n",
              " (2, 1),\n",
              " (3, 1),\n",
              " (4, 1),\n",
              " (5, 1),\n",
              " (6, 1),\n",
              " (7, 1),\n",
              " (8, 1),\n",
              " (9, 1),\n",
              " (10, 1),\n",
              " (11, 1),\n",
              " (12, 1),\n",
              " (13, 1),\n",
              " (14, 1),\n",
              " (15, 1)]"
            ]
          },
          "metadata": {},
          "execution_count": 12
        }
      ]
    },
    {
      "cell_type": "markdown",
      "source": [
        "Создадим модель [TF-IDF](https://ru.wikipedia.org/wiki/TF-IDF) (term frequency-inverse document frequency – частотность терминов-обратная частотность документов)\n",
        "\n",
        "Если слово встречается в каком-либо документе часто, при этом встречаясь редко во всех остальных документах — это слово имеет большую значимость для исходного документа."
      ],
      "metadata": {
        "id": "EnqEQ_YIH7pD"
      }
    },
    {
      "cell_type": "code",
      "source": [
        "from sklearn.feature_extraction.text import TfidfVectorizer\n",
        "\n",
        "tfidf = TfidfVectorizer()\n",
        "tfidf_matrix = tfidf.fit_transform(datas.Message)\n",
        "names = tfidf.get_feature_names()\n",
        "tfidf_matrix = pd.DataFrame(tfidf_matrix.toarray(), columns=names)"
      ],
      "metadata": {
        "colab": {
          "base_uri": "https://localhost:8080/"
        },
        "id": "tTs9sn4XIsBF",
        "outputId": "ce6283e4-7235-4b96-9955-3eefc8f31fd7"
      },
      "execution_count": null,
      "outputs": [
        {
          "output_type": "stream",
          "name": "stderr",
          "text": [
            "/usr/local/lib/python3.7/dist-packages/sklearn/utils/deprecation.py:87: FutureWarning: Function get_feature_names is deprecated; get_feature_names is deprecated in 1.0 and will be removed in 1.2. Please use get_feature_names_out instead.\n",
            "  warnings.warn(msg, category=FutureWarning)\n"
          ]
        }
      ]
    },
    {
      "cell_type": "code",
      "source": [
        "tfidf_matrix"
      ],
      "metadata": {
        "colab": {
          "base_uri": "https://localhost:8080/",
          "height": 424
        },
        "id": "VX5Sjv-tJc_u",
        "outputId": "c69fb27e-41e0-4991-c670-349eb42c62a0"
      },
      "execution_count": null,
      "outputs": [
        {
          "output_type": "execute_result",
          "data": {
            "text/plain": [
              "       00  000  000pes  008704050406  0089  0121  01223585236  01223585334  \\\n",
              "0     0.0  0.0     0.0           0.0   0.0   0.0          0.0          0.0   \n",
              "1     0.0  0.0     0.0           0.0   0.0   0.0          0.0          0.0   \n",
              "2     0.0  0.0     0.0           0.0   0.0   0.0          0.0          0.0   \n",
              "3     0.0  0.0     0.0           0.0   0.0   0.0          0.0          0.0   \n",
              "4     0.0  0.0     0.0           0.0   0.0   0.0          0.0          0.0   \n",
              "...   ...  ...     ...           ...   ...   ...          ...          ...   \n",
              "5567  0.0  0.0     0.0           0.0   0.0   0.0          0.0          0.0   \n",
              "5568  0.0  0.0     0.0           0.0   0.0   0.0          0.0          0.0   \n",
              "5569  0.0  0.0     0.0           0.0   0.0   0.0          0.0          0.0   \n",
              "5570  0.0  0.0     0.0           0.0   0.0   0.0          0.0          0.0   \n",
              "5571  0.0  0.0     0.0           0.0   0.0   0.0          0.0          0.0   \n",
              "\n",
              "      0125698789   02  ...  zhong  zindgi  zoe  zogtorius  zoom  zouk  zyada  \\\n",
              "0            0.0  0.0  ...    0.0     0.0  0.0        0.0   0.0   0.0    0.0   \n",
              "1            0.0  0.0  ...    0.0     0.0  0.0        0.0   0.0   0.0    0.0   \n",
              "2            0.0  0.0  ...    0.0     0.0  0.0        0.0   0.0   0.0    0.0   \n",
              "3            0.0  0.0  ...    0.0     0.0  0.0        0.0   0.0   0.0    0.0   \n",
              "4            0.0  0.0  ...    0.0     0.0  0.0        0.0   0.0   0.0    0.0   \n",
              "...          ...  ...  ...    ...     ...  ...        ...   ...   ...    ...   \n",
              "5567         0.0  0.0  ...    0.0     0.0  0.0        0.0   0.0   0.0    0.0   \n",
              "5568         0.0  0.0  ...    0.0     0.0  0.0        0.0   0.0   0.0    0.0   \n",
              "5569         0.0  0.0  ...    0.0     0.0  0.0        0.0   0.0   0.0    0.0   \n",
              "5570         0.0  0.0  ...    0.0     0.0  0.0        0.0   0.0   0.0    0.0   \n",
              "5571         0.0  0.0  ...    0.0     0.0  0.0        0.0   0.0   0.0    0.0   \n",
              "\n",
              "       èn   ú1  〨ud  \n",
              "0     0.0  0.0  0.0  \n",
              "1     0.0  0.0  0.0  \n",
              "2     0.0  0.0  0.0  \n",
              "3     0.0  0.0  0.0  \n",
              "4     0.0  0.0  0.0  \n",
              "...   ...  ...  ...  \n",
              "5567  0.0  0.0  0.0  \n",
              "5568  0.0  0.0  0.0  \n",
              "5569  0.0  0.0  0.0  \n",
              "5570  0.0  0.0  0.0  \n",
              "5571  0.0  0.0  0.0  \n",
              "\n",
              "[5572 rows x 8709 columns]"
            ],
            "text/html": [
              "\n",
              "  <div id=\"df-bc8c87fb-732b-432b-98f8-bf74f6f0f653\">\n",
              "    <div class=\"colab-df-container\">\n",
              "      <div>\n",
              "<style scoped>\n",
              "    .dataframe tbody tr th:only-of-type {\n",
              "        vertical-align: middle;\n",
              "    }\n",
              "\n",
              "    .dataframe tbody tr th {\n",
              "        vertical-align: top;\n",
              "    }\n",
              "\n",
              "    .dataframe thead th {\n",
              "        text-align: right;\n",
              "    }\n",
              "</style>\n",
              "<table border=\"1\" class=\"dataframe\">\n",
              "  <thead>\n",
              "    <tr style=\"text-align: right;\">\n",
              "      <th></th>\n",
              "      <th>00</th>\n",
              "      <th>000</th>\n",
              "      <th>000pes</th>\n",
              "      <th>008704050406</th>\n",
              "      <th>0089</th>\n",
              "      <th>0121</th>\n",
              "      <th>01223585236</th>\n",
              "      <th>01223585334</th>\n",
              "      <th>0125698789</th>\n",
              "      <th>02</th>\n",
              "      <th>...</th>\n",
              "      <th>zhong</th>\n",
              "      <th>zindgi</th>\n",
              "      <th>zoe</th>\n",
              "      <th>zogtorius</th>\n",
              "      <th>zoom</th>\n",
              "      <th>zouk</th>\n",
              "      <th>zyada</th>\n",
              "      <th>èn</th>\n",
              "      <th>ú1</th>\n",
              "      <th>〨ud</th>\n",
              "    </tr>\n",
              "  </thead>\n",
              "  <tbody>\n",
              "    <tr>\n",
              "      <th>0</th>\n",
              "      <td>0.0</td>\n",
              "      <td>0.0</td>\n",
              "      <td>0.0</td>\n",
              "      <td>0.0</td>\n",
              "      <td>0.0</td>\n",
              "      <td>0.0</td>\n",
              "      <td>0.0</td>\n",
              "      <td>0.0</td>\n",
              "      <td>0.0</td>\n",
              "      <td>0.0</td>\n",
              "      <td>...</td>\n",
              "      <td>0.0</td>\n",
              "      <td>0.0</td>\n",
              "      <td>0.0</td>\n",
              "      <td>0.0</td>\n",
              "      <td>0.0</td>\n",
              "      <td>0.0</td>\n",
              "      <td>0.0</td>\n",
              "      <td>0.0</td>\n",
              "      <td>0.0</td>\n",
              "      <td>0.0</td>\n",
              "    </tr>\n",
              "    <tr>\n",
              "      <th>1</th>\n",
              "      <td>0.0</td>\n",
              "      <td>0.0</td>\n",
              "      <td>0.0</td>\n",
              "      <td>0.0</td>\n",
              "      <td>0.0</td>\n",
              "      <td>0.0</td>\n",
              "      <td>0.0</td>\n",
              "      <td>0.0</td>\n",
              "      <td>0.0</td>\n",
              "      <td>0.0</td>\n",
              "      <td>...</td>\n",
              "      <td>0.0</td>\n",
              "      <td>0.0</td>\n",
              "      <td>0.0</td>\n",
              "      <td>0.0</td>\n",
              "      <td>0.0</td>\n",
              "      <td>0.0</td>\n",
              "      <td>0.0</td>\n",
              "      <td>0.0</td>\n",
              "      <td>0.0</td>\n",
              "      <td>0.0</td>\n",
              "    </tr>\n",
              "    <tr>\n",
              "      <th>2</th>\n",
              "      <td>0.0</td>\n",
              "      <td>0.0</td>\n",
              "      <td>0.0</td>\n",
              "      <td>0.0</td>\n",
              "      <td>0.0</td>\n",
              "      <td>0.0</td>\n",
              "      <td>0.0</td>\n",
              "      <td>0.0</td>\n",
              "      <td>0.0</td>\n",
              "      <td>0.0</td>\n",
              "      <td>...</td>\n",
              "      <td>0.0</td>\n",
              "      <td>0.0</td>\n",
              "      <td>0.0</td>\n",
              "      <td>0.0</td>\n",
              "      <td>0.0</td>\n",
              "      <td>0.0</td>\n",
              "      <td>0.0</td>\n",
              "      <td>0.0</td>\n",
              "      <td>0.0</td>\n",
              "      <td>0.0</td>\n",
              "    </tr>\n",
              "    <tr>\n",
              "      <th>3</th>\n",
              "      <td>0.0</td>\n",
              "      <td>0.0</td>\n",
              "      <td>0.0</td>\n",
              "      <td>0.0</td>\n",
              "      <td>0.0</td>\n",
              "      <td>0.0</td>\n",
              "      <td>0.0</td>\n",
              "      <td>0.0</td>\n",
              "      <td>0.0</td>\n",
              "      <td>0.0</td>\n",
              "      <td>...</td>\n",
              "      <td>0.0</td>\n",
              "      <td>0.0</td>\n",
              "      <td>0.0</td>\n",
              "      <td>0.0</td>\n",
              "      <td>0.0</td>\n",
              "      <td>0.0</td>\n",
              "      <td>0.0</td>\n",
              "      <td>0.0</td>\n",
              "      <td>0.0</td>\n",
              "      <td>0.0</td>\n",
              "    </tr>\n",
              "    <tr>\n",
              "      <th>4</th>\n",
              "      <td>0.0</td>\n",
              "      <td>0.0</td>\n",
              "      <td>0.0</td>\n",
              "      <td>0.0</td>\n",
              "      <td>0.0</td>\n",
              "      <td>0.0</td>\n",
              "      <td>0.0</td>\n",
              "      <td>0.0</td>\n",
              "      <td>0.0</td>\n",
              "      <td>0.0</td>\n",
              "      <td>...</td>\n",
              "      <td>0.0</td>\n",
              "      <td>0.0</td>\n",
              "      <td>0.0</td>\n",
              "      <td>0.0</td>\n",
              "      <td>0.0</td>\n",
              "      <td>0.0</td>\n",
              "      <td>0.0</td>\n",
              "      <td>0.0</td>\n",
              "      <td>0.0</td>\n",
              "      <td>0.0</td>\n",
              "    </tr>\n",
              "    <tr>\n",
              "      <th>...</th>\n",
              "      <td>...</td>\n",
              "      <td>...</td>\n",
              "      <td>...</td>\n",
              "      <td>...</td>\n",
              "      <td>...</td>\n",
              "      <td>...</td>\n",
              "      <td>...</td>\n",
              "      <td>...</td>\n",
              "      <td>...</td>\n",
              "      <td>...</td>\n",
              "      <td>...</td>\n",
              "      <td>...</td>\n",
              "      <td>...</td>\n",
              "      <td>...</td>\n",
              "      <td>...</td>\n",
              "      <td>...</td>\n",
              "      <td>...</td>\n",
              "      <td>...</td>\n",
              "      <td>...</td>\n",
              "      <td>...</td>\n",
              "      <td>...</td>\n",
              "    </tr>\n",
              "    <tr>\n",
              "      <th>5567</th>\n",
              "      <td>0.0</td>\n",
              "      <td>0.0</td>\n",
              "      <td>0.0</td>\n",
              "      <td>0.0</td>\n",
              "      <td>0.0</td>\n",
              "      <td>0.0</td>\n",
              "      <td>0.0</td>\n",
              "      <td>0.0</td>\n",
              "      <td>0.0</td>\n",
              "      <td>0.0</td>\n",
              "      <td>...</td>\n",
              "      <td>0.0</td>\n",
              "      <td>0.0</td>\n",
              "      <td>0.0</td>\n",
              "      <td>0.0</td>\n",
              "      <td>0.0</td>\n",
              "      <td>0.0</td>\n",
              "      <td>0.0</td>\n",
              "      <td>0.0</td>\n",
              "      <td>0.0</td>\n",
              "      <td>0.0</td>\n",
              "    </tr>\n",
              "    <tr>\n",
              "      <th>5568</th>\n",
              "      <td>0.0</td>\n",
              "      <td>0.0</td>\n",
              "      <td>0.0</td>\n",
              "      <td>0.0</td>\n",
              "      <td>0.0</td>\n",
              "      <td>0.0</td>\n",
              "      <td>0.0</td>\n",
              "      <td>0.0</td>\n",
              "      <td>0.0</td>\n",
              "      <td>0.0</td>\n",
              "      <td>...</td>\n",
              "      <td>0.0</td>\n",
              "      <td>0.0</td>\n",
              "      <td>0.0</td>\n",
              "      <td>0.0</td>\n",
              "      <td>0.0</td>\n",
              "      <td>0.0</td>\n",
              "      <td>0.0</td>\n",
              "      <td>0.0</td>\n",
              "      <td>0.0</td>\n",
              "      <td>0.0</td>\n",
              "    </tr>\n",
              "    <tr>\n",
              "      <th>5569</th>\n",
              "      <td>0.0</td>\n",
              "      <td>0.0</td>\n",
              "      <td>0.0</td>\n",
              "      <td>0.0</td>\n",
              "      <td>0.0</td>\n",
              "      <td>0.0</td>\n",
              "      <td>0.0</td>\n",
              "      <td>0.0</td>\n",
              "      <td>0.0</td>\n",
              "      <td>0.0</td>\n",
              "      <td>...</td>\n",
              "      <td>0.0</td>\n",
              "      <td>0.0</td>\n",
              "      <td>0.0</td>\n",
              "      <td>0.0</td>\n",
              "      <td>0.0</td>\n",
              "      <td>0.0</td>\n",
              "      <td>0.0</td>\n",
              "      <td>0.0</td>\n",
              "      <td>0.0</td>\n",
              "      <td>0.0</td>\n",
              "    </tr>\n",
              "    <tr>\n",
              "      <th>5570</th>\n",
              "      <td>0.0</td>\n",
              "      <td>0.0</td>\n",
              "      <td>0.0</td>\n",
              "      <td>0.0</td>\n",
              "      <td>0.0</td>\n",
              "      <td>0.0</td>\n",
              "      <td>0.0</td>\n",
              "      <td>0.0</td>\n",
              "      <td>0.0</td>\n",
              "      <td>0.0</td>\n",
              "      <td>...</td>\n",
              "      <td>0.0</td>\n",
              "      <td>0.0</td>\n",
              "      <td>0.0</td>\n",
              "      <td>0.0</td>\n",
              "      <td>0.0</td>\n",
              "      <td>0.0</td>\n",
              "      <td>0.0</td>\n",
              "      <td>0.0</td>\n",
              "      <td>0.0</td>\n",
              "      <td>0.0</td>\n",
              "    </tr>\n",
              "    <tr>\n",
              "      <th>5571</th>\n",
              "      <td>0.0</td>\n",
              "      <td>0.0</td>\n",
              "      <td>0.0</td>\n",
              "      <td>0.0</td>\n",
              "      <td>0.0</td>\n",
              "      <td>0.0</td>\n",
              "      <td>0.0</td>\n",
              "      <td>0.0</td>\n",
              "      <td>0.0</td>\n",
              "      <td>0.0</td>\n",
              "      <td>...</td>\n",
              "      <td>0.0</td>\n",
              "      <td>0.0</td>\n",
              "      <td>0.0</td>\n",
              "      <td>0.0</td>\n",
              "      <td>0.0</td>\n",
              "      <td>0.0</td>\n",
              "      <td>0.0</td>\n",
              "      <td>0.0</td>\n",
              "      <td>0.0</td>\n",
              "      <td>0.0</td>\n",
              "    </tr>\n",
              "  </tbody>\n",
              "</table>\n",
              "<p>5572 rows × 8709 columns</p>\n",
              "</div>\n",
              "      <button class=\"colab-df-convert\" onclick=\"convertToInteractive('df-bc8c87fb-732b-432b-98f8-bf74f6f0f653')\"\n",
              "              title=\"Convert this dataframe to an interactive table.\"\n",
              "              style=\"display:none;\">\n",
              "        \n",
              "  <svg xmlns=\"http://www.w3.org/2000/svg\" height=\"24px\"viewBox=\"0 0 24 24\"\n",
              "       width=\"24px\">\n",
              "    <path d=\"M0 0h24v24H0V0z\" fill=\"none\"/>\n",
              "    <path d=\"M18.56 5.44l.94 2.06.94-2.06 2.06-.94-2.06-.94-.94-2.06-.94 2.06-2.06.94zm-11 1L8.5 8.5l.94-2.06 2.06-.94-2.06-.94L8.5 2.5l-.94 2.06-2.06.94zm10 10l.94 2.06.94-2.06 2.06-.94-2.06-.94-.94-2.06-.94 2.06-2.06.94z\"/><path d=\"M17.41 7.96l-1.37-1.37c-.4-.4-.92-.59-1.43-.59-.52 0-1.04.2-1.43.59L10.3 9.45l-7.72 7.72c-.78.78-.78 2.05 0 2.83L4 21.41c.39.39.9.59 1.41.59.51 0 1.02-.2 1.41-.59l7.78-7.78 2.81-2.81c.8-.78.8-2.07 0-2.86zM5.41 20L4 18.59l7.72-7.72 1.47 1.35L5.41 20z\"/>\n",
              "  </svg>\n",
              "      </button>\n",
              "      \n",
              "  <style>\n",
              "    .colab-df-container {\n",
              "      display:flex;\n",
              "      flex-wrap:wrap;\n",
              "      gap: 12px;\n",
              "    }\n",
              "\n",
              "    .colab-df-convert {\n",
              "      background-color: #E8F0FE;\n",
              "      border: none;\n",
              "      border-radius: 50%;\n",
              "      cursor: pointer;\n",
              "      display: none;\n",
              "      fill: #1967D2;\n",
              "      height: 32px;\n",
              "      padding: 0 0 0 0;\n",
              "      width: 32px;\n",
              "    }\n",
              "\n",
              "    .colab-df-convert:hover {\n",
              "      background-color: #E2EBFA;\n",
              "      box-shadow: 0px 1px 2px rgba(60, 64, 67, 0.3), 0px 1px 3px 1px rgba(60, 64, 67, 0.15);\n",
              "      fill: #174EA6;\n",
              "    }\n",
              "\n",
              "    [theme=dark] .colab-df-convert {\n",
              "      background-color: #3B4455;\n",
              "      fill: #D2E3FC;\n",
              "    }\n",
              "\n",
              "    [theme=dark] .colab-df-convert:hover {\n",
              "      background-color: #434B5C;\n",
              "      box-shadow: 0px 1px 3px 1px rgba(0, 0, 0, 0.15);\n",
              "      filter: drop-shadow(0px 1px 2px rgba(0, 0, 0, 0.3));\n",
              "      fill: #FFFFFF;\n",
              "    }\n",
              "  </style>\n",
              "\n",
              "      <script>\n",
              "        const buttonEl =\n",
              "          document.querySelector('#df-bc8c87fb-732b-432b-98f8-bf74f6f0f653 button.colab-df-convert');\n",
              "        buttonEl.style.display =\n",
              "          google.colab.kernel.accessAllowed ? 'block' : 'none';\n",
              "\n",
              "        async function convertToInteractive(key) {\n",
              "          const element = document.querySelector('#df-bc8c87fb-732b-432b-98f8-bf74f6f0f653');\n",
              "          const dataTable =\n",
              "            await google.colab.kernel.invokeFunction('convertToInteractive',\n",
              "                                                     [key], {});\n",
              "          if (!dataTable) return;\n",
              "\n",
              "          const docLinkHtml = 'Like what you see? Visit the ' +\n",
              "            '<a target=\"_blank\" href=https://colab.research.google.com/notebooks/data_table.ipynb>data table notebook</a>'\n",
              "            + ' to learn more about interactive tables.';\n",
              "          element.innerHTML = '';\n",
              "          dataTable['output_type'] = 'display_data';\n",
              "          await google.colab.output.renderOutput(dataTable, element);\n",
              "          const docLink = document.createElement('div');\n",
              "          docLink.innerHTML = docLinkHtml;\n",
              "          element.appendChild(docLink);\n",
              "        }\n",
              "      </script>\n",
              "    </div>\n",
              "  </div>\n",
              "  "
            ]
          },
          "metadata": {},
          "execution_count": 35
        }
      ]
    },
    {
      "cell_type": "markdown",
      "source": [
        "Теперь каждый наш текст представлен по-сути вектором чисел. Сходство между ними мы можем определить при помощи косинусного сходства между соответствующими векторами.https://www.machinelearningplus.com/nlp/cosine-similarity/"
      ],
      "metadata": {
        "id": "JTDsW9wuIeHg"
      }
    },
    {
      "cell_type": "code",
      "source": [
        "# разделяем выборку на тренировочную и тестовую\n",
        "from sklearn.model_selection import train_test_split\n",
        "X_train, X_test, y_train, y_test = train_test_split(tfidf_matrix, datas.Category, test_size=0.3, random_state=42)"
      ],
      "metadata": {
        "id": "beATRdpFLCPL"
      },
      "execution_count": null,
      "outputs": []
    },
    {
      "cell_type": "code",
      "source": [
        "# импортируем LR-функционал\n",
        "from sklearn.linear_model import LogisticRegression"
      ],
      "metadata": {
        "id": "ZB99cMBbMFv1"
      },
      "execution_count": null,
      "outputs": []
    },
    {
      "cell_type": "code",
      "source": [
        "# инициализирую класс\n",
        "lr = LogisticRegression(random_state=42)"
      ],
      "metadata": {
        "id": "IFvBft_vMIOH"
      },
      "execution_count": null,
      "outputs": []
    },
    {
      "cell_type": "code",
      "source": [
        "# обучаем данные\n",
        "lr.fit(X_train, y_train)"
      ],
      "metadata": {
        "colab": {
          "base_uri": "https://localhost:8080/"
        },
        "id": "t1E58LqeMLBn",
        "outputId": "5bc85b0e-ba1e-437d-fbec-c4a3ee72144c"
      },
      "execution_count": null,
      "outputs": [
        {
          "output_type": "execute_result",
          "data": {
            "text/plain": [
              "LogisticRegression(random_state=42)"
            ]
          },
          "metadata": {},
          "execution_count": 17
        }
      ]
    },
    {
      "cell_type": "code",
      "source": [
        "# делаем прогноз на тестовой выборке\n",
        "y_pred = lr.predict(X_test)\n",
        "y_proba = lr.predict_proba(X_test)"
      ],
      "metadata": {
        "id": "1VBv_LzzMOBQ"
      },
      "execution_count": null,
      "outputs": []
    },
    {
      "cell_type": "code",
      "source": [
        "from sklearn.metrics import confusion_matrix, classification_report\n",
        "\n",
        "# Print the evaluation metrics for the dataset.\n",
        "print(classification_report(y_test, y_pred))"
      ],
      "metadata": {
        "colab": {
          "base_uri": "https://localhost:8080/"
        },
        "id": "LjeUjund_L9x",
        "outputId": "ede01589-b220-4e74-9c8d-30fd0cb10c0a"
      },
      "execution_count": null,
      "outputs": [
        {
          "output_type": "stream",
          "name": "stdout",
          "text": [
            "              precision    recall  f1-score   support\n",
            "\n",
            "         ham       0.96      1.00      0.98      1448\n",
            "        spam       0.99      0.74      0.84       224\n",
            "\n",
            "    accuracy                           0.96      1672\n",
            "   macro avg       0.97      0.87      0.91      1672\n",
            "weighted avg       0.96      0.96      0.96      1672\n",
            "\n"
          ]
        }
      ]
    },
    {
      "cell_type": "markdown",
      "source": [
        "https://scikit-learn.org/stable/modules/generated/sklearn.metrics.confusion_matrix.html?highlight=confusion_matrix#sklearn.metrics.confusion_matrix"
      ],
      "metadata": {
        "id": "r68554UbJKrJ"
      }
    },
    {
      "cell_type": "markdown",
      "source": [
        "https://www.kaggle.com/code/stoicstatic/twitter-sentiment-analysis-for-beginners/notebook"
      ],
      "metadata": {
        "id": "OZleyqWlJXnJ"
      }
    },
    {
      "cell_type": "code",
      "source": [
        "cfm = confusion_matrix(y_test, y_pred)\n",
        "cfm"
      ],
      "metadata": {
        "colab": {
          "base_uri": "https://localhost:8080/"
        },
        "id": "zmoy_vFPRVsX",
        "outputId": "f45070d3-2163-4fd4-d002-e20ab91c8255"
      },
      "execution_count": null,
      "outputs": [
        {
          "output_type": "execute_result",
          "data": {
            "text/plain": [
              "array([[1446,    2],\n",
              "       [  59,  165]])"
            ]
          },
          "metadata": {},
          "execution_count": 20
        }
      ]
    },
    {
      "cell_type": "code",
      "source": [
        "# Compute and plot the Confusion matrix\n",
        "lbs = [\"ham\", \"spam\"]\n",
        "cfm = confusion_matrix(y_test, y_pred, labels=lbs)\n",
        "categories  = ['Negative','Positive']\n",
        "\n",
        "sns.heatmap(cfm, annot = True, cmap = 'Blues',fmt = '',\n",
        "            xticklabels = categories, yticklabels = categories)\n",
        "\n",
        "plt.xlabel(\"Predicted values\", fontdict = {'size':14}, labelpad = 10)\n",
        "plt.ylabel(\"Actual values\"   , fontdict = {'size':14}, labelpad = 10)\n",
        "plt.title (\"Confusion Matrix\", fontdict = {'size':18}, pad = 20)"
      ],
      "metadata": {
        "colab": {
          "base_uri": "https://localhost:8080/",
          "height": 340
        },
        "id": "pYbU10kwBl4-",
        "outputId": "cf7a77a7-88b1-4859-9b44-344714c30768"
      },
      "execution_count": null,
      "outputs": [
        {
          "output_type": "execute_result",
          "data": {
            "text/plain": [
              "Text(0.5, 1.0, 'Confusion Matrix')"
            ]
          },
          "metadata": {},
          "execution_count": 21
        },
        {
          "output_type": "display_data",
          "data": {
            "text/plain": [
              "<Figure size 432x288 with 2 Axes>"
            ],
            "image/png": "[encoded data removed]"
          },
          "metadata": {
            "needs_background": "light"
          }
        }
      ]
    },
    {
      "cell_type": "markdown",
      "source": [
        "[КАК ОЦЕНИТЬ СТОИМОСТЬ ПРОГНОЗА MACHINE LEARNING И НЕ ТОЛЬКО: СТРОИМ CONFUSION MATRIX](https://russianblogs.com/article/1607908719/)\n",
        "\n",
        "\n",
        "[Матрица ошибок (Confusion Matrix)](https://www.helenkapatsa.ru/matritsa-oshibok/)\n",
        "\n",
        "\n",
        "[Описание метода машинного обучения classification_report и точности, точности и отзыва](https://russianblogs.com/article/1607908719/)"
      ],
      "metadata": {
        "id": "mI58YerlWkQr"
      }
    },
    {
      "cell_type": "code",
      "source": [
        "res = pd.DataFrame(data={'fact': y_test, 'pred': lr.predict(X_test)})\n",
        "res.index = X_test.index\n",
        "res = res[res.fact != res.pred]\n",
        "res.join(datas[['Message']])"
      ],
      "metadata": {
        "colab": {
          "base_uri": "https://localhost:8080/",
          "height": 424
        },
        "id": "46ql_qKMQxX8",
        "outputId": "d995ba09-757b-4526-fb0b-6339d14b3bbe"
      },
      "execution_count": null,
      "outputs": [
        {
          "output_type": "execute_result",
          "data": {
            "text/plain": [
              "      fact  pred                                            Message\n",
              "881   spam   ham  Reminder: You have not downloaded the content ...\n",
              "1961  spam   ham  Guess what! Somebody you know secretly fancies...\n",
              "3864  spam   ham  Oh my god! I've found your number again! I'm s...\n",
              "2575  spam   ham  Your next amazing xxx PICSFREE1 video will be ...\n",
              "3548  spam   ham  Rock yr chik. Get 100's of filthy films &XXX p...\n",
              "...    ...   ...                                                ...\n",
              "191   spam   ham  Are you unique enough? Find out from 30th Augu...\n",
              "4543  spam   ham  FreeMsg Hi baby wow just got a new cam moby. W...\n",
              "752   spam   ham  You have an important customer service announc...\n",
              "495    ham  spam                   Are you free now?can i call now?\n",
              "305   spam   ham  SMS. ac Blind Date 4U!: Rodds1 is 21/m from Ab...\n",
              "\n",
              "[61 rows x 3 columns]"
            ],
            "text/html": [
              "\n",
              "  <div id=\"df-4e74b6a3-0d7b-4ca0-90de-76c14ff0602f\">\n",
              "    <div class=\"colab-df-container\">\n",
              "      <div>\n",
              "<style scoped>\n",
              "    .dataframe tbody tr th:only-of-type {\n",
              "        vertical-align: middle;\n",
              "    }\n",
              "\n",
              "    .dataframe tbody tr th {\n",
              "        vertical-align: top;\n",
              "    }\n",
              "\n",
              "    .dataframe thead th {\n",
              "        text-align: right;\n",
              "    }\n",
              "</style>\n",
              "<table border=\"1\" class=\"dataframe\">\n",
              "  <thead>\n",
              "    <tr style=\"text-align: right;\">\n",
              "      <th></th>\n",
              "      <th>fact</th>\n",
              "      <th>pred</th>\n",
              "      <th>Message</th>\n",
              "    </tr>\n",
              "  </thead>\n",
              "  <tbody>\n",
              "    <tr>\n",
              "      <th>881</th>\n",
              "      <td>spam</td>\n",
              "      <td>ham</td>\n",
              "      <td>Reminder: You have not downloaded the content ...</td>\n",
              "    </tr>\n",
              "    <tr>\n",
              "      <th>1961</th>\n",
              "      <td>spam</td>\n",
              "      <td>ham</td>\n",
              "      <td>Guess what! Somebody you know secretly fancies...</td>\n",
              "    </tr>\n",
              "    <tr>\n",
              "      <th>3864</th>\n",
              "      <td>spam</td>\n",
              "      <td>ham</td>\n",
              "      <td>Oh my god! I've found your number again! I'm s...</td>\n",
              "    </tr>\n",
              "    <tr>\n",
              "      <th>2575</th>\n",
              "      <td>spam</td>\n",
              "      <td>ham</td>\n",
              "      <td>Your next amazing xxx PICSFREE1 video will be ...</td>\n",
              "    </tr>\n",
              "    <tr>\n",
              "      <th>3548</th>\n",
              "      <td>spam</td>\n",
              "      <td>ham</td>\n",
              "      <td>Rock yr chik. Get 100's of filthy films &amp;XXX p...</td>\n",
              "    </tr>\n",
              "    <tr>\n",
              "      <th>...</th>\n",
              "      <td>...</td>\n",
              "      <td>...</td>\n",
              "      <td>...</td>\n",
              "    </tr>\n",
              "    <tr>\n",
              "      <th>191</th>\n",
              "      <td>spam</td>\n",
              "      <td>ham</td>\n",
              "      <td>Are you unique enough? Find out from 30th Augu...</td>\n",
              "    </tr>\n",
              "    <tr>\n",
              "      <th>4543</th>\n",
              "      <td>spam</td>\n",
              "      <td>ham</td>\n",
              "      <td>FreeMsg Hi baby wow just got a new cam moby. W...</td>\n",
              "    </tr>\n",
              "    <tr>\n",
              "      <th>752</th>\n",
              "      <td>spam</td>\n",
              "      <td>ham</td>\n",
              "      <td>You have an important customer service announc...</td>\n",
              "    </tr>\n",
              "    <tr>\n",
              "      <th>495</th>\n",
              "      <td>ham</td>\n",
              "      <td>spam</td>\n",
              "      <td>Are you free now?can i call now?</td>\n",
              "    </tr>\n",
              "    <tr>\n",
              "      <th>305</th>\n",
              "      <td>spam</td>\n",
              "      <td>ham</td>\n",
              "      <td>SMS. ac Blind Date 4U!: Rodds1 is 21/m from Ab...</td>\n",
              "    </tr>\n",
              "  </tbody>\n",
              "</table>\n",
              "<p>61 rows × 3 columns</p>\n",
              "</div>\n",
              "      <button class=\"colab-df-convert\" onclick=\"convertToInteractive('df-4e74b6a3-0d7b-4ca0-90de-76c14ff0602f')\"\n",
              "              title=\"Convert this dataframe to an interactive table.\"\n",
              "              style=\"display:none;\">\n",
              "        \n",
              "  <svg xmlns=\"http://www.w3.org/2000/svg\" height=\"24px\"viewBox=\"0 0 24 24\"\n",
              "       width=\"24px\">\n",
              "    <path d=\"M0 0h24v24H0V0z\" fill=\"none\"/>\n",
              "    <path d=\"M18.56 5.44l.94 2.06.94-2.06 2.06-.94-2.06-.94-.94-2.06-.94 2.06-2.06.94zm-11 1L8.5 8.5l.94-2.06 2.06-.94-2.06-.94L8.5 2.5l-.94 2.06-2.06.94zm10 10l.94 2.06.94-2.06 2.06-.94-2.06-.94-.94-2.06-.94 2.06-2.06.94z\"/><path d=\"M17.41 7.96l-1.37-1.37c-.4-.4-.92-.59-1.43-.59-.52 0-1.04.2-1.43.59L10.3 9.45l-7.72 7.72c-.78.78-.78 2.05 0 2.83L4 21.41c.39.39.9.59 1.41.59.51 0 1.02-.2 1.41-.59l7.78-7.78 2.81-2.81c.8-.78.8-2.07 0-2.86zM5.41 20L4 18.59l7.72-7.72 1.47 1.35L5.41 20z\"/>\n",
              "  </svg>\n",
              "      </button>\n",
              "      \n",
              "  <style>\n",
              "    .colab-df-container {\n",
              "      display:flex;\n",
              "      flex-wrap:wrap;\n",
              "      gap: 12px;\n",
              "    }\n",
              "\n",
              "    .colab-df-convert {\n",
              "      background-color: #E8F0FE;\n",
              "      border: none;\n",
              "      border-radius: 50%;\n",
              "      cursor: pointer;\n",
              "      display: none;\n",
              "      fill: #1967D2;\n",
              "      height: 32px;\n",
              "      padding: 0 0 0 0;\n",
              "      width: 32px;\n",
              "    }\n",
              "\n",
              "    .colab-df-convert:hover {\n",
              "      background-color: #E2EBFA;\n",
              "      box-shadow: 0px 1px 2px rgba(60, 64, 67, 0.3), 0px 1px 3px 1px rgba(60, 64, 67, 0.15);\n",
              "      fill: #174EA6;\n",
              "    }\n",
              "\n",
              "    [theme=dark] .colab-df-convert {\n",
              "      background-color: #3B4455;\n",
              "      fill: #D2E3FC;\n",
              "    }\n",
              "\n",
              "    [theme=dark] .colab-df-convert:hover {\n",
              "      background-color: #434B5C;\n",
              "      box-shadow: 0px 1px 3px 1px rgba(0, 0, 0, 0.15);\n",
              "      filter: drop-shadow(0px 1px 2px rgba(0, 0, 0, 0.3));\n",
              "      fill: #FFFFFF;\n",
              "    }\n",
              "  </style>\n",
              "\n",
              "      <script>\n",
              "        const buttonEl =\n",
              "          document.querySelector('#df-4e74b6a3-0d7b-4ca0-90de-76c14ff0602f button.colab-df-convert');\n",
              "        buttonEl.style.display =\n",
              "          google.colab.kernel.accessAllowed ? 'block' : 'none';\n",
              "\n",
              "        async function convertToInteractive(key) {\n",
              "          const element = document.querySelector('#df-4e74b6a3-0d7b-4ca0-90de-76c14ff0602f');\n",
              "          const dataTable =\n",
              "            await google.colab.kernel.invokeFunction('convertToInteractive',\n",
              "                                                     [key], {});\n",
              "          if (!dataTable) return;\n",
              "\n",
              "          const docLinkHtml = 'Like what you see? Visit the ' +\n",
              "            '<a target=\"_blank\" href=https://colab.research.google.com/notebooks/data_table.ipynb>data table notebook</a>'\n",
              "            + ' to learn more about interactive tables.';\n",
              "          element.innerHTML = '';\n",
              "          dataTable['output_type'] = 'display_data';\n",
              "          await google.colab.output.renderOutput(dataTable, element);\n",
              "          const docLink = document.createElement('div');\n",
              "          docLink.innerHTML = docLinkHtml;\n",
              "          element.appendChild(docLink);\n",
              "        }\n",
              "      </script>\n",
              "    </div>\n",
              "  </div>\n",
              "  "
            ]
          },
          "metadata": {},
          "execution_count": 27
        }
      ]
    },
    {
      "cell_type": "markdown",
      "source": [
        "##Итого\n",
        "Моя модель ошиблась в 61 случаях: 59 + 2.\n",
        "Строк в датафрейме получили столько же"
      ],
      "metadata": {
        "id": "2GpdmaEuhE9n"
      }
    },
    {
      "cell_type": "markdown",
      "source": [
        "[Про ограничения МУ-теста](https://www.geeksforgeeks.org/mann-and-whitney-u-test/), в данном случае адекватнее применять именно критерий Стьюдента.\n",
        "\n",
        "\n",
        "\n",
        "Для дальнейшего развития очень желательно изучить, как можно настраивать параметры модели , чтобы результаты были лучше. Для начала можно почитать вот эту статью: https://medium.com/@annabiancajones/sentiment-analysis-on-reviews-feature-extraction-and-logistic-regression-43a29635cc81\n",
        "\n",
        "В т.ч. можно оптимизировать модель под другую метрику качества (а не accuracy) при помощи функций GridSearchCV или RandomizedSearchCV, чтобы достигать цели уменьшения именно тех ошибок, которые она совершает больше всего."
      ],
      "metadata": {
        "id": "NubiK_xD1Bei"
      }
    },
    {
      "cell_type": "markdown",
      "source": [
        "Библиотека nltk со скриншота без проблем работает с русским текстом (вместо english нужно указать russian), вот пример: https://habr.com/ru/post/517410/ Если же вопрос именно в лемматизации, то для русского есть специализированные библиотеки, например PyMystem3 и PyMoprhy, сравнить можно в этой статье: https://habr.com/ru/post/503420/"
      ],
      "metadata": {
        "id": "4kI1h9Bl8MYX"
      }
    },
    {
      "cell_type": "markdown",
      "source": [
        "[Find element's index in pandas Series](https://stackoverflow.com/questions/18327624/find-elements-index-in-pandas-series)\n",
        "\n",
        "[Python's map(): Processing Iterables Without a Loo](https://realpython.com/python-map-function/)\n",
        "\n",
        "[Удалить строки в DataFrame удовлетворяющие условию](https://ru.stackoverflow.com/questions/786730/%D0%A3%D0%B4%D0%B0%D0%BB%D0%B8%D1%82%D1%8C-%D1%81%D1%82%D1%80%D0%BE%D0%BA%D0%B8-%D0%B2-dataframe-%D1%83%D0%B4%D0%BE%D0%B2%D0%BB%D0%B5%D1%82%D0%B2%D0%BE%D1%80%D1%8F%D1%8E%D1%89%D0%B8%D0%B5-%D1%83%D1%81%D0%BB%D0%BE%D0%B2%D0%B8%D1%8E)\n",
        "\n",
        "[pandas.Series.value_counts](https://pandas.pydata.org/docs/reference/api/pandas.Series.value_counts.html)"
      ],
      "metadata": {
        "id": "DhpMiSJ822LX"
      }
    },
    {
      "cell_type": "markdown",
      "source": [
        "[Colab 1 с занятия case_study_books_recommend_1](https://colab.research.google.com/drive/1AciFU_8FXcZnhvLc3kOJR3yBYGuAiGjp#scrollTo=_a2CCSlM4_r-)\n",
        "\n",
        "[Colab 2 с занятия case_study_bs_conf_int](https://colab.research.google.com/drive/1HsY8x0Fnd8JatiWCnaeBYV1DWBcq9AJS)\n",
        "\n",
        "[Colab 3 с занятия case_study_linreg_confidence_interval](https://colab.research.google.com/drive/1mz8016TCIAFNrrBu7TewMuNllYtdE8HJ#scrollTo=mVjyjIyg5z5B)"
      ],
      "metadata": {
        "id": "rFh04y9HBv9T"
      }
    },
    {
      "cell_type": "markdown",
      "source": [
        "[pandas.DataFrame](https://pandas.pydata.org/docs/reference/api/pandas.DataFrame.html)\n",
        "\n",
        "[Дoбавить столбец из списка](https://uproger.com/dobavlyaem-novyj-stolbecz-v-sushhestvuyushhij-dataframe-v-pandas/)\n",
        "\n",
        "\n",
        "[pandas.DataFrame.drop_Drop specified labels from rows or columns](https://pandas.pydata.org/docs/reference/api/pandas.DataFrame.drop.html)\n"
      ],
      "metadata": {
        "id": "H8GE5rKRMspX"
      }
    },
    {
      "cell_type": "markdown",
      "source": [
        "[КАК ОЦЕНИТЬ СТОИМОСТЬ ПРОГНОЗА MACHINE LEARNING И НЕ ТОЛЬКО: СТРОИМ CONFUSION MATRIX](https://russianblogs.com/article/1607908719/)\n",
        "\n",
        "\n",
        "[Матрица ошибок (Confusion Matrix)](https://www.helenkapatsa.ru/matritsa-oshibok/)\n",
        "\n",
        "\n",
        "[Описание метода машинного обучения classification_report и точности, точности и отзыва](https://russianblogs.com/article/1607908719/)"
      ],
      "metadata": {
        "id": "r3ts_BB02W3C"
      }
    },
    {
      "cell_type": "markdown",
      "source": [
        "[Машинное обучение с использованием Python. Сборник рецептов: Пер. с англ.]\n",
        "\n",
        "https://books.google.de/books?id=kdUHEAAAQBAJ&pg=PA114&lpg=PA114&dq=nltk.download(%27stopwords%27)+russian&source=bl&ots=IVHLZCAjg_&sig=ACfU3U0JhIUcSVb_tqBPsfHbd9Ph2ql8WA&hl=ru&sa=X&ved=2ahUKEwiw54rNoZb6AhWXraQKHRMCCTQQ6AF6BAgrEAM#v=onepage&q=nltk.download('stopwords')%20russian&f=false"
      ],
      "metadata": {
        "id": "mlnBe5NAEW7P"
      }
    },
    {
      "cell_type": "code",
      "source": [
        "datas_miss['pred'].value_counts(normalize=True)\n"
      ],
      "metadata": {
        "colab": {
          "base_uri": "https://localhost:8080/"
        },
        "id": "vtVpDJ7vVdTC",
        "outputId": "8b3f1107-030b-4247-8699-c7c4b6a14a17"
      },
      "execution_count": null,
      "outputs": [
        {
          "output_type": "execute_result",
          "data": {
            "text/plain": [
              "ham     0.90012\n",
              "spam    0.09988\n",
              "Name: pred, dtype: float64"
            ]
          },
          "metadata": {},
          "execution_count": 30
        }
      ]
    }
  ]
}