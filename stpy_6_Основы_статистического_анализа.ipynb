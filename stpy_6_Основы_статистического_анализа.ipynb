{
  "cells": [
    {
      "cell_type": "markdown",
      "metadata": {
        "id": "view-in-github",
        "colab_type": "text"
      },
      "source": [
        "<a href=\"https://colab.research.google.com/github/susanna-susanna/dau-stpy/blob/main/stpy_6_%D0%9E%D1%81%D0%BD%D0%BE%D0%B2%D1%8B_%D1%81%D1%82%D0%B0%D1%82%D0%B8%D1%81%D1%82%D0%B8%D1%87%D0%B5%D1%81%D0%BA%D0%BE%D0%B3%D0%BE_%D0%B0%D0%BD%D0%B0%D0%BB%D0%B8%D0%B7%D0%B0.ipynb\" target=\"_parent\"><img src=\"https://colab.research.google.com/assets/colab-badge.svg\" alt=\"Open In Colab\"/></a>"
      ]
    },
    {
      "cell_type": "code",
      "execution_count": null,
      "metadata": {
        "id": "SQIfTzrpSb5N"
      },
      "outputs": [],
      "source": [
        "# !pip install scipy"
      ]
    },
    {
      "cell_type": "code",
      "execution_count": 1,
      "metadata": {
        "scrolled": true,
        "id": "cP2rgZs2Sb5R"
      },
      "outputs": [],
      "source": [
        "import numpy as np  \n",
        "import pandas as pd  # для работы с таблицами\n",
        "from scipy import stats # При работе со статистикой\n",
        "import matplotlib.pyplot as plt  # Библиотека для визуализации результатов \n",
        "\n",
        "import seaborn as sns # Более продвинутая библиотека для визуализации"
      ]
    },
    {
      "cell_type": "markdown",
      "metadata": {
        "id": "Wb1vJDGWSb5S"
      },
      "source": [
        "<p style=\"align: center;\"><img align=center src=\"https://netology.ru/backend/tilda/images/tild3439-3364-4535-b334-656263633534__main.svg\"  width=900></p>\n",
        "<h3 style=\"text-align: center;\"><b>«Доверительные интервалы. Статистическая проверка гипотез для несвязанных выборок »</b></h3>\n"
      ]
    },
    {
      "cell_type": "markdown",
      "source": [
        "https://pythobyte.com/how-to-plot-the-confidence-interval-in-python-e80ec789/"
      ],
      "metadata": {
        "id": "3CHSYXwtec-l"
      }
    },
    {
      "cell_type": "code",
      "source": [
        "# from matplotlib import pyplot as plt\n",
        "# import numpy as np\n",
        "\n",
        "# Create the data set\n",
        "x = np.arange(0, 10, 0.05)\n",
        "y = np.sin(x)\n",
        "\n",
        "# Define the confidence interval\n",
        "ci = 0.1 * np.std(y) / np.mean(y)\n",
        "\n",
        "# Plot the sinus function\n",
        "plt.plot(x, y)\n",
        "\n",
        "# Plot the confidence interval\n",
        "plt.fill_between(x, (y-ci), (y+ci), color='blue', alpha=0.1)\n",
        "\n",
        "# plt.show()"
      ],
      "metadata": {
        "colab": {
          "base_uri": "https://localhost:8080/",
          "height": 283
        },
        "id": "R1ljw8aDaQ86",
        "outputId": "ee6e580e-f684-46fb-cba0-ecfa5058b6cd"
      },
      "execution_count": null,
      "outputs": [
        {
          "output_type": "execute_result",
          "data": {
            "text/plain": [
              "<matplotlib.collections.PolyCollection at 0x7f0aa6c9a9d0>"
            ]
          },
          "metadata": {},
          "execution_count": 2
        },
        {
          "output_type": "display_data",
          "data": {
            "text/plain": [
              "<Figure size 432x288 with 1 Axes>"
            ],
            "image/png": "[encoded data removed]"
          },
          "metadata": {
            "needs_background": "light"
          }
        }
      ]
    },
    {
      "cell_type": "code",
      "execution_count": null,
      "metadata": {
        "id": "xMjncQNmSb5U"
      },
      "outputs": [],
      "source": [
        "#Вспомогательная функция для подсчета доверительного интервала\n",
        "# https://stackoverflow.com/questions/15033511/compute-a-confidence-interval-from-sample-data\n",
        "\n",
        "def mean_confidence_interval(data, confidence=0.95): #Сложный пример реализации. Проще смотри в лекци. \n",
        "    n = len(data)\n",
        "    m, se = np.mean(data), stats.sem(data)\n",
        "    h = se * stats.t.ppf((1 + confidence)/2, n)  #  функция ppf из scipy возвращает нам перцентиль\n",
        "    return m-h, m, m+h "
      ]
    },
    {
      "cell_type": "code",
      "execution_count": null,
      "metadata": {
        "id": "Dj0lNPDlSb5V",
        "outputId": "8efe2d44-b23d-4880-d355-8a0782e4f078"
      },
      "outputs": [
        {
          "name": "stdout",
          "output_type": "stream",
          "text": [
            "(11.707786838827133, 12.391304347826088, 13.074821856825043)\n",
            "(11.02521592553596, 12.391304347826088, 13.757392770116216)\n"
          ]
        }
      ],
      "source": [
        "a =  [5,7,7,9,10,16,7,14,13,15,16,15,\n",
        "     16,17,18,13,14,15,6,13, 14, 12 ,13 ]\n",
        "\n",
        "print(mean_confidence_interval(a, 0.60))\n",
        "print(mean_confidence_interval(a, 0.90))"
      ]
    },
    {
      "cell_type": "markdown",
      "metadata": {
        "id": "ZjtJMbnSSb5X"
      },
      "source": [
        "<h3 style=\"text-align: center;\"><b>Выборы в президенты или зачем нам доверительные интерваллы?!</b></h3>\n",
        "\n",
        "<p style=\"align: center;\"><img align=center src=\"https://www.englisch-hilfen.de/images/usa/states/map.gif\"  width=400></p>\n",
        "\n"
      ]
    },
    {
      "cell_type": "markdown",
      "metadata": {
        "id": "9wEtGqLOSb5Z"
      },
      "source": [
        "<div class=\"alert alert-info\">\n",
        "<b>Задача: </b>\n",
        "    \n",
        "Попробуем с помощью доверительного интервала оценить, какое минимальное количество штатов надо взять, чтобы определить будущего президента\n",
        "</div>"
      ]
    },
    {
      "cell_type": "code",
      "execution_count": null,
      "metadata": {
        "id": "Al4S9XpFSb5c",
        "colab": {
          "base_uri": "https://localhost:8080/"
        },
        "outputId": "2af6df1c-6bba-429c-de9e-4d3bc0cf2ff8"
      },
      "outputs": [
        {
          "output_type": "stream",
          "name": "stderr",
          "text": [
            "/usr/local/lib/python3.7/dist-packages/IPython/core/interactiveshell.py:2882: FutureWarning: The error_bad_lines argument has been deprecated and will be removed in a future version.\n",
            "\n",
            "\n",
            "  exec(code_obj, self.user_global_ns, self.user_ns)\n"
          ]
        }
      ],
      "source": [
        "US_elect_county = 'https://raw.githubusercontent.com/a-milenkin/datasets_for_t-tests/main/2012_US_elect_county.csv'\n",
        " \n",
        "df = pd.read_csv(US_elect_county, sep=',',  error_bad_lines=False) # Откроем датасет"
      ]
    },
    {
      "cell_type": "code",
      "source": [
        "df.head()"
      ],
      "metadata": {
        "colab": {
          "base_uri": "https://localhost:8080/",
          "height": 206
        },
        "id": "4kHDOyOEgPtJ",
        "outputId": "81137fa1-14a3-4954-ca84-93c4986471f7"
      },
      "execution_count": null,
      "outputs": [
        {
          "output_type": "execute_result",
          "data": {
            "text/plain": [
              "  State Postal County Name  FIPS Obama vote     % Romney vote   %.1\n",
              "0           AK      Alaska     0     91,696  41.6     121,234    55\n",
              "1           AK      Alaska  2000     91,696  41.6     121,234    55\n",
              "2           AL     Alabama     0    793,620  38.4   1,252,453  60.7\n",
              "3           AL     Autauga  1001      6,354  26.6      17,366  72.6\n",
              "4           AL     Baldwin  1003     18,329  21.6      65,772  77.4"
            ],
            "text/html": [
              "\n",
              "  <div id=\"df-9400a9af-b334-4561-8635-79551892ffa3\">\n",
              "    <div class=\"colab-df-container\">\n",
              "      <div>\n",
              "<style scoped>\n",
              "    .dataframe tbody tr th:only-of-type {\n",
              "        vertical-align: middle;\n",
              "    }\n",
              "\n",
              "    .dataframe tbody tr th {\n",
              "        vertical-align: top;\n",
              "    }\n",
              "\n",
              "    .dataframe thead th {\n",
              "        text-align: right;\n",
              "    }\n",
              "</style>\n",
              "<table border=\"1\" class=\"dataframe\">\n",
              "  <thead>\n",
              "    <tr style=\"text-align: right;\">\n",
              "      <th></th>\n",
              "      <th>State Postal</th>\n",
              "      <th>County Name</th>\n",
              "      <th>FIPS</th>\n",
              "      <th>Obama vote</th>\n",
              "      <th>%</th>\n",
              "      <th>Romney vote</th>\n",
              "      <th>%.1</th>\n",
              "    </tr>\n",
              "  </thead>\n",
              "  <tbody>\n",
              "    <tr>\n",
              "      <th>0</th>\n",
              "      <td>AK</td>\n",
              "      <td>Alaska</td>\n",
              "      <td>0</td>\n",
              "      <td>91,696</td>\n",
              "      <td>41.6</td>\n",
              "      <td>121,234</td>\n",
              "      <td>55</td>\n",
              "    </tr>\n",
              "    <tr>\n",
              "      <th>1</th>\n",
              "      <td>AK</td>\n",
              "      <td>Alaska</td>\n",
              "      <td>2000</td>\n",
              "      <td>91,696</td>\n",
              "      <td>41.6</td>\n",
              "      <td>121,234</td>\n",
              "      <td>55</td>\n",
              "    </tr>\n",
              "    <tr>\n",
              "      <th>2</th>\n",
              "      <td>AL</td>\n",
              "      <td>Alabama</td>\n",
              "      <td>0</td>\n",
              "      <td>793,620</td>\n",
              "      <td>38.4</td>\n",
              "      <td>1,252,453</td>\n",
              "      <td>60.7</td>\n",
              "    </tr>\n",
              "    <tr>\n",
              "      <th>3</th>\n",
              "      <td>AL</td>\n",
              "      <td>Autauga</td>\n",
              "      <td>1001</td>\n",
              "      <td>6,354</td>\n",
              "      <td>26.6</td>\n",
              "      <td>17,366</td>\n",
              "      <td>72.6</td>\n",
              "    </tr>\n",
              "    <tr>\n",
              "      <th>4</th>\n",
              "      <td>AL</td>\n",
              "      <td>Baldwin</td>\n",
              "      <td>1003</td>\n",
              "      <td>18,329</td>\n",
              "      <td>21.6</td>\n",
              "      <td>65,772</td>\n",
              "      <td>77.4</td>\n",
              "    </tr>\n",
              "  </tbody>\n",
              "</table>\n",
              "</div>\n",
              "      <button class=\"colab-df-convert\" onclick=\"convertToInteractive('df-9400a9af-b334-4561-8635-79551892ffa3')\"\n",
              "              title=\"Convert this dataframe to an interactive table.\"\n",
              "              style=\"display:none;\">\n",
              "        \n",
              "  <svg xmlns=\"http://www.w3.org/2000/svg\" height=\"24px\"viewBox=\"0 0 24 24\"\n",
              "       width=\"24px\">\n",
              "    <path d=\"M0 0h24v24H0V0z\" fill=\"none\"/>\n",
              "    <path d=\"M18.56 5.44l.94 2.06.94-2.06 2.06-.94-2.06-.94-.94-2.06-.94 2.06-2.06.94zm-11 1L8.5 8.5l.94-2.06 2.06-.94-2.06-.94L8.5 2.5l-.94 2.06-2.06.94zm10 10l.94 2.06.94-2.06 2.06-.94-2.06-.94-.94-2.06-.94 2.06-2.06.94z\"/><path d=\"M17.41 7.96l-1.37-1.37c-.4-.4-.92-.59-1.43-.59-.52 0-1.04.2-1.43.59L10.3 9.45l-7.72 7.72c-.78.78-.78 2.05 0 2.83L4 21.41c.39.39.9.59 1.41.59.51 0 1.02-.2 1.41-.59l7.78-7.78 2.81-2.81c.8-.78.8-2.07 0-2.86zM5.41 20L4 18.59l7.72-7.72 1.47 1.35L5.41 20z\"/>\n",
              "  </svg>\n",
              "      </button>\n",
              "      \n",
              "  <style>\n",
              "    .colab-df-container {\n",
              "      display:flex;\n",
              "      flex-wrap:wrap;\n",
              "      gap: 12px;\n",
              "    }\n",
              "\n",
              "    .colab-df-convert {\n",
              "      background-color: #E8F0FE;\n",
              "      border: none;\n",
              "      border-radius: 50%;\n",
              "      cursor: pointer;\n",
              "      display: none;\n",
              "      fill: #1967D2;\n",
              "      height: 32px;\n",
              "      padding: 0 0 0 0;\n",
              "      width: 32px;\n",
              "    }\n",
              "\n",
              "    .colab-df-convert:hover {\n",
              "      background-color: #E2EBFA;\n",
              "      box-shadow: 0px 1px 2px rgba(60, 64, 67, 0.3), 0px 1px 3px 1px rgba(60, 64, 67, 0.15);\n",
              "      fill: #174EA6;\n",
              "    }\n",
              "\n",
              "    [theme=dark] .colab-df-convert {\n",
              "      background-color: #3B4455;\n",
              "      fill: #D2E3FC;\n",
              "    }\n",
              "\n",
              "    [theme=dark] .colab-df-convert:hover {\n",
              "      background-color: #434B5C;\n",
              "      box-shadow: 0px 1px 3px 1px rgba(0, 0, 0, 0.15);\n",
              "      filter: drop-shadow(0px 1px 2px rgba(0, 0, 0, 0.3));\n",
              "      fill: #FFFFFF;\n",
              "    }\n",
              "  </style>\n",
              "\n",
              "      <script>\n",
              "        const buttonEl =\n",
              "          document.querySelector('#df-9400a9af-b334-4561-8635-79551892ffa3 button.colab-df-convert');\n",
              "        buttonEl.style.display =\n",
              "          google.colab.kernel.accessAllowed ? 'block' : 'none';\n",
              "\n",
              "        async function convertToInteractive(key) {\n",
              "          const element = document.querySelector('#df-9400a9af-b334-4561-8635-79551892ffa3');\n",
              "          const dataTable =\n",
              "            await google.colab.kernel.invokeFunction('convertToInteractive',\n",
              "                                                     [key], {});\n",
              "          if (!dataTable) return;\n",
              "\n",
              "          const docLinkHtml = 'Like what you see? Visit the ' +\n",
              "            '<a target=\"_blank\" href=https://colab.research.google.com/notebooks/data_table.ipynb>data table notebook</a>'\n",
              "            + ' to learn more about interactive tables.';\n",
              "          element.innerHTML = '';\n",
              "          dataTable['output_type'] = 'display_data';\n",
              "          await google.colab.output.renderOutput(dataTable, element);\n",
              "          const docLink = document.createElement('div');\n",
              "          docLink.innerHTML = docLinkHtml;\n",
              "          element.appendChild(docLink);\n",
              "        }\n",
              "      </script>\n",
              "    </div>\n",
              "  </div>\n",
              "  "
            ]
          },
          "metadata": {},
          "execution_count": 15
        }
      ]
    },
    {
      "cell_type": "code",
      "execution_count": null,
      "metadata": {
        "id": "Xjxq6tC6Sb5d",
        "outputId": "64d7e2c9-9f2d-44ea-f483-db58d808d301",
        "colab": {
          "base_uri": "https://localhost:8080/",
          "height": 206
        }
      },
      "outputs": [
        {
          "output_type": "execute_result",
          "data": {
            "text/plain": [
              "  State Postal County Name     %\n",
              "0           AK      Alaska  41.6\n",
              "1           AK      Alaska  41.6\n",
              "2           AL     Alabama  38.4\n",
              "3           AL     Autauga  26.6\n",
              "4           AL     Baldwin  21.6"
            ],
            "text/html": [
              "\n",
              "  <div id=\"df-53ab8482-7ba7-4178-8c4d-a432ace0f8b9\">\n",
              "    <div class=\"colab-df-container\">\n",
              "      <div>\n",
              "<style scoped>\n",
              "    .dataframe tbody tr th:only-of-type {\n",
              "        vertical-align: middle;\n",
              "    }\n",
              "\n",
              "    .dataframe tbody tr th {\n",
              "        vertical-align: top;\n",
              "    }\n",
              "\n",
              "    .dataframe thead th {\n",
              "        text-align: right;\n",
              "    }\n",
              "</style>\n",
              "<table border=\"1\" class=\"dataframe\">\n",
              "  <thead>\n",
              "    <tr style=\"text-align: right;\">\n",
              "      <th></th>\n",
              "      <th>State Postal</th>\n",
              "      <th>County Name</th>\n",
              "      <th>%</th>\n",
              "    </tr>\n",
              "  </thead>\n",
              "  <tbody>\n",
              "    <tr>\n",
              "      <th>0</th>\n",
              "      <td>AK</td>\n",
              "      <td>Alaska</td>\n",
              "      <td>41.6</td>\n",
              "    </tr>\n",
              "    <tr>\n",
              "      <th>1</th>\n",
              "      <td>AK</td>\n",
              "      <td>Alaska</td>\n",
              "      <td>41.6</td>\n",
              "    </tr>\n",
              "    <tr>\n",
              "      <th>2</th>\n",
              "      <td>AL</td>\n",
              "      <td>Alabama</td>\n",
              "      <td>38.4</td>\n",
              "    </tr>\n",
              "    <tr>\n",
              "      <th>3</th>\n",
              "      <td>AL</td>\n",
              "      <td>Autauga</td>\n",
              "      <td>26.6</td>\n",
              "    </tr>\n",
              "    <tr>\n",
              "      <th>4</th>\n",
              "      <td>AL</td>\n",
              "      <td>Baldwin</td>\n",
              "      <td>21.6</td>\n",
              "    </tr>\n",
              "  </tbody>\n",
              "</table>\n",
              "</div>\n",
              "      <button class=\"colab-df-convert\" onclick=\"convertToInteractive('df-53ab8482-7ba7-4178-8c4d-a432ace0f8b9')\"\n",
              "              title=\"Convert this dataframe to an interactive table.\"\n",
              "              style=\"display:none;\">\n",
              "        \n",
              "  <svg xmlns=\"http://www.w3.org/2000/svg\" height=\"24px\"viewBox=\"0 0 24 24\"\n",
              "       width=\"24px\">\n",
              "    <path d=\"M0 0h24v24H0V0z\" fill=\"none\"/>\n",
              "    <path d=\"M18.56 5.44l.94 2.06.94-2.06 2.06-.94-2.06-.94-.94-2.06-.94 2.06-2.06.94zm-11 1L8.5 8.5l.94-2.06 2.06-.94-2.06-.94L8.5 2.5l-.94 2.06-2.06.94zm10 10l.94 2.06.94-2.06 2.06-.94-2.06-.94-.94-2.06-.94 2.06-2.06.94z\"/><path d=\"M17.41 7.96l-1.37-1.37c-.4-.4-.92-.59-1.43-.59-.52 0-1.04.2-1.43.59L10.3 9.45l-7.72 7.72c-.78.78-.78 2.05 0 2.83L4 21.41c.39.39.9.59 1.41.59.51 0 1.02-.2 1.41-.59l7.78-7.78 2.81-2.81c.8-.78.8-2.07 0-2.86zM5.41 20L4 18.59l7.72-7.72 1.47 1.35L5.41 20z\"/>\n",
              "  </svg>\n",
              "      </button>\n",
              "      \n",
              "  <style>\n",
              "    .colab-df-container {\n",
              "      display:flex;\n",
              "      flex-wrap:wrap;\n",
              "      gap: 12px;\n",
              "    }\n",
              "\n",
              "    .colab-df-convert {\n",
              "      background-color: #E8F0FE;\n",
              "      border: none;\n",
              "      border-radius: 50%;\n",
              "      cursor: pointer;\n",
              "      display: none;\n",
              "      fill: #1967D2;\n",
              "      height: 32px;\n",
              "      padding: 0 0 0 0;\n",
              "      width: 32px;\n",
              "    }\n",
              "\n",
              "    .colab-df-convert:hover {\n",
              "      background-color: #E2EBFA;\n",
              "      box-shadow: 0px 1px 2px rgba(60, 64, 67, 0.3), 0px 1px 3px 1px rgba(60, 64, 67, 0.15);\n",
              "      fill: #174EA6;\n",
              "    }\n",
              "\n",
              "    [theme=dark] .colab-df-convert {\n",
              "      background-color: #3B4455;\n",
              "      fill: #D2E3FC;\n",
              "    }\n",
              "\n",
              "    [theme=dark] .colab-df-convert:hover {\n",
              "      background-color: #434B5C;\n",
              "      box-shadow: 0px 1px 3px 1px rgba(0, 0, 0, 0.15);\n",
              "      filter: drop-shadow(0px 1px 2px rgba(0, 0, 0, 0.3));\n",
              "      fill: #FFFFFF;\n",
              "    }\n",
              "  </style>\n",
              "\n",
              "      <script>\n",
              "        const buttonEl =\n",
              "          document.querySelector('#df-53ab8482-7ba7-4178-8c4d-a432ace0f8b9 button.colab-df-convert');\n",
              "        buttonEl.style.display =\n",
              "          google.colab.kernel.accessAllowed ? 'block' : 'none';\n",
              "\n",
              "        async function convertToInteractive(key) {\n",
              "          const element = document.querySelector('#df-53ab8482-7ba7-4178-8c4d-a432ace0f8b9');\n",
              "          const dataTable =\n",
              "            await google.colab.kernel.invokeFunction('convertToInteractive',\n",
              "                                                     [key], {});\n",
              "          if (!dataTable) return;\n",
              "\n",
              "          const docLinkHtml = 'Like what you see? Visit the ' +\n",
              "            '<a target=\"_blank\" href=https://colab.research.google.com/notebooks/data_table.ipynb>data table notebook</a>'\n",
              "            + ' to learn more about interactive tables.';\n",
              "          element.innerHTML = '';\n",
              "          dataTable['output_type'] = 'display_data';\n",
              "          await google.colab.output.renderOutput(dataTable, element);\n",
              "          const docLink = document.createElement('div');\n",
              "          docLink.innerHTML = docLinkHtml;\n",
              "          element.appendChild(docLink);\n",
              "        }\n",
              "      </script>\n",
              "    </div>\n",
              "  </div>\n",
              "  "
            ]
          },
          "metadata": {},
          "execution_count": 38
        }
      ],
      "source": [
        "df.dropna(how='any',inplace=True)  #Удалим пустые значения\n",
        "df=df[df['%']!='#DIV/0!'][['State Postal','County Name','%']] #Удалим мусор из данных и оставим только нужное\n",
        "df['%'] = df['%'].astype(float) # Приведем к численному значению результаты голосования\n",
        "df.head()"
      ]
    },
    {
      "cell_type": "code",
      "execution_count": null,
      "metadata": {
        "id": "Hv4CG72YSb5e",
        "outputId": "8bba3ebf-19c7-43d6-cb60-1e5091ece35f"
      },
      "outputs": [
        {
          "name": "stdout",
          "output_type": "stream",
          "text": [
            "Среднее по всей выборке:  44.07946954813346\n"
          ]
        },
        {
          "data": {
            "image/png": "[encoded data removed]",
            "text/plain": [
              "<Figure size 432x288 with 1 Axes>"
            ]
          },
          "metadata": {
            "needs_background": "light"
          },
          "output_type": "display_data"
        }
      ],
      "source": [
        "df['%'].hist(bins=15)\n",
        "print('Среднее по всей выборке: ',df['%'].mean())"
      ]
    },
    {
      "cell_type": "code",
      "execution_count": null,
      "metadata": {
        "id": "DfAtj5HdSb5f",
        "outputId": "275f04d0-dcd9-4dbe-d552-deb45f368113"
      },
      "outputs": [
        {
          "data": {
            "text/plain": [
              "(42.025084908626724, 46.23478260869564, 50.444480308764554)"
            ]
          },
          "execution_count": 8,
          "metadata": {},
          "output_type": "execute_result"
        }
      ],
      "source": [
        "some_states_1 = ['AK','OH','WV','ME','CA','MD']\n",
        "some_states_2 = ['WA','AK','DE']\n",
        "some_states_3 = ['AZ','RI','MA']\n",
        "\n",
        "sub_df = df.loc[df['State Postal'].isin(some_states_2)]  # Выборка по нескольким штатам\n",
        "\n",
        "l, s, r = mean_confidence_interval(sub_df['%'], 0.99)\n",
        "l, s, r"
      ]
    },
    {
      "cell_type": "code",
      "execution_count": null,
      "metadata": {
        "id": "4zEov60uSb5f"
      },
      "outputs": [],
      "source": [
        "df['State Postal'].value_counts()  # Раскомментить, если интересно соотношение штатов. "
      ]
    },
    {
      "cell_type": "markdown",
      "metadata": {
        "id": "uAZB4M4FSb5g"
      },
      "source": [
        "<p style=\"align: center;\"><img align=center src=\"https://encrypted-tbn0.gstatic.com/images?q=tbn:ANd9GcQM7ZUiNIwL4fZho5F7zqWpLBw-eL-Ttg0-UA&usqp=CAU\"  width=400></p>\n",
        " "
      ]
    },
    {
      "cell_type": "markdown",
      "metadata": {
        "id": "MbWEAG15Sb5g"
      },
      "source": [
        "<div class=\"alert alert-info\">\n",
        "<b>Другой пример: </b>\n",
        "    \n",
        "Рассмотрим такой случай. Допустим, вы журналист и оказались в 2016 году в преддверии выборов президента в США. Вы хотите по результатам своих исследований достаточно точно определить, кто победит на этих выборах. Сколько вам необходимо опросить людей, чтобы назвать будущего президента с точность в 95%???\n",
        "</div>"
      ]
    },
    {
      "cell_type": "markdown",
      "metadata": {
        "id": "kFgVIObmSb5h"
      },
      "source": [
        "<div class=\"alert alert-info\">\n",
        "    \n",
        "Результаты предшествующих исследований свидетельствуют, что стандартное отклонение генеральной совокупности приближенно равно 15. Пусть погрешность измерений $\\Delta$ = 5. Таким образом, обозначим стандартное отклонение $\\sigma$ = 15 и квантиль нормального распределения Z = 1,96.\n",
        "\n",
        "</div>"
      ]
    },
    {
      "cell_type": "markdown",
      "metadata": {
        "id": "irUTBqOzSb5h"
      },
      "source": [
        "$$ n = (\\frac{Z*\\sigma}{\\Delta})^2$$\n",
        "- $\\Delta$ - допустимая ошибка/погрешность, \n",
        "\n",
        "- $\\sigma$ - стандартное отклонение, \n",
        "\n",
        "- Z - квантиль нормального распределения\n"
      ]
    },
    {
      "cell_type": "code",
      "execution_count": null,
      "metadata": {
        "id": "WeCB0u1GSb5i"
      },
      "outputs": [],
      "source": [
        "sigma = 15  # Стандартное отклонение\n",
        "Z = 1.96  #  %   # Квантиль нормального распределения. \n",
        "Delta = 5 #%         #Погрешность"
      ]
    },
    {
      "cell_type": "code",
      "execution_count": null,
      "metadata": {
        "id": "RKcAnU08Sb5i",
        "outputId": "8566da1a-ab03-42ce-e89a-1c79a6e8a08d"
      },
      "outputs": [
        {
          "data": {
            "text/plain": [
              "34"
            ]
          },
          "execution_count": 11,
          "metadata": {},
          "output_type": "execute_result"
        }
      ],
      "source": [
        "N = int(((sigma*Z)/Delta)**2)\n",
        "N"
      ]
    },
    {
      "cell_type": "markdown",
      "metadata": {
        "id": "n3bpz-8zSb5i"
      },
      "source": [
        "# Проверим разумность наших расуждений:"
      ]
    },
    {
      "cell_type": "code",
      "execution_count": null,
      "metadata": {
        "id": "bmE_ISn-Sb5j",
        "outputId": "8344a932-9741-41cd-d0cb-cc8f400305d1",
        "colab": {
          "base_uri": "https://localhost:8080/",
          "height": 317
        }
      },
      "outputs": [
        {
          "output_type": "stream",
          "name": "stdout",
          "text": [
            "Стандартное отклонение:  15.742396788859017\n",
            "Среднее:  44.07946954813359\n"
          ]
        },
        {
          "output_type": "execute_result",
          "data": {
            "text/plain": [
              "<matplotlib.axes._subplots.AxesSubplot at 0x7f0f454c6350>"
            ]
          },
          "metadata": {},
          "execution_count": 39
        },
        {
          "output_type": "display_data",
          "data": {
            "text/plain": [
              "<Figure size 432x288 with 1 Axes>"
            ],
            "image/png": "[encoded data removed]"
          },
          "metadata": {
            "needs_background": "light"
          }
        }
      ],
      "source": [
        "df = df['%']\n",
        "print('Стандартное отклонение: ', df.std())\n",
        "print('Среднее: ', df.mean())\n",
        "df.hist(bins=80)"
      ]
    },
    {
      "cell_type": "markdown",
      "source": [
        "https://pandas.pydata.org/docs/reference/api/pandas.DataFrame.sample.html\n",
        "\n",
        "`n: int, optional`\n",
        "Количество элементов оси для возврата. Нельзя использовать с фракцией. По умолчанию = 1, если frac = None."
      ],
      "metadata": {
        "id": "UbCgydwQ8Sxh"
      }
    },
    {
      "cell_type": "code",
      "execution_count": null,
      "metadata": {
        "id": "8iACn9hjSb5j",
        "outputId": "c527012f-cdaa-4825-c98a-e9a1d12137f1"
      },
      "outputs": [
        {
          "name": "stdout",
          "output_type": "stream",
          "text": [
            "Среднее выборки:  44.96176470588235\n",
            "Среднее генеральной совокупности:  44.07946954813346\n",
            "Доверительный интервал: (39.96176470588235, 49.96176470588235)\n"
          ]
        }
      ],
      "source": [
        "MEAN = df.sample(n = int(N)).mean()  # Возьмем выборку из случайных n значений\n",
        "print('Среднее выборки: ', MEAN)\n",
        "print('Среднее генеральной совокупности: ', df.mean())\n",
        "print('Доверительный интервал: (', MEAN-Delta, ', ', MEAN+Delta, ')', sep='')"
      ]
    },
    {
      "cell_type": "code",
      "execution_count": null,
      "metadata": {
        "id": "I-Zu2tgSSb5k"
      },
      "outputs": [],
      "source": [
        " # df.boxplot(by='%')"
      ]
    },
    {
      "cell_type": "code",
      "execution_count": null,
      "metadata": {
        "id": "de2FqPCPSb5k"
      },
      "outputs": [],
      "source": [
        "# from scipy.stats import norm\n",
        "# norm.ppf(0.95, loc=0, scale=1)\n"
      ]
    },
    {
      "cell_type": "markdown",
      "metadata": {
        "id": "7W8JBDSwSb5k"
      },
      "source": [
        "# Проверка гипотез с помощью Python. "
      ]
    },
    {
      "cell_type": "markdown",
      "metadata": {
        "id": "Hst3s5trSb5l"
      },
      "source": [
        "## T-test (Для двух выборок).  Самый важный!!!!!"
      ]
    },
    {
      "cell_type": "markdown",
      "metadata": {
        "id": "IGMQn7q6Sb5l"
      },
      "source": [
        "**Текст, выделенный полужирным шрифтом**<div class=\"alert alert-info\">\n",
        "<b>Описание: </b>\n",
        "Такой тест показывает, имеют ли две выборки данных разные средние значения (Теперь у нас две разные выборки, а не одна!). Здесь мы принимаем нулевую гипотезу о том, что обе группы имеют равные средние. Для этого нам не нужен известный параметр численности.\n",
        "</div>"
      ]
    },
    {
      "cell_type": "markdown",
      "source": [
        "https://docs.scipy.org/doc/scipy/reference/generated/scipy.stats.ttest_ind.html\n",
        "\n",
        "Параметры\n",
        "`а, barray_like`\n",
        "Массивы должны иметь одинаковую форму, за исключением размерности, соответствующей оси (первой по умолчанию).\n",
        "\n",
        "`axisint или None, optional`\n",
        "Ось, вдоль которой вычисляется тест. Если None, вычислите все массивы, a и b.\n",
        "\n",
        "`equal_varbool, optional` Если True (по умолчанию), выполните стандартный независимый тест с двумя выборками, который предполагает равные дисперсии генеральной совокупности. Если False, выполните t-критерий Уэлча, который не предполагает равной дисперсии населения."
      ],
      "metadata": {
        "id": "gDoFtpwHS3gj"
      }
    },
    {
      "cell_type": "code",
      "execution_count": 2,
      "metadata": {
        "id": "9nGVL10RSb5l",
        "outputId": "0a865630-b58b-4a32-b5a2-194f20cc57c6",
        "colab": {
          "base_uri": "https://localhost:8080/"
        }
      },
      "outputs": [
        {
          "output_type": "execute_result",
          "data": {
            "text/plain": [
              "(2.4653667464001203, 0.01375151447955999)"
            ]
          },
          "metadata": {},
          "execution_count": 2
        }
      ],
      "source": [
        "from scipy import stats  # Импортируем библиотеку\n",
        "\n",
        "np.random.seed(42)  # Закрепим seed для воспроизводимости результата.\n",
        "\n",
        "# Генерируем случайное множество с нормальным распределением, где среднее = loc, а стандартное отклонение = scale\n",
        "A = stats.norm.rvs(loc=50, scale=10, size=1100)  \n",
        "B = stats.norm.rvs(loc=49, scale=10, size=1500) \n",
        "\n",
        "\n",
        "t, p_value = stats.ttest_ind(A, B) #Критерий Стьюдента (t-test)\n",
        "t, p_value"
      ]
    },
    {
      "cell_type": "code",
      "source": [
        "type(A)"
      ],
      "metadata": {
        "colab": {
          "base_uri": "https://localhost:8080/"
        },
        "id": "zShI20loEUQq",
        "outputId": "609d27e6-56fc-46cb-81fb-c23f6121bf70"
      },
      "execution_count": null,
      "outputs": [
        {
          "output_type": "execute_result",
          "data": {
            "text/plain": [
              "numpy.ndarray"
            ]
          },
          "metadata": {},
          "execution_count": 4
        }
      ]
    },
    {
      "cell_type": "code",
      "execution_count": 3,
      "metadata": {
        "id": "_doO1K2fSb5l",
        "outputId": "edb34c3d-dfe8-4b22-9f0f-c7e00681c543",
        "colab": {
          "base_uri": "https://localhost:8080/"
        }
      },
      "outputs": [
        {
          "output_type": "execute_result",
          "data": {
            "text/plain": [
              "Ttest_indResult(statistic=2.472112679960154, pvalue=0.013500837093626568)"
            ]
          },
          "metadata": {},
          "execution_count": 3
        }
      ],
      "source": [
        "stats.ttest_ind(A, B, equal_var = False)"
      ]
    },
    {
      "cell_type": "markdown",
      "metadata": {
        "id": "jmvDbsaOSb5m"
      },
      "source": [
        "###**Мы получаем хорошее значение p, равное 0,013, и, таким образом, мы отклоняем нулевую гипотезу, то есть - средние значения двух распределений различны и это различие статистически значимо**"
      ]
    },
    {
      "cell_type": "markdown",
      "source": [
        "https://wiki.loginom.ru/articles/p-value.html"
      ],
      "metadata": {
        "id": "Uon954gXVPzh"
      }
    },
    {
      "cell_type": "markdown",
      "metadata": {
        "id": "wqsd50S5Sb5m"
      },
      "source": [
        "#### И действительно, если посмотреть на сгенерированные выборки. "
      ]
    },
    {
      "cell_type": "code",
      "execution_count": 7,
      "metadata": {
        "id": "jODYrL4XSb5m",
        "outputId": "e1e59fd3-b2ae-44f0-d012-d12734e19434",
        "colab": {
          "base_uri": "https://localhost:8080/",
          "height": 268
        }
      },
      "outputs": [
        {
          "output_type": "display_data",
          "data": {
            "text/plain": [
              "<Figure size 432x288 with 1 Axes>"
            ],
            "image/png": "[encoded data removed]"
          },
          "metadata": {
            "needs_background": "light"
          }
        }
      ],
      "source": [
        "plt.hist(B, bins=25, color = '#521262'); #Выборка A\n",
        "plt.hist(A, bins=25, alpha=0.6, color = '#D59BF6');  #Выборка B"
      ]
    },
    {
      "cell_type": "code",
      "execution_count": null,
      "metadata": {
        "id": "FY1rceZhSb5m"
      },
      "outputs": [],
      "source": [
        "# plt.boxplot(A);\n",
        "# plt.boxplot(B);"
      ]
    },
    {
      "cell_type": "markdown",
      "metadata": {
        "id": "_CzPpWiASb5n"
      },
      "source": [
        "### t-Тест (Критерий Стьюдента имеет несколько разновидностей, ниже приведены еще две). "
      ]
    },
    {
      "cell_type": "markdown",
      "metadata": {
        "id": "wS9QZz46Sb5n"
      },
      "source": [
        "# 1. Одновыборочный T-test (Выборка + ГС)"
      ]
    },
    {
      "cell_type": "markdown",
      "metadata": {
        "id": "2zAsxv_5Sb5n"
      },
      "source": [
        "<div class=\"alert alert-info\">\n",
        "<b>Описание: </b>\n",
        "Давайте попробуем это на одном образце. Тест покажет нам, отличаются ли средние значения выборки и генеральной совокупности (сравниваем с генеральной!). Рассмотрим некоторое количество голосующих из Индии и население всего Мира. Отличается ли средний возраст избирателей Индии от возраста населения? Сейчас выясним!\n",
        "</div>"
      ]
    },
    {
      "cell_type": "code",
      "execution_count": 9,
      "metadata": {
        "id": "s57kV0_QSb5o",
        "outputId": "350ed92a-2663-444c-c77e-00388cb6713d",
        "colab": {
          "base_uri": "https://localhost:8080/"
        }
      },
      "outputs": [
        {
          "output_type": "stream",
          "name": "stdout",
          "text": [
            "Средний возраст всего мира 20.05285494883601\n",
            "Средний возраст индусов 18.637370653568478\n"
          ]
        }
      ],
      "source": [
        "from scipy import stats\n",
        "np.random.seed(42)\n",
        "\n",
        "# Генерируем случайное множество с нормальным распределением, где среднее = loc, а стандартное отклонение = scale\n",
        "population_ages1=stats.norm.rvs(loc=20, scale=45, size=15000)   \n",
        "population_ages2=stats.norm.rvs(loc=20, scale=10, size=10000)\n",
        "population_ages=np.concatenate((population_ages1,population_ages2))  # Сгенерировали всю популяцию. \n",
        "\n",
        "# Генерируем случайное множество с нормальным распределением, где среднее = loc, а стандартное отклонение = scale\n",
        "india_ages1=stats.norm.rvs(loc=19, scale=65, size=2000)  # Индия 1\n",
        "india_ages2=stats.norm.rvs(loc=19, scale=55, size=2000)\n",
        "india_ages=np.concatenate((india_ages1, india_ages2)) #Выборка\n",
        "print('Средний возраст всего мира',population_ages.mean())\n",
        "print('Средний возраст индусов',india_ages.mean())"
      ]
    },
    {
      "cell_type": "markdown",
      "source": [
        "https://docs.scipy.org/doc/scipy/reference/generated/scipy.stats.ttest_1samp.html\n",
        "\n",
        "Параметры\n",
        "aarray_like\n",
        "Образец наблюдения.\n",
        "\n",
        "\n",
        "popmeanfloat или array_like\n",
        "Ожидаемое значение в нулевой гипотезе. Если array_like, то он должен иметь ту же форму, что и без измерения оси.\n",
        "\n",
        "Returns\n",
        "statisticfloat or array\n",
        "t-statistic.\n",
        "\n",
        "pvaluefloat or array\n",
        "Two-sided p-value.\n",
        "\n",
        "---\n",
        "\n",
        "https://www.scribbr.com/statistics/test-statistic/"
      ],
      "metadata": {
        "id": "J0y56qOHB6IT"
      }
    },
    {
      "cell_type": "code",
      "execution_count": 10,
      "metadata": {
        "id": "ncjKvGrSSb5p",
        "outputId": "c3491c6d-7e9b-46dd-9b7a-1e9b074a03bf",
        "colab": {
          "base_uri": "https://localhost:8080/"
        }
      },
      "outputs": [
        {
          "output_type": "stream",
          "name": "stdout",
          "text": [
            "t_value -1.4937509836536451 p_value 0.13531961104529197\n"
          ]
        }
      ],
      "source": [
        "t_value, p_value = stats.ttest_1samp(a=india_ages, popmean=population_ages.mean())\n",
        "print('t_value', t_value, 'p_value', p_value)"
      ]
    },
    {
      "cell_type": "markdown",
      "metadata": {
        "id": "H2bEs06xSb5r"
      },
      "source": [
        "###**Теперь это значение `t=-1.493` говорит нам, насколько отклоняется выборочное среднее от нулевой гипотезы.**"
      ]
    },
    {
      "cell_type": "code",
      "execution_count": 12,
      "metadata": {
        "id": "3jCfrPFASb5r",
        "outputId": "b0c78c5d-7b02-4da0-d60a-61aee13c8b06",
        "colab": {
          "base_uri": "https://localhost:8080/",
          "height": 265
        }
      },
      "outputs": [
        {
          "output_type": "display_data",
          "data": {
            "text/plain": [
              "<Figure size 432x288 with 1 Axes>"
            ],
            "image/png": "[encoded data removed]"
          },
          "metadata": {
            "needs_background": "light"
          }
        }
      ],
      "source": [
        "plt.hist(population_ages, bins=120, color = '#40514E'); # Вся популяция.\n",
        "plt.hist(india_ages, bins=120, color = '#30E3CA');  # Выборка"
      ]
    },
    {
      "cell_type": "markdown",
      "metadata": {
        "id": "_5IxUg76Sb5r"
      },
      "source": [
        "# 2. Парный T-test (Сравнение зависимых)"
      ]
    },
    {
      "cell_type": "markdown",
      "metadata": {
        "id": "zm6xhovRSb5s"
      },
      "source": [
        "<div class=\"alert alert-info\">\n",
        "<b>Описание: </b>\n",
        "    \n",
        "T-критерий парной выборки, иногда называемый `t-критерием` зависимой выборки, представляет собой статистическую процедуру, используемую для определения того, равна ли нулю средняя разница между двумя наборами наблюдений. В парном выборочном `t-тесте` каждый субъект или объект измеряется дважды, в результате чего получаются пары наблюдений. Общие применения парного `t-критерия` выборки включают исследования случай-контроль или планы повторных измерений. \n",
        "\n",
        " Предположим, вас интересует оценка эффективности программы обучения компании. Один из подходов, который вы можете рассмотреть, - это измерение производительности выборки сотрудников до и после завершения программы и анализ различий с использованием парного выборочного `t-критерия`. \n",
        "</div>"
      ]
    },
    {
      "cell_type": "markdown",
      "metadata": {
        "id": "6T8Zc4dMSb5s"
      },
      "source": [
        " "
      ]
    },
    {
      "cell_type": "code",
      "execution_count": null,
      "metadata": {
        "id": "PifEVubfSb5s",
        "outputId": "c5e58d10-47d8-4826-cf6a-8665dffdb737"
      },
      "outputs": [
        {
          "data": {
            "text/html": [
              "<div>\n",
              "<style scoped>\n",
              "    .dataframe tbody tr th:only-of-type {\n",
              "        vertical-align: middle;\n",
              "    }\n",
              "\n",
              "    .dataframe tbody tr th {\n",
              "        vertical-align: top;\n",
              "    }\n",
              "\n",
              "    .dataframe thead th {\n",
              "        text-align: right;\n",
              "    }\n",
              "</style>\n",
              "<table border=\"1\" class=\"dataframe\">\n",
              "  <thead>\n",
              "    <tr style=\"text-align: right;\">\n",
              "      <th></th>\n",
              "      <th>weight_before</th>\n",
              "      <th>weight_after</th>\n",
              "      <th>weight_change</th>\n",
              "    </tr>\n",
              "  </thead>\n",
              "  <tbody>\n",
              "    <tr>\n",
              "      <th>count</th>\n",
              "      <td>100.000000</td>\n",
              "      <td>100.000000</td>\n",
              "      <td>100.000000</td>\n",
              "    </tr>\n",
              "    <tr>\n",
              "      <th>mean</th>\n",
              "      <td>246.884604</td>\n",
              "      <td>246.723127</td>\n",
              "      <td>-0.161477</td>\n",
              "    </tr>\n",
              "    <tr>\n",
              "      <th>std</th>\n",
              "      <td>27.245053</td>\n",
              "      <td>27.010808</td>\n",
              "      <td>4.768345</td>\n",
              "    </tr>\n",
              "    <tr>\n",
              "      <th>min</th>\n",
              "      <td>171.407647</td>\n",
              "      <td>172.518101</td>\n",
              "      <td>-9.866856</td>\n",
              "    </tr>\n",
              "    <tr>\n",
              "      <th>25%</th>\n",
              "      <td>231.972830</td>\n",
              "      <td>229.732678</td>\n",
              "      <td>-4.301303</td>\n",
              "    </tr>\n",
              "    <tr>\n",
              "      <th>50%</th>\n",
              "      <td>246.191311</td>\n",
              "      <td>247.144815</td>\n",
              "      <td>0.147536</td>\n",
              "    </tr>\n",
              "    <tr>\n",
              "      <th>75%</th>\n",
              "      <td>262.178562</td>\n",
              "      <td>261.714136</td>\n",
              "      <td>2.417852</td>\n",
              "    </tr>\n",
              "    <tr>\n",
              "      <th>max</th>\n",
              "      <td>305.568346</td>\n",
              "      <td>306.534314</td>\n",
              "      <td>13.327846</td>\n",
              "    </tr>\n",
              "  </tbody>\n",
              "</table>\n",
              "</div>"
            ],
            "text/plain": [
              "       weight_before  weight_after  weight_change\n",
              "count     100.000000    100.000000     100.000000\n",
              "mean      246.884604    246.723127      -0.161477\n",
              "std        27.245053     27.010808       4.768345\n",
              "min       171.407647    172.518101      -9.866856\n",
              "25%       231.972830    229.732678      -4.301303\n",
              "50%       246.191311    247.144815       0.147536\n",
              "75%       262.178562    261.714136       2.417852\n",
              "max       305.568346    306.534314      13.327846"
            ]
          },
          "execution_count": 23,
          "metadata": {},
          "output_type": "execute_result"
        }
      ],
      "source": [
        "np.random.seed(42)\n",
        "before = stats.norm.rvs(scale = 30, loc = 250, size = 100)\n",
        "after = before + stats.norm.rvs(scale = 5, loc = -.273, size = 100)\n",
        "weight_df = pd.DataFrame({\"weight_before\":before,\n",
        "                         \"weight_after\":after,\n",
        "                         \"weight_change\":after-before})\n",
        "weight_df.describe()"
      ]
    },
    {
      "cell_type": "code",
      "execution_count": null,
      "metadata": {
        "id": "RVDsg9M1Sb5s",
        "outputId": "c6e849da-957b-4fd5-86d1-7a6bd21b46bb"
      },
      "outputs": [
        {
          "data": {
            "text/plain": [
              "Ttest_relResult(statistic=0.33864384912652695, pvalue=0.7355952264426646)"
            ]
          },
          "execution_count": 24,
          "metadata": {},
          "output_type": "execute_result"
        }
      ],
      "source": [
        "stats.ttest_rel(a=before, b=after)"
      ]
    },
    {
      "cell_type": "markdown",
      "metadata": {
        "id": "8_d7Ra7lSb5s"
      },
      "source": [
        "**Итак, мы видим, что у нас есть только 1% шансов найти такие различия между образцами случайно.**"
      ]
    },
    {
      "cell_type": "markdown",
      "metadata": {
        "id": "Ua5Fu9XwSb5t"
      },
      "source": [
        "# Практическое применение t-Тест Стьюдента"
      ]
    },
    {
      "cell_type": "markdown",
      "metadata": {
        "id": "mCUu7O-GSb5t"
      },
      "source": [
        "<div class=\"alert alert-info\">\n",
        "<b>Задание: </b>\n",
        "    \n",
        "Представим, что вы следователь какой-то крупной рекламной компаннии. \n",
        "Ваша задача иследовать рынок манго в течение последних нескольких лет.\n",
        "У вас уже есть предварительные данные. Ваши подчиненные решили схалтурить и принести вам совсем другие отчеты. \n",
        "\n",
        "Сможели ли вы их разоблачить с помощью t-Тест Стьюдента?\n",
        "</div>"
      ]
    },
    {
      "cell_type": "markdown",
      "metadata": {
        "id": "zlnxrlJzSb5t"
      },
      "source": [
        "<p style=\"align: center;\"><img align=center src=\"https://www.canadianbusiness.com/wp-content/uploads/2012/02/6ed2b4b84defad6ff7b3b813f634.jpg\"  width=500></p>\n",
        "\n"
      ]
    },
    {
      "cell_type": "code",
      "execution_count": null,
      "metadata": {
        "id": "pfhGkhhxSb5t",
        "outputId": "14be2890-30f6-4703-d275-3c9ad444f4e3",
        "colab": {
          "base_uri": "https://localhost:8080/",
          "height": 352
        }
      },
      "outputs": [
        {
          "output_type": "stream",
          "name": "stderr",
          "text": [
            "/usr/local/lib/python3.7/dist-packages/IPython/core/interactiveshell.py:2882: FutureWarning: The error_bad_lines argument has been deprecated and will be removed in a future version.\n",
            "\n",
            "\n",
            "  exec(code_obj, self.user_global_ns, self.user_ns)\n"
          ]
        },
        {
          "output_type": "stream",
          "name": "stdout",
          "text": [
            "t_value: -191.74088043195104 _pvalue:  0.0\n"
          ]
        },
        {
          "output_type": "display_data",
          "data": {
            "text/plain": [
              "<Figure size 432x288 with 1 Axes>"
            ],
            "image/png": "[encoded data removed]"
          },
          "metadata": {
            "needs_background": "light"
          }
        }
      ],
      "source": [
        "avocado = 'https://raw.githubusercontent.com/a-milenkin/datasets_for_t-tests/main/avocado.csv'\n",
        "Students = 'https://raw.githubusercontent.com/a-milenkin/datasets_for_t-tests/main/StudentsPerformance.csv'\n",
        "\n",
        "A = pd.read_csv(avocado, sep=',', index_col=0, error_bad_lines=False).AveragePrice[:2000]\n",
        "B = pd.read_csv(Students, sep=',', index_col=0, error_bad_lines=False)['math score']\n",
        "tvalue, pvalue = stats.ttest_ind(A, B)\n",
        "print('t_value:',tvalue, '_pvalue: ',pvalue)\n",
        "\n",
        "\n",
        "#и действительно выборки пренадлежать разным распределениям, что очевидно\n",
        "\n",
        "plt.hist(B, bins=15);\n",
        "plt.hist(A, bins=15);"
      ]
    },
    {
      "cell_type": "code",
      "source": [
        "type(A)"
      ],
      "metadata": {
        "colab": {
          "base_uri": "https://localhost:8080/"
        },
        "id": "Z3OrJBAMFfSh",
        "outputId": "d4bbc249-0afb-46c3-9b97-6c5a43a1a8b3"
      },
      "execution_count": null,
      "outputs": [
        {
          "output_type": "execute_result",
          "data": {
            "text/plain": [
              "pandas.core.series.Series"
            ]
          },
          "metadata": {},
          "execution_count": 6
        }
      ]
    },
    {
      "cell_type": "markdown",
      "metadata": {
        "id": "kMnMQ1AQSb5t"
      },
      "source": [
        "<div class=\"alert alert-info\">\n",
        "<b>Дополнительно: </b>\n",
        "    \n",
        "Помимо проверки, что выборки могу значимо различаться, t-Тест еще полезен при поиске выбросов в данных.\n",
        "</div>"
      ]
    },
    {
      "cell_type": "code",
      "execution_count": null,
      "metadata": {
        "id": "ujzzFmyVSb5u"
      },
      "outputs": [],
      "source": [
        " "
      ]
    },
    {
      "cell_type": "markdown",
      "metadata": {
        "id": "lgii7zE5Sb5u"
      },
      "source": [
        "# Точный критерий Фишера  и  Критерий пирсона ($\\chi^{2}$)"
      ]
    },
    {
      "cell_type": "markdown",
      "metadata": {
        "id": "6uVNJ0_KSb5u"
      },
      "source": [
        "<div class=\"alert alert-info\">\n",
        "<b>Вспомним: </b>\n",
        "    \n",
        "Критерий Стьюдента позволяет работать с численными переменными, но не позволяет работать с категориальными. Для этого существует критерий Фишера (или Хи-квадрат). Одна из его задач сказать, насколько случайно распределены значения между группами. Позволяет проверить гипотезу, есть ли значимый перевес между группами. Смотри пример в лекции.\n",
        "    \n",
        "</div>"
      ]
    },
    {
      "cell_type": "markdown",
      "metadata": {
        "id": "584hcip9Sb5u"
      },
      "source": [
        "<div class=\"alert alert-info\">\n",
        "<b>Пример: </b>\n",
        "    \n",
        "Например, вы хотите проверить нет ли дискриминации \n",
        "по половому признаку в сфере Data Science.\n",
        "Вы узнали, что в какой-то компании после серии собеседований \n",
        "107 мужчин взяли на работу, а отказали 93-м мужчинам. \n",
        "А среди женщин 74 взяли, а отказали 45-и.\n",
        "Относится ли руководство компании \n",
        "предвзято к мужчинам или к женщинам?\n",
        "    \n",
        "</div>"
      ]
    },
    {
      "cell_type": "code",
      "execution_count": null,
      "metadata": {
        "id": "pckkvWCSSb5u",
        "outputId": "d604207a-1543-4c69-b2ed-24f281ba5a6b"
      },
      "outputs": [
        {
          "name": "stdout",
          "output_type": "stream",
          "text": [
            "[[107, 93], [74, 45]]\n"
          ]
        },
        {
          "data": {
            "text/plain": [
              "(0.6996512641673932, 0.1607594221528123)"
            ]
          },
          "execution_count": 26,
          "metadata": {},
          "output_type": "execute_result"
        }
      ],
      "source": [
        "import scipy as spy\n",
        "\n",
        "x = [[107,93],[74,45]]\n",
        "print(x)\n",
        "oddsratio, pvalue = spy.stats.fisher_exact(x) # Точный тест Фишера\n",
        "\n",
        "oddsratio, pvalue"
      ]
    },
    {
      "cell_type": "markdown",
      "metadata": {
        "id": "C2VBzq5NSb5v"
      },
      "source": [
        "# Критерий Пирсона (он же $\\chi^{2}$ )"
      ]
    },
    {
      "cell_type": "markdown",
      "metadata": {
        "id": "uGJXSvrXSb5v"
      },
      "source": [
        "**Пример использования Хи-квадрат теста**"
      ]
    },
    {
      "cell_type": "markdown",
      "metadata": {
        "id": "5-44zKBRSb5v"
      },
      "source": [
        "<div class=\"alert alert-info\">\n",
        "<b>Пример: </b>\n",
        "    \n",
        "Например, вы хотите проверить правда ли эксперт по Data Science таковым является. Вы составили список вопросов, спросили эксперта и случайных прохожих. Количество правильный вопросов по каждому разделу вы записали в таблицу (таблица смежности)\n",
        "\n",
        "Выясните, исходя из полученных данных, действительно ли перед вами носитель экспертности или пока что еще не очень опытный начинаюший?\n",
        "    \n",
        "</div>"
      ]
    },
    {
      "cell_type": "code",
      "execution_count": null,
      "metadata": {
        "id": "BAiqivvlSb5v",
        "outputId": "bb885fff-bf2b-46d3-de62-02f544ab84a8"
      },
      "outputs": [
        {
          "name": "stdout",
          "output_type": "stream",
          "text": [
            "Реальная таблица\n",
            "                    Machine Learning  Data Science  Analytics\n",
            "Эксперт                           22            99         59\n",
            "Случайный прохожий                10            12         31\n"
          ]
        }
      ],
      "source": [
        "import scipy as spy\n",
        "from scipy import stats\n",
        "\n",
        "# Сгенерируем случайную матрицу/табличку 2х2\n",
        "contingency_table = pd.DataFrame(\n",
        "    [  \n",
        "[22, 99, 59],\n",
        "[10, 12, 31]\n",
        "    ],\n",
        "    columns = ['Machine Learning', 'Data Science', 'Analytics'],\n",
        "    index = ['Эксперт', 'Случайный прохожий'])\n",
        "\n",
        "print('Реальная таблица')\n",
        "print(contingency_table)\n"
      ]
    },
    {
      "cell_type": "markdown",
      "metadata": {
        "id": "dLAUdbkMSb5w"
      },
      "source": [
        "**В качестве проверки мы можем сравнить p-значение и уровень значимости. Если значение p <уровня значимости, мы отклоняем нулевую гипотезу.**"
      ]
    },
    {
      "cell_type": "code",
      "execution_count": null,
      "metadata": {
        "id": "p9zFwwwtSb5w",
        "outputId": "dc485b53-9de9-47b6-b3f8-20bb5466d084"
      },
      "outputs": [
        {
          "name": "stdout",
          "output_type": "stream",
          "text": [
            "p-value=0.000173, significance=0.05\n",
            "\n",
            "0.00017303774198262266\n",
            "На 0.05 уровене значимости, мы отвергаем нулевые гипотезы и принимаем H1.\n",
            "            Они не независимы.\n",
            "Это правда эксперт!\n"
          ]
        }
      ],
      "source": [
        "chi, pval, dof, exp = stats.chi2_contingency(contingency_table.values) #Критерий Пирсона (хи квадрат)\n",
        "significance = 0.05\n",
        "print('p-value=%.6f, significance=%.2f\\n' % (pval, significance))\n",
        "\n",
        "print(pval)\n",
        "if pval < significance:\n",
        "    print(\"\"\"На %.2f уровене значимости, мы отвергаем нулевые гипотезы и принимаем H1.\n",
        "            Они не независимы.\"\"\" % (significance))\n",
        "    print('Это правда эксперт!')\n",
        "else:\n",
        "    print(\"\"\"На %.2f уровене значимости, мы принимаем нулевые гипотезы.  \n",
        "            Они независимы.\"\"\" % (significance))\n",
        "    \n",
        "    \n",
        "# Возвращает:\n",
        "# chi2 : Посчитанную статистику теста.\n",
        "# p :  p-value теста\n",
        "# dof : Степени свободы\n",
        "# expected : Ожидаемые частоты, основанные на предельных суммах таблицы."
      ]
    },
    {
      "cell_type": "code",
      "execution_count": null,
      "metadata": {
        "id": "Q8i0wW1rSb5w"
      },
      "outputs": [],
      "source": []
    },
    {
      "cell_type": "markdown",
      "metadata": {
        "id": "ZuPYi5ZiSb5w"
      },
      "source": [
        "# Рынок жилья в New York City  или Трюк с распределением"
      ]
    },
    {
      "cell_type": "markdown",
      "metadata": {
        "id": "u29rz0iySb5w"
      },
      "source": [
        "New York City Airbnb Open Data\n",
        "Airbnb listings and metrics in NYC, NY, USA (2019)"
      ]
    },
    {
      "cell_type": "markdown",
      "metadata": {
        "id": "MND6EE5VSb5x"
      },
      "source": [
        "<p style=\"align: center;\"><img align=center src=\"https://upload.wikimedia.org/wikipedia/commons/5/5a/New_York_City_District_Map.png\n",
        "\"  width=400></p>\n"
      ]
    },
    {
      "cell_type": "markdown",
      "metadata": {
        "id": "lQAA_PELSb5x"
      },
      "source": [
        "<div class=\"alert alert-info\">\n",
        "<b>Предостирежение: </b>\n",
        "    \n",
        "Для построения доверительного интервала с помощью метода, показанного выше, важно, чтобы распределение исследуемой выборки имело нормально распределение\n",
        "</div>"
      ]
    },
    {
      "cell_type": "code",
      "execution_count": null,
      "metadata": {
        "id": "AWzvq7ixSb5x",
        "outputId": "94654aef-6f8b-407d-ac23-692e48b69778"
      },
      "outputs": [
        {
          "data": {
            "text/html": [
              "<div>\n",
              "<style scoped>\n",
              "    .dataframe tbody tr th:only-of-type {\n",
              "        vertical-align: middle;\n",
              "    }\n",
              "\n",
              "    .dataframe tbody tr th {\n",
              "        vertical-align: top;\n",
              "    }\n",
              "\n",
              "    .dataframe thead th {\n",
              "        text-align: right;\n",
              "    }\n",
              "</style>\n",
              "<table border=\"1\" class=\"dataframe\">\n",
              "  <thead>\n",
              "    <tr style=\"text-align: right;\">\n",
              "      <th></th>\n",
              "      <th>id</th>\n",
              "      <th>name</th>\n",
              "      <th>host_id</th>\n",
              "      <th>host_name</th>\n",
              "      <th>neighbourhood_group</th>\n",
              "      <th>neighbourhood</th>\n",
              "      <th>latitude</th>\n",
              "      <th>longitude</th>\n",
              "      <th>room_type</th>\n",
              "      <th>price</th>\n",
              "      <th>minimum_nights</th>\n",
              "      <th>number_of_reviews</th>\n",
              "      <th>last_review</th>\n",
              "      <th>reviews_per_month</th>\n",
              "      <th>calculated_host_listings_count</th>\n",
              "      <th>availability_365</th>\n",
              "    </tr>\n",
              "  </thead>\n",
              "  <tbody>\n",
              "    <tr>\n",
              "      <th>0</th>\n",
              "      <td>2539</td>\n",
              "      <td>Clean &amp; quiet apt home by the park</td>\n",
              "      <td>2787</td>\n",
              "      <td>John</td>\n",
              "      <td>Brooklyn</td>\n",
              "      <td>Kensington</td>\n",
              "      <td>40.64749</td>\n",
              "      <td>-73.97237</td>\n",
              "      <td>Private room</td>\n",
              "      <td>149</td>\n",
              "      <td>1</td>\n",
              "      <td>9</td>\n",
              "      <td>2018-10-19</td>\n",
              "      <td>0.21</td>\n",
              "      <td>6</td>\n",
              "      <td>365</td>\n",
              "    </tr>\n",
              "    <tr>\n",
              "      <th>1</th>\n",
              "      <td>2595</td>\n",
              "      <td>Skylit Midtown Castle</td>\n",
              "      <td>2845</td>\n",
              "      <td>Jennifer</td>\n",
              "      <td>Manhattan</td>\n",
              "      <td>Midtown</td>\n",
              "      <td>40.75362</td>\n",
              "      <td>-73.98377</td>\n",
              "      <td>Entire home/apt</td>\n",
              "      <td>225</td>\n",
              "      <td>1</td>\n",
              "      <td>45</td>\n",
              "      <td>2019-05-21</td>\n",
              "      <td>0.38</td>\n",
              "      <td>2</td>\n",
              "      <td>355</td>\n",
              "    </tr>\n",
              "    <tr>\n",
              "      <th>3</th>\n",
              "      <td>3831</td>\n",
              "      <td>Cozy Entire Floor of Brownstone</td>\n",
              "      <td>4869</td>\n",
              "      <td>LisaRoxanne</td>\n",
              "      <td>Brooklyn</td>\n",
              "      <td>Clinton Hill</td>\n",
              "      <td>40.68514</td>\n",
              "      <td>-73.95976</td>\n",
              "      <td>Entire home/apt</td>\n",
              "      <td>89</td>\n",
              "      <td>1</td>\n",
              "      <td>270</td>\n",
              "      <td>2019-07-05</td>\n",
              "      <td>4.64</td>\n",
              "      <td>1</td>\n",
              "      <td>194</td>\n",
              "    </tr>\n",
              "  </tbody>\n",
              "</table>\n",
              "</div>"
            ],
            "text/plain": [
              "     id                                name  host_id    host_name  \\\n",
              "0  2539  Clean & quiet apt home by the park     2787         John   \n",
              "1  2595               Skylit Midtown Castle     2845     Jennifer   \n",
              "3  3831     Cozy Entire Floor of Brownstone     4869  LisaRoxanne   \n",
              "\n",
              "  neighbourhood_group neighbourhood  latitude  longitude        room_type  \\\n",
              "0            Brooklyn    Kensington  40.64749  -73.97237     Private room   \n",
              "1           Manhattan       Midtown  40.75362  -73.98377  Entire home/apt   \n",
              "3            Brooklyn  Clinton Hill  40.68514  -73.95976  Entire home/apt   \n",
              "\n",
              "   price  minimum_nights  number_of_reviews last_review  reviews_per_month  \\\n",
              "0    149               1                  9  2018-10-19               0.21   \n",
              "1    225               1                 45  2019-05-21               0.38   \n",
              "3     89               1                270  2019-07-05               4.64   \n",
              "\n",
              "   calculated_host_listings_count  availability_365  \n",
              "0                               6               365  \n",
              "1                               2               355  \n",
              "3                               1               194  "
            ]
          },
          "execution_count": 29,
          "metadata": {},
          "output_type": "execute_result"
        }
      ],
      "source": [
        "url  = 'https://raw.githubusercontent.com/a-milenkin/datasets_for_t-tests/main/AB_NYC_2019.csv'\n",
        "df = pd.read_csv(url, error_bad_lines=False)\n",
        "#df = pd.read_csv('AB_NYC_2019.csv')\n",
        "df.dropna(how='any',inplace=True)\n",
        "df.head(3)"
      ]
    },
    {
      "cell_type": "code",
      "execution_count": null,
      "metadata": {
        "id": "X2B0za07Sb5x",
        "outputId": "41580ad2-92e5-4df2-c228-54500a8e9a04"
      },
      "outputs": [
        {
          "data": {
            "text/plain": [
              "<AxesSubplot:>"
            ]
          },
          "execution_count": 30,
          "metadata": {},
          "output_type": "execute_result"
        },
        {
          "data": {
            "image/png": "[encoded data removed]",
            "text/plain": [
              "<Figure size 432x288 with 1 Axes>"
            ]
          },
          "metadata": {
            "needs_background": "light"
          },
          "output_type": "display_data"
        }
      ],
      "source": [
        "df[df.price<500].price.hist(bins=30)"
      ]
    },
    {
      "cell_type": "code",
      "execution_count": null,
      "metadata": {
        "id": "t0DoyfAqSb5x",
        "outputId": "68018b28-4051-4da5-f023-b0b5b508363b"
      },
      "outputs": [
        {
          "name": "stdout",
          "output_type": "stream",
          "text": [
            "Можно ли использовать тут наш подход?\n"
          ]
        }
      ],
      "source": [
        "print('Можно ли использовать тут наш подход?')"
      ]
    },
    {
      "cell_type": "markdown",
      "metadata": {
        "id": "lRKsfJruSb5y"
      },
      "source": [
        "# Теперь сделаем распределение нормальным"
      ]
    },
    {
      "cell_type": "code",
      "execution_count": null,
      "metadata": {
        "id": "37nmuV99Sb5y",
        "outputId": "8469c2bd-b306-4e8e-fc08-965de0f5c073"
      },
      "outputs": [
        {
          "data": {
            "text/plain": [
              "<AxesSubplot:>"
            ]
          },
          "execution_count": 32,
          "metadata": {},
          "output_type": "execute_result"
        },
        {
          "data": {
            "image/png": "[encoded data removed]",
            "text/plain": [
              "<Figure size 432x288 with 1 Axes>"
            ]
          },
          "metadata": {
            "needs_background": "light"
          },
          "output_type": "display_data"
        }
      ],
      "source": [
        "np.log2(abs(df[df.price<500].price)+1).hist(bins=30)"
      ]
    },
    {
      "cell_type": "code",
      "execution_count": null,
      "metadata": {
        "id": "b72rcK6dSb5y"
      },
      "outputs": [],
      "source": [
        "# df.neighbourhood_group.hist()"
      ]
    },
    {
      "cell_type": "code",
      "execution_count": null,
      "metadata": {
        "id": "dNWO3lAVSb5y",
        "outputId": "89d2dd5f-8400-491e-e7ba-9f900236c3e5"
      },
      "outputs": [
        {
          "name": "stdout",
          "output_type": "stream",
          "text": [
            "122.56345677697612\n"
          ]
        },
        {
          "data": {
            "text/plain": [
              "(111.68856960410567, 115.49388042203987, 119.29919123997406)"
            ]
          },
          "execution_count": 34,
          "metadata": {},
          "output_type": "execute_result"
        }
      ],
      "source": [
        "print(df[df.price<400].price.mean())\n",
        "\n",
        "data = df[(df.neighbourhood_group == 'Brooklyn') | (df.neighbourhood_group=='Staten Island') | (df.neighbourhood_group=='Queens')].price\n",
        "\n",
        "mean_confidence_interval(data, confidence=0.999) # Возможно вам понадобиться эта функция."
      ]
    },
    {
      "cell_type": "markdown",
      "metadata": {
        "id": "ic2md1RUSb5y"
      },
      "source": [
        "# Задания для самостоятельного решения\n"
      ]
    },
    {
      "cell_type": "markdown",
      "metadata": {
        "id": "bsXCHQIRSb5y"
      },
      "source": [
        "<div class=\"alert alert-info\">\n",
        "<b>Задание № 0</b>\n",
        "\n",
        "Найдите минимально необходимый объем выборки для построения интервальной оценки среднего.\n",
        "\n",
        "- желаемая точность $\\Delta$ = 3;\n",
        "- дисперсия $\\sigma^2$  = 225;\n",
        "- уровень доверия $\\beta$ = 0.95.\n",
        "    \n",
        "Ответ округлите до целого\n",
        "</div>"
      ]
    },
    {
      "cell_type": "markdown",
      "source": [
        "Размер выборки мы находим по формуле:\n",
        "\n",
        "$$ n = (\\frac{Z*\\sigma}{\\Delta})^2$$\n",
        "- $\\Delta$ - допустимая ошибка/погрешность, \n",
        "\n",
        "- $\\sigma$ - стандартное отклонение, \n",
        "\n",
        "- Z - квантиль нормального распределения == 1.96\n"
      ],
      "metadata": {
        "id": "EKBvWbM0L_Jr"
      }
    },
    {
      "cell_type": "code",
      "execution_count": null,
      "metadata": {
        "id": "J3GeR_jvSb5z",
        "outputId": "754245c8-9c71-4a6e-ea06-21dda49a1369",
        "colab": {
          "base_uri": "https://localhost:8080/"
        }
      },
      "outputs": [
        {
          "output_type": "execute_result",
          "data": {
            "text/plain": [
              "96"
            ]
          },
          "metadata": {},
          "execution_count": 9
        }
      ],
      "source": [
        "### Ваши код/вычисления...\n",
        "sigma = 225 ** 0.5  # Стандартное отклонение\n",
        "Z = 1.96  #  %   # Квантиль нормального распределения. \n",
        "Delta = 3\n",
        "\n",
        "n = int(((Z * sigma) / Delta) ** 2)  #Запишите в эту переменную ваш высчитанный ответ!\n",
        "n"
      ]
    },
    {
      "cell_type": "markdown",
      "metadata": {
        "id": "mawFUvKESb5z"
      },
      "source": [
        "<div class=\"alert alert-info\">\n",
        "<b>Задание № 1</b>\n",
        "\n",
        "Постройте `98% доверительный интервал` для среднего значения, если известно, что\n",
        "\n",
        "- объем выборки n = 25;\n",
        "- среднее значение по выборке $\\overline x$ = 130;\n",
        "- Из достоверных источников известно стандартное отклонение $\\sigma = 15$.\n",
        "    \n",
        "В ответ укажите длину полученного доверительного интервала (разницу между правым и левым концом), окруленную до целого\n",
        "</div>"
      ]
    },
    {
      "cell_type": "markdown",
      "source": [
        "$$\\overline X + \\frac{Z*\\sigma}{n ** 0.5}$$ $$-$$ $$\\overline X - \\frac{Z*\\sigma}{n ** 0.5}$$\n"
      ],
      "metadata": {
        "id": "Ib3BHzZBaqgR"
      }
    },
    {
      "cell_type": "code",
      "execution_count": null,
      "metadata": {
        "id": "LQhyWZRTSb5z",
        "colab": {
          "base_uri": "https://localhost:8080/"
        },
        "outputId": "a4a8b722-8426-4216-f3af-d3fc7db10639"
      },
      "outputs": [
        {
          "output_type": "execute_result",
          "data": {
            "text/plain": [
              "14"
            ]
          },
          "metadata": {},
          "execution_count": 22
        }
      ],
      "source": [
        "### Ваши код/вычесления...\n",
        "confi_1 = 0.98\n",
        "n_1 = 25\n",
        "x_1 = 130\n",
        "sigma_1 = 15\n",
        "Z_1 = stats.t.ppf((1 + confi_1)/2, n_1)  #  функция ppf из scipy возвращает нам перцентиль\n",
        "\n",
        "L =int((x_1 + (Z_1 * sigma_1) / n_1 ** 0.5) - (x_1 - (Z_1 * sigma_1) / n_1 ** 0.5)) #Запишите в эту переменную ваш высчитанный ответ!\n",
        "L"
      ]
    },
    {
      "cell_type": "code",
      "source": [],
      "metadata": {
        "id": "EkM6tEwH1B3g"
      },
      "execution_count": null,
      "outputs": []
    },
    {
      "cell_type": "markdown",
      "metadata": {
        "id": "xGY28ZKFSb50"
      },
      "source": [
        "<div class=\"alert alert-info\">\n",
        "<b>Задание № 2</b>\n",
        "\n",
        "Даны две выборки роста мужчин и женщин. \n",
        "- Докажите, используя `t-Тест Стьдента`, что различие между выборками незначительно, если уровень значимости равен $\\alpha$ `= 0.001`.\n",
        "- Покажите различия визуально\n",
        "</div>"
      ]
    },
    {
      "cell_type": "markdown",
      "source": [
        "https://www.scribbr.com/statistics/test-statistic/"
      ],
      "metadata": {
        "id": "GQdvdjGlo4v9"
      }
    },
    {
      "cell_type": "code",
      "source": [
        "# Н0 = различия между выбораками -- незначительно"
      ],
      "metadata": {
        "id": "ifndbpZFxbSG"
      },
      "execution_count": null,
      "outputs": []
    },
    {
      "cell_type": "code",
      "execution_count": 13,
      "metadata": {
        "id": "ktHFs78xSb50",
        "colab": {
          "base_uri": "https://localhost:8080/"
        },
        "outputId": "4ee187cd-45c1-4a5a-91c0-448cd76ed6fe"
      },
      "outputs": [
        {
          "output_type": "stream",
          "name": "stdout",
          "text": [
            "3.6635841716708897\n",
            "0.00024875321039012085\n"
          ]
        }
      ],
      "source": [
        "import scipy.stats as stats\n",
        "np.random.seed(42) #фиксация случайности\n",
        "\n",
        "men  = stats.norm.rvs(loc=171, scale=100, size=150000)  # Выборка мужчин со средним ростом 171\n",
        "women = stats.norm.rvs(loc=170, scale=100, size=150000)  # Выборка женщин со средним ростом 170\n",
        "#В двух строчках выше генерируется две выбороки, где loc это среднее значение, а scale это дисперсия\n",
        "\n",
        "### Ваш код...\n",
        "t_2, p_value_2 = stats.ttest_ind(men, women, equal_var=False)\n",
        "print(t_2)\n",
        "print(p_value_2)"
      ]
    },
    {
      "cell_type": "markdown",
      "source": [],
      "metadata": {
        "id": "-OoyGDfA6qW6"
      }
    },
    {
      "cell_type": "markdown",
      "source": [
        "Вывод.\n",
        "\n",
        "Уровень значимости 0.001 означает,что я ожидаю увидеть подверждение своей гипотезе, что различия между выборками незначительно, менее, чем в 0.1% случаях.\n",
        "\n",
        "p_value_2 < $\\alpha$. Следовательно, маловероятно, что моя Н0 верна."
      ],
      "metadata": {
        "id": "9MIN3skuv-Fi"
      }
    },
    {
      "cell_type": "code",
      "source": [
        "CB91_Blue = '#2CBDFE'\n",
        "CB91_Green = '#47DBCD'\n",
        "CB91_Pink = '#F3A0F2'\n",
        "CB91_Purple = '#9D2EC5'\n",
        "CB91_Violet = '#661D98'\n",
        "CB91_Amber = '#F5B14C'"
      ],
      "metadata": {
        "id": "LUzXtPBPaBz2"
      },
      "execution_count": null,
      "outputs": []
    },
    {
      "cell_type": "code",
      "source": [
        "plt.figure(figsize=(8,6))\n",
        "color_list = [CB91_Green, CB91_Pink]\n",
        "plt.hist(men, bins=100, alpha=1, color=CB91_Blue)\n",
        "plt.hist(women, bins=100, alpha=0.7, color='#F3A0F2')\n",
        "plt.show() # обязательно добавляем эту запись, иначе будут  array перед визуализацией"
      ],
      "metadata": {
        "colab": {
          "base_uri": "https://localhost:8080/",
          "height": 374
        },
        "id": "Zv2CP9TcyoEU",
        "outputId": "837734a0-5908-42a1-fdda-f98be9f36009"
      },
      "execution_count": 14,
      "outputs": [
        {
          "output_type": "display_data",
          "data": {
            "text/plain": [
              "<Figure size 576x432 with 1 Axes>"
            ],
            "image/png": "[encoded data removed]"
          },
          "metadata": {
            "needs_background": "light"
          }
        }
      ]
    },
    {
      "cell_type": "markdown",
      "source": [
        "[Статья про цвета matplotlib](https://towardsdatascience.com/making-matplotlib-beautiful-by-default-d0d41e3534fd)"
      ],
      "metadata": {
        "id": "NGMI0Q8JZgb3"
      }
    },
    {
      "cell_type": "code",
      "source": [],
      "metadata": {
        "id": "MT--RhKJ-DM6"
      },
      "execution_count": null,
      "outputs": []
    },
    {
      "cell_type": "markdown",
      "source": [
        "Задачи\n",
        "\n",
        "http://math-hse.info/f/2017-18/ps-ms/training-4module-solutions.pdf"
      ],
      "metadata": {
        "id": "Q0jI1wGmYuxx"
      }
    },
    {
      "cell_type": "markdown",
      "metadata": {
        "id": "NgbkhHfWSb50"
      },
      "source": [
        "<div class=\"alert alert-info\">\n",
        "<b>Задание № 3</b>\n",
        "\n",
        "Определите объем необходимой выборки для исследования среднего чека за кофе в случайном городе если известно, что в этом городе:\n",
        "\n",
        "- стандартное отклонение $\\sigma = 150$;\n",
        "- уровень доверия $\\beta$  = 95%;\n",
        "- Погрешность $\\Delta = 50$ рублей.\n",
        "</div>"
      ]
    },
    {
      "cell_type": "markdown",
      "source": [
        "Размер выборки мы находим по формуле:\n",
        "\n",
        "$$ n = (\\frac{Z*\\sigma}{\\Delta})^2$$\n",
        "- $\\Delta$ - допустимая ошибка/погрешность, \n",
        "\n",
        "- $\\sigma$ - стандартное отклонение, \n",
        "\n",
        "- Z - квантиль нормального распределения == 1.96\n",
        "\n",
        "НО у меня есть уровень доверия)) Возможно я только запутаю себя, но мне кажется, что здесь уровень значимости $\\alpha$ = 5% (1-95). Значит Z здесь будет равна 0,975"
      ],
      "metadata": {
        "id": "4uelQDTgQI3z"
      }
    },
    {
      "cell_type": "code",
      "execution_count": null,
      "metadata": {
        "id": "hQgikBAJSb50",
        "colab": {
          "base_uri": "https://localhost:8080/"
        },
        "outputId": "c3e384fb-ced3-4103-f903-6a60c4046703"
      },
      "outputs": [
        {
          "output_type": "execute_result",
          "data": {
            "text/plain": [
              "8"
            ]
          },
          "metadata": {},
          "execution_count": 9
        }
      ],
      "source": [
        "### Ваш код...\n",
        "delta_4 = 50\n",
        "sigma_4 = 150\n",
        "z_4 = 0.975\n",
        "\n",
        "n_4 = int((0.975 * 150 / 50) ** 2)\n",
        "n_4"
      ]
    },
    {
      "cell_type": "markdown",
      "source": [
        "###Вывод\n",
        "Слишком мало для выборки, кажется))\n",
        "Поэтому буду считать, что у меня нормальное распределение и буду пользоваться Z нормального распределения равным 1,96\n"
      ],
      "metadata": {
        "id": "TClBiWOFUb-4"
      }
    },
    {
      "cell_type": "code",
      "source": [
        "delta_4 = 50\n",
        "sigma_4 = 150\n",
        "z_4_norm = 0.975\n",
        "\n",
        "n_4_norm = int((1.96 * 150 / 50) ** 2)\n",
        "n_4_norm"
      ],
      "metadata": {
        "colab": {
          "base_uri": "https://localhost:8080/"
        },
        "id": "4GsXUuFQU4rw",
        "outputId": "cc5ceae1-b2a7-4f3c-8613-8649871dba63"
      },
      "execution_count": null,
      "outputs": [
        {
          "output_type": "execute_result",
          "data": {
            "text/plain": [
              "34"
            ]
          },
          "metadata": {},
          "execution_count": 10
        }
      ]
    },
    {
      "cell_type": "code",
      "source": [],
      "metadata": {
        "id": "5JMXBMXDY3c3"
      },
      "execution_count": null,
      "outputs": []
    },
    {
      "cell_type": "markdown",
      "metadata": {
        "id": "BpkfSMJ-Sb51"
      },
      "source": [
        "<div class=\"alert alert-info\">\n",
        "<b>Задание № 4</b>\n",
        "\n",
        "Представьте, что вы хотите разоблачить \"волшебника\" который считает, что умеет предсказывать погоду на завтра, отвечая просто: дождь или солнце. Вы пронаблюдали за ответами \"волшебника\" в течении какого-то периода времени и получили некие результаты (см.ниже).\n",
        "\n",
        "Можно ли сказать, что маг действительно умеет предсказывать погоду? Уровень значимости принять за `0.05` ($\\alpha=0.05$).\n",
        "</div>"
      ]
    },
    {
      "cell_type": "markdown",
      "source": [
        "Точный тест Фишера — тест статистической значимости, используемый в анализе таблиц сопряжённости для выборок маленьких размеров. Относится к точным тестам значимости, поскольку не использует приближения большой выборки.\n",
        "\n",
        "https://www.reneshbedre.com/blog/fisher-exact-test-python.html\n",
        "\n",
        "https://www.statology.org/fishers-exact-test-python/"
      ],
      "metadata": {
        "id": "KGu8ykt6ZC1k"
      }
    },
    {
      "cell_type": "code",
      "execution_count": null,
      "metadata": {
        "id": "u6BWTP2GSb51",
        "colab": {
          "base_uri": "https://localhost:8080/",
          "height": 112
        },
        "outputId": "80f3c9c2-5df6-455a-9d1c-acf879c5badd"
      },
      "outputs": [
        {
          "output_type": "execute_result",
          "data": {
            "text/plain": [
              "        Верные ответы волшебника  Неверные ответы\n",
              "Дождь                         10               15\n",
              "Солнце                        39               34"
            ],
            "text/html": [
              "\n",
              "  <div id=\"df-8304b8d8-94f0-41ab-9cb6-e69877091190\">\n",
              "    <div class=\"colab-df-container\">\n",
              "      <div>\n",
              "<style scoped>\n",
              "    .dataframe tbody tr th:only-of-type {\n",
              "        vertical-align: middle;\n",
              "    }\n",
              "\n",
              "    .dataframe tbody tr th {\n",
              "        vertical-align: top;\n",
              "    }\n",
              "\n",
              "    .dataframe thead th {\n",
              "        text-align: right;\n",
              "    }\n",
              "</style>\n",
              "<table border=\"1\" class=\"dataframe\">\n",
              "  <thead>\n",
              "    <tr style=\"text-align: right;\">\n",
              "      <th></th>\n",
              "      <th>Верные ответы волшебника</th>\n",
              "      <th>Неверные ответы</th>\n",
              "    </tr>\n",
              "  </thead>\n",
              "  <tbody>\n",
              "    <tr>\n",
              "      <th>Дождь</th>\n",
              "      <td>10</td>\n",
              "      <td>15</td>\n",
              "    </tr>\n",
              "    <tr>\n",
              "      <th>Солнце</th>\n",
              "      <td>39</td>\n",
              "      <td>34</td>\n",
              "    </tr>\n",
              "  </tbody>\n",
              "</table>\n",
              "</div>\n",
              "      <button class=\"colab-df-convert\" onclick=\"convertToInteractive('df-8304b8d8-94f0-41ab-9cb6-e69877091190')\"\n",
              "              title=\"Convert this dataframe to an interactive table.\"\n",
              "              style=\"display:none;\">\n",
              "        \n",
              "  <svg xmlns=\"http://www.w3.org/2000/svg\" height=\"24px\"viewBox=\"0 0 24 24\"\n",
              "       width=\"24px\">\n",
              "    <path d=\"M0 0h24v24H0V0z\" fill=\"none\"/>\n",
              "    <path d=\"M18.56 5.44l.94 2.06.94-2.06 2.06-.94-2.06-.94-.94-2.06-.94 2.06-2.06.94zm-11 1L8.5 8.5l.94-2.06 2.06-.94-2.06-.94L8.5 2.5l-.94 2.06-2.06.94zm10 10l.94 2.06.94-2.06 2.06-.94-2.06-.94-.94-2.06-.94 2.06-2.06.94z\"/><path d=\"M17.41 7.96l-1.37-1.37c-.4-.4-.92-.59-1.43-.59-.52 0-1.04.2-1.43.59L10.3 9.45l-7.72 7.72c-.78.78-.78 2.05 0 2.83L4 21.41c.39.39.9.59 1.41.59.51 0 1.02-.2 1.41-.59l7.78-7.78 2.81-2.81c.8-.78.8-2.07 0-2.86zM5.41 20L4 18.59l7.72-7.72 1.47 1.35L5.41 20z\"/>\n",
              "  </svg>\n",
              "      </button>\n",
              "      \n",
              "  <style>\n",
              "    .colab-df-container {\n",
              "      display:flex;\n",
              "      flex-wrap:wrap;\n",
              "      gap: 12px;\n",
              "    }\n",
              "\n",
              "    .colab-df-convert {\n",
              "      background-color: #E8F0FE;\n",
              "      border: none;\n",
              "      border-radius: 50%;\n",
              "      cursor: pointer;\n",
              "      display: none;\n",
              "      fill: #1967D2;\n",
              "      height: 32px;\n",
              "      padding: 0 0 0 0;\n",
              "      width: 32px;\n",
              "    }\n",
              "\n",
              "    .colab-df-convert:hover {\n",
              "      background-color: #E2EBFA;\n",
              "      box-shadow: 0px 1px 2px rgba(60, 64, 67, 0.3), 0px 1px 3px 1px rgba(60, 64, 67, 0.15);\n",
              "      fill: #174EA6;\n",
              "    }\n",
              "\n",
              "    [theme=dark] .colab-df-convert {\n",
              "      background-color: #3B4455;\n",
              "      fill: #D2E3FC;\n",
              "    }\n",
              "\n",
              "    [theme=dark] .colab-df-convert:hover {\n",
              "      background-color: #434B5C;\n",
              "      box-shadow: 0px 1px 3px 1px rgba(0, 0, 0, 0.15);\n",
              "      filter: drop-shadow(0px 1px 2px rgba(0, 0, 0, 0.3));\n",
              "      fill: #FFFFFF;\n",
              "    }\n",
              "  </style>\n",
              "\n",
              "      <script>\n",
              "        const buttonEl =\n",
              "          document.querySelector('#df-8304b8d8-94f0-41ab-9cb6-e69877091190 button.colab-df-convert');\n",
              "        buttonEl.style.display =\n",
              "          google.colab.kernel.accessAllowed ? 'block' : 'none';\n",
              "\n",
              "        async function convertToInteractive(key) {\n",
              "          const element = document.querySelector('#df-8304b8d8-94f0-41ab-9cb6-e69877091190');\n",
              "          const dataTable =\n",
              "            await google.colab.kernel.invokeFunction('convertToInteractive',\n",
              "                                                     [key], {});\n",
              "          if (!dataTable) return;\n",
              "\n",
              "          const docLinkHtml = 'Like what you see? Visit the ' +\n",
              "            '<a target=\"_blank\" href=https://colab.research.google.com/notebooks/data_table.ipynb>data table notebook</a>'\n",
              "            + ' to learn more about interactive tables.';\n",
              "          element.innerHTML = '';\n",
              "          dataTable['output_type'] = 'display_data';\n",
              "          await google.colab.output.renderOutput(dataTable, element);\n",
              "          const docLink = document.createElement('div');\n",
              "          docLink.innerHTML = docLinkHtml;\n",
              "          element.appendChild(docLink);\n",
              "        }\n",
              "      </script>\n",
              "    </div>\n",
              "  </div>\n",
              "  "
            ]
          },
          "metadata": {},
          "execution_count": 11
        }
      ],
      "source": [
        "observations = pd.DataFrame([[10, 15],[39, 34]],\n",
        "                            index=['Дождь','Солнце'],\n",
        "                            columns=['Верные ответы волшебника','Неверные ответы'])\n",
        "observations"
      ]
    },
    {
      "cell_type": "markdown",
      "source": [
        "Н0 - пальцем в небо\n",
        "Н1 - определённо предсказывает"
      ],
      "metadata": {
        "id": "yXfctqVsc6Pc"
      }
    },
    {
      "cell_type": "code",
      "execution_count": null,
      "metadata": {
        "id": "PkU3lvzPSb51",
        "colab": {
          "base_uri": "https://localhost:8080/"
        },
        "outputId": "7968c1fd-4912-4a5f-fbe6-bab2bfee0be8"
      },
      "outputs": [
        {
          "output_type": "execute_result",
          "data": {
            "text/plain": [
              "(0.5811965811965812, 0.35417955365927367)"
            ]
          },
          "metadata": {},
          "execution_count": 12
        }
      ],
      "source": [
        "import scipy.stats as stats\n",
        "# Учтите, что у стат. тестов, в том числе и точного теста Фишера под нулевой гипотезой подразумевается случайность/отсутсвие эффекта\n",
        "\n",
        "# oddsratio, pvalue = stats.fisher_exact('Тут должна быть ваша таблица, а не этот текст')#Возможно пригодится эта функция.\n",
        "\n",
        "### Ваш код...\n",
        "oddsratio, pvalue = stats.fisher_exact(observations, alternative='two-sided')\n",
        "oddsratio, pvalue"
      ]
    },
    {
      "cell_type": "markdown",
      "source": [
        "Если б наше p-value было б меньше ($\\alpha=0.05$), то мы бы могли отвергнуть нашу нулевую гипотезу.\n",
        "Так как у нас p-value=0.35417, что больше ($\\alpha=0.05$), то мы НЕ отвергаем нашу Н0, и значит, наш волшебник не предсказывает точную погоду, а просто угадывает её)"
      ],
      "metadata": {
        "id": "TsZt5HJ_dLts"
      }
    },
    {
      "cell_type": "code",
      "source": [],
      "metadata": {
        "id": "lG32vFoEdwZ5"
      },
      "execution_count": null,
      "outputs": []
    },
    {
      "cell_type": "markdown",
      "metadata": {
        "id": "jPr1i2chSb51"
      },
      "source": [
        "<div class=\"alert alert-info\">\n",
        "<b>Задание № 5</b> \n",
        "\n",
        "Используя функцию mean_confidence_interval(data, confidence), постройте доверительный интервал с уровнем доверия $\\beta = 90\\%$ для выборки:\n",
        "\n",
        "</div>"
      ]
    },
    {
      "cell_type": "code",
      "execution_count": null,
      "metadata": {
        "id": "T5oWFMMtSb51"
      },
      "outputs": [],
      "source": [
        "data_5 = [4,5,8,9,6,7,5,6,7,8,5,6,7,0,9,8,4,6,\n",
        "        7,9,8,6,5,7,8,9,6,7,5,8,6,7,9,5,10]\n",
        "\n",
        "### Ваш код...\n",
        "#Вспомогательная функция для подсчета доверительного интервала\n",
        "# https://stackoverflow.com/questions/15033511/compute-a-confidence-interval-from-sample-data\n",
        "\n",
        "def mean_confidence_interval(data, confidence): #Сложный пример реализации. Проще смотри в лекци. \n",
        "    n = len(data)\n",
        "    m, se = np.mean(data), stats.sem(data)\n",
        "    h = se * stats.t.ppf((1 + confidence)/2, n)  #  функция ppf из scipy возвращает нам перцентиль\n",
        "    return m-h, m, m+h "
      ]
    },
    {
      "cell_type": "code",
      "source": [
        "mean_confidence_interval(data_5, confidence=0.9)"
      ],
      "metadata": {
        "colab": {
          "base_uri": "https://localhost:8080/"
        },
        "id": "AKnF2FQbgAug",
        "outputId": "83bab4b6-ee49-4917-8f05-33beb80cb674"
      },
      "execution_count": null,
      "outputs": [
        {
          "output_type": "execute_result",
          "data": {
            "text/plain": [
              "(6.074074746111319, 6.628571428571429, 7.183068111031539)"
            ]
          },
          "metadata": {},
          "execution_count": 14
        }
      ]
    },
    {
      "cell_type": "code",
      "source": [],
      "metadata": {
        "id": "hCj4AmCxgJtX"
      },
      "execution_count": null,
      "outputs": []
    },
    {
      "cell_type": "markdown",
      "metadata": {
        "id": "gBsuITfKSb52"
      },
      "source": [
        "<div class=\"alert alert-info\">\n",
        "<b>Задание № 6</b>\n",
        "\n",
        "Принадлежат ли выборки `A` и `B` одному множеству? \n",
        "    \n",
        "- Оцените это с помощью известных вам тестов для проверок статистических гипотез;\n",
        "- Покажите различия визуально.\n",
        "</div>"
      ]
    },
    {
      "cell_type": "markdown",
      "source": [
        "Н0 - выборки A и B одному множеству\n",
        "\n",
        "Н1 - не принадлежат"
      ],
      "metadata": {
        "id": "EAuUFLuxh3Qf"
      }
    },
    {
      "cell_type": "code",
      "execution_count": null,
      "metadata": {
        "id": "oCWSvYjBSb52",
        "colab": {
          "base_uri": "https://localhost:8080/"
        },
        "outputId": "c3a7e091-39df-4424-a363-569b73935484"
      },
      "outputs": [
        {
          "output_type": "stream",
          "name": "stdout",
          "text": [
            "The calculated t-statistic:  11.803253652222743\n",
            "The p-value:  1.3216865332483862e-24\n"
          ]
        }
      ],
      "source": [
        "A = [4,5,8,9,6,7,5,6,7,6,8,5,6,7,8,4,\n",
        "    6,7,9,8,6,5,7,8,6,7,5,6,8,6,7,5,\n",
        "    4,5,8,9,6,7,5,6,7,6,8,5,6,7,8,4,\n",
        "    6,7,9,8,6,5,7,8,6,7,5,6,8,6,7,5,\n",
        "    4,5,8,9,6,7,5,6,7,6,8,5,6,7,8,4,\n",
        "    6,7,9,8,6,5,7,8,6,7,5,6,8,6,7,5,\n",
        "    4,5,8,9,6,7,5,6,7,6,8,5,6,7,8,4]\n",
        "\n",
        "B = [5,6,7,8,4,6,7,2,6,5,7,5,3,5,3,\n",
        "    5,3,5,5,8,7,6,4,5,3,5,4,6,4,5,3,\n",
        "    2,6,4,3,5,4,3,4,5,4,3,4,5,4,3,4,\n",
        "    2,6,4,3,5,4,3,4,5,4,3,4,5,4,3,4,\n",
        "    3,4,4,1,2,4,3,2,4,3,2,1,5,3,4,6,\n",
        "    3,2,4,5,6,4,3,3,5,3,4,4,4,2,5,3]\n",
        " \n",
        "\n",
        "#Ваш код:\n",
        "t_6, p_value_6 = stats.ttest_ind(A, B, equal_var=False)\n",
        "print('The calculated t-statistic: ', t_6)\n",
        "print('The p-value: ', p_value_6)"
      ]
    },
    {
      "cell_type": "code",
      "source": [
        "plt.hist(A, bins=10, alpha=.5);\n",
        "plt.hist(B, bins=10, alpha=.5);"
      ],
      "metadata": {
        "colab": {
          "base_uri": "https://localhost:8080/",
          "height": 265
        },
        "id": "JK0f09phiG8e",
        "outputId": "70261113-ca77-453a-b5b7-932d6807032c"
      },
      "execution_count": null,
      "outputs": [
        {
          "output_type": "display_data",
          "data": {
            "text/plain": [
              "<Figure size 432x288 with 1 Axes>"
            ],
            "image/png": "[encoded data removed]"
          },
          "metadata": {
            "needs_background": "light"
          }
        }
      ]
    },
    {
      "cell_type": "markdown",
      "source": [
        "##Вывод\n",
        "Обычно уровень значимости = 5%, т.е 0,05.\n",
        "Наш p-value мног меньше уровня значимости, значит мы можем отклонить Н0,  т.е выборки не принадлежать одному множеству"
      ],
      "metadata": {
        "id": "2Kd6mk5zia0n"
      }
    },
    {
      "cell_type": "code",
      "source": [],
      "metadata": {
        "id": "mRdM7VTMi79x"
      },
      "execution_count": null,
      "outputs": []
    },
    {
      "cell_type": "markdown",
      "metadata": {
        "id": "zn0QBySeSb52"
      },
      "source": [
        "<div class=\"alert alert-info\">\n",
        "<b>Задание № 7 (задание без подвоха)</b>\n",
        "\n",
        "На примере датасета про жилье в New York City, мы сталкивались с примером, когда переменная имеет не совсем нормальное распределение. \n",
        "\n",
        "- Предположим, Вы сформировали две гипотезы:\n",
        "    - нулевая гипотеза - распределение нормальное;\n",
        "    - альтернативная гипотеза - распределение ненормальное.\n",
        "- допустим, вы применили какой-то тест (сейчас неважно какой), который показал уровень значимости  `p-value = 0.03`. Каковы будут ваши выводы? Будем считать что у нас нормальное распределение или все-таки нет?)\n",
        "    \n",
        "</div>"
      ]
    },
    {
      "cell_type": "code",
      "execution_count": null,
      "metadata": {
        "id": "xzpG0v1XSb52"
      },
      "outputs": [],
      "source": [
        "### Ваши выводы:"
      ]
    },
    {
      "cell_type": "markdown",
      "source": [
        "##Ответ\n",
        "\n",
        "p-value -- вероятность получить найденные или более выраженные различия при условиии, что в ГС на самом деле никаких различий нет\n",
        "\n",
        "Наша Н0 строится на выборке, а не на ГС. Если мы не можем ответргнуть Н0, это не означает, что она верна, просто у нас мало данных.\n",
        "\n",
        "Если p-value меньше 5%, значит тест/критерий нашёл стат.значимую разницу между распределениями, т.е наша Н0 не верна.\n",
        "\n",
        "Критерий Шапиро-Уилка проверет данные на нормальность, т.е. сравнитвает нашу выборку и выборку из нормального распределения. Если функции совпадают, значит данные взяты из нормального распределения. \n",
        "Если p-value больше 5%, мы можем сказать, что данных не достаточно, чтобы сказать, что данные, которые у нас есть, взяты из ненормального распределения, т.е. они -- нормальны"
      ],
      "metadata": {
        "id": "vpj5D5e5kFYC"
      }
    },
    {
      "cell_type": "code",
      "source": [],
      "metadata": {
        "id": "IYWzuSezna_V"
      },
      "execution_count": null,
      "outputs": []
    },
    {
      "cell_type": "markdown",
      "metadata": {
        "id": "RfECt41wSb52"
      },
      "source": [
        "<div class=\"alert alert-info\">\n",
        "<b>Задание № 8</b>\n",
        "    \n",
        "Первая выборка — это пациенты, которых лечили препаратом `А`.  Вторая выборка — пациенты, которых лечили препаратом `B`.\n",
        "\n",
        "Значения в выборках — это некоторая характеристика эффективности лечения (уровень метаболита в крови, температура через три дня после начала лечения, срок выздоровления, число койко-дней, и т.д.) \n",
        "\n",
        "- Требуется выяснить, имеется ли значимое различие эффективности препаратов `А` и `B`, или различия являются чисто случайными и объясняются «естественной» дисперсией выбранной характеристики?  (`уровень значимости принять за 0.05 (5%)`)\n",
        "\n",
        "- При каком минимальном p-value различия были бы уже значимы? \n",
        "    \n",
        "- Если выборки незначительно отличаются, то продемонстрируйте это визуально\n",
        "</div>"
      ]
    },
    {
      "cell_type": "code",
      "execution_count": 15,
      "metadata": {
        "id": "8ntClxd_Sb53",
        "colab": {
          "base_uri": "https://localhost:8080/"
        },
        "outputId": "0a7bf868-4343-4f3f-ea61-e2fc1a5e6e27"
      },
      "outputs": [
        {
          "output_type": "stream",
          "name": "stdout",
          "text": [
            "The calculated t-statistic:  -1.95300880485141\n",
            "The p-value:  0.051284961272800134\n"
          ]
        }
      ],
      "source": [
        "np.random.seed(11)\n",
        "A_8 = stats.norm.rvs(scale=15, loc=169, size=300)\n",
        "B_8 = stats.norm.rvs(scale=14, loc=171.4, size=300)\n",
        "\n",
        "### Ваш код:\n",
        "# Подсказка, обратите внимание на Two-sample T-test\n",
        "t_8, p_value_8 = stats.ttest_ind(A_8, B_8, equal_var=False)\n",
        "print('The calculated t-statistic: ', t_8)\n",
        "print('The p-value: ', p_value_8)"
      ]
    },
    {
      "cell_type": "code",
      "execution_count": 20,
      "metadata": {
        "id": "5bReUoBpSb53",
        "colab": {
          "base_uri": "https://localhost:8080/",
          "height": 485
        },
        "outputId": "d06fa59a-265f-4d45-ae30-69dde928d71d"
      },
      "outputs": [
        {
          "output_type": "execute_result",
          "data": {
            "text/plain": [
              "(array([ 1.,  0.,  0.,  0.,  1.,  2.,  2.,  5.,  4.,  6., 12., 11., 12.,\n",
              "        13., 15., 24., 30., 22., 22., 19., 28., 13., 11., 14., 13.,  6.,\n",
              "         4.,  3.,  3.,  4.]),\n",
              " array([122.95604119, 125.70057508, 128.44510897, 131.18964287,\n",
              "        133.93417676, 136.67871066, 139.42324455, 142.16777845,\n",
              "        144.91231234, 147.65684623, 150.40138013, 153.14591402,\n",
              "        155.89044792, 158.63498181, 161.3795157 , 164.1240496 ,\n",
              "        166.86858349, 169.61311739, 172.35765128, 175.10218517,\n",
              "        177.84671907, 180.59125296, 183.33578686, 186.08032075,\n",
              "        188.82485464, 191.56938854, 194.31392243, 197.05845633,\n",
              "        199.80299022, 202.54752411, 205.29205801]),\n",
              " <a list of 30 Patch objects>)"
            ]
          },
          "metadata": {},
          "execution_count": 20
        },
        {
          "output_type": "display_data",
          "data": {
            "text/plain": [
              "<Figure size 432x288 with 1 Axes>"
            ],
            "image/png": "[encoded data removed]"
          },
          "metadata": {
            "needs_background": "light"
          }
        }
      ],
      "source": [
        " plt.hist(A_8, bins=30, alpha=1, color = '#6639A6')\n",
        " plt.hist(B_8, bins=30, alpha=0.4, color = '#F73859')"
      ]
    },
    {
      "cell_type": "markdown",
      "source": [
        "##Вывод\n",
        "У нас p-value == 0.051, т.е. больше нашего уровня значимости) Получается, есть разница в лечении различными препаратами. \n",
        "\n",
        "НО на вебинрае лектор несколько раз подчеркнул, что в медицине, уровень значимости не устанавливают больше 1%. Чаще устанавливают 0,5%.\n",
        "\n",
        "Однако, раз в задаче сказано, что нужно определить верна ли наша \"Н0==различий нет\" при уровне значимости 5% и 1%, а у меня и при 5% процентах показало, что разницы нет)) Получается, я, скорее всего, неправильно посчитала свой p-value_8:  0.051))"
      ],
      "metadata": {
        "id": "O8OPaqlYqgY0"
      }
    },
    {
      "cell_type": "markdown",
      "source": [
        "[По этой теме статью](https://towardsdatascience.com/statistical-tests-when-to-use-which-704557554740)"
      ],
      "metadata": {
        "id": "JMY1LM61Y50O"
      }
    }
  ],
  "metadata": {
    "kernelspec": {
      "display_name": "Python 3",
      "language": "python",
      "name": "python3"
    },
    "language_info": {
      "codemirror_mode": {
        "name": "ipython",
        "version": 3
      },
      "file_extension": ".py",
      "mimetype": "text/x-python",
      "name": "python",
      "nbconvert_exporter": "python",
      "pygments_lexer": "ipython3",
      "version": "3.8.5"
    },
    "toc": {
      "base_numbering": 1,
      "nav_menu": {},
      "number_sections": true,
      "sideBar": true,
      "skip_h1_title": false,
      "title_cell": "Table of Contents",
      "title_sidebar": "Contents",
      "toc_cell": false,
      "toc_position": {},
      "toc_section_display": true,
      "toc_window_display": false
    },
    "colab": {
      "provenance": [],
      "include_colab_link": true
    }
  },
  "nbformat": 4,
  "nbformat_minor": 0
}