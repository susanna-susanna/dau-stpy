{
  "nbformat": 4,
  "nbformat_minor": 0,
  "metadata": {
    "colab": {
      "provenance": [],
      "include_colab_link": true
    },
    "kernelspec": {
      "name": "python3",
      "display_name": "Python 3"
    },
    "language_info": {
      "name": "python"
    }
  },
  "cells": [
    {
      "cell_type": "markdown",
      "metadata": {
        "id": "view-in-github",
        "colab_type": "text"
      },
      "source": [
        "<a href=\"https://colab.research.google.com/github/susanna-susanna/dau-stpy/blob/main/stpy_3_%D0%A1%D0%BB%D1%83%D1%87%D0%B0%D0%B9%D0%BD%D1%8B%D0%B5_%D1%81%D0%BE%D0%B1%D1%8B%D1%82%D0%B8%D1%8F_%D0%A1%D0%BB%D1%83%D1%87%D0%B0%D0%B9%D0%BD%D1%8B%D0%B5_%D0%B2%D0%B5%D0%BB%D0%B8%D1%87%D0%B8%D0%BD%D1%8B.ipynb\" target=\"_parent\"><img src=\"https://colab.research.google.com/assets/colab-badge.svg\" alt=\"Open In Colab\"/></a>"
      ]
    },
    {
      "cell_type": "markdown",
      "source": [
        "###Домашнее задание к лекции «Случайные события. Случайные величины»\n",
        "\n",
        "Смоделировать игру против лотерейного автомата типа “777”. Игрок платит 1 руб., после чего выпадает случайное целое число, равномерно распределенное от 0 до 999. При некоторых значениях числа игрок получает выигрыш.\n",
        "\n",
        "* 777: 200 руб.\n",
        "* 999: 100 руб.\n",
        "* 555: 50 руб.\n",
        "* 333: 15 руб.\n",
        "* 111: 10 руб.\n",
        "* *77: 5 руб.\n",
        "* **7: 3 руб.\n",
        "* *00: 2 руб.\n",
        "* **0: 1 руб.\n",
        "\n",
        "Вопросы:\n",
        "\n",
        "* Выгодна ли игра игроку?\n",
        "* Сколько в среднем приобретает или теряет игрок за одну игру?\n"
      ],
      "metadata": {
        "id": "tRoxiyld6s6Y"
      }
    },
    {
      "cell_type": "code",
      "source": [
        "import pandas as pd\n",
        "import numpy as np\n",
        "import matplotlib.pyplot as plt"
      ],
      "metadata": {
        "id": "3UxkCVDQyfMd"
      },
      "execution_count": null,
      "outputs": []
    },
    {
      "cell_type": "code",
      "source": [
        "trials = 1000000\n",
        "gains = 0\n",
        "\n",
        "for i in range(trials):\n",
        "    x = np.random.randint(0, 1000) # генерируем число\n",
        "    if x == 777:\n",
        "        gains += 200 # делаем проверки\n",
        "    elif x == 999:\n",
        "        gains += 100\n",
        "    elif x == 555:\n",
        "        gains += 50\n",
        "    elif x == 333:\n",
        "        gains += 15\n",
        "    elif x == 111:\n",
        "        gains += 10\n",
        "    elif x % 100 == 77:\n",
        "        gains += 5\n",
        "    elif x % 10 == 7:\n",
        "        gains += 3\n",
        "    elif x % 100 == 0:\n",
        "        gains += 2\n",
        "    elif x % 10 == 0:\n",
        "        gains += 1\n",
        "    else:\n",
        "        gains += 0\n",
        "\n",
        "\n",
        "print(gains)\n",
        "print(\"Выигрыш за всё время составил \", round(gains/trials, 2))\n",
        "print(\"За каждую игру игру теряет\", round((1 - gains/trials), 2))"
      ],
      "metadata": {
        "colab": {
          "base_uri": "https://localhost:8080/"
        },
        "id": "cgBAfXDKzRjH",
        "outputId": "d0539827-712b-4a17-8dbe-cad89847b28e"
      },
      "execution_count": null,
      "outputs": [
        {
          "output_type": "stream",
          "name": "stdout",
          "text": [
            "793181\n",
            "Выигрыш за всё время составил  0.79\n",
            "За каждую игру игру теряет 0.21\n"
          ]
        }
      ]
    },
    {
      "cell_type": "markdown",
      "source": [
        "Вывод. Игра не выгодна игроку, выигрыш составляет -21 копейка на каждый портаченный рубль, т.е. средний проигрыш, рассчитанный методом Монте-Карло составляет примерно 20 копеек на 1 рубль. Игра не выгодна игроку.\n",
        "\n",
        "Чтобы рассчитать средний результат теоретически надо  определить вероятность каждого выигрышного исхода и воспользоваться формулой полной вероятности `P1*X1 + P2*X2 + ... + Pn*Xn`, вот так:\n",
        "\n",
        "```\n",
        "res = 0.001*(200 + 100 + 50 + 15 + 10) + (9/1000)*5 + (10/1000)*2 + (90/1000)*3 + (90/1000)*1\n",
        "print(res)\n",
        "```\n",
        "\n"
      ],
      "metadata": {
        "id": "0nFAv3D743Og"
      }
    },
    {
      "cell_type": "code",
      "source": [
        "res = 0.001*(200 + 100 + 50 + 15 + 10) + (9/1000)*5 + (10/1000)*2 + (90/1000)*3 + (90/1000)*1\n",
        "print(res)"
      ],
      "metadata": {
        "id": "HOySoZX57JPp",
        "colab": {
          "base_uri": "https://localhost:8080/"
        },
        "outputId": "30f5b1f0-7e16-4a0e-a68c-f70019f9c1be"
      },
      "execution_count": null,
      "outputs": [
        {
          "output_type": "stream",
          "name": "stdout",
          "text": [
            "0.7999999999999999\n"
          ]
        }
      ]
    },
    {
      "cell_type": "markdown",
      "source": [
        "получили те же самые ~20% потерь 🙂"
      ],
      "metadata": {
        "id": "hgRAGAP978YZ"
      }
    },
    {
      "cell_type": "markdown",
      "source": [
        "##Полезные ссылки\n",
        "\n",
        "[Colab с занятия](https://colab.research.google.com/drive/11J6ETJDBzkR8vNPsIwnaxYVP8_wEaKK1)\n",
        "\n",
        "\n",
        "1.6. Формула полной вероятности и формула Байеса\n",
        "\n",
        "https://www.matburo.ru/tvbook_sub.php?p=par16\n",
        "\n",
        "\n",
        "http://mathprofi.ru/formula_polnoj_verojatnosti_formuly_bajesa.html\n",
        "\n",
        "Python List, Set & Dictionary Comprehension\n",
        "\n",
        "https://www.programiz.com/python-programming/list-comprehension\n",
        "\n",
        "https://www.youtube.com/watch?v=TGaKzl6p4nA&list=PL98qAXLA6aftqPGddFjJ59m71F96ZPwD4&index=2\n",
        "\n",
        "\n",
        "[Renaming column names in Pandas](https://stackoverflow.com/questions/11346283/renaming-column-names-in-pandas)"
      ],
      "metadata": {
        "id": "fu_vK-mK80Vf"
      }
    }
  ]
}